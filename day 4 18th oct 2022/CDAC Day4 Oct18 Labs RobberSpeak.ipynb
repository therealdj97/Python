{
 "cells": [
  {
   "cell_type": "code",
   "execution_count": 14,
   "id": "31bd68c1",
   "metadata": {},
   "outputs": [
    {
     "name": "stdout",
     "output_type": "stream",
     "text": [
      "Enter Your Text   My Fate is in my hands\n",
      "After Robbers Speak translation the text is: Myoy Fatote isos inon momyoy hohanondodsos\n"
     ]
    }
   ],
   "source": [
    "#From Swedish \"Robbers Speak\" where you double every consonant in a message and place an occurrence of \"o\" in between. \n",
    "#For example, translate(\"Manju Man Good Man\") will return the string 'Manonjojuou Manon Goodod Manon'\n",
    "#Define consonants as a string\n",
    "#Create a function\n",
    "consonants = 'bcdfghjklmnpqrstuvwxyz'\n",
    "def translate_robbers_speak(mytext):\n",
    "    newtext = \"\"\n",
    "    for i in mytext:\n",
    "        if i in consonants:\n",
    "            newtext+=i+'o'+i                \n",
    "        else:\n",
    "            newtext+=i\n",
    "    return newtext\n",
    "#Get user inut using code_my_text variable\n",
    "code_my_text = input(\"Enter Your Text   \")\n",
    "robbers_speak=translate_robbers_speak(code_my_text)\n",
    "print(\"After Robbers Speak translation the text is:\",robbers_speak)"
   ]
  },
  {
   "cell_type": "code",
   "execution_count": null,
   "id": "329676ee",
   "metadata": {},
   "outputs": [],
   "source": []
  }
 ],
 "metadata": {
  "kernelspec": {
   "display_name": "Python 3 (ipykernel)",
   "language": "python",
   "name": "python3"
  },
  "language_info": {
   "codemirror_mode": {
    "name": "ipython",
    "version": 3
   },
   "file_extension": ".py",
   "mimetype": "text/x-python",
   "name": "python",
   "nbconvert_exporter": "python",
   "pygments_lexer": "ipython3",
   "version": "3.10.7"
  },
  "toc": {
   "base_numbering": 1,
   "nav_menu": {},
   "number_sections": true,
   "sideBar": true,
   "skip_h1_title": false,
   "title_cell": "Table of Contents",
   "title_sidebar": "Contents",
   "toc_cell": false,
   "toc_position": {},
   "toc_section_display": true,
   "toc_window_display": false
  }
 },
 "nbformat": 4,
 "nbformat_minor": 5
}

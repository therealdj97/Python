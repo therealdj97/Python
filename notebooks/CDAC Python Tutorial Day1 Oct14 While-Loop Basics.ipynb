{
 "cells": [
  {
   "cell_type": "markdown",
   "id": "f2bfa4ba",
   "metadata": {},
   "source": [
    "There are cases when you just need to loop until some\n",
    "condition is satisfied, or even loop indefinitely until the application is\n",
    "stopped, such as cases where we don't really have something to\n",
    "iterate on, and therefore the for loop would be a poor choice. \n",
    "The while loop is similar to the for loop, in that they both loop, and at\n",
    "each iteration they execute a body of instructions. What is different\n",
    "between them is that the while loop doesn't loop over a sequence, it loops as\n",
    "long as a certain condition is satisfied. When the condition is no\n",
    "longer satisfied, the loop ends.\n"
   ]
  },
  {
   "cell_type": "code",
   "execution_count": null,
   "id": "d77890bc",
   "metadata": {},
   "outputs": [],
   "source": [
    "#From 'Just enough Python', modified\n",
    "while True: # this is an infinite loop \n",
    "    command=input('Enter command:') \n",
    "    if len(command)==0: # no command - try again \n",
    "     continue # goes to next loop (line 1) \n",
    "    elif command=='exit': # user exit \n",
    "         print('Goodbye') \n",
    "         break # skips to line 10 \n",
    "    else: \n",
    "        print(\"Execute the Command\") \n",
    "print('bye') "
   ]
  },
  {
   "cell_type": "code",
   "execution_count": null,
   "id": "ad26da82",
   "metadata": {},
   "outputs": [],
   "source": [
    "number = 20\n",
    "while number > 0:\n",
    "    print(f\"Number is {number} *\")\n",
    "    number -= 1"
   ]
  },
  {
   "cell_type": "code",
   "execution_count": null,
   "id": "5315035d",
   "metadata": {},
   "outputs": [],
   "source": [
    "#The easiest way to get user data into the program is to use the input() function. The function \n",
    "#returns a string value, so if you are prompting user for numeric or multiple values separated by \n",
    "#commas, you will have to parse and process the text in the code before the data can be used. \n",
    "#your_name =input('Enter your name: ') \n",
    "while (True): \n",
    "    your_name=input('Enter name:') \n",
    "    if len(your_name)==0: # no name, so try again \n",
    "     continue # goes to next loop (line 6) \n",
    "    elif your_name=='exit': # user exit \n",
    "         print('Goodbye') \n",
    "         break # skips to line 14 \n",
    "    else: \n",
    "        print(\"Your Name is: \", your_name) \n",
    "print('bye') "
   ]
  },
  {
   "cell_type": "code",
   "execution_count": null,
   "id": "7e5a7754",
   "metadata": {},
   "outputs": [],
   "source": [
    "#If you ask the user for an integer number, you should check that the entered text is \n",
    "#valid and can be converted to an integer. To do this, you might do the following:\n",
    "# Use len(text) to verify that some text has been entered. \n",
    "#Use the string function text.isdigit() to check the text represents a number. \n"
   ]
  },
  {
   "cell_type": "code",
   "execution_count": null,
   "id": "c622abff",
   "metadata": {},
   "outputs": [],
   "source": [
    "#Change increment steps to 5\n",
    "Indian_Population = 138 #Crores\n",
    "while Indian_Population <192:\n",
    " Indian_Population += 5\n",
    " print(Indian_Population)\n",
    "print (\"we reached 192 crores\")\n",
    "\n",
    "#print(\"Population in 2050: \", Indian_Population * 1.3, \"Million\") # making the calculation in place as 30% more in 30 years\n"
   ]
  },
  {
   "cell_type": "code",
   "execution_count": null,
   "id": "1625f50a",
   "metadata": {},
   "outputs": [],
   "source": [
    "#Inspired from: https://realpython.com/python-do-while/\n",
    "#you first define a Boolean variable, number_guessed, which allows you to control the loop.\n",
    "#Inside the loop, you process the user’s input as usual. If the user guesses the secret number, \n",
    "#then number_guessed is set to True, and the program jumps out of the loop execution.\n",
    "# guess.number.py\n",
    "#\n",
    "\n",
    "#Use the random library\n",
    "#set a number range for the guessing game\n",
    "from random import randint\n",
    "\n",
    "LOW, HIGH = 1, 15\n",
    "\n",
    "secret_number = randint(LOW, HIGH)\n",
    "clue = \"\"\n",
    "number_guessed = False\n",
    "\n",
    "while not number_guessed:\n",
    "    user_input = input(f\"Guess a number between {LOW} and {HIGH} {clue} \")\n",
    "    number = int(user_input)\n",
    "    if number > secret_number:\n",
    "        clue = f\"(less than {number})\"\n",
    "    elif number < secret_number:\n",
    "        clue = f\"(greater than {number})\"\n",
    "    else:\n",
    "        number_guessed = True\n",
    "\n",
    "print(f\"You guessed it! The secret number is {number}\")"
   ]
  },
  {
   "cell_type": "code",
   "execution_count": null,
   "id": "c6fd5ce7",
   "metadata": {},
   "outputs": [],
   "source": [
    "## iterating over a list using _\n",
    "## you can use _ same as a variable\n",
    "languages = [\"Python\", \"JS\", \"PHP\", \"Java\"]\n",
    "for _ in languages:\n",
    "    print(_)"
   ]
  },
  {
   "cell_type": "code",
   "execution_count": null,
   "id": "abfb8ea1",
   "metadata": {},
   "outputs": [],
   "source": [
    "## different number systems from https://www.datacamp.com/tutorial/role-underscore-python '_'  operator\n",
    "## you can also check whether they are correct or not by coverting them into integer using \"int\" method\n",
    "million = 1_000_000\n",
    "binary = 0b_0010\n",
    "octa = 0o_64\n",
    "hexa = 0x_23_ab\n",
    "\n",
    "print(million)\n",
    "print(binary)\n",
    "print(octa)\n",
    "print(hexa)"
   ]
  },
  {
   "cell_type": "code",
   "execution_count": null,
   "id": "3c3e8766",
   "metadata": {},
   "outputs": [],
   "source": []
  }
 ],
 "metadata": {
  "kernelspec": {
   "display_name": "Python 3",
   "language": "python",
   "name": "python3"
  },
  "language_info": {
   "codemirror_mode": {
    "name": "ipython",
    "version": 3
   },
   "file_extension": ".py",
   "mimetype": "text/x-python",
   "name": "python",
   "nbconvert_exporter": "python",
   "pygments_lexer": "ipython3",
   "version": "3.10.8 (tags/v3.10.8:aaaf517, Oct 11 2022, 16:50:30) [MSC v.1933 64 bit (AMD64)]"
  },
  "vscode": {
   "interpreter": {
    "hash": "26de051ba29f2982a8de78e945f0abaf191376122a1563185a90213a26c5da77"
   }
  }
 },
 "nbformat": 4,
 "nbformat_minor": 5
}

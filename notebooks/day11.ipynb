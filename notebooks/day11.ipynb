{
  "nbformat": 4,
  "nbformat_minor": 0,
  "metadata": {
    "colab": {
      "provenance": []
    },
    "kernelspec": {
      "name": "python3",
      "display_name": "Python 3"
    },
    "language_info": {
      "name": "python"
    }
  },
  "cells": [
    {
      "cell_type": "code",
      "execution_count": 39,
      "metadata": {
        "id": "DhLEyTtPm7bA"
      },
      "outputs": [],
      "source": [
        "# scipy \n"
      ]
    },
    {
      "cell_type": "code",
      "source": [
        "from scipy.optimize import minimize\n",
        "import numpy as np"
      ],
      "metadata": {
        "id": "uMlWdKLFnAT3"
      },
      "execution_count": 40,
      "outputs": []
    },
    {
      "cell_type": "code",
      "source": [
        "def objective(x):\n",
        "    return x[0]*x[3]*(x[0]+x[1]+x[2])+x[2]\n"
      ],
      "metadata": {
        "id": "HojJSY6hnL8Z"
      },
      "execution_count": 41,
      "outputs": []
    },
    {
      "cell_type": "code",
      "source": [
        "def constraint1(x):\n",
        "    return x[0]*x[1]*x[2]*x[3]-25.0\n"
      ],
      "metadata": {
        "id": "uJDQgGSkny8G"
      },
      "execution_count": 42,
      "outputs": []
    },
    {
      "cell_type": "code",
      "source": [
        "def constraint2(x):\n",
        "    sum_eq = 40.0\n",
        "    for i in range(4):\n",
        "        sum_eq = sum_eq - x[i]**2\n",
        "    return sum_eq\n"
      ],
      "metadata": {
        "id": "kIMNTWXMoksY"
      },
      "execution_count": 43,
      "outputs": []
    },
    {
      "cell_type": "code",
      "source": [
        "n = 4\n",
        "x0 = np.zeros(n)\n",
        "x0[0] = 1.0\n",
        "x0[1] = 5.0\n",
        "x0[2] = 5.0\n",
        "x0[3] = 1.0\n"
      ],
      "metadata": {
        "id": "l_owJN4yol_K"
      },
      "execution_count": 44,
      "outputs": []
    },
    {
      "cell_type": "code",
      "source": [
        "print('Initial Objective: ' + str(objective(x0)))\n"
      ],
      "metadata": {
        "colab": {
          "base_uri": "https://localhost:8080/"
        },
        "id": "eizPL6vupDz0",
        "outputId": "f99c2d67-b3f9-4c83-be33-316e3d7dd095"
      },
      "execution_count": 45,
      "outputs": [
        {
          "output_type": "stream",
          "name": "stdout",
          "text": [
            "Initial Objective: 16.0\n"
          ]
        }
      ]
    },
    {
      "cell_type": "code",
      "source": [
        "b = (1.0,5.0)\n",
        "bnds = (b, b, b, b)\n",
        "con1 = {'type': 'ineq', 'fun': constraint1}\n",
        "con2 = {'type': 'eq', 'fun': constraint2}\n",
        "cons = ([con1,con2])\n",
        "solution = minimize(objective,x0,method='SLSQP',\\\n",
        "                    bounds=bnds,constraints=cons)\n",
        "x = solution.x\n"
      ],
      "metadata": {
        "id": "1pvafkP_pwPE"
      },
      "execution_count": 46,
      "outputs": []
    },
    {
      "cell_type": "code",
      "source": [
        "print('Final Objective: ' + str(objective(x)))\n"
      ],
      "metadata": {
        "colab": {
          "base_uri": "https://localhost:8080/"
        },
        "id": "6wetMw2cp8C1",
        "outputId": "bc1c14c3-cc98-472e-870d-f4e0fbc24d8b"
      },
      "execution_count": 47,
      "outputs": [
        {
          "output_type": "stream",
          "name": "stdout",
          "text": [
            "Final Objective: 17.01401724563517\n"
          ]
        }
      ]
    },
    {
      "cell_type": "code",
      "source": [
        "# print solution\n",
        "print('Solution')\n",
        "print('x1 = ' + str(x[0]))\n",
        "print('x2 = ' + str(x[1]))\n",
        "print('x3 = ' + str(x[2]))\n",
        "print('x4 = ' + str(x[3]))\n"
      ],
      "metadata": {
        "colab": {
          "base_uri": "https://localhost:8080/"
        },
        "id": "M1ZTe1Y1qlYi",
        "outputId": "5562d385-8d45-4e82-97cb-f1ec6b41f4c4"
      },
      "execution_count": 48,
      "outputs": [
        {
          "output_type": "stream",
          "name": "stdout",
          "text": [
            "Solution\n",
            "x1 = 1.0\n",
            "x2 = 4.742996096883977\n",
            "x3 = 3.8211546234095715\n",
            "x4 = 1.379407645075325\n"
          ]
        }
      ]
    },
    {
      "cell_type": "code",
      "source": [
        "pip install gekko"
      ],
      "metadata": {
        "colab": {
          "base_uri": "https://localhost:8080/"
        },
        "id": "_Jjw5InAqriC",
        "outputId": "2654676a-04cc-48c8-850e-41eb12ca7a11"
      },
      "execution_count": 49,
      "outputs": [
        {
          "output_type": "stream",
          "name": "stdout",
          "text": [
            "Looking in indexes: https://pypi.org/simple, https://us-python.pkg.dev/colab-wheels/public/simple/\n",
            "Requirement already satisfied: gekko in /usr/local/lib/python3.8/dist-packages (1.0.5)\n",
            "Requirement already satisfied: numpy>=1.8 in /usr/local/lib/python3.8/dist-packages (from gekko) (1.21.6)\n"
          ]
        }
      ]
    },
    {
      "cell_type": "code",
      "source": [
        "from gekko import GEKKO    \n",
        "import numpy as np"
      ],
      "metadata": {
        "id": "iyoUbnjarZ45"
      },
      "execution_count": 50,
      "outputs": []
    },
    {
      "cell_type": "code",
      "source": [
        "m = GEKKO()\n",
        "x = m.Array(m.Var,4,value=1,lb=1,ub=5)\n",
        "x1,x2,x3,x4 = x"
      ],
      "metadata": {
        "id": "DSDgZbLesyFw"
      },
      "execution_count": 51,
      "outputs": []
    },
    {
      "cell_type": "code",
      "source": [
        "x2.value = 5; x3.value = 5"
      ],
      "metadata": {
        "id": "3QFQc_Uirbi1"
      },
      "execution_count": 52,
      "outputs": []
    },
    {
      "cell_type": "code",
      "source": [
        "m.Equation(x1*x2*x3*x4>=25)"
      ],
      "metadata": {
        "colab": {
          "base_uri": "https://localhost:8080/"
        },
        "id": "5ZbB0HYssV-y",
        "outputId": "7ed7426e-280b-4641-c351-c7a43d818803"
      },
      "execution_count": 53,
      "outputs": [
        {
          "output_type": "execute_result",
          "data": {
            "text/plain": [
              "<gekko.gekko.EquationObj at 0x7f5cbc9701c0>"
            ]
          },
          "metadata": {},
          "execution_count": 53
        }
      ]
    },
    {
      "cell_type": "code",
      "source": [
        "m.Equation(x1**2+x2**2+x3**2+x4**2==40)"
      ],
      "metadata": {
        "colab": {
          "base_uri": "https://localhost:8080/"
        },
        "id": "0qsUQbXVumLn",
        "outputId": "191448a2-b825-4da0-d64d-4520ecda75b8"
      },
      "execution_count": 54,
      "outputs": [
        {
          "output_type": "execute_result",
          "data": {
            "text/plain": [
              "<gekko.gekko.EquationObj at 0x7f5cbc9708b0>"
            ]
          },
          "metadata": {},
          "execution_count": 54
        }
      ]
    },
    {
      "cell_type": "code",
      "source": [
        "m.Minimize(x1*x4*(x1+x2+x3)+x3)"
      ],
      "metadata": {
        "id": "P7xBogN2s3Lz"
      },
      "execution_count": 55,
      "outputs": []
    },
    {
      "cell_type": "code",
      "source": [
        "m.solve()\n",
        "print('x: ', x)\n",
        "print('Objective: ',m.options.OBJFCNVAL)"
      ],
      "metadata": {
        "colab": {
          "base_uri": "https://localhost:8080/"
        },
        "id": "tkdK5RYHs7j6",
        "outputId": "d40400cc-af82-4e5b-e6db-cbf902167e30"
      },
      "execution_count": 56,
      "outputs": [
        {
          "output_type": "stream",
          "name": "stdout",
          "text": [
            "apm 34.125.236.160_gk_model1 <br><pre> ----------------------------------------------------------------\n",
            " APMonitor, Version 1.0.1\n",
            " APMonitor Optimization Suite\n",
            " ----------------------------------------------------------------\n",
            " \n",
            " \n",
            " --------- APM Model Size ------------\n",
            " Each time step contains\n",
            "   Objects      :            0\n",
            "   Constants    :            0\n",
            "   Variables    :            5\n",
            "   Intermediates:            0\n",
            "   Connections  :            0\n",
            "   Equations    :            3\n",
            "   Residuals    :            3\n",
            " \n",
            " Number of state variables:              5\n",
            " Number of total equations: -            2\n",
            " Number of slack variables: -            1\n",
            " ---------------------------------------\n",
            " Degrees of freedom       :              2\n",
            " \n",
            " **********************************************\n",
            " Steady State Optimization with Interior Point Solver\n",
            " **********************************************\n",
            "  \n",
            "  \n",
            " Info: Exact Hessian\n",
            "\n",
            "******************************************************************************\n",
            "This program contains Ipopt, a library for large-scale nonlinear optimization.\n",
            " Ipopt is released as open source code under the Eclipse Public License (EPL).\n",
            "         For more information visit http://projects.coin-or.org/Ipopt\n",
            "******************************************************************************\n",
            "\n",
            "This is Ipopt version 3.12.10, running with linear solver ma57.\n",
            "\n",
            "Number of nonzeros in equality constraint Jacobian...:        9\n",
            "Number of nonzeros in inequality constraint Jacobian.:        0\n",
            "Number of nonzeros in Lagrangian Hessian.............:       10\n",
            "\n",
            "Total number of variables............................:        5\n",
            "                     variables with only lower bounds:        1\n",
            "                variables with lower and upper bounds:        4\n",
            "                     variables with only upper bounds:        0\n",
            "Total number of equality constraints.................:        2\n",
            "Total number of inequality constraints...............:        0\n",
            "        inequality constraints with only lower bounds:        0\n",
            "   inequality constraints with lower and upper bounds:        0\n",
            "        inequality constraints with only upper bounds:        0\n",
            "\n",
            "iter    objective    inf_pr   inf_du lg(mu)  ||d||  lg(rg) alpha_du alpha_pr  ls\n",
            "   0  1.6109693e+01 1.12e+01 2.50e+00   0.0 0.00e+00    -  0.00e+00 0.00e+00   0\n",
            "   1  1.6905655e+01 7.44e-01 5.14e-01  -0.9 1.36e-01    -  1.00e+00 1.00e+00f  1\n",
            "   2  1.7136202e+01 1.71e-01 4.57e-01  -1.0 9.40e-02    -  8.95e-01 1.00e+00h  1\n",
            "   3  1.6956645e+01 1.57e-01 7.85e-02  -2.0 1.78e-01    -  9.95e-01 1.00e+00h  1\n",
            "   4  1.7009269e+01 1.63e-02 1.20e-02  -2.8 3.94e-02    -  9.94e-01 1.00e+00h  1\n",
            "   5  1.7013888e+01 4.04e-04 1.76e-04  -4.6 6.22e-03    -  1.00e+00 1.00e+00h  1\n",
            "   6  1.7014017e+01 3.92e-07 6.03e-07 -10.4 1.46e-04    -  9.99e-01 1.00e+00h  1\n",
            "\n",
            "Number of Iterations....: 6\n",
            "\n",
            "                                   (scaled)                 (unscaled)\n",
            "Objective...............:   1.7014017127073458e+01    1.7014017127073458e+01\n",
            "Dual infeasibility......:   6.0264909533529361e-07    6.0264909533529361e-07\n",
            "Constraint violation....:   3.9234873865091858e-07    3.9234873865091858e-07\n",
            "Complementarity.........:   7.2865190881096349e-08    7.2865190881096349e-08\n",
            "Overall NLP error.......:   6.0264909533529361e-07    6.0264909533529361e-07\n",
            "\n",
            "\n",
            "Number of objective function evaluations             = 7\n",
            "Number of objective gradient evaluations             = 7\n",
            "Number of equality constraint evaluations            = 7\n",
            "Number of inequality constraint evaluations          = 0\n",
            "Number of equality constraint Jacobian evaluations   = 7\n",
            "Number of inequality constraint Jacobian evaluations = 0\n",
            "Number of Lagrangian Hessian evaluations             = 6\n",
            "Total CPU secs in IPOPT (w/o function evaluations)   =      0.005\n",
            "Total CPU secs in NLP function evaluations           =      0.000\n",
            "\n",
            "EXIT: Optimal Solution Found.\n",
            " \n",
            " The solution was found.\n",
            " \n",
            " The final value of the objective function is    17.0140171270735     \n",
            " \n",
            " ---------------------------------------------------\n",
            " Solver         :  IPOPT (v3.12)\n",
            " Solution time  :   9.200000000419095E-003 sec\n",
            " Objective      :    17.0140171270735     \n",
            " Successful solution\n",
            " ---------------------------------------------------\n",
            " \n",
            "x:  [[1.000000057] [4.74299963] [3.8211500283] [1.3794081795]]\n",
            "Objective:  17.014017127\n"
          ]
        }
      ]
    },
    {
      "cell_type": "code",
      "source": [],
      "metadata": {
        "id": "DPSU94u8s-N6"
      },
      "execution_count": 56,
      "outputs": []
    }
  ]
}
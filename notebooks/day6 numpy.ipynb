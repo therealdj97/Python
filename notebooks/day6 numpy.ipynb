{
 "cells": [
  {
   "cell_type": "code",
   "execution_count": 3,
   "id": "7d69b738",
   "metadata": {},
   "outputs": [
    {
     "data": {
      "text/plain": [
       "(1, 6)"
      ]
     },
     "execution_count": 3,
     "metadata": {},
     "output_type": "execute_result"
    }
   ],
   "source": [
    "import numpy as np\n",
    "a=np.arange(6)\n",
    "a2=a[np.newaxis,:]\n",
    "a2.shape\n",
    "(1,6)"
   ]
  },
  {
   "cell_type": "markdown",
   "id": "faaa4d89",
   "metadata": {},
   "source": [
    "pandas"
   ]
  },
  {
   "cell_type": "code",
   "execution_count": 4,
   "id": "9a4ef5ce",
   "metadata": {},
   "outputs": [
    {
     "name": "stdout",
     "output_type": "stream",
     "text": [
      "0    0\n",
      "1    1\n",
      "2    2\n",
      "3    3\n",
      "4    4\n",
      "5    5\n",
      "dtype: int64\n",
      "----------------------------------------------------------------------------------------------------\n",
      "    cars  Passings\n",
      "0    BMW         3\n",
      "1  VOLVO         7\n",
      "2   FORD         2\n",
      "----------------------------------------------------------------------------------------------------\n",
      "   0\n",
      "0  0\n",
      "1  1\n",
      "2  2\n",
      "3  3\n",
      "4  4\n",
      "5  5\n",
      "----------------------------------------------------------------------------------------------------\n"
     ]
    }
   ],
   "source": [
    "import pandas as pd\n",
    "data1=[0,1,2,3,4,5]\n",
    "mydataset ={\n",
    "    'cars':[\"BMW\",\"VOLVO\",\"FORD\"],\n",
    "    'Passings':[3,7,2]\n",
    "}\n",
    "myseries=pd.Series(data1)\n",
    "myvar=pd.DataFrame(mydataset)\n",
    "mydata1=pd.DataFrame(data1)\n",
    "\n",
    "print(myseries)\n",
    "print(\"-\"*100)\n",
    "print(myvar)\n",
    "print(\"-\"*100)\n",
    "print(mydata1)\n",
    "print(\"-\"*100)"
   ]
  },
  {
   "cell_type": "code",
   "execution_count": 11,
   "id": "d876746f",
   "metadata": {},
   "outputs": [
    {
     "name": "stdout",
     "output_type": "stream",
     "text": [
      "Index(['data1', 'data2', 'data3'], dtype='object')\n",
      "(3,)\n",
      "object\n",
      "3\n",
      "False\n",
      "True\n",
      "24\n",
      "1\n"
     ]
    }
   ],
   "source": [
    "import pandas as pd\n",
    "l=[\"hari\",\"ram\"]\n",
    "d1={'data1':'java','data2':'python','data3':None}\n",
    "s1=pd.Series(d1)\n",
    "print(s1.index)\n",
    "print(s1.shape)\n",
    "print(s1.dtype)\n",
    "print(s1.size)\n",
    "print(s1.empty)\n",
    "print(s1.hasnans)\n",
    "print(s1.nbytes)\n",
    "print(s1.ndim)"
   ]
  },
  {
   "cell_type": "code",
   "execution_count": 26,
   "id": "dab969a2",
   "metadata": {},
   "outputs": [
    {
     "name": "stdout",
     "output_type": "stream",
     "text": [
      "True\n",
      "0    1.0\n",
      "1    2.0\n",
      "2    3.0\n",
      "3    4.0\n",
      "4    5.0\n",
      "5    NaN\n",
      "dtype: float64\n",
      "1.5811388300841898\n",
      "5.0\n",
      "[ 1.  2.  3.  4.  5. nan]\n"
     ]
    }
   ],
   "source": [
    "import numpy as np\n",
    "import pandas as pd\n",
    "#a=np.array([1,2,3,np.NaN])\n",
    "s1=pd.Series(a)\n",
    "#x=pd.Series([1,2,3,np.NaN,np.NaN],index=['a','b','c','d','e'])\n",
    "x=pd.Series([1,2,3,4,5,np.NaN])\n",
    "print(s1.hasnans)\n",
    "print(x)\n",
    "print(x.std())\n",
    "print(x.max())\n",
    "print(x.unique())"
   ]
  },
  {
   "cell_type": "code",
   "execution_count": 27,
   "id": "6a29bc94",
   "metadata": {},
   "outputs": [
    {
     "name": "stdout",
     "output_type": "stream",
     "text": [
      "   calories  duration  one  two\n",
      "0       420        50    1    1\n",
      "1       380        40    2    2\n",
      "2       390        45    3    3\n",
      "0    1\n",
      "1    2\n",
      "2    3\n",
      "Name: one, dtype: int64\n"
     ]
    }
   ],
   "source": [
    "import numpy as np\n",
    "import pandas as pd\n",
    "\n",
    "data={\n",
    "    \"calories\":[420,380,390],\n",
    "    \"duration\":[50,40,45],\n",
    "    \"one\":[1,2,3],\n",
    "    \"two\":[1,2,3]\n",
    "}\n",
    "\n",
    "df = pd.DataFrame(data)\n",
    "\n",
    "print(df)\n",
    "\n",
    "print(df['one'])\n"
   ]
  },
  {
   "cell_type": "code",
   "execution_count": null,
   "id": "92e8809d",
   "metadata": {},
   "outputs": [],
   "source": []
  }
 ],
 "metadata": {
  "kernelspec": {
   "display_name": "Python 3 (ipykernel)",
   "language": "python",
   "name": "python3"
  },
  "language_info": {
   "codemirror_mode": {
    "name": "ipython",
    "version": 3
   },
   "file_extension": ".py",
   "mimetype": "text/x-python",
   "name": "python",
   "nbconvert_exporter": "python",
   "pygments_lexer": "ipython3",
   "version": "3.10.8"
  }
 },
 "nbformat": 4,
 "nbformat_minor": 5
}

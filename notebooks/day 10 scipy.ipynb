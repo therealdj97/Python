{
 "cells": [
  {
   "cell_type": "code",
   "execution_count": 3,
   "id": "0c7664a5",
   "metadata": {},
   "outputs": [
    {
     "name": "stdout",
     "output_type": "stream",
     "text": [
      "3.141592653589793\n"
     ]
    }
   ],
   "source": [
    "from scipy import constants\n",
    "print(constants.pi)"
   ]
  },
  {
   "cell_type": "code",
   "execution_count": 9,
   "id": "4ce54f1d",
   "metadata": {},
   "outputs": [
    {
     "name": "stdout",
     "output_type": "stream",
     "text": [
      "1e+24\n",
      "1e+21\n",
      "1e+18\n",
      "1000000000000000.0\n",
      "1000000000000.0\n"
     ]
    }
   ],
   "source": []
  },
  {
   "cell_type": "code",
   "execution_count": 10,
   "id": "e66ffee0",
   "metadata": {},
   "outputs": [
    {
     "name": "stdout",
     "output_type": "stream",
     "text": [
      "1e+24\n",
      "1e+21\n",
      "1e+18\n",
      "1000000000000000.0\n",
      "1000000000000.0\n",
      "1000000000.0\n",
      "1000000.0\n",
      "1000.0\n",
      "100.0\n",
      "10.0\n",
      "0.1\n",
      "0.01\n",
      "0.001\n",
      "1e-06\n",
      "1e-09\n",
      "1e-12\n",
      "1e-15\n",
      "1e-18\n",
      "1e-21\n"
     ]
    }
   ],
   "source": [
    "print(constants.yotta)    \n",
    "print(constants.zetta)   \n",
    "print(constants.exa)      \n",
    "print(constants.peta)     \n",
    "print(constants.tera)     #1000000000000.0\n",
    "print(constants.giga)     #1000000000.0\n",
    "print(constants.mega)     #1000000.0\n",
    "print(constants.kilo)     #1000.0\n",
    "print(constants.hecto)    #100.0\n",
    "print(constants.deka)     #10.0\n",
    "print(constants.deci)     #0.1\n",
    "print(constants.centi)    #0.01\n",
    "print(constants.milli)    #0.001\n",
    "print(constants.micro)    #1e-06\n",
    "print(constants.nano)     #1e-09\n",
    "print(constants.pico)     #1e-12\n",
    "print(constants.femto)    #1e-15\n",
    "print(constants.atto)     #1e-18\n",
    "print(constants.zepto)\n"
   ]
  },
  {
   "cell_type": "code",
   "execution_count": 18,
   "id": "dcdfe945",
   "metadata": {},
   "outputs": [
    {
     "name": "stdout",
     "output_type": "stream",
     "text": [
      "8000\n",
      "[[ -114    23]\n",
      " [ -241     3]\n",
      " [ -285   -29]\n",
      " ...\n",
      " [ -772 -1059]\n",
      " [ -422  -840]\n",
      " [ -787  -314]]\n"
     ]
    },
    {
     "name": "stderr",
     "output_type": "stream",
     "text": [
      "C:\\Users\\Dhira\\AppData\\Local\\Temp\\ipykernel_37836\\945194258.py:2: WavFileWarning: Chunk (non-data) not understood, skipping it.\n",
      "  samplerate,data =wavfile.read(\"1.wav\")\n"
     ]
    }
   ],
   "source": [
    "from scipy.io import wavfile\n",
    "samplerate,data =wavfile.read(\"1.wav\")\n",
    "print(samplerate)\n",
    "print(data)"
   ]
  },
  {
   "cell_type": "code",
   "execution_count": 14,
   "id": "9e5b06cf",
   "metadata": {},
   "outputs": [],
   "source": [
    "from scipy.io.wavfile import write\n",
    "import numpy as np\n",
    "samplerate=44100;fs=100\n",
    "t=np.linspace(0,1,samplerate)\n",
    "amplitude=np.iinfo(np.int16).max\n",
    "data=amplitude*np.sin(2.*np.pi*fs*t)\n",
    "write(\"example.wav\",samplerate,data.astype(np.int16))"
   ]
  },
  {
   "cell_type": "code",
   "execution_count": null,
   "id": "31430652",
   "metadata": {},
   "outputs": [],
   "source": []
  }
 ],
 "metadata": {
  "kernelspec": {
   "display_name": "Python 3 (ipykernel)",
   "language": "python",
   "name": "python3"
  },
  "language_info": {
   "codemirror_mode": {
    "name": "ipython",
    "version": 3
   },
   "file_extension": ".py",
   "mimetype": "text/x-python",
   "name": "python",
   "nbconvert_exporter": "python",
   "pygments_lexer": "ipython3",
   "version": "3.10.8"
  }
 },
 "nbformat": 4,
 "nbformat_minor": 5
}

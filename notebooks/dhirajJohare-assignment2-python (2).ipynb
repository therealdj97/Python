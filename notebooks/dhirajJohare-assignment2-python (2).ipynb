{
 "cells": [
  {
   "cell_type": "code",
   "execution_count": null,
   "id": "2563f976",
   "metadata": {},
   "outputs": [],
   "source": [
    "#1. Write a program that asks a user for a username and password. If password is “cdac” and does not contain username print “login successful” otherwise “login failure”\n",
    "\n",
    "username = input(\"Enter username \")\n",
    "password = input(\"Enter the password \")\n",
    "c= \"cdac\"\n",
    "\n",
    "if username in password :\n",
    "    print(\"login failure\")\n",
    "elif c in password:\n",
    "    print(\"Login successfull\")"
   ]
  },
  {
   "cell_type": "code",
   "execution_count": null,
   "id": "fe49767d",
   "metadata": {},
   "outputs": [],
   "source": [
    "#2. Write a program to input 2 strings. If string1 is contained in string2 , create a third string with the first four characters of string2 added with word “cdac”\n",
    "\n",
    "str1 = input(\"Enter first string \")\n",
    "str2 = input(\"Enter 2nd string \")\n",
    "str3 = \"\"\n",
    "if str1 in str2:\n",
    "    str3 = str2[0:4]\n",
    "    print(str3 +'cdac')\n",
    "else:\n",
    "    print(\"invalid input\")"
   ]
  },
  {
   "cell_type": "code",
   "execution_count": null,
   "id": "b20bd422",
   "metadata": {},
   "outputs": [],
   "source": [
    "#3. Write a program that inputs a string that contains a decimal number and prints out the decimal part of the number(Do not convert the string to number)\n",
    "a = input(\"Enter a number in fraction \")\n",
    "d = a.split(\".\")\n",
    "print(d[1])"
   ]
  },
  {
   "cell_type": "code",
   "execution_count": null,
   "id": "a9e959da",
   "metadata": {},
   "outputs": [],
   "source": [
    "#4. Write a program that takes a string with multiple words and then capitalizes the first letter of each word and forms a new string out of it\n",
    "a = input(\"Enter the string \")\n",
    "b = a.title()\n",
    "print(b)"
   ]
  },
  {
   "cell_type": "code",
   "execution_count": null,
   "id": "6d462a50",
   "metadata": {},
   "outputs": [],
   "source": [
    "#5. Write a program that reads a string and prints a string that capitalizes every other letter in the string (eg: python becomes pYtHoN)\n",
    "a = input(\"enter string \")\n",
    "c = \"\"\n",
    "for b in  range(0,len(a),):\n",
    "    if b%2==1:\n",
    "        c+=a[b].upper()\n",
    "    else:\n",
    "        c+=a[b].lower()\n",
    "print(c)"
   ]
  },
  {
   "cell_type": "code",
   "execution_count": null,
   "id": "78fe2ea4",
   "metadata": {},
   "outputs": [],
   "source": [
    "#6. Write a program that asks the user for a string and creates a new string that doubles each character of the original string(eg: cdac becomes ccddaacc)\n",
    "a = input(\"Enter string\")\n",
    "b=\"\"\n",
    "for i in a:\n",
    "    b=b+i*2\n",
    "print(b)"
   ]
  },
  {
   "cell_type": "code",
   "execution_count": null,
   "id": "f4f8a7ec",
   "metadata": {},
   "outputs": [],
   "source": [
    "#7. Write a program that inputs a line of text and prints its each word in a separate line along with its length\n",
    "a = input(\"enter the string\")\n",
    "b = a.split()\n",
    "for i in b:\n",
    "    print(i,len(i))"
   ]
  },
  {
   "cell_type": "code",
   "execution_count": null,
   "id": "fb78756d",
   "metadata": {},
   "outputs": [],
   "source": [
    "#8. Write a program which takes one string and a character. The function should create a new string after deleting all the occurrences of the character from the string\n",
    "a = input(\"Enter string\")\n",
    "b = input(\"Enter character\")\n",
    "c=a.replace(b,\"\")\n",
    "c=a.replace(\"  \",\" \")\n",
    "print(c)"
   ]
  },
  {
   "cell_type": "code",
   "execution_count": null,
   "id": "7b7e2fc7",
   "metadata": {},
   "outputs": [],
   "source": [
    "#9. Write a program that reads a sentence and print the string with lowercase characters converted to uppercase and viceversa\n",
    "a = input(\"Enter a string\")\n",
    "b=\"\"\n",
    "for i in a:\n",
    "    if i.isupper()==True:\n",
    "        i=i.lower()\n",
    "    elif i.islower:\n",
    "        i=i.upper()\n",
    "    b+=i\n",
    "print(b)"
   ]
  },
  {
   "cell_type": "code",
   "execution_count": 43,
   "id": "ff330bbb",
   "metadata": {},
   "outputs": [
    {
     "name": "stdout",
     "output_type": "stream",
     "text": [
      "Enter stringdhiraj123\n",
      "dhiraj123 has digits 123 which sum to 6\n"
     ]
    }
   ],
   "source": [
    "\"\"\"10. Write a program that does the following:\n",
    "a. Prompt the user for a string\n",
    "b. Extract all the digits from the string\n",
    "c. If there are digits\n",
    "a. sum the collected digits together\n",
    "b. print out: the original string , the digits, the sum of the digits\n",
    "d. If there are no digits\n",
    "a. print the original string and a message “has no digits” \"\"\"\n",
    "a = input(\"Enter string\")\n",
    "b=\"\"\n",
    "sum1=0\n",
    "for i in a:\n",
    "    if i.isdigit()==True:\n",
    "        b+=i\n",
    "        sum1+=int(i)\n",
    "if not b:\n",
    "        print(a,\"has no digits\")\n",
    "else:\n",
    "    print(a,\"has digits\",b,\"which sum to\",sum1)"
   ]
  },
  {
   "cell_type": "code",
   "execution_count": null,
   "id": "fe07eb55",
   "metadata": {},
   "outputs": [],
   "source": []
  }
 ],
 "metadata": {
  "kernelspec": {
   "display_name": "Python 3 (ipykernel)",
   "language": "python",
   "name": "python3"
  },
  "language_info": {
   "codemirror_mode": {
    "name": "ipython",
    "version": 3
   },
   "file_extension": ".py",
   "mimetype": "text/x-python",
   "name": "python",
   "nbconvert_exporter": "python",
   "pygments_lexer": "ipython3",
   "version": "3.10.8"
  }
 },
 "nbformat": 4,
 "nbformat_minor": 5
}

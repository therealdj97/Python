{
  "nbformat": 4,
  "nbformat_minor": 0,
  "metadata": {
    "colab": {
      "provenance": []
    },
    "kernelspec": {
      "name": "python3",
      "display_name": "Python 3"
    },
    "language_info": {
      "name": "python"
    }
  },
  "cells": [
    {
      "cell_type": "code",
      "execution_count": 1,
      "metadata": {
        "colab": {
          "base_uri": "https://localhost:8080/"
        },
        "id": "yuaK407c0Jvu",
        "outputId": "c7e7ac08-d5f5-45d2-9d41-3f1700f79b8e"
      },
      "outputs": [
        {
          "output_type": "stream",
          "name": "stdout",
          "text": [
            "Looking in indexes: https://pypi.org/simple, https://us-python.pkg.dev/colab-wheels/public/simple/\n",
            "Collecting factor_analyzer\n",
            "  Downloading factor_analyzer-0.4.1.tar.gz (41 kB)\n",
            "\u001b[K     |████████████████████████████████| 41 kB 751 kB/s \n",
            "\u001b[?25h  Installing build dependencies ... \u001b[?25l\u001b[?25hdone\n",
            "  Getting requirements to build wheel ... \u001b[?25l\u001b[?25hdone\n",
            "    Preparing wheel metadata ... \u001b[?25l\u001b[?25hdone\n",
            "Requirement already satisfied: numpy in /usr/local/lib/python3.8/dist-packages (from factor_analyzer) (1.21.6)\n",
            "Collecting pre-commit\n",
            "  Downloading pre_commit-2.21.0-py2.py3-none-any.whl (201 kB)\n",
            "\u001b[K     |████████████████████████████████| 201 kB 45.4 MB/s \n",
            "\u001b[?25hRequirement already satisfied: scikit-learn in /usr/local/lib/python3.8/dist-packages (from factor_analyzer) (1.0.2)\n",
            "Requirement already satisfied: pandas in /usr/local/lib/python3.8/dist-packages (from factor_analyzer) (1.3.5)\n",
            "Requirement already satisfied: scipy in /usr/local/lib/python3.8/dist-packages (from factor_analyzer) (1.7.3)\n",
            "Requirement already satisfied: python-dateutil>=2.7.3 in /usr/local/lib/python3.8/dist-packages (from pandas->factor_analyzer) (2.8.2)\n",
            "Requirement already satisfied: pytz>=2017.3 in /usr/local/lib/python3.8/dist-packages (from pandas->factor_analyzer) (2022.6)\n",
            "Requirement already satisfied: six>=1.5 in /usr/local/lib/python3.8/dist-packages (from python-dateutil>=2.7.3->pandas->factor_analyzer) (1.15.0)\n",
            "Collecting virtualenv>=20.10.0\n",
            "  Downloading virtualenv-20.17.1-py3-none-any.whl (8.8 MB)\n",
            "\u001b[K     |████████████████████████████████| 8.8 MB 45.0 MB/s \n",
            "\u001b[?25hCollecting cfgv>=2.0.0\n",
            "  Downloading cfgv-3.3.1-py2.py3-none-any.whl (7.3 kB)\n",
            "Collecting nodeenv>=0.11.1\n",
            "  Downloading nodeenv-1.7.0-py2.py3-none-any.whl (21 kB)\n",
            "Collecting identify>=1.0.0\n",
            "  Downloading identify-2.5.11-py2.py3-none-any.whl (98 kB)\n",
            "\u001b[K     |████████████████████████████████| 98 kB 8.2 MB/s \n",
            "\u001b[?25hRequirement already satisfied: pyyaml>=5.1 in /usr/local/lib/python3.8/dist-packages (from pre-commit->factor_analyzer) (6.0)\n",
            "Requirement already satisfied: setuptools in /usr/local/lib/python3.8/dist-packages (from nodeenv>=0.11.1->pre-commit->factor_analyzer) (57.4.0)\n",
            "Collecting distlib<1,>=0.3.6\n",
            "  Downloading distlib-0.3.6-py2.py3-none-any.whl (468 kB)\n",
            "\u001b[K     |████████████████████████████████| 468 kB 60.2 MB/s \n",
            "\u001b[?25hRequirement already satisfied: filelock<4,>=3.4.1 in /usr/local/lib/python3.8/dist-packages (from virtualenv>=20.10.0->pre-commit->factor_analyzer) (3.8.2)\n",
            "Requirement already satisfied: platformdirs<3,>=2.4 in /usr/local/lib/python3.8/dist-packages (from virtualenv>=20.10.0->pre-commit->factor_analyzer) (2.6.0)\n",
            "Requirement already satisfied: threadpoolctl>=2.0.0 in /usr/local/lib/python3.8/dist-packages (from scikit-learn->factor_analyzer) (3.1.0)\n",
            "Requirement already satisfied: joblib>=0.11 in /usr/local/lib/python3.8/dist-packages (from scikit-learn->factor_analyzer) (1.2.0)\n",
            "Building wheels for collected packages: factor-analyzer\n",
            "  Building wheel for factor-analyzer (PEP 517) ... \u001b[?25l\u001b[?25hdone\n",
            "  Created wheel for factor-analyzer: filename=factor_analyzer-0.4.1-py2.py3-none-any.whl size=42034 sha256=ec327fe0bc329ab0678672c40291563085cfc722ee51bc52ef85b04cd83b355c\n",
            "  Stored in directory: /root/.cache/pip/wheels/f5/8f/2e/a689c21bc4bf04f84ceebf4b1f5846cacc04bfe179e7ad5ab0\n",
            "Successfully built factor-analyzer\n",
            "Installing collected packages: distlib, virtualenv, nodeenv, identify, cfgv, pre-commit, factor-analyzer\n",
            "Successfully installed cfgv-3.3.1 distlib-0.3.6 factor-analyzer-0.4.1 identify-2.5.11 nodeenv-1.7.0 pre-commit-2.21.0 virtualenv-20.17.1\n"
          ]
        }
      ],
      "source": [
        "pip install factor_analyzer"
      ]
    },
    {
      "cell_type": "code",
      "source": [
        "from google.colab import files\n",
        "uploaded = files.upload()"
      ],
      "metadata": {
        "colab": {
          "base_uri": "https://localhost:8080/",
          "height": 73
        },
        "id": "7f2mVSBE0PYo",
        "outputId": "c90d6b3e-570c-457a-b9b0-c4a8114c7bce"
      },
      "execution_count": 3,
      "outputs": [
        {
          "output_type": "display_data",
          "data": {
            "text/plain": [
              "<IPython.core.display.HTML object>"
            ],
            "text/html": [
              "\n",
              "     <input type=\"file\" id=\"files-5116097f-80b5-4897-95e6-6af879f5fa7a\" name=\"files[]\" multiple disabled\n",
              "        style=\"border:none\" />\n",
              "     <output id=\"result-5116097f-80b5-4897-95e6-6af879f5fa7a\">\n",
              "      Upload widget is only available when the cell has been executed in the\n",
              "      current browser session. Please rerun this cell to enable.\n",
              "      </output>\n",
              "      <script>// Copyright 2017 Google LLC\n",
              "//\n",
              "// Licensed under the Apache License, Version 2.0 (the \"License\");\n",
              "// you may not use this file except in compliance with the License.\n",
              "// You may obtain a copy of the License at\n",
              "//\n",
              "//      http://www.apache.org/licenses/LICENSE-2.0\n",
              "//\n",
              "// Unless required by applicable law or agreed to in writing, software\n",
              "// distributed under the License is distributed on an \"AS IS\" BASIS,\n",
              "// WITHOUT WARRANTIES OR CONDITIONS OF ANY KIND, either express or implied.\n",
              "// See the License for the specific language governing permissions and\n",
              "// limitations under the License.\n",
              "\n",
              "/**\n",
              " * @fileoverview Helpers for google.colab Python module.\n",
              " */\n",
              "(function(scope) {\n",
              "function span(text, styleAttributes = {}) {\n",
              "  const element = document.createElement('span');\n",
              "  element.textContent = text;\n",
              "  for (const key of Object.keys(styleAttributes)) {\n",
              "    element.style[key] = styleAttributes[key];\n",
              "  }\n",
              "  return element;\n",
              "}\n",
              "\n",
              "// Max number of bytes which will be uploaded at a time.\n",
              "const MAX_PAYLOAD_SIZE = 100 * 1024;\n",
              "\n",
              "function _uploadFiles(inputId, outputId) {\n",
              "  const steps = uploadFilesStep(inputId, outputId);\n",
              "  const outputElement = document.getElementById(outputId);\n",
              "  // Cache steps on the outputElement to make it available for the next call\n",
              "  // to uploadFilesContinue from Python.\n",
              "  outputElement.steps = steps;\n",
              "\n",
              "  return _uploadFilesContinue(outputId);\n",
              "}\n",
              "\n",
              "// This is roughly an async generator (not supported in the browser yet),\n",
              "// where there are multiple asynchronous steps and the Python side is going\n",
              "// to poll for completion of each step.\n",
              "// This uses a Promise to block the python side on completion of each step,\n",
              "// then passes the result of the previous step as the input to the next step.\n",
              "function _uploadFilesContinue(outputId) {\n",
              "  const outputElement = document.getElementById(outputId);\n",
              "  const steps = outputElement.steps;\n",
              "\n",
              "  const next = steps.next(outputElement.lastPromiseValue);\n",
              "  return Promise.resolve(next.value.promise).then((value) => {\n",
              "    // Cache the last promise value to make it available to the next\n",
              "    // step of the generator.\n",
              "    outputElement.lastPromiseValue = value;\n",
              "    return next.value.response;\n",
              "  });\n",
              "}\n",
              "\n",
              "/**\n",
              " * Generator function which is called between each async step of the upload\n",
              " * process.\n",
              " * @param {string} inputId Element ID of the input file picker element.\n",
              " * @param {string} outputId Element ID of the output display.\n",
              " * @return {!Iterable<!Object>} Iterable of next steps.\n",
              " */\n",
              "function* uploadFilesStep(inputId, outputId) {\n",
              "  const inputElement = document.getElementById(inputId);\n",
              "  inputElement.disabled = false;\n",
              "\n",
              "  const outputElement = document.getElementById(outputId);\n",
              "  outputElement.innerHTML = '';\n",
              "\n",
              "  const pickedPromise = new Promise((resolve) => {\n",
              "    inputElement.addEventListener('change', (e) => {\n",
              "      resolve(e.target.files);\n",
              "    });\n",
              "  });\n",
              "\n",
              "  const cancel = document.createElement('button');\n",
              "  inputElement.parentElement.appendChild(cancel);\n",
              "  cancel.textContent = 'Cancel upload';\n",
              "  const cancelPromise = new Promise((resolve) => {\n",
              "    cancel.onclick = () => {\n",
              "      resolve(null);\n",
              "    };\n",
              "  });\n",
              "\n",
              "  // Wait for the user to pick the files.\n",
              "  const files = yield {\n",
              "    promise: Promise.race([pickedPromise, cancelPromise]),\n",
              "    response: {\n",
              "      action: 'starting',\n",
              "    }\n",
              "  };\n",
              "\n",
              "  cancel.remove();\n",
              "\n",
              "  // Disable the input element since further picks are not allowed.\n",
              "  inputElement.disabled = true;\n",
              "\n",
              "  if (!files) {\n",
              "    return {\n",
              "      response: {\n",
              "        action: 'complete',\n",
              "      }\n",
              "    };\n",
              "  }\n",
              "\n",
              "  for (const file of files) {\n",
              "    const li = document.createElement('li');\n",
              "    li.append(span(file.name, {fontWeight: 'bold'}));\n",
              "    li.append(span(\n",
              "        `(${file.type || 'n/a'}) - ${file.size} bytes, ` +\n",
              "        `last modified: ${\n",
              "            file.lastModifiedDate ? file.lastModifiedDate.toLocaleDateString() :\n",
              "                                    'n/a'} - `));\n",
              "    const percent = span('0% done');\n",
              "    li.appendChild(percent);\n",
              "\n",
              "    outputElement.appendChild(li);\n",
              "\n",
              "    const fileDataPromise = new Promise((resolve) => {\n",
              "      const reader = new FileReader();\n",
              "      reader.onload = (e) => {\n",
              "        resolve(e.target.result);\n",
              "      };\n",
              "      reader.readAsArrayBuffer(file);\n",
              "    });\n",
              "    // Wait for the data to be ready.\n",
              "    let fileData = yield {\n",
              "      promise: fileDataPromise,\n",
              "      response: {\n",
              "        action: 'continue',\n",
              "      }\n",
              "    };\n",
              "\n",
              "    // Use a chunked sending to avoid message size limits. See b/62115660.\n",
              "    let position = 0;\n",
              "    do {\n",
              "      const length = Math.min(fileData.byteLength - position, MAX_PAYLOAD_SIZE);\n",
              "      const chunk = new Uint8Array(fileData, position, length);\n",
              "      position += length;\n",
              "\n",
              "      const base64 = btoa(String.fromCharCode.apply(null, chunk));\n",
              "      yield {\n",
              "        response: {\n",
              "          action: 'append',\n",
              "          file: file.name,\n",
              "          data: base64,\n",
              "        },\n",
              "      };\n",
              "\n",
              "      let percentDone = fileData.byteLength === 0 ?\n",
              "          100 :\n",
              "          Math.round((position / fileData.byteLength) * 100);\n",
              "      percent.textContent = `${percentDone}% done`;\n",
              "\n",
              "    } while (position < fileData.byteLength);\n",
              "  }\n",
              "\n",
              "  // All done.\n",
              "  yield {\n",
              "    response: {\n",
              "      action: 'complete',\n",
              "    }\n",
              "  };\n",
              "}\n",
              "\n",
              "scope.google = scope.google || {};\n",
              "scope.google.colab = scope.google.colab || {};\n",
              "scope.google.colab._files = {\n",
              "  _uploadFiles,\n",
              "  _uploadFilesContinue,\n",
              "};\n",
              "})(self);\n",
              "</script> "
            ]
          },
          "metadata": {}
        },
        {
          "output_type": "stream",
          "name": "stdout",
          "text": [
            "Saving bfi.csv to bfi (1).csv\n"
          ]
        }
      ]
    },
    {
      "cell_type": "code",
      "source": [
        "import numpy as np\n",
        "import pandas as pd\n",
        "import seaborn as sns\n",
        "import sklearn\n",
        "from sklearn.decomposition import FactorAnalysis\n",
        "from sklearn import datasets\n",
        "import matplotlib.pyplot as plt\n",
        "from factor_analyzer import FactorAnalyzer"
      ],
      "metadata": {
        "id": "Fs_0NoZC0eC2"
      },
      "execution_count": 33,
      "outputs": []
    },
    {
      "cell_type": "code",
      "source": [
        "df=pd.read_csv(\"bfi.csv\")\n",
        "print(df)"
      ],
      "metadata": {
        "colab": {
          "base_uri": "https://localhost:8080/"
        },
        "id": "IPQKSjWA0o6e",
        "outputId": "0051679f-b2e5-48c7-9a0d-6a312f0e4009"
      },
      "execution_count": 13,
      "outputs": [
        {
          "output_type": "stream",
          "name": "stdout",
          "text": [
            "      Unnamed: 0   A1   A2   A3   A4   A5   C1   C2   C3   C4  ...   N4   N5  \\\n",
            "0          61617  2.0  4.0  3.0  4.0  4.0  2.0  3.0  3.0  4.0  ...  2.0  3.0   \n",
            "1          61618  2.0  4.0  5.0  2.0  5.0  5.0  4.0  4.0  3.0  ...  5.0  5.0   \n",
            "2          61620  5.0  4.0  5.0  4.0  4.0  4.0  5.0  4.0  2.0  ...  2.0  3.0   \n",
            "3          61621  4.0  4.0  6.0  5.0  5.0  4.0  4.0  3.0  5.0  ...  4.0  1.0   \n",
            "4          61622  2.0  3.0  3.0  4.0  5.0  4.0  4.0  5.0  3.0  ...  4.0  3.0   \n",
            "...          ...  ...  ...  ...  ...  ...  ...  ...  ...  ...  ...  ...  ...   \n",
            "2795       67551  6.0  1.0  3.0  3.0  3.0  6.0  6.0  6.0  1.0  ...  NaN  1.0   \n",
            "2796       67552  2.0  4.0  4.0  3.0  5.0  2.0  3.0  4.0  4.0  ...  3.0  3.0   \n",
            "2797       67556  2.0  3.0  5.0  2.0  5.0  5.0  5.0  5.0  1.0  ...  3.0  1.0   \n",
            "2798       67559  5.0  2.0  2.0  4.0  4.0  5.0  5.0  5.0  2.0  ...  4.0  1.0   \n",
            "2799       67560  2.0  3.0  1.0  4.0  2.0  5.0  5.0  3.0  3.0  ...  1.0  1.0   \n",
            "\n",
            "       O1  O2   O3   O4   O5  gender  education  age  \n",
            "0     3.0   6  3.0  4.0  3.0       1        NaN   16  \n",
            "1     4.0   2  4.0  3.0  3.0       2        NaN   18  \n",
            "2     4.0   2  5.0  5.0  2.0       2        NaN   17  \n",
            "3     3.0   3  4.0  3.0  5.0       2        NaN   17  \n",
            "4     3.0   3  4.0  3.0  3.0       1        NaN   17  \n",
            "...   ...  ..  ...  ...  ...     ...        ...  ...  \n",
            "2795  6.0   1  6.0  6.0  1.0       1        3.0   19  \n",
            "2796  6.0   3  5.0  4.0  2.0       1        4.0   27  \n",
            "2797  5.0   1  6.0  4.0  3.0       2        4.0   29  \n",
            "2798  5.0   2  5.0  5.0  1.0       1        4.0   31  \n",
            "2799  3.0   1  3.0  5.0  1.0       2        4.0   50  \n",
            "\n",
            "[2800 rows x 29 columns]\n"
          ]
        }
      ]
    },
    {
      "cell_type": "code",
      "source": [
        "df.drop([\"Unnamed: 0\",\"gender\",\"education\",\"age\"],axis=1,inplace=True)"
      ],
      "metadata": {
        "id": "5jWm8NCy014H"
      },
      "execution_count": 14,
      "outputs": []
    },
    {
      "cell_type": "code",
      "source": [
        "df.columns"
      ],
      "metadata": {
        "colab": {
          "base_uri": "https://localhost:8080/"
        },
        "id": "W2L76dVB17q0",
        "outputId": "d40e85b6-56fd-4a1c-e174-ef351e6fbe0f"
      },
      "execution_count": 16,
      "outputs": [
        {
          "output_type": "execute_result",
          "data": {
            "text/plain": [
              "Index(['A1', 'A2', 'A3', 'A4', 'A5', 'C1', 'C2', 'C3', 'C4', 'C5', 'E1', 'E2',\n",
              "       'E3', 'E4', 'E5', 'N1', 'N2', 'N3', 'N4', 'N5', 'O1', 'O2', 'O3', 'O4',\n",
              "       'O5'],\n",
              "      dtype='object')"
            ]
          },
          "metadata": {},
          "execution_count": 16
        }
      ]
    },
    {
      "cell_type": "code",
      "source": [
        "df.info()"
      ],
      "metadata": {
        "colab": {
          "base_uri": "https://localhost:8080/"
        },
        "id": "VnQpT0KJ2Hbc",
        "outputId": "0f6a287b-166c-4ba1-9d46-84c781f3acdd"
      },
      "execution_count": 17,
      "outputs": [
        {
          "output_type": "stream",
          "name": "stdout",
          "text": [
            "<class 'pandas.core.frame.DataFrame'>\n",
            "RangeIndex: 2800 entries, 0 to 2799\n",
            "Data columns (total 25 columns):\n",
            " #   Column  Non-Null Count  Dtype  \n",
            "---  ------  --------------  -----  \n",
            " 0   A1      2784 non-null   float64\n",
            " 1   A2      2773 non-null   float64\n",
            " 2   A3      2774 non-null   float64\n",
            " 3   A4      2781 non-null   float64\n",
            " 4   A5      2784 non-null   float64\n",
            " 5   C1      2779 non-null   float64\n",
            " 6   C2      2776 non-null   float64\n",
            " 7   C3      2780 non-null   float64\n",
            " 8   C4      2774 non-null   float64\n",
            " 9   C5      2784 non-null   float64\n",
            " 10  E1      2777 non-null   float64\n",
            " 11  E2      2784 non-null   float64\n",
            " 12  E3      2775 non-null   float64\n",
            " 13  E4      2791 non-null   float64\n",
            " 14  E5      2779 non-null   float64\n",
            " 15  N1      2778 non-null   float64\n",
            " 16  N2      2779 non-null   float64\n",
            " 17  N3      2789 non-null   float64\n",
            " 18  N4      2764 non-null   float64\n",
            " 19  N5      2771 non-null   float64\n",
            " 20  O1      2778 non-null   float64\n",
            " 21  O2      2800 non-null   int64  \n",
            " 22  O3      2772 non-null   float64\n",
            " 23  O4      2786 non-null   float64\n",
            " 24  O5      2780 non-null   float64\n",
            "dtypes: float64(24), int64(1)\n",
            "memory usage: 547.0 KB\n"
          ]
        }
      ]
    },
    {
      "cell_type": "code",
      "source": [
        "# factor analyzer\n",
        "fa=FactorAnalyzer(n_factors=6,rotation=\"varimax\")"
      ],
      "metadata": {
        "id": "ET1dQ4Bi2Nxq"
      },
      "execution_count": 18,
      "outputs": []
    },
    {
      "cell_type": "code",
      "source": [
        "# On line 18 we created out analyzer then we fir that analyzer in variable fa, we are fittind our data into an aanlyzer\n",
        "fa.fit(df)"
      ],
      "metadata": {
        "colab": {
          "base_uri": "https://localhost:8080/"
        },
        "id": "y-BzeM8o2rb0",
        "outputId": "8b7296f9-3d23-4a5d-f6c4-7223b4a4e8a3"
      },
      "execution_count": 19,
      "outputs": [
        {
          "output_type": "execute_result",
          "data": {
            "text/plain": [
              "FactorAnalyzer(n_factors=6, rotation='varimax', rotation_kwargs={})"
            ]
          },
          "metadata": {},
          "execution_count": 19
        }
      ]
    },
    {
      "cell_type": "code",
      "source": [
        "# here varimax is a rotation there are dufferent kind  of rorations these do come under api documentation "
      ],
      "metadata": {
        "id": "BZ60QJer22Ss"
      },
      "execution_count": 20,
      "outputs": []
    },
    {
      "cell_type": "code",
      "source": [
        "# creating loadings \n",
        "Load=fa.loadings_"
      ],
      "metadata": {
        "id": "-WRL1VSm309S"
      },
      "execution_count": 21,
      "outputs": []
    },
    {
      "cell_type": "code",
      "source": [
        "# making eigen values to check cross loading\n",
        "# vector = communality \n",
        "ev,v=fa.get_eigenvalues()"
      ],
      "metadata": {
        "id": "swKJorZW374x"
      },
      "execution_count": 22,
      "outputs": []
    },
    {
      "cell_type": "code",
      "source": [
        "xvals=range(1,df.shape[1]+1)"
      ],
      "metadata": {
        "id": "m4jAmKIR4ON3"
      },
      "execution_count": 24,
      "outputs": []
    },
    {
      "cell_type": "code",
      "source": [
        "plt.scatter(xvals,ev)\n",
        "plt.plot(xvals,ev)\n",
        "plt.title(\"Screen plot\")\n",
        "plt.xlabel(\"Factor\")\n",
        "plt.ylabel(\"Eigenvalues\")\n",
        "plt.grid()\n",
        "plt.plot()"
      ],
      "metadata": {
        "colab": {
          "base_uri": "https://localhost:8080/",
          "height": 312
        },
        "id": "8oG4WiSy4gVv",
        "outputId": "48b3eb19-fdb3-472c-9854-664cf12070fb"
      },
      "execution_count": 25,
      "outputs": [
        {
          "output_type": "execute_result",
          "data": {
            "text/plain": [
              "[]"
            ]
          },
          "metadata": {},
          "execution_count": 25
        },
        {
          "output_type": "display_data",
          "data": {
            "text/plain": [
              "<Figure size 432x288 with 1 Axes>"
            ],
            "image/png": "[encoded data removed]"
          },
          "metadata": {
            "needs_background": "light"
          }
        }
      ]
    },
    {
      "cell_type": "code",
      "source": [
        "pd.DataFrame.from_records(Load)"
      ],
      "metadata": {
        "colab": {
          "base_uri": "https://localhost:8080/",
          "height": 833
        },
        "id": "aoPsVnyQ46c9",
        "outputId": "3e43c518-edb1-4997-a011-55a797a05f4c"
      },
      "execution_count": 27,
      "outputs": [
        {
          "output_type": "execute_result",
          "data": {
            "text/plain": [
              "           0         1         2         3         4         5\n",
              "0   0.097528  0.037128  0.053857 -0.522915  0.140166  0.163919\n",
              "1   0.032937  0.227528  0.139019  0.645446 -0.062075  0.011481\n",
              "2  -0.014661  0.343562  0.118134  0.593918 -0.015815  0.150025\n",
              "3  -0.078329  0.195525  0.234253  0.391401  0.130919  0.075741\n",
              "4  -0.144837  0.414092  0.109054  0.463465  0.005674  0.235017\n",
              "5  -0.010766  0.070517  0.542204 -0.009397 -0.158301  0.110617\n",
              "6   0.062844  0.035616  0.674352  0.061709 -0.055994  0.158368\n",
              "7  -0.031286  0.029948  0.541124  0.109318  0.013146  0.003876\n",
              "8   0.218693 -0.064916 -0.607214 -0.110255  0.183942  0.307498\n",
              "9   0.284743 -0.174470 -0.533250 -0.073719 -0.003989  0.155319\n",
              "10  0.018201 -0.586529  0.059661 -0.124729  0.087458  0.134905\n",
              "11  0.230061 -0.684311 -0.075180 -0.110832  0.048335  0.127395\n",
              "12 -0.008977  0.560690  0.101674  0.182757 -0.187299  0.287336\n",
              "13 -0.126936  0.653418  0.111993  0.229526  0.143983  0.141163\n",
              "14  0.033403  0.504681  0.311978  0.082179 -0.186787  0.016187\n",
              "15  0.791442  0.063181 -0.045805 -0.168818  0.071771 -0.103393\n",
              "16  0.787409  0.027386 -0.036834 -0.136033 -0.003926 -0.129902\n",
              "17  0.723547 -0.061527 -0.057416 -0.021098  0.021414  0.074616\n",
              "18  0.567033 -0.331273 -0.153895 -0.008363 -0.035514  0.159340\n",
              "19  0.518769 -0.155861 -0.022934  0.092466  0.173507  0.108199\n",
              "20 -0.015176  0.237405  0.142047  0.000872 -0.436639  0.283608\n",
              "21  0.158010 -0.007476 -0.083069  0.042180  0.498100  0.099892\n",
              "22  0.009494  0.324158  0.105061  0.076477 -0.520142  0.279375\n",
              "23  0.214028 -0.162847  0.004389  0.126620 -0.325178  0.235241\n",
              "24  0.062000 -0.023339 -0.041831 -0.068526  0.589662  0.076880"
            ],
            "text/html": [
              "\n",
              "  <div id=\"df-46c9726d-5bbe-438b-a12e-9be3ddfc2b7a\">\n",
              "    <div class=\"colab-df-container\">\n",
              "      <div>\n",
              "<style scoped>\n",
              "    .dataframe tbody tr th:only-of-type {\n",
              "        vertical-align: middle;\n",
              "    }\n",
              "\n",
              "    .dataframe tbody tr th {\n",
              "        vertical-align: top;\n",
              "    }\n",
              "\n",
              "    .dataframe thead th {\n",
              "        text-align: right;\n",
              "    }\n",
              "</style>\n",
              "<table border=\"1\" class=\"dataframe\">\n",
              "  <thead>\n",
              "    <tr style=\"text-align: right;\">\n",
              "      <th></th>\n",
              "      <th>0</th>\n",
              "      <th>1</th>\n",
              "      <th>2</th>\n",
              "      <th>3</th>\n",
              "      <th>4</th>\n",
              "      <th>5</th>\n",
              "    </tr>\n",
              "  </thead>\n",
              "  <tbody>\n",
              "    <tr>\n",
              "      <th>0</th>\n",
              "      <td>0.097528</td>\n",
              "      <td>0.037128</td>\n",
              "      <td>0.053857</td>\n",
              "      <td>-0.522915</td>\n",
              "      <td>0.140166</td>\n",
              "      <td>0.163919</td>\n",
              "    </tr>\n",
              "    <tr>\n",
              "      <th>1</th>\n",
              "      <td>0.032937</td>\n",
              "      <td>0.227528</td>\n",
              "      <td>0.139019</td>\n",
              "      <td>0.645446</td>\n",
              "      <td>-0.062075</td>\n",
              "      <td>0.011481</td>\n",
              "    </tr>\n",
              "    <tr>\n",
              "      <th>2</th>\n",
              "      <td>-0.014661</td>\n",
              "      <td>0.343562</td>\n",
              "      <td>0.118134</td>\n",
              "      <td>0.593918</td>\n",
              "      <td>-0.015815</td>\n",
              "      <td>0.150025</td>\n",
              "    </tr>\n",
              "    <tr>\n",
              "      <th>3</th>\n",
              "      <td>-0.078329</td>\n",
              "      <td>0.195525</td>\n",
              "      <td>0.234253</td>\n",
              "      <td>0.391401</td>\n",
              "      <td>0.130919</td>\n",
              "      <td>0.075741</td>\n",
              "    </tr>\n",
              "    <tr>\n",
              "      <th>4</th>\n",
              "      <td>-0.144837</td>\n",
              "      <td>0.414092</td>\n",
              "      <td>0.109054</td>\n",
              "      <td>0.463465</td>\n",
              "      <td>0.005674</td>\n",
              "      <td>0.235017</td>\n",
              "    </tr>\n",
              "    <tr>\n",
              "      <th>5</th>\n",
              "      <td>-0.010766</td>\n",
              "      <td>0.070517</td>\n",
              "      <td>0.542204</td>\n",
              "      <td>-0.009397</td>\n",
              "      <td>-0.158301</td>\n",
              "      <td>0.110617</td>\n",
              "    </tr>\n",
              "    <tr>\n",
              "      <th>6</th>\n",
              "      <td>0.062844</td>\n",
              "      <td>0.035616</td>\n",
              "      <td>0.674352</td>\n",
              "      <td>0.061709</td>\n",
              "      <td>-0.055994</td>\n",
              "      <td>0.158368</td>\n",
              "    </tr>\n",
              "    <tr>\n",
              "      <th>7</th>\n",
              "      <td>-0.031286</td>\n",
              "      <td>0.029948</td>\n",
              "      <td>0.541124</td>\n",
              "      <td>0.109318</td>\n",
              "      <td>0.013146</td>\n",
              "      <td>0.003876</td>\n",
              "    </tr>\n",
              "    <tr>\n",
              "      <th>8</th>\n",
              "      <td>0.218693</td>\n",
              "      <td>-0.064916</td>\n",
              "      <td>-0.607214</td>\n",
              "      <td>-0.110255</td>\n",
              "      <td>0.183942</td>\n",
              "      <td>0.307498</td>\n",
              "    </tr>\n",
              "    <tr>\n",
              "      <th>9</th>\n",
              "      <td>0.284743</td>\n",
              "      <td>-0.174470</td>\n",
              "      <td>-0.533250</td>\n",
              "      <td>-0.073719</td>\n",
              "      <td>-0.003989</td>\n",
              "      <td>0.155319</td>\n",
              "    </tr>\n",
              "    <tr>\n",
              "      <th>10</th>\n",
              "      <td>0.018201</td>\n",
              "      <td>-0.586529</td>\n",
              "      <td>0.059661</td>\n",
              "      <td>-0.124729</td>\n",
              "      <td>0.087458</td>\n",
              "      <td>0.134905</td>\n",
              "    </tr>\n",
              "    <tr>\n",
              "      <th>11</th>\n",
              "      <td>0.230061</td>\n",
              "      <td>-0.684311</td>\n",
              "      <td>-0.075180</td>\n",
              "      <td>-0.110832</td>\n",
              "      <td>0.048335</td>\n",
              "      <td>0.127395</td>\n",
              "    </tr>\n",
              "    <tr>\n",
              "      <th>12</th>\n",
              "      <td>-0.008977</td>\n",
              "      <td>0.560690</td>\n",
              "      <td>0.101674</td>\n",
              "      <td>0.182757</td>\n",
              "      <td>-0.187299</td>\n",
              "      <td>0.287336</td>\n",
              "    </tr>\n",
              "    <tr>\n",
              "      <th>13</th>\n",
              "      <td>-0.126936</td>\n",
              "      <td>0.653418</td>\n",
              "      <td>0.111993</td>\n",
              "      <td>0.229526</td>\n",
              "      <td>0.143983</td>\n",
              "      <td>0.141163</td>\n",
              "    </tr>\n",
              "    <tr>\n",
              "      <th>14</th>\n",
              "      <td>0.033403</td>\n",
              "      <td>0.504681</td>\n",
              "      <td>0.311978</td>\n",
              "      <td>0.082179</td>\n",
              "      <td>-0.186787</td>\n",
              "      <td>0.016187</td>\n",
              "    </tr>\n",
              "    <tr>\n",
              "      <th>15</th>\n",
              "      <td>0.791442</td>\n",
              "      <td>0.063181</td>\n",
              "      <td>-0.045805</td>\n",
              "      <td>-0.168818</td>\n",
              "      <td>0.071771</td>\n",
              "      <td>-0.103393</td>\n",
              "    </tr>\n",
              "    <tr>\n",
              "      <th>16</th>\n",
              "      <td>0.787409</td>\n",
              "      <td>0.027386</td>\n",
              "      <td>-0.036834</td>\n",
              "      <td>-0.136033</td>\n",
              "      <td>-0.003926</td>\n",
              "      <td>-0.129902</td>\n",
              "    </tr>\n",
              "    <tr>\n",
              "      <th>17</th>\n",
              "      <td>0.723547</td>\n",
              "      <td>-0.061527</td>\n",
              "      <td>-0.057416</td>\n",
              "      <td>-0.021098</td>\n",
              "      <td>0.021414</td>\n",
              "      <td>0.074616</td>\n",
              "    </tr>\n",
              "    <tr>\n",
              "      <th>18</th>\n",
              "      <td>0.567033</td>\n",
              "      <td>-0.331273</td>\n",
              "      <td>-0.153895</td>\n",
              "      <td>-0.008363</td>\n",
              "      <td>-0.035514</td>\n",
              "      <td>0.159340</td>\n",
              "    </tr>\n",
              "    <tr>\n",
              "      <th>19</th>\n",
              "      <td>0.518769</td>\n",
              "      <td>-0.155861</td>\n",
              "      <td>-0.022934</td>\n",
              "      <td>0.092466</td>\n",
              "      <td>0.173507</td>\n",
              "      <td>0.108199</td>\n",
              "    </tr>\n",
              "    <tr>\n",
              "      <th>20</th>\n",
              "      <td>-0.015176</td>\n",
              "      <td>0.237405</td>\n",
              "      <td>0.142047</td>\n",
              "      <td>0.000872</td>\n",
              "      <td>-0.436639</td>\n",
              "      <td>0.283608</td>\n",
              "    </tr>\n",
              "    <tr>\n",
              "      <th>21</th>\n",
              "      <td>0.158010</td>\n",
              "      <td>-0.007476</td>\n",
              "      <td>-0.083069</td>\n",
              "      <td>0.042180</td>\n",
              "      <td>0.498100</td>\n",
              "      <td>0.099892</td>\n",
              "    </tr>\n",
              "    <tr>\n",
              "      <th>22</th>\n",
              "      <td>0.009494</td>\n",
              "      <td>0.324158</td>\n",
              "      <td>0.105061</td>\n",
              "      <td>0.076477</td>\n",
              "      <td>-0.520142</td>\n",
              "      <td>0.279375</td>\n",
              "    </tr>\n",
              "    <tr>\n",
              "      <th>23</th>\n",
              "      <td>0.214028</td>\n",
              "      <td>-0.162847</td>\n",
              "      <td>0.004389</td>\n",
              "      <td>0.126620</td>\n",
              "      <td>-0.325178</td>\n",
              "      <td>0.235241</td>\n",
              "    </tr>\n",
              "    <tr>\n",
              "      <th>24</th>\n",
              "      <td>0.062000</td>\n",
              "      <td>-0.023339</td>\n",
              "      <td>-0.041831</td>\n",
              "      <td>-0.068526</td>\n",
              "      <td>0.589662</td>\n",
              "      <td>0.076880</td>\n",
              "    </tr>\n",
              "  </tbody>\n",
              "</table>\n",
              "</div>\n",
              "      <button class=\"colab-df-convert\" onclick=\"convertToInteractive('df-46c9726d-5bbe-438b-a12e-9be3ddfc2b7a')\"\n",
              "              title=\"Convert this dataframe to an interactive table.\"\n",
              "              style=\"display:none;\">\n",
              "        \n",
              "  <svg xmlns=\"http://www.w3.org/2000/svg\" height=\"24px\"viewBox=\"0 0 24 24\"\n",
              "       width=\"24px\">\n",
              "    <path d=\"M0 0h24v24H0V0z\" fill=\"none\"/>\n",
              "    <path d=\"M18.56 5.44l.94 2.06.94-2.06 2.06-.94-2.06-.94-.94-2.06-.94 2.06-2.06.94zm-11 1L8.5 8.5l.94-2.06 2.06-.94-2.06-.94L8.5 2.5l-.94 2.06-2.06.94zm10 10l.94 2.06.94-2.06 2.06-.94-2.06-.94-.94-2.06-.94 2.06-2.06.94z\"/><path d=\"M17.41 7.96l-1.37-1.37c-.4-.4-.92-.59-1.43-.59-.52 0-1.04.2-1.43.59L10.3 9.45l-7.72 7.72c-.78.78-.78 2.05 0 2.83L4 21.41c.39.39.9.59 1.41.59.51 0 1.02-.2 1.41-.59l7.78-7.78 2.81-2.81c.8-.78.8-2.07 0-2.86zM5.41 20L4 18.59l7.72-7.72 1.47 1.35L5.41 20z\"/>\n",
              "  </svg>\n",
              "      </button>\n",
              "      \n",
              "  <style>\n",
              "    .colab-df-container {\n",
              "      display:flex;\n",
              "      flex-wrap:wrap;\n",
              "      gap: 12px;\n",
              "    }\n",
              "\n",
              "    .colab-df-convert {\n",
              "      background-color: #E8F0FE;\n",
              "      border: none;\n",
              "      border-radius: 50%;\n",
              "      cursor: pointer;\n",
              "      display: none;\n",
              "      fill: #1967D2;\n",
              "      height: 32px;\n",
              "      padding: 0 0 0 0;\n",
              "      width: 32px;\n",
              "    }\n",
              "\n",
              "    .colab-df-convert:hover {\n",
              "      background-color: #E2EBFA;\n",
              "      box-shadow: 0px 1px 2px rgba(60, 64, 67, 0.3), 0px 1px 3px 1px rgba(60, 64, 67, 0.15);\n",
              "      fill: #174EA6;\n",
              "    }\n",
              "\n",
              "    [theme=dark] .colab-df-convert {\n",
              "      background-color: #3B4455;\n",
              "      fill: #D2E3FC;\n",
              "    }\n",
              "\n",
              "    [theme=dark] .colab-df-convert:hover {\n",
              "      background-color: #434B5C;\n",
              "      box-shadow: 0px 1px 3px 1px rgba(0, 0, 0, 0.15);\n",
              "      filter: drop-shadow(0px 1px 2px rgba(0, 0, 0, 0.3));\n",
              "      fill: #FFFFFF;\n",
              "    }\n",
              "  </style>\n",
              "\n",
              "      <script>\n",
              "        const buttonEl =\n",
              "          document.querySelector('#df-46c9726d-5bbe-438b-a12e-9be3ddfc2b7a button.colab-df-convert');\n",
              "        buttonEl.style.display =\n",
              "          google.colab.kernel.accessAllowed ? 'block' : 'none';\n",
              "\n",
              "        async function convertToInteractive(key) {\n",
              "          const element = document.querySelector('#df-46c9726d-5bbe-438b-a12e-9be3ddfc2b7a');\n",
              "          const dataTable =\n",
              "            await google.colab.kernel.invokeFunction('convertToInteractive',\n",
              "                                                     [key], {});\n",
              "          if (!dataTable) return;\n",
              "\n",
              "          const docLinkHtml = 'Like what you see? Visit the ' +\n",
              "            '<a target=\"_blank\" href=https://colab.research.google.com/notebooks/data_table.ipynb>data table notebook</a>'\n",
              "            + ' to learn more about interactive tables.';\n",
              "          element.innerHTML = '';\n",
              "          dataTable['output_type'] = 'display_data';\n",
              "          await google.colab.output.renderOutput(dataTable, element);\n",
              "          const docLink = document.createElement('div');\n",
              "          docLink.innerHTML = docLinkHtml;\n",
              "          element.appendChild(docLink);\n",
              "        }\n",
              "      </script>\n",
              "    </div>\n",
              "  </div>\n",
              "  "
            ]
          },
          "metadata": {},
          "execution_count": 27
        }
      ]
    },
    {
      "cell_type": "code",
      "source": [
        "# Q2 "
      ],
      "metadata": {
        "id": "O2pGzV185mIR"
      },
      "execution_count": 28,
      "outputs": []
    },
    {
      "cell_type": "code",
      "source": [
        "# importing data sets from sk learn \n",
        "import sklearn\n",
        "from sklearn.decomposition import FactorAnalysis\n",
        "from sklearn import datasets"
      ],
      "metadata": {
        "id": "C4GtmysC-1TR"
      },
      "execution_count": 36,
      "outputs": []
    },
    {
      "cell_type": "code",
      "source": [
        "iris=datasets.load_iris()\n",
        "x= iris.data\n",
        "variable_names=iris.feature_names\n",
        "x[0:10,]"
      ],
      "metadata": {
        "colab": {
          "base_uri": "https://localhost:8080/"
        },
        "id": "myexMuRu_h0p",
        "outputId": "ae972d9a-3247-44d7-8222-d965acb4de18"
      },
      "execution_count": 31,
      "outputs": [
        {
          "output_type": "execute_result",
          "data": {
            "text/plain": [
              "array([[5.1, 3.5, 1.4, 0.2],\n",
              "       [4.9, 3. , 1.4, 0.2],\n",
              "       [4.7, 3.2, 1.3, 0.2],\n",
              "       [4.6, 3.1, 1.5, 0.2],\n",
              "       [5. , 3.6, 1.4, 0.2],\n",
              "       [5.4, 3.9, 1.7, 0.4],\n",
              "       [4.6, 3.4, 1.4, 0.3],\n",
              "       [5. , 3.4, 1.5, 0.2],\n",
              "       [4.4, 2.9, 1.4, 0.2],\n",
              "       [4.9, 3.1, 1.5, 0.1]])"
            ]
          },
          "metadata": {},
          "execution_count": 31
        }
      ]
    },
    {
      "cell_type": "code",
      "source": [
        "factor= FactorAnalysis().fit(x)\n",
        "pd.DataFrame(factor.components_ ,columns= variable_names)"
      ],
      "metadata": {
        "colab": {
          "base_uri": "https://localhost:8080/",
          "height": 175
        },
        "id": "kmFXrWbu_m4i",
        "outputId": "6f5191f9-ae14-4940-a39d-e4e247616a08"
      },
      "execution_count": 32,
      "outputs": [
        {
          "output_type": "execute_result",
          "data": {
            "text/plain": [
              "   sepal length (cm)  sepal width (cm)  petal length (cm)  petal width (cm)\n",
              "0           0.706989         -0.158005           1.654236           0.70085\n",
              "1           0.115161          0.159635          -0.044321          -0.01403\n",
              "2          -0.000000          0.000000           0.000000           0.00000\n",
              "3          -0.000000          0.000000           0.000000          -0.00000"
            ],
            "text/html": [
              "\n",
              "  <div id=\"df-1756f441-5927-4ef6-8d48-21ec6040ebbc\">\n",
              "    <div class=\"colab-df-container\">\n",
              "      <div>\n",
              "<style scoped>\n",
              "    .dataframe tbody tr th:only-of-type {\n",
              "        vertical-align: middle;\n",
              "    }\n",
              "\n",
              "    .dataframe tbody tr th {\n",
              "        vertical-align: top;\n",
              "    }\n",
              "\n",
              "    .dataframe thead th {\n",
              "        text-align: right;\n",
              "    }\n",
              "</style>\n",
              "<table border=\"1\" class=\"dataframe\">\n",
              "  <thead>\n",
              "    <tr style=\"text-align: right;\">\n",
              "      <th></th>\n",
              "      <th>sepal length (cm)</th>\n",
              "      <th>sepal width (cm)</th>\n",
              "      <th>petal length (cm)</th>\n",
              "      <th>petal width (cm)</th>\n",
              "    </tr>\n",
              "  </thead>\n",
              "  <tbody>\n",
              "    <tr>\n",
              "      <th>0</th>\n",
              "      <td>0.706989</td>\n",
              "      <td>-0.158005</td>\n",
              "      <td>1.654236</td>\n",
              "      <td>0.70085</td>\n",
              "    </tr>\n",
              "    <tr>\n",
              "      <th>1</th>\n",
              "      <td>0.115161</td>\n",
              "      <td>0.159635</td>\n",
              "      <td>-0.044321</td>\n",
              "      <td>-0.01403</td>\n",
              "    </tr>\n",
              "    <tr>\n",
              "      <th>2</th>\n",
              "      <td>-0.000000</td>\n",
              "      <td>0.000000</td>\n",
              "      <td>0.000000</td>\n",
              "      <td>0.00000</td>\n",
              "    </tr>\n",
              "    <tr>\n",
              "      <th>3</th>\n",
              "      <td>-0.000000</td>\n",
              "      <td>0.000000</td>\n",
              "      <td>0.000000</td>\n",
              "      <td>-0.00000</td>\n",
              "    </tr>\n",
              "  </tbody>\n",
              "</table>\n",
              "</div>\n",
              "      <button class=\"colab-df-convert\" onclick=\"convertToInteractive('df-1756f441-5927-4ef6-8d48-21ec6040ebbc')\"\n",
              "              title=\"Convert this dataframe to an interactive table.\"\n",
              "              style=\"display:none;\">\n",
              "        \n",
              "  <svg xmlns=\"http://www.w3.org/2000/svg\" height=\"24px\"viewBox=\"0 0 24 24\"\n",
              "       width=\"24px\">\n",
              "    <path d=\"M0 0h24v24H0V0z\" fill=\"none\"/>\n",
              "    <path d=\"M18.56 5.44l.94 2.06.94-2.06 2.06-.94-2.06-.94-.94-2.06-.94 2.06-2.06.94zm-11 1L8.5 8.5l.94-2.06 2.06-.94-2.06-.94L8.5 2.5l-.94 2.06-2.06.94zm10 10l.94 2.06.94-2.06 2.06-.94-2.06-.94-.94-2.06-.94 2.06-2.06.94z\"/><path d=\"M17.41 7.96l-1.37-1.37c-.4-.4-.92-.59-1.43-.59-.52 0-1.04.2-1.43.59L10.3 9.45l-7.72 7.72c-.78.78-.78 2.05 0 2.83L4 21.41c.39.39.9.59 1.41.59.51 0 1.02-.2 1.41-.59l7.78-7.78 2.81-2.81c.8-.78.8-2.07 0-2.86zM5.41 20L4 18.59l7.72-7.72 1.47 1.35L5.41 20z\"/>\n",
              "  </svg>\n",
              "      </button>\n",
              "      \n",
              "  <style>\n",
              "    .colab-df-container {\n",
              "      display:flex;\n",
              "      flex-wrap:wrap;\n",
              "      gap: 12px;\n",
              "    }\n",
              "\n",
              "    .colab-df-convert {\n",
              "      background-color: #E8F0FE;\n",
              "      border: none;\n",
              "      border-radius: 50%;\n",
              "      cursor: pointer;\n",
              "      display: none;\n",
              "      fill: #1967D2;\n",
              "      height: 32px;\n",
              "      padding: 0 0 0 0;\n",
              "      width: 32px;\n",
              "    }\n",
              "\n",
              "    .colab-df-convert:hover {\n",
              "      background-color: #E2EBFA;\n",
              "      box-shadow: 0px 1px 2px rgba(60, 64, 67, 0.3), 0px 1px 3px 1px rgba(60, 64, 67, 0.15);\n",
              "      fill: #174EA6;\n",
              "    }\n",
              "\n",
              "    [theme=dark] .colab-df-convert {\n",
              "      background-color: #3B4455;\n",
              "      fill: #D2E3FC;\n",
              "    }\n",
              "\n",
              "    [theme=dark] .colab-df-convert:hover {\n",
              "      background-color: #434B5C;\n",
              "      box-shadow: 0px 1px 3px 1px rgba(0, 0, 0, 0.15);\n",
              "      filter: drop-shadow(0px 1px 2px rgba(0, 0, 0, 0.3));\n",
              "      fill: #FFFFFF;\n",
              "    }\n",
              "  </style>\n",
              "\n",
              "      <script>\n",
              "        const buttonEl =\n",
              "          document.querySelector('#df-1756f441-5927-4ef6-8d48-21ec6040ebbc button.colab-df-convert');\n",
              "        buttonEl.style.display =\n",
              "          google.colab.kernel.accessAllowed ? 'block' : 'none';\n",
              "\n",
              "        async function convertToInteractive(key) {\n",
              "          const element = document.querySelector('#df-1756f441-5927-4ef6-8d48-21ec6040ebbc');\n",
              "          const dataTable =\n",
              "            await google.colab.kernel.invokeFunction('convertToInteractive',\n",
              "                                                     [key], {});\n",
              "          if (!dataTable) return;\n",
              "\n",
              "          const docLinkHtml = 'Like what you see? Visit the ' +\n",
              "            '<a target=\"_blank\" href=https://colab.research.google.com/notebooks/data_table.ipynb>data table notebook</a>'\n",
              "            + ' to learn more about interactive tables.';\n",
              "          element.innerHTML = '';\n",
              "          dataTable['output_type'] = 'display_data';\n",
              "          await google.colab.output.renderOutput(dataTable, element);\n",
              "          const docLink = document.createElement('div');\n",
              "          docLink.innerHTML = docLinkHtml;\n",
              "          element.appendChild(docLink);\n",
              "        }\n",
              "      </script>\n",
              "    </div>\n",
              "  </div>\n",
              "  "
            ]
          },
          "metadata": {},
          "execution_count": 32
        }
      ]
    },
    {
      "cell_type": "code",
      "source": [
        "pca=sklearn.decomposition.PCA()"
      ],
      "metadata": {
        "id": "HPAor2qiABUH"
      },
      "execution_count": 38,
      "outputs": []
    },
    {
      "cell_type": "code",
      "source": [
        "iris_pca=pca.fit_transform(x)"
      ],
      "metadata": {
        "id": "tcV_XwjoIUA5"
      },
      "execution_count": 39,
      "outputs": []
    },
    {
      "cell_type": "code",
      "source": [
        "pca_var_ratio=pca.explained_variance_ratio_"
      ],
      "metadata": {
        "id": "jHObxBcGIx1h"
      },
      "execution_count": 41,
      "outputs": []
    },
    {
      "cell_type": "code",
      "source": [
        "pca_var_ratio.sum()"
      ],
      "metadata": {
        "colab": {
          "base_uri": "https://localhost:8080/"
        },
        "id": "ciUjUoLJI9KM",
        "outputId": "c08158d0-b324-46d3-8fb4-e8815d453ba1"
      },
      "execution_count": 42,
      "outputs": [
        {
          "output_type": "execute_result",
          "data": {
            "text/plain": [
              "1.0"
            ]
          },
          "metadata": {},
          "execution_count": 42
        }
      ]
    },
    {
      "cell_type": "code",
      "source": [
        "coms=pd.DataFrame(pca.components_ ,columns= variable_names)"
      ],
      "metadata": {
        "id": "ncZyYlMQJd7p"
      },
      "execution_count": 44,
      "outputs": []
    },
    {
      "cell_type": "code",
      "source": [
        "print(coms)"
      ],
      "metadata": {
        "colab": {
          "base_uri": "https://localhost:8080/"
        },
        "id": "8DGIrqMKKjZB",
        "outputId": "900e8a47-fe91-440b-fca5-944baef731dd"
      },
      "execution_count": 45,
      "outputs": [
        {
          "output_type": "stream",
          "name": "stdout",
          "text": [
            "   sepal length (cm)  sepal width (cm)  petal length (cm)  petal width (cm)\n",
            "0           0.361387         -0.084523           0.856671          0.358289\n",
            "1           0.656589          0.730161          -0.173373         -0.075481\n",
            "2          -0.582030          0.597911           0.076236          0.545831\n",
            "3          -0.315487          0.319723           0.479839         -0.753657\n"
          ]
        }
      ]
    },
    {
      "cell_type": "code",
      "source": [
        "sns.heatmap(data = coms,annot = True,cmap='YlGnBu')"
      ],
      "metadata": {
        "colab": {
          "base_uri": "https://localhost:8080/",
          "height": 360
        },
        "id": "MPkAiBaTKloV",
        "outputId": "b6843c7b-c1aa-4cc5-e393-f9d0ec6b1c1d"
      },
      "execution_count": 47,
      "outputs": [
        {
          "output_type": "execute_result",
          "data": {
            "text/plain": [
              "<matplotlib.axes._subplots.AxesSubplot at 0x7f2a995184f0>"
            ]
          },
          "metadata": {},
          "execution_count": 47
        },
        {
          "output_type": "display_data",
          "data": {
            "text/plain": [
              "<Figure size 432x288 with 2 Axes>"
            ],
            "image/png": "[encoded data removed]"
          },
          "metadata": {
            "needs_background": "light"
          }
        }
      ]
    },
    {
      "cell_type": "code",
      "source": [],
      "metadata": {
        "id": "Lj-gBpwZLh1y"
      },
      "execution_count": null,
      "outputs": []
    }
  ]
}
{
 "cells": [
  {
   "cell_type": "code",
   "execution_count": 9,
   "id": "a8e321e7",
   "metadata": {},
   "outputs": [
    {
     "data": {
      "text/plain": [
       "bs4.element.Tag"
      ]
     },
     "execution_count": 9,
     "metadata": {},
     "output_type": "execute_result"
    }
   ],
   "source": [
    "from bs4 import BeautifulSoup\n",
    "soup=BeautifulSoup('<b class=\"boldest\">Extremely Bold</b>')\n",
    "tag=soup.b\n",
    "type(tag)"
   ]
  },
  {
   "cell_type": "code",
   "execution_count": null,
   "id": "9f257b9e",
   "metadata": {},
   "outputs": [],
   "source": []
  },
  {
   "cell_type": "code",
   "execution_count": 2,
   "id": "6eb3bbb5",
   "metadata": {},
   "outputs": [
    {
     "ename": "SyntaxError",
     "evalue": "invalid syntax (3765257452.py, line 2)",
     "output_type": "error",
     "traceback": [
      "\u001b[1;36m  Cell \u001b[1;32mIn [2], line 2\u001b[1;36m\u001b[0m\n\u001b[1;33m    html doc =\"\"\"\u001b[0m\n\u001b[1;37m         ^\u001b[0m\n\u001b[1;31mSyntaxError\u001b[0m\u001b[1;31m:\u001b[0m invalid syntax\n"
     ]
    }
   ],
   "source": [
    "#Navigating a tree\n",
    "html doc =\"\"\"\n",
    "<!DOCTYPE html>\n",
    "<html lang=\"en\">\n",
    "\n",
    "<head>\n",
    "    <link rel=\"stylesheet\" href=\"index.css\">\n",
    "    <meta charset=\"UTF-8\">\n",
    "    <meta http-equiv=\"X-UA-Compatible\" content=\"IE=edge\">\n",
    "    <meta name=\"viewport\" content=\"width=device-width, initial-scale=1.0\">\n",
    "    <title>Web Scraping class</title>\n",
    "    <!-- CSS only -->\n",
    "<link href=\"https://cdn.jsdelivr.net/npm/bootstrap@5.2.2/dist/css/bootstrap.min.css\" rel=\"stylesheet\" integrity=\"sha384-Zenh87qX5JnK2Jl0vWa8Ck2rdkQ2Bzep5IDxbcnCeuOxjzrPF/et3URy9Bv1WTRi\" crossorigin=\"anonymous\">\n",
    "    <!-- JavaScript Bundle with Popper -->\n",
    "<script src=\"https://cdn.jsdelivr.net/npm/bootstrap@5.2.2/dist/js/bootstrap.bundle.min.js\" integrity=\"sha384-OERcA2EqjJCMA+/3y+gxIOqMEjwtxJY7qPCqsdltbNJuaOe923+mo//f6V8Qbsw3\" crossorigin=\"anonymous\"></script>\n",
    "</head>\n",
    "\n",
    "<body class=\"body\">\n",
    "    <h1>Hello my name is dhiraj</h1>\n",
    "    <h2>this is for web scraping class</h2>\n",
    "    <div>\n",
    "        <p>\n",
    "            hello im <span id=\"name\">dhiraj </span>\n",
    "        </p>\n",
    "    </div>\n",
    "    <div>\n",
    "        <input type=\"file\">\n",
    "        <button type=\"button\" class=\"btn btn-primary\">Primary</button>\n",
    "    </div>\n",
    "</body>\n",
    "\n",
    "</html>\n",
    "\n",
    "\n",
    "\n",
    "\n",
    "\n",
    "\n",
    "\"\"\"\n",
    "\n",
    "\n",
    "\n",
    "\n",
    "\n",
    "\n",
    "from bs4 import BeautifulSoup\n",
    "soup=BeautifulSoup(html_doc,'html.parser')\n",
    "print(soup)\n",
    "head_tag=soup.head\n",
    "print(head_tag.contents)\n",
    "print(head_tag.string)\n",
    "body_tag=soup.body\n",
    "print(body_tag.string)\n",
    "#print(body_tag.contents)\n",
    "for child in head_tag.children:\n",
    "    print(child)\n",
    "for child1 in head_tag.descendants:\n",
    "    print(child1)\n",
    "\n",
    "\n",
    "\n",
    "\n",
    "\n",
    "\n",
    "\n",
    "\n",
    "\n",
    "\n",
    "\n",
    "\n",
    "\n",
    "\n",
    "\n"
   ]
  },
  {
   "cell_type": "code",
   "execution_count": 58,
   "id": "5a4698f4",
   "metadata": {},
   "outputs": [
    {
     "name": "stdout",
     "output_type": "stream",
     "text": [
      "<html>\n",
      "<head>\n",
      "<link href=\"index.css\" rel=\"stylesheet\"/>\n",
      "<meta charset=\"utf-8\"/>\n",
      "<meta content=\"IE=edge\" http-equiv=\"X-UA-Compatible\"/>\n",
      "<meta content=\"width=device-width, initial-scale=1.0\" name=\"viewport\"/>\n",
      "<title>Web Scraping class</title>\n",
      "<!-- CSS only -->\n",
      "<link crossorigin=\"anonymous\" href=\"https://cdn.jsdelivr.net/npm/bootstrap@5.2.2/dist/css/bootstrap.min.css\" integrity=\"sha384-Zenh87qX5JnK2Jl0vWa8Ck2rdkQ2Bzep5IDxbcnCeuOxjzrPF/et3URy9Bv1WTRi\" rel=\"stylesheet\"/>\n",
      "<!-- JavaScript Bundle with Popper -->\n",
      "<script crossorigin=\"anonymous\" integrity=\"sha384-OERcA2EqjJCMA+/3y+gxIOqMEjwtxJY7qPCqsdltbNJuaOe923+mo//f6V8Qbsw3\" src=\"https://cdn.jsdelivr.net/npm/bootstrap@5.2.2/dist/js/bootstrap.bundle.min.js\"></script>\n",
      "</head>\n",
      "<body>\n",
      "<h1>Hello my name is dhiraj</h1>\n",
      "<h2>this is for web scraping class</h2>\n",
      "<div>\n",
      "<p>\n",
      "                            hello im <span id=\"name\">dhiraj </span>\n",
      "</p>\n",
      "</div>\n",
      "<p>im a string</p>\n",
      "<div>\n",
      "<input type=\"file\"/>\n",
      "<button class=\"btn btn-primary\" type=\"button\">Primary</button>\n",
      "</div>\n",
      "</body>\n",
      "</html>\n"
     ]
    }
   ],
   "source": [
    "from bs4 import BeautifulSoup\n",
    "html_mydoc=\"\"\"<html>\n",
    "                <head>\n",
    "                    <link rel=\"stylesheet\" href=\"index.css\">\n",
    "                    <meta charset=\"UTF-8\">\n",
    "                    <meta http-equiv=\"X-UA-Compatible\" content=\"IE=edge\">\n",
    "                    <meta name=\"viewport\" content=\"width=device-width, initial-scale=1.0\">\n",
    "                    <title>Web Scraping class</title>\n",
    "                    <!-- CSS only -->\n",
    "                    <link href=\"https://cdn.jsdelivr.net/npm/bootstrap@5.2.2/dist/css/bootstrap.min.css\" rel=\"stylesheet\" integrity=\"sha384-Zenh87qX5JnK2Jl0vWa8Ck2rdkQ2Bzep5IDxbcnCeuOxjzrPF/et3URy9Bv1WTRi\" crossorigin=\"anonymous\">\n",
    "                    <!-- JavaScript Bundle with Popper -->\n",
    "                    <script src=\"https://cdn.jsdelivr.net/npm/bootstrap@5.2.2/dist/js/bootstrap.bundle.min.js\" integrity=\"sha384-OERcA2EqjJCMA+/3y+gxIOqMEjwtxJY7qPCqsdltbNJuaOe923+mo//f6V8Qbsw3\" crossorigin=\"anonymous\"></script>\n",
    "\n",
    "\n",
    "                </head>\n",
    "                <body>\n",
    "                    <h1>Hello my name is dhiraj</h1>\n",
    "                    <h2>this is for web scraping class</h2>\n",
    "                    <div>\n",
    "                        <p>\n",
    "                            hello im <span id=\"name\">dhiraj </span>\n",
    "                        </p>\n",
    "                    </div>\n",
    "                    <p>im a string</p>\n",
    "                    <div>\n",
    "                        <input type=\"file\">\n",
    "                        <button type=\"button\" class=\"btn btn-primary\">Primary</button>\n",
    "                    </div>\n",
    "                </body>\n",
    "    </html>\"\"\"\n",
    "soup=BeautifulSoup(html_mydoc)\n",
    "# tag_head=soup.head\n",
    "# tag_body=soup.body\n",
    "print(soup)"
   ]
  },
  {
   "cell_type": "code",
   "execution_count": 35,
   "id": "aebb5971",
   "metadata": {},
   "outputs": [
    {
     "name": "stdout",
     "output_type": "stream",
     "text": [
      "<title>Web Scraping class</title>\n"
     ]
    }
   ],
   "source": [
    "print(soup.title)"
   ]
  },
  {
   "cell_type": "code",
   "execution_count": 36,
   "id": "e43292a2",
   "metadata": {},
   "outputs": [
    {
     "name": "stdout",
     "output_type": "stream",
     "text": [
      "<head>\n",
      "<link href=\"index.css\" rel=\"stylesheet\"/>\n",
      "<meta charset=\"utf-8\"/>\n",
      "<meta content=\"IE=edge\" http-equiv=\"X-UA-Compatible\"/>\n",
      "<meta content=\"width=device-width, initial-scale=1.0\" name=\"viewport\"/>\n",
      "<title>Web Scraping class</title>\n",
      "</head>\n"
     ]
    }
   ],
   "source": [
    "print(tag_head)"
   ]
  },
  {
   "cell_type": "code",
   "execution_count": 37,
   "id": "7c2bfeaf",
   "metadata": {},
   "outputs": [
    {
     "name": "stdout",
     "output_type": "stream",
     "text": [
      "<body>\n",
      "<h1>Hello my name is dhiraj</h1>\n",
      "<h2>this is for web scraping class</h2>\n",
      "<div>\n",
      "<p>\n",
      "                            hello im <span id=\"name\">dhiraj </span>\n",
      "</p>\n",
      "</div>\n",
      "<div>\n",
      "<input type=\"file\"/>\n",
      "<button class=\"btn btn-primary\" type=\"button\">Primary</button>\n",
      "</div>\n",
      "</body>\n"
     ]
    }
   ],
   "source": [
    "print(tag_body)"
   ]
  },
  {
   "cell_type": "code",
   "execution_count": 40,
   "id": "c976e667",
   "metadata": {},
   "outputs": [
    {
     "name": "stdout",
     "output_type": "stream",
     "text": [
      "<p>\n",
      "                            hello im <span id=\"name\">dhiraj </span>\n",
      "</p>\n"
     ]
    }
   ],
   "source": [
    "tag_p=soup.p\n",
    "print(tag_p)\n"
   ]
  },
  {
   "cell_type": "code",
   "execution_count": 43,
   "id": "36cdc583",
   "metadata": {},
   "outputs": [
    {
     "name": "stdout",
     "output_type": "stream",
     "text": [
      "name\n"
     ]
    }
   ],
   "source": [
    "span_tag=soup.span\n",
    "print(span_tag[\"id\"])"
   ]
  },
  {
   "cell_type": "code",
   "execution_count": 47,
   "id": "dba270f1",
   "metadata": {},
   "outputs": [
    {
     "name": "stdout",
     "output_type": "stream",
     "text": [
      "None\n"
     ]
    }
   ],
   "source": [
    "tag_p=soup.string\n",
    "print(tag_p)"
   ]
  },
  {
   "cell_type": "code",
   "execution_count": 48,
   "id": "09f994cd",
   "metadata": {},
   "outputs": [
    {
     "data": {
      "text/plain": [
       "bs4.element.Comment"
      ]
     },
     "execution_count": 48,
     "metadata": {},
     "output_type": "execute_result"
    }
   ],
   "source": [
    "markup = \"<b><!--Hey, buddy.want to buy a used parser?--></b>\"\n",
    "soup = BeautifulSoup(markup)\n",
    "comment = soup.b.string\n",
    "type(comment)"
   ]
  },
  {
   "cell_type": "code",
   "execution_count": 54,
   "id": "b9461296",
   "metadata": {},
   "outputs": [
    {
     "name": "stdout",
     "output_type": "stream",
     "text": [
      "None\n"
     ]
    }
   ],
   "source": [
    "body_tag=soup.d\n",
    "print(body_tag)"
   ]
  },
  {
   "cell_type": "code",
   "execution_count": 67,
   "id": "9ee24f43",
   "metadata": {},
   "outputs": [
    {
     "name": "stdout",
     "output_type": "stream",
     "text": [
      "['\\n', <h1>Hello my name is dhiraj</h1>, '\\n', <h2>this is for web scraping class</h2>, '\\n', <div>\n",
      "<p>\n",
      "                            hello im <span id=\"name\">dhiraj </span>\n",
      "</p>\n",
      "</div>, '\\n', <p>im a string</p>, '\\n', <div>\n",
      "<input type=\"file\"/>\n",
      "<button class=\"btn btn-primary\" type=\"button\">Primary</button>\n",
      "</div>, '\\n']\n"
     ]
    }
   ],
   "source": [
    "tag_body=soup.body\n",
    "print(tag_body.contents)"
   ]
  },
  {
   "cell_type": "code",
   "execution_count": 68,
   "id": "c63d302a",
   "metadata": {},
   "outputs": [
    {
     "name": "stdout",
     "output_type": "stream",
     "text": [
      "\n",
      "\n",
      "<h1>Hello my name is dhiraj</h1>\n",
      "\n",
      "\n",
      "<h2>this is for web scraping class</h2>\n",
      "\n",
      "\n",
      "<div>\n",
      "<p>\n",
      "                            hello im <span id=\"name\">dhiraj </span>\n",
      "</p>\n",
      "</div>\n",
      "\n",
      "\n",
      "<p>im a string</p>\n",
      "\n",
      "\n",
      "<div>\n",
      "<input type=\"file\"/>\n",
      "<button class=\"btn btn-primary\" type=\"button\">Primary</button>\n",
      "</div>\n",
      "\n",
      "\n"
     ]
    }
   ],
   "source": [
    "bodytags = soup.body\n",
    "#print(bodytags.children)\n",
    "for child in bodytags.children:\n",
    "    print(child)"
   ]
  },
  {
   "cell_type": "code",
   "execution_count": 71,
   "id": "1c004b80",
   "metadata": {},
   "outputs": [
    {
     "name": "stdout",
     "output_type": "stream",
     "text": [
      "\n",
      "\n",
      "<h1>Hello my name is dhiraj</h1>\n",
      "Hello my name is dhiraj\n",
      "\n",
      "\n",
      "<h2>this is for web scraping class</h2>\n",
      "this is for web scraping class\n",
      "\n",
      "\n",
      "<div>\n",
      "<p>\n",
      "                            hello im <span id=\"name\">dhiraj </span>\n",
      "</p>\n",
      "</div>\n",
      "\n",
      "\n",
      "<p>\n",
      "                            hello im <span id=\"name\">dhiraj </span>\n",
      "</p>\n",
      "\n",
      "                            hello im \n",
      "<span id=\"name\">dhiraj </span>\n",
      "dhiraj \n",
      "\n",
      "\n",
      "\n",
      "\n",
      "\n",
      "\n",
      "<p>im a string</p>\n",
      "im a string\n",
      "\n",
      "\n",
      "<div>\n",
      "<input type=\"file\"/>\n",
      "<button class=\"btn btn-primary\" type=\"button\">Primary</button>\n",
      "</div>\n",
      "\n",
      "\n",
      "<input type=\"file\"/>\n",
      "\n",
      "\n",
      "<button class=\"btn btn-primary\" type=\"button\">Primary</button>\n",
      "Primary\n",
      "\n",
      "\n",
      "\n",
      "\n"
     ]
    }
   ],
   "source": [
    "bodytags = soup.body\n",
    "for child1 in bodytags.descendants:\n",
    "    print(child1)"
   ]
  },
  {
   "cell_type": "code",
   "execution_count": 79,
   "id": "b758e6c8",
   "metadata": {},
   "outputs": [
    {
     "name": "stdout",
     "output_type": "stream",
     "text": [
      "[<title>The Dormouse's story</title>]\n",
      "The Dormouse's story\n",
      "None\n"
     ]
    }
   ],
   "source": [
    "html_doc = \"\"\"\n",
    "<html><head><title>The Dormouse's story</title></head>\n",
    "<body>\n",
    "<p class=\"title\"><b>The Dormouse's story</b></p>\n",
    "\n",
    "<p class=\"story\">Once upon a time there were three little sisters; and their names were\n",
    "<a href=\"http://example.com/elsie\" class=\"sister\" id=\"link1\">Elsie</a>,\n",
    "<a href=\"http://example.com/lacie\" class=\"sister\" id=\"link2\">Lacie</a> and\n",
    "<a href=\"http://example.com/tillie\" class=\"sister\" id=\"link3\">Tillie</a>;\n",
    "and they lived at the bottom of a well.</p>\n",
    "\n",
    "<p class=\"story\">...</p>\n",
    "\"\"\"\n",
    "from bs4 import BeautifulSoup\n",
    "soup=BeautifulSoup(html_doc,\"html.parser\")\n",
    "head_tag=soup.head\n",
    "body_tag=soup.body\n",
    "print(head_tag.contents)\n",
    "print(head_tag.string)\n",
    "#print(body_tag.contents)\n",
    "print(body_tag.string)"
   ]
  },
  {
   "cell_type": "code",
   "execution_count": 84,
   "id": "a48945e0",
   "metadata": {},
   "outputs": [
    {
     "name": "stdout",
     "output_type": "stream",
     "text": [
      "<head><title>The Dormouse's story</title></head>\n",
      "body\n"
     ]
    }
   ],
   "source": [
    "#going up\n",
    "#parent\n",
    "\n",
    "title_tag=soup.title\n",
    "p_tag=soup.p\n",
    "print(title_tag.parent)\n",
    "print(p_tag.parent)"
   ]
  },
  {
   "cell_type": "code",
   "execution_count": 89,
   "id": "2d267c65",
   "metadata": {},
   "outputs": [
    {
     "name": "stdout",
     "output_type": "stream",
     "text": [
      "<p class=\"story\">Once upon a time there were three little sisters; and their names were\n",
      "<a class=\"sister\" href=\"http://example.com/elsie\" id=\"link1\">Elsie</a>,\n",
      "<a class=\"sister\" href=\"http://example.com/lacie\" id=\"link2\">Lacie</a> and\n",
      "<a class=\"sister\" href=\"http://example.com/tillie\" id=\"link3\">Tillie</a>;\n",
      "and they lived at the bottom of a well.</p>\n",
      "p\n",
      "<body>\n",
      "<p class=\"title\"><b>The Dormouse's story</b></p>\n",
      "<p class=\"story\">Once upon a time there were three little sisters; and their names were\n",
      "<a class=\"sister\" href=\"http://example.com/elsie\" id=\"link1\">Elsie</a>,\n",
      "<a class=\"sister\" href=\"http://example.com/lacie\" id=\"link2\">Lacie</a> and\n",
      "<a class=\"sister\" href=\"http://example.com/tillie\" id=\"link3\">Tillie</a>;\n",
      "and they lived at the bottom of a well.</p>\n",
      "<p class=\"story\">...</p>\n",
      "</body>\n",
      "body\n",
      "<html><head><title>The Dormouse's story</title></head>\n",
      "<body>\n",
      "<p class=\"title\"><b>The Dormouse's story</b></p>\n",
      "<p class=\"story\">Once upon a time there were three little sisters; and their names were\n",
      "<a class=\"sister\" href=\"http://example.com/elsie\" id=\"link1\">Elsie</a>,\n",
      "<a class=\"sister\" href=\"http://example.com/lacie\" id=\"link2\">Lacie</a> and\n",
      "<a class=\"sister\" href=\"http://example.com/tillie\" id=\"link3\">Tillie</a>;\n",
      "and they lived at the bottom of a well.</p>\n",
      "<p class=\"story\">...</p>\n",
      "</body></html>\n",
      "html\n",
      "\n",
      "<html><head><title>The Dormouse's story</title></head>\n",
      "<body>\n",
      "<p class=\"title\"><b>The Dormouse's story</b></p>\n",
      "<p class=\"story\">Once upon a time there were three little sisters; and their names were\n",
      "<a class=\"sister\" href=\"http://example.com/elsie\" id=\"link1\">Elsie</a>,\n",
      "<a class=\"sister\" href=\"http://example.com/lacie\" id=\"link2\">Lacie</a> and\n",
      "<a class=\"sister\" href=\"http://example.com/tillie\" id=\"link3\">Tillie</a>;\n",
      "and they lived at the bottom of a well.</p>\n",
      "<p class=\"story\">...</p>\n",
      "</body></html>\n",
      "[document]\n"
     ]
    }
   ],
   "source": [
    "#parent tag\n",
    "link=soup.a\n",
    "for parent in link.parents:\n",
    "    print(parent)\n",
    "    print(parent.name)"
   ]
  },
  {
   "cell_type": "code",
   "execution_count": 95,
   "id": "f605ccc0",
   "metadata": {},
   "outputs": [
    {
     "name": "stdout",
     "output_type": "stream",
     "text": [
      "<c>text2</c>\n",
      "None\n",
      "None\n",
      "<b>text1</b>\n"
     ]
    }
   ],
   "source": [
    "#Going sideways\n",
    "sibling_soup=BeautifulSoup(\"<a><b>text1</b><c>text2</c></a>\")\n",
    "print(sibling_soup.b.next_sibling)\n",
    "print(sibling_soup.b.previous_sibling)\n",
    "print(sibling_soup.c.next_sibling)\n",
    "print(sibling_soup.c.previous_sibling)"
   ]
  },
  {
   "cell_type": "code",
   "execution_count": 96,
   "id": "6601803b",
   "metadata": {},
   "outputs": [
    {
     "name": "stdout",
     "output_type": "stream",
     "text": [
      "',\\n'\n",
      "<a class=\"sister\" href=\"http://example.com/lacie\" id=\"link2\">Lacie</a>\n",
      "' and\\n'\n",
      "<a class=\"sister\" href=\"http://example.com/tillie\" id=\"link3\">Tillie</a>\n",
      "';\\nand they lived at the bottom of a well.'\n"
     ]
    }
   ],
   "source": [
    "#Iterate on siblings\n",
    "for sibling in soup.a.next_siblings:\n",
    "    print(repr(sibling))"
   ]
  },
  {
   "cell_type": "code",
   "execution_count": 102,
   "id": "55cdca41",
   "metadata": {},
   "outputs": [
    {
     "name": "stdout",
     "output_type": "stream",
     "text": [
      ";\n",
      "and they lived at the bottom of a well.\n",
      "Tillie\n",
      " and\n",
      "\n",
      " and\n",
      "\n"
     ]
    }
   ],
   "source": [
    "html_doc = \"\"\"\n",
    "<html><head><title>The Dormouse's story</title></head>\n",
    "<body>\n",
    "<p class=\"title\"><b>The Dormouse's story</b></p>\n",
    "\n",
    "<p class=\"story\">Once upon a time there were three little sisters; and their names were\n",
    "<a href=\"http://example.com/elsie\" class=\"sister\" id=\"link1\">Elsie</a>,\n",
    "<a href=\"http://example.com/lacie\" class=\"sister\" id=\"link2\">Lacie</a> and\n",
    "<a href=\"http://example.com/tillie\" class=\"sister\" id=\"link3\">Tillie</a>;\n",
    "and they lived at the bottom of a well.</p>\n",
    "\n",
    "<p class=\"story\">...</p>\n",
    "\"\"\"\n",
    "\n",
    "from bs4 import BeautifulSoup\n",
    "soup =BeautifulSoup(html_doc,'html.parser')\n",
    "last_a_tag=soup.find(\"a\",id=\"link3\")\n",
    "print(last_a_tag.next_sibling)\n",
    "print(last_a_tag.next_element)\n",
    "print(last_a_tag.previous_sibling)\n",
    "print(last_a_tag.previous_element)"
   ]
  },
  {
   "cell_type": "code",
   "execution_count": 103,
   "id": "27e20fde",
   "metadata": {},
   "outputs": [
    {
     "name": "stdout",
     "output_type": "stream",
     "text": [
      "[<a class=\"sister\" href=\"http://example.com/elsie\" id=\"link1\">Elsie</a>, <a class=\"sister\" href=\"http://example.com/lacie\" id=\"link2\">Lacie</a>, <a class=\"sister\" href=\"http://example.com/tillie\" id=\"link3\">Tillie</a>]\n"
     ]
    }
   ],
   "source": [
    "#kind of filters-find()\n",
    "print(soup.find_all('a'))"
   ]
  },
  {
   "cell_type": "code",
   "execution_count": 104,
   "id": "978abb58",
   "metadata": {},
   "outputs": [
    {
     "name": "stdout",
     "output_type": "stream",
     "text": [
      "body\n",
      "b\n"
     ]
    }
   ],
   "source": [
    "import re\n",
    "for tag in soup.find_all(re.compile(\"^b\")):\n",
    "    print(tag.name)"
   ]
  },
  {
   "cell_type": "code",
   "execution_count": 105,
   "id": "af6de393",
   "metadata": {},
   "outputs": [
    {
     "data": {
      "text/plain": [
       "[<p class=\"title\"><b>The Dormouse's story</b></p>,\n",
       " <p class=\"story\">Once upon a time there were three little sisters; and their names were\n",
       " <a class=\"sister\" href=\"http://example.com/elsie\" id=\"link1\">Elsie</a>,\n",
       " <a class=\"sister\" href=\"http://example.com/lacie\" id=\"link2\">Lacie</a> and\n",
       " <a class=\"sister\" href=\"http://example.com/tillie\" id=\"link3\">Tillie</a>;\n",
       " and they lived at the bottom of a well.</p>,\n",
       " <p class=\"story\">...</p>]"
      ]
     },
     "execution_count": 105,
     "metadata": {},
     "output_type": "execute_result"
    }
   ],
   "source": [
    "def has_class_but_no_id(tag):\n",
    "    return tag.has_attr(\"class\") and not tag.has_attr('id')\n",
    "soup.find_all(has_class_but_no_id)"
   ]
  },
  {
   "cell_type": "code",
   "execution_count": 106,
   "id": "9d853248",
   "metadata": {},
   "outputs": [
    {
     "data": {
      "text/plain": [
       "[<a class=\"sister\" href=\"http://example.com/elsie\" id=\"link1\">Elsie</a>,\n",
       " <a class=\"sister\" href=\"http://example.com/lacie\" id=\"link2\">Lacie</a>]"
      ]
     },
     "execution_count": 106,
     "metadata": {},
     "output_type": "execute_result"
    }
   ],
   "source": [
    "#Limit argument\n",
    "soup.find_all(\"a\",limit=2)"
   ]
  },
  {
   "cell_type": "code",
   "execution_count": 107,
   "id": "f45bc2f1",
   "metadata": {},
   "outputs": [
    {
     "data": {
      "text/plain": [
       "<title>The Dormouse's story</title>"
      ]
     },
     "execution_count": 107,
     "metadata": {},
     "output_type": "execute_result"
    }
   ],
   "source": [
    "#find method\n",
    "soup.find('title')"
   ]
  },
  {
   "cell_type": "code",
   "execution_count": 115,
   "id": "17c81456",
   "metadata": {},
   "outputs": [
    {
     "data": {
      "text/plain": [
       "<a class=\"sister\" href=\"http://example.com/elsie\" id=\"link1\">Elsie</a>"
      ]
     },
     "execution_count": 115,
     "metadata": {},
     "output_type": "execute_result"
    }
   ],
   "source": [
    "#css selector\n",
    "soup.select('title')"
   ]
  },
  {
   "cell_type": "code",
   "execution_count": 119,
   "id": "48c759d3",
   "metadata": {},
   "outputs": [
    {
     "data": {
      "text/plain": [
       "[<a class=\"sister\" href=\"http://example.com/elsie\" id=\"link1\">Elsie</a>,\n",
       " <a class=\"sister\" href=\"http://example.com/lacie\" id=\"link2\">Lacie</a>,\n",
       " <a class=\"sister\" href=\"http://example.com/tillie\" id=\"link3\">Tillie</a>]"
      ]
     },
     "execution_count": 119,
     "metadata": {},
     "output_type": "execute_result"
    }
   ],
   "source": [
    "soup.select(\".sister\")"
   ]
  },
  {
   "cell_type": "code",
   "execution_count": 117,
   "id": "43aa8960",
   "metadata": {},
   "outputs": [],
   "source": [
    "soup.select('link1')\n",
    "soup.select_one(\".link\")"
   ]
  },
  {
   "cell_type": "code",
   "execution_count": 120,
   "id": "7b3ca8c7",
   "metadata": {},
   "outputs": [
    {
     "data": {
      "text/plain": [
       "<a class=\"sister\" href=\"http://example.com/elsie\" id=\"link1\">Elsie</a>"
      ]
     },
     "execution_count": 120,
     "metadata": {},
     "output_type": "execute_result"
    }
   ],
   "source": [
    "soup.select_one(\".sister\")"
   ]
  },
  {
   "cell_type": "code",
   "execution_count": 121,
   "id": "6aeb1949",
   "metadata": {},
   "outputs": [
    {
     "data": {
      "text/plain": [
       "<a class=\"sister\" href=\"http://example.com/elsie\" id=\"link1\">Elsie</a>"
      ]
     },
     "execution_count": 121,
     "metadata": {},
     "output_type": "execute_result"
    }
   ],
   "source": [
    "soup.select_one(\"#link1\")"
   ]
  },
  {
   "cell_type": "code",
   "execution_count": 122,
   "id": "b9fd0840",
   "metadata": {},
   "outputs": [
    {
     "name": "stdout",
     "output_type": "stream",
     "text": [
      "<b class=\"boldest\">Extremely bold</b>\n",
      "<bolckquote class=\"verybold\" id=\"1\">Extremely bold</bolckquote>\n"
     ]
    }
   ],
   "source": [
    "#moodifying tree\n",
    "#changing tags and class\n",
    "soup=BeautifulSoup('<b class=\"boldest\">Extremely bold</b>')\n",
    "tag=soup.b\n",
    "print(tag)\n",
    "tag.name=\"bolckquote\"\n",
    "tag['class']='verybold'\n",
    "tag['id']=1\n",
    "print(tag)"
   ]
  },
  {
   "cell_type": "code",
   "execution_count": 123,
   "id": "c4fa9b82",
   "metadata": {},
   "outputs": [
    {
     "data": {
      "text/plain": [
       "<a href=\"https://therealdj97.github.io/\">New link text</a>"
      ]
     },
     "execution_count": 123,
     "metadata": {},
     "output_type": "execute_result"
    }
   ],
   "source": [
    "#changing the string\n",
    "markup='<a href=\"https://therealdj97.github.io/\">my portfolio<i>example.com</i></a>'\n",
    "soup=BeautifulSoup(markup)\n",
    "tag=soup.a\n",
    "tag.string=\"New link text\"\n",
    "tag"
   ]
  },
  {
   "cell_type": "code",
   "execution_count": 125,
   "id": "ecf74269",
   "metadata": {},
   "outputs": [
    {
     "data": {
      "text/plain": [
       "<a href=\"https://therealdj97.github.io/\">something new is here</a>"
      ]
     },
     "execution_count": 125,
     "metadata": {},
     "output_type": "execute_result"
    }
   ],
   "source": [
    "#changing the string\n",
    "markup='<a href=\"https://therealdj97.github.io/\">my portfolio<i>example.com</i></a>'\n",
    "soup=BeautifulSoup(markup)\n",
    "tag=soup.a\n",
    "tag.string=\"something new is here\"\n",
    "tag"
   ]
  },
  {
   "cell_type": "code",
   "execution_count": 129,
   "id": "6ee6b4a1",
   "metadata": {},
   "outputs": [
    {
     "name": "stdout",
     "output_type": "stream",
     "text": [
      "[<a>Good`Morning</a>]\n",
      "['Good', 'vibes', '', 'only']\n"
     ]
    }
   ],
   "source": [
    "#Adding contents\n",
    "soup=BeautifulSoup(\"<a>Good`</a>\")\n",
    "soup.a.append('Morning')\n",
    "print(soup.contents)\n",
    "soup=BeautifulSoup(\"<a>Good</a>\")\n",
    "soup.a.extend([\"vibes\",\"\",\"only\"])\n",
    "print(soup.a.contents)"
   ]
  },
  {
   "cell_type": "code",
   "execution_count": 130,
   "id": "baaef455",
   "metadata": {},
   "outputs": [
    {
     "name": "stdout",
     "output_type": "stream",
     "text": [
      "['my portfolio', <i>example.com</i>]\n"
     ]
    },
    {
     "data": {
      "text/plain": [
       "<a href=\"https://therealdj97.github.io/\">my portfolio<i>example.com</i>but did not endorse</a>"
      ]
     },
     "execution_count": 130,
     "metadata": {},
     "output_type": "execute_result"
    }
   ],
   "source": [
    "#insert function\n",
    "markup='<a href=\"https://therealdj97.github.io/\">my portfolio<i>example.com</i></a>'\n",
    "soup=BeautifulSoup(markup)\n",
    "tag=soup.a\n",
    "print(tag.contents)\n",
    "tag.insert(2,\"but did not endorse\")\n",
    "tag"
   ]
  },
  {
   "cell_type": "code",
   "execution_count": 135,
   "id": "aff5d567",
   "metadata": {},
   "outputs": [
    {
     "name": "stdout",
     "output_type": "stream",
     "text": [
      "<b>stop</b>\n",
      "<i></i>\n",
      "Don't\n",
      "<b><i>Don't</i>stop</b>\n",
      "<b><i>Don't</i>stop</b>\n",
      "<div></div>\n",
      "ever\n"
     ]
    },
    {
     "data": {
      "text/plain": [
       "<b><i>Don't</i>you<div>ever</div>stop</b>"
      ]
     },
     "execution_count": 135,
     "metadata": {},
     "output_type": "execute_result"
    }
   ],
   "source": [
    "#insert before & insert after\n",
    "from bs4 import BeautifulSoup\n",
    "soup=BeautifulSoup(\"<b>stop</b>\")\n",
    "print(soup)\n",
    "tag=soup.new_tag(\"i\")\n",
    "print(tag)\n",
    "tag.string=\"Don't\"\n",
    "print(tag.string)\n",
    "soup.b.string.insert_before(tag)\n",
    "print(soup.b)\n",
    "soup.b\n",
    "print(soup.b)\n",
    "div=soup.new_tag('div')\n",
    "print(div)\n",
    "div.string='ever'\n",
    "print(div.string)\n",
    "soup.b.i.insert_after(\"you\",div)\n",
    "soup.b"
   ]
  },
  {
   "cell_type": "code",
   "execution_count": 136,
   "id": "a2258f6a",
   "metadata": {},
   "outputs": [
    {
     "name": "stdout",
     "output_type": "stream",
     "text": [
      "<b>stop</b>\n"
     ]
    },
    {
     "data": {
      "text/plain": [
       "<b>stopyou<div>ever</div></b>"
      ]
     },
     "execution_count": 136,
     "metadata": {},
     "output_type": "execute_result"
    }
   ],
   "source": [
    "from bs4 import BeautifulSoup\n",
    "soup=BeautifulSoup(\"<b>stop</b>\")\n",
    "print(soup)\n",
    "dic=soup.new_tag('div')\n",
    "div.string='ever'\n",
    "soup.b.string.insert_after(\"you\",div)\n",
    "#soup.b.i.insert_after(\"you\",div)\n",
    "soup.b"
   ]
  },
  {
   "cell_type": "code",
   "execution_count": 142,
   "id": "6dd9d682",
   "metadata": {},
   "outputs": [
    {
     "data": {
      "text/plain": [
       "<a href=\"http://example.com/\"></a>"
      ]
     },
     "execution_count": 142,
     "metadata": {},
     "output_type": "execute_result"
    }
   ],
   "source": [
    "#clear() method\n",
    "markup='<a href=\"http://example.com/\">I liked to <i>example.com</i></a>'\n",
    "soup = BeautifulSoup(markup)\n",
    "tag=soup.a\n",
    "tag.clear()\n",
    "tag"
   ]
  },
  {
   "cell_type": "code",
   "execution_count": 143,
   "id": "cf25960f",
   "metadata": {},
   "outputs": [
    {
     "data": {
      "text/plain": [
       "<i>example.com</i>"
      ]
     },
     "execution_count": 143,
     "metadata": {},
     "output_type": "execute_result"
    }
   ],
   "source": [
    "#extract method\n",
    "markup='<a href=\"http://example.com/\">I liked to <i>example.com</i></a>'\n",
    "soup = BeautifulSoup(markup)\n",
    "a_tag=soup.a\n",
    "i_tag=soup.i.extract()\n",
    "i_tag"
   ]
  },
  {
   "cell_type": "code",
   "execution_count": 144,
   "id": "c0741e3e",
   "metadata": {},
   "outputs": [
    {
     "name": "stdout",
     "output_type": "stream",
     "text": [
      "None\n"
     ]
    },
    {
     "data": {
      "text/plain": [
       "<a href=\"http://example.com/\">I linked to <a></a></a>"
      ]
     },
     "execution_count": 144,
     "metadata": {},
     "output_type": "execute_result"
    }
   ],
   "source": [
    "# decompose\n",
    "markup= '<a href=\"http://example.com/\">I linked to <i>example.com</i><a>'\n",
    "soup=BeautifulSoup(markup)\n",
    "a_tag = soup.a\n",
    "\n",
    "i=soup.i.decompose()\n",
    "print(i)\n",
    "a_tag"
   ]
  },
  {
   "cell_type": "code",
   "execution_count": 145,
   "id": "18bbe747",
   "metadata": {},
   "outputs": [
    {
     "data": {
      "text/plain": [
       "<b>I wish I was bold</b>"
      ]
     },
     "execution_count": 145,
     "metadata": {},
     "output_type": "execute_result"
    }
   ],
   "source": [
    "# wrap\n",
    "soup=BeautifulSoup(\"<p>I wish I was bold\")\n",
    "soup.p.string.wrap(soup.new_tag('b'))"
   ]
  },
  {
   "cell_type": "code",
   "execution_count": 146,
   "id": "4c97c5ae",
   "metadata": {},
   "outputs": [
    {
     "name": "stdout",
     "output_type": "stream",
     "text": [
      "........................\n"
     ]
    },
    {
     "data": {
      "text/plain": [
       "<b>cdac.in</b>"
      ]
     },
     "execution_count": 146,
     "metadata": {},
     "output_type": "execute_result"
    }
   ],
   "source": [
    "# replace_with() method\n",
    "# decompose\n",
    "markup= '<a href=\"http://example.com/\">I linked to <i>example.com</i><a>'\n",
    "soup=BeautifulSoup(markup)\n",
    "a_tag=soup.a\n",
    "\n",
    "new_tag=soup.new_tag(\"b\")\n",
    "new_tag.string= \"cdac.in\"\n",
    "a_tag.i.replace_with(new_tag)\n",
    "\n",
    "a_tag\n",
    "print(\"........................\")\n",
    "new_tag"
   ]
  },
  {
   "cell_type": "code",
   "execution_count": 147,
   "id": "3e43de5f",
   "metadata": {},
   "outputs": [
    {
     "name": "stdout",
     "output_type": "stream",
     "text": [
      "<a href=\"http://example.com/\">I linked to <i>example.com</i><a></a></a>\n",
      "<a href=\"http://example.com/\">\n",
      " I linked to\n",
      " <i>\n",
      "  example.com\n",
      " </i>\n",
      " <a>\n",
      " </a>\n",
      "</a>\n"
     ]
    }
   ],
   "source": [
    "# output\n",
    "# replace_with() method\n",
    "# decompose\n",
    "markup= '<a href=\"http://example.com/\">I linked to <i>example.com</i><a>'\n",
    "soup=BeautifulSoup(markup)\n",
    "print(soup)\n",
    "print(soup.prettify())"
   ]
  },
  {
   "cell_type": "code",
   "execution_count": 148,
   "id": "a5a1aeea",
   "metadata": {},
   "outputs": [],
   "source": [
    "#get_text method\n",
    "markup='<a href></a>'"
   ]
  },
  {
   "cell_type": "code",
   "execution_count": 151,
   "id": "be602d64",
   "metadata": {},
   "outputs": [
    {
     "data": {
      "text/plain": [
       "'example.com'"
      ]
     },
     "execution_count": 151,
     "metadata": {},
     "output_type": "execute_result"
    }
   ],
   "source": [
    "markup = '<a href=\"http://example.com/\">\\nI linked to <i>example.com</i>\\n</a>'\n",
    "soup = BeautifulSoup(markup, 'html.parser')\n",
    "\n",
    "soup.get_text()\n",
    "soup.i.get_text()"
   ]
  },
  {
   "cell_type": "code",
   "execution_count": null,
   "id": "d44b68ad",
   "metadata": {},
   "outputs": [],
   "source": []
  }
 ],
 "metadata": {
  "kernelspec": {
   "display_name": "Python 3 (ipykernel)",
   "language": "python",
   "name": "python3"
  },
  "language_info": {
   "codemirror_mode": {
    "name": "ipython",
    "version": 3
   },
   "file_extension": ".py",
   "mimetype": "text/x-python",
   "name": "python",
   "nbconvert_exporter": "python",
   "pygments_lexer": "ipython3",
   "version": "3.10.8"
  }
 },
 "nbformat": 4,
 "nbformat_minor": 5
}

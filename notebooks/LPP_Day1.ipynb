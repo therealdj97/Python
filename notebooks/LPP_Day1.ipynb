{
  "nbformat": 4,
  "nbformat_minor": 0,
  "metadata": {
    "colab": {
      "provenance": []
    },
    "kernelspec": {
      "name": "python3",
      "display_name": "Python 3"
    },
    "language_info": {
      "name": "python"
    }
  },
  "cells": [
    {
      "cell_type": "code",
      "execution_count": 2,
      "metadata": {
        "colab": {
          "base_uri": "https://localhost:8080/"
        },
        "id": "O2GslyRlqup2",
        "outputId": "dbb33df3-9961-453d-c511-db7180494d26"
      },
      "outputs": [
        {
          "output_type": "stream",
          "name": "stdout",
          "text": [
            "Looking in indexes: https://pypi.org/simple, https://us-python.pkg.dev/colab-wheels/public/simple/\n",
            "Collecting pulp\n",
            "  Downloading PuLP-2.7.0-py3-none-any.whl (14.3 MB)\n",
            "\u001b[K     |████████████████████████████████| 14.3 MB 4.8 MB/s \n",
            "\u001b[?25hInstalling collected packages: pulp\n",
            "Successfully installed pulp-2.7.0\n"
          ]
        }
      ],
      "source": [
        "pip install pulp"
      ]
    },
    {
      "cell_type": "code",
      "source": [
        "from pulp import * "
      ],
      "metadata": {
        "id": "cPglEjE4q2Dm"
      },
      "execution_count": 3,
      "outputs": []
    },
    {
      "cell_type": "code",
      "source": [
        "x1 = LpVariable('x1', lowBound=0, cat='Integer')\n",
        "x2 = LpVariable('x2', lowBound=0,cat='Integer')\n",
        "x3 = LpVariable('x3', lowBound=0, cat='Integer')\n",
        "x4 = LpVariable('x4', lowBound=0, cat='Integer')\n",
        "x5 = LpVariable('x5', lowBound=0, cat='Integer')\n",
        "x6 = LpVariable('x6', lowBound=0, cat='Integer')\n",
        "x7 = LpVariable('x7', lowBound=0, cat='Integer')\n",
        "x8 = LpVariable('x8', lowBound=0, cat='Integer')\n",
        "x9 = LpVariable('x9', lowBound=0, cat='Integer')\n",
        "x10 = LpVariable('x10', lowBound=0, cat='Integer')\n",
        "# here LpVariable is function which defines decision variable "
      ],
      "metadata": {
        "id": "ictTXWHarLrV"
      },
      "execution_count": 4,
      "outputs": []
    },
    {
      "cell_type": "code",
      "source": [
        "Problem = LpProblem('transshipment problem',LpMinimize)\n",
        "# LpMinimize will try to calc minimize output ie shipping cost in this case "
      ],
      "metadata": {
        "colab": {
          "base_uri": "https://localhost:8080/"
        },
        "id": "YHNdimlNsBYF",
        "outputId": "808b95bb-bd8e-4923-a5e4-9921c8ed2606"
      },
      "execution_count": 5,
      "outputs": [
        {
          "output_type": "stream",
          "name": "stderr",
          "text": [
            "/usr/local/lib/python3.8/dist-packages/pulp/pulp.py:1352: UserWarning: Spaces are not permitted in the name. Converted to '_'\n",
            "  warnings.warn(\"Spaces are not permitted in the name. Converted to '_'\")\n"
          ]
        }
      ]
    },
    {
      "cell_type": "code",
      "source": [
        "Problem += 7*x1 + 4*x2 + 6*x3 + 7*x4 + 3*x5 + 9*x6 + 5*x7 + 9*x8 + 7*x9 + 2*x10\n",
        "# Objective function this will decide what should be the output"
      ],
      "metadata": {
        "colab": {
          "base_uri": "https://localhost:8080/"
        },
        "id": "5wjvve0vt-S6",
        "outputId": "9a5e66ce-4d15-4319-cfca-97763f176f62"
      },
      "execution_count": 7,
      "outputs": [
        {
          "output_type": "stream",
          "name": "stderr",
          "text": [
            "/usr/local/lib/python3.8/dist-packages/pulp/pulp.py:1704: UserWarning: Overwriting previously set objective.\n",
            "  warnings.warn(\"Overwriting previously set objective.\")\n"
          ]
        }
      ]
    },
    {
      "cell_type": "code",
      "source": [
        "# Adding constraints to the problem\n",
        "Problem += x1+x2 <= 200 \n",
        "Problem += x3+x7 == 30\n",
        "Problem += x4+x8 == 20\n",
        "Problem += x5+x9 == 40\n",
        "Problem += x6+x10 == 50\n",
        "Problem += x1 == x3+x4+x5+x6\n",
        "Problem += x2 == x7+x8+x9+x10"
      ],
      "metadata": {
        "id": "EC9idnskuCv6"
      },
      "execution_count": 10,
      "outputs": []
    },
    {
      "cell_type": "code",
      "source": [
        "Problem.solve()"
      ],
      "metadata": {
        "colab": {
          "base_uri": "https://localhost:8080/"
        },
        "id": "kS8hi1tWv_Kr",
        "outputId": "55571486-a7df-44ea-d296-e8953105faeb"
      },
      "execution_count": 11,
      "outputs": [
        {
          "output_type": "execute_result",
          "data": {
            "text/plain": [
              "1"
            ]
          },
          "metadata": {},
          "execution_count": 11
        }
      ]
    },
    {
      "cell_type": "code",
      "source": [
        "print('Status:', LpStatus[Problem.status])\n",
        "print('Objective function value = ', value(Problem.objective))"
      ],
      "metadata": {
        "colab": {
          "base_uri": "https://localhost:8080/"
        },
        "id": "yCYYOEqmwB77",
        "outputId": "266a77a3-2cb6-4e6c-ccc8-6de14308366c"
      },
      "execution_count": 12,
      "outputs": [
        {
          "output_type": "stream",
          "name": "stdout",
          "text": [
            "Status: Optimal\n",
            "Objective function value =  1230.0\n"
          ]
        }
      ]
    },
    {
      "cell_type": "code",
      "source": [
        "for i in Problem.variables():\n",
        "    print(i.name, '=', i.varValue)"
      ],
      "metadata": {
        "colab": {
          "base_uri": "https://localhost:8080/"
        },
        "id": "qwkKZAYmwSoV",
        "outputId": "315239ab-9026-43c6-af43-aac607fe0b95"
      },
      "execution_count": 13,
      "outputs": [
        {
          "output_type": "stream",
          "name": "stdout",
          "text": [
            "x1 = 40.0\n",
            "x10 = 50.0\n",
            "x2 = 100.0\n",
            "x3 = 0.0\n",
            "x4 = 0.0\n",
            "x5 = 40.0\n",
            "x6 = 0.0\n",
            "x7 = 30.0\n",
            "x8 = 20.0\n",
            "x9 = 0.0\n"
          ]
        }
      ]
    },
    {
      "cell_type": "code",
      "source": [],
      "metadata": {
        "id": "mTRg3Sp-xCQY"
      },
      "execution_count": null,
      "outputs": []
    }
  ]
}
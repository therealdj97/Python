{
  "nbformat": 4,
  "nbformat_minor": 0,
  "metadata": {
    "colab": {
      "provenance": []
    },
    "kernelspec": {
      "name": "python3",
      "display_name": "Python 3"
    }
  },
  "cells": [
    {
      "cell_type": "markdown",
      "metadata": {
        "id": "Vcvmc_dgH1Ry"
      },
      "source": [
        "# Project 9: Lottery"
      ]
    },
    {
      "cell_type": "markdown",
      "metadata": {
        "id": "T078LXWwigva"
      },
      "source": [
        "---"
      ]
    },
    {
      "cell_type": "markdown",
      "metadata": {
        "id": "QM0Gsj6Ncjz8"
      },
      "source": [
        "### Context\n",
        "\n",
        "Many people have the fantasy of winning a lottery. The lottery seems a speedy way of becoming rich. Lotteries refer to games where we need to guess which numbers will be drawn from a pool of options. They are designed in such a way that there are extremely low chances of winning a jackpot amount.\n",
        "\n",
        "During advertising, many companies that run lotteries target individuals belonging to the low income and debt-ridden groups. Lotteries can incur heavy losses to your income yet studies revealed that financially challenged people are more likely to purchase lottery tickets as compared to the wealthy people. They spend a large amount of their meagre income to purchase lottery tickets. These lotteries not only exploit the desires of the underprivileged of becoming rich but also worsens their current financial condition. Lottery houses use the lottery mathematics which is nothing but the probability and expected value to design their lottery games in a way that chances of winning the lottery are extremely low.\n",
        "\n",
        "Let us try to understand the underlying math involved in a Lottery game."
      ]
    },
    {
      "cell_type": "markdown",
      "metadata": {
        "id": "gguw7YCDz3gz"
      },
      "source": [
        "---"
      ]
    },
    {
      "cell_type": "markdown",
      "metadata": {
        "id": "bLWi0FX7gr8r"
      },
      "source": [
        "### Problem Statement\n",
        "\n",
        "Imagine a situation in which WhiteHat Jr announced its lottery game. The amount of the jackpot prize to be won is INR 25,000,000 (or INR 25 million).\n",
        "\n",
        "Suppose you want to play this lottery and you bought a ticket for it which costs INR 250. It has two identical leaves or copies; one is for yourself and another for WhiteHat Jr.\n",
        "\n",
        "<img src='https://student-datasets-bucket.s3.ap-south-1.amazonaws.com/images/lottery_ticket.png' width=500>\n",
        "\n",
        "You have to fill both the copies and give one back to WhiteHat Jr. Each leaf has 70 boxes numbered from 1 to 70. You have to mark 10 different numbers out of those 70 numbers in both the leaves and submit the second copy of the filled ticket back to WhiteHat Jr.\n",
        "\n",
        "<img src='https://student-datasets-bucket.s3.ap-south-1.amazonaws.com/images/lottery_ticket_filled.png' width=500>\n",
        "\n",
        "After a week in a lucky draw, 10 balls will be drawn randomly one-by-one from an urn of 70 balls. Each ball is labelled from 1 to 70. Once a ball is drawn, it doesn't go back inside the urn.\n",
        "\n",
        "<img src='https://student-datasets-bucket.s3.ap-south-1.amazonaws.com/images/lottery_machine.jpg' width=500>\n",
        "\n",
        "If the number printed on the balls drawn from the urn matches with the numbers that you marked on your lottery ticket, then you will win a prize but there are some conditions involved. Here's the list of all the conditions of winning the prizes:\n",
        "\n",
        "- If all 10 numbers that you marked on your lottery ticket matches with the ones on the balls drawn, you will win **INR 25,000,000, the jackpot prize**.\n",
        "\n",
        "- If 9 out of the 10 numbers that you marked on your lottery ticket matches with the ones on the balls drawn, you will win INR 2,500,000.\n",
        "\n",
        "- If 8 out of the 10 numbers that you marked on your lottery ticket matches with the ones on the balls drawn, you will win INR 250,000.\n",
        "\n",
        "- If 7 out of the 10 numbers that you marked on your lottery ticket matches with the ones on the balls drawn, you will win INR 25,000.\n",
        "\n",
        "- If 6 out of the 10 numbers that you marked on your lottery ticket matches with the ones on the balls drawn, you will win INR 2,500.\n",
        "\n",
        "- If 5 out of the 10 numbers that you marked on your lottery ticket matches with the ones on the balls drawn, you will win INR 250.\n",
        "\n",
        "- In all other cases, you win nothing.\n",
        "\n",
        "Find out the amount you are expected to win or lose on an average per lottery ticket.\n",
        "\n",
        "**Note:** The student must first attempt the problem on their own and then they should take the help of the teacher to solve it."
      ]
    },
    {
      "cell_type": "markdown",
      "metadata": {
        "id": "80LMG6Mkdevt"
      },
      "source": [
        "---"
      ]
    },
    {
      "cell_type": "markdown",
      "metadata": {
        "id": "wFFxkg6Cdf1s"
      },
      "source": [
        "### Recommended Approach\n",
        "\n",
        "1. List down the possible cases in which the numbers marked on the lottery ticket matches with the numbers on the 10 balls drawn from the urn. Eg.\n",
        "\n",
        "   - **Possibility 1:** 0 out of the 10 numbers that you marked on your lottery ticket matches with the ones on the 10 balls drawn. ${}^{10}C_0 = \\frac{10!}{0! \\times 10!} = 1$ way as shown in the image below.\n",
        "\n",
        "     <img src='https://student-datasets-bucket.s3.ap-south-1.amazonaws.com/images/no_numbers_match.png' width=400>\n",
        "\n",
        "     **Note:** The **green** colour denotes that the numbers marked on the ticket matches with the ones on the balls drawn. The **red** colour denotes that the numbers marked on the ticket **do not** match with the ones on the balls drawn. \n",
        "\n",
        "   - **Possibility 2:** 1 out of the 10 numbers that you marked on your lottery ticket matches with the ones on the 10 balls drawn. This can be done in ${}^{10}C_1 = \\frac{10!}{1! \\times 9!} = \\frac{10 \\times 9!}{9!} = 10$ ways as shown in the image below. \n",
        "\n",
        "     <img src='https://student-datasets-bucket.s3.ap-south-1.amazonaws.com/images/one_numbers_match.png' width=400>\n",
        "\n",
        "    \n",
        "\n",
        "   - **Possibility 3:** 2 out of the 10 numbers that you marked on your lottery ticket matches with the ones on the 10 balls drawn. This can be done in ${}^{10}C_2 = \\frac{10!}{2! \\times 8!} = \\frac{10\\times 9 \\times 8!}{2! \\times 8!} = 45$ ways as shown in the image below.\n",
        "\n",
        "     <img src='https://student-datasets-bucket.s3.ap-south-1.amazonaws.com/images/two_numbers_match.png' width=400>\n",
        "\n",
        "    .\n",
        "\n",
        "    .\n",
        "\n",
        "    .\n",
        "\n",
        "   - **Possibility 11:** 10 out of the 10 numbers that you marked on your lottery ticket matches with the ones on the 10 balls drawn. This can be done in ${}^{10}C_{10} = \\frac{10!}{10! \\times 0!} = 1$ way as shown in the image below.\n",
        "\n",
        "     <img src='https://student-datasets-bucket.s3.ap-south-1.amazonaws.com/images/all_numbers_match.png' width=400>\n",
        "\n",
        "2. Find out the probabilities of each possibility.\n",
        "\n",
        "3. Multiply the amount to be won or lost with their corresponding probabilities. \n",
        "\n",
        "4. Add all the products (obtained in step 3) to get the expected amount to be won or lost after buying a lottery ticket.\n",
        "\n",
        "5. Implement the solution using Python."
      ]
    },
    {
      "cell_type": "markdown",
      "metadata": {
        "id": "aoXQDDHRddrq"
      },
      "source": [
        "---"
      ]
    },
    {
      "cell_type": "markdown",
      "metadata": {
        "id": "Xh-PokU1Ifdu"
      },
      "source": [
        "### Solution\n",
        "\n",
        "Let's define a random variable $X$ which denotes the number of matches. Therefore, \n",
        "\n",
        "- $X = 0$ denotes that 0 out of the 10 numbers that you marked on your lottery ticket matches with the ones on the balls drawn. This can be done in ${}^{10}C_0 = \\frac{10!}{0! \\times 10!} = 1$ way as shown in the image below.\n",
        "\n",
        "  <img src='https://student-datasets-bucket.s3.ap-south-1.amazonaws.com/images/no_numbers_match.png' width=400>\n",
        "\n",
        "- $X = 1$ denotes that 1 out of the 10 numbers that you marked on your lottery ticket matches with the ones on the balls drawn. This can be done in ${}^{10}C_1 = \\frac{10!}{1! \\times 9!} = \\frac{10 \\times 9!}{9!} = 10$ ways as shown in the image below. \n",
        "\n",
        "  <img src='https://student-datasets-bucket.s3.ap-south-1.amazonaws.com/images/one_numbers_match.png' width=400>\n",
        "\n",
        "  E.g., number only on the first ball drawn matches, number only on the second ball drawn matches etc. \n",
        "\n",
        "  **Note:** $n!$ can also be written as $n! = n \\times (n-1)!$\n",
        "\n",
        "- $X = 2$ denotes that 2 out of the 10 numbers that you marked on your lottery ticket matches with the ones on the balls drawn. This can be done in ${}^{10}C_2 = \\frac{10!}{2! \\times 8!} = \\frac{10\\times 9 \\times 8!}{2! \\times 8!} = 45$ ways as shown in the image below.\n",
        "\n",
        "  <img src='https://student-datasets-bucket.s3.ap-south-1.amazonaws.com/images/two_numbers_match.png' width=400>\n",
        "\n",
        "  E.g., numbers only on the first and second balls drawn match, numbers only on the first and third balls drawn match etc.\n",
        "\n",
        "  $\\vdots$\n",
        "\n",
        "- $X = 9$ denotes that 9 out of the 10 numbers that you marked on your lottery ticket matches with the ones on the balls drawn. This can be done in ${}^{10}C_1 = \\frac{10!}{9! \\times 1!} = 10$ ways as shown in the image below. \n",
        "\n",
        "  <img src='https://student-datasets-bucket.s3.ap-south-1.amazonaws.com/images/nine_numbers_match.png' width=400>\n",
        "\n",
        "  E.g., number only on the tenth ball drawn **does not** match, number only on the ninth ball drawn **does not** match etc.\n",
        "\n",
        "- $X = 10$ denotes that all 10 numbers that you marked on your lottery ticket matches with the ones on the balls drawn. This can be done in ${}^{10}C_{10} = \\frac{10!}{10! \\times 0!} = 1$ way as shown in the image below.\n",
        "\n",
        "  <img src='https://student-datasets-bucket.s3.ap-south-1.amazonaws.com/images/all_numbers_match.png' width=400>\n",
        "\n"
      ]
    },
    {
      "cell_type": "markdown",
      "metadata": {
        "id": "tL6h4RdsIjaY"
      },
      "source": [
        "So the probability of the random variable\n",
        "\n",
        "- $X = 0$ is $P(X = 0) = \\frac{60}{70} \\times \\frac{59}{69} \\times \\frac{58}{68} \\times \\frac{57}{67} \\times \\frac{56}{66} \\times \\frac{55}{65} \\times \\frac{54}{64} \\times \\frac{53}{63} \\times \\frac{52}{62} \\times \\frac{51}{61} \\times 1$\n",
        "  - **Before $1^{\\text{st}}$ draw, out of 70 balls, 10 balls will match with the numbers on the ticket and 60 won't.** In the first draw, 1 ball is drawn out of 70 balls. The number on the ball drawn doesn't match with one of your numbers. Hence, the probability of one of the numbers **not** matching in the first draw is $\\frac{60}{70}$. \n",
        "  \n",
        "  - **Before $2^{\\text{nd}}$ draw, out of 69 balls, 10 balls will match with the numbers on the ticket and 59 won't.** In the second draw, 1 ball is drawn out of 69 balls. The number on the ball drawn doesn't match with one of your numbers. Hence, the probability of one of the numbers **not** matching in the second draw is $\\frac{59}{69}$.\n",
        "\n",
        "  - **Before $3^{\\text{rd}}$ draw, out of 68 balls, 10 balls will match with the numbers on the ticket and 58 won't.** In the third draw, 1 ball is drawn out of 68 balls. The number on the ball drawn doesn't match with one of your numbers. Hence, the probability one of the numbers **not** matching in the third draw is $\\frac{58}{68}$.\n",
        "\n",
        "    $\\vdots$\n",
        "\n",
        "  - **Before $10^{\\text{th}}$ draw, out of 61 balls, 10 ball will match with the numbers on the ticket and 51 won't.** In the last draw, 1 ball is drawn out of 61 balls. The number on the ball drawn doesn't match with one of your numbers. Hence, the probability ones of the numbers **not** matching in the final draw is $\\frac{51}{61}$.\n",
        "\n",
        "- $X = 1$ is $P(X = 1) = \\frac{10}{70} \\times \\frac{60}{69} \\times \\frac{59}{68} \\times \\frac{58}{67} \\times \\frac{57}{66} \\times \\frac{56}{65} \\times \\frac{55}{64} \\times \\frac{54}{63} \\times \\frac{53}{62} \\times \\frac{52}{61} \\times 10$\n",
        "  - **Before $1^{\\text{st}}$ draw, out of 70 balls, 10 balls will match with the numbers on the ticket and 60 won't.** In the first draw, 1 ball is drawn out of 70 balls. The number on the ball drawn matches with one of your numbers. Hence, the probability of one of the numbers matching in the first draw is $\\frac{10}{70}$. \n",
        "  \n",
        "  - **Before $2^{\\text{nd}}$ draw, out of 69 balls, 9 balls will match with the numbers on the ticket and 60 won't.** In the second draw, 1 ball is drawn out of 69 balls. The number on the ball drawn doesn't match with one of your numbers. Hence, the probability of one of the numbers **not** matching in the second draw is $\\frac{60}{69}$.\n",
        "\n",
        "  - **Before $3^{\\text{rd}}$ draw, out of 68 balls, 9 balls will match with the numbers on the ticket and 59 won't.** In the third draw, 1 ball is drawn out of 68 balls. The number on the ball drawn doesn't match with one of your numbers. Hence, the probability of one of the numbers **not** matching in the third draw is $\\frac{58}{68}$.\n",
        "\n",
        "    $\\vdots$\n",
        "\n",
        "  - **Before $10^{\\text{th}}$ draw, out of 61 balls, 9 ball will match with the numbers on the ticket and 52 won't.** In the last draw, 1 ball is drawn out of 61 balls. The number on the ball drawn doesn't match with one of your numbers. Hence, the probability of one of the numbers **not** matching in the final draw is $\\frac{51}{61}$.\n",
        "\n",
        "- $X = 2$ is $P(X = 2) = \\frac{10}{70} \\times \\frac{9}{69} \\times \\frac{60}{68} \\times \\frac{59}{67} \\times \\frac{58}{66} \\times \\frac{57}{65} \\times \\frac{56}{64} \\times \\frac{55}{63} \\times \\frac{54}{62} \\times \\frac{53}{61} \\times 45$\n",
        "  - **Before $1^{\\text{st}}$ draw, out of 70 balls, 10 balls will match with the numbers on the ticket and 60 won't.** In the first draw, 1 ball is drawn out of 70 balls. The number on the ball drawn matches with one of your numbers. Hence, the probability of one of the numbers matching in the first draw is $\\frac{10}{70}$. \n",
        "  \n",
        "  - **Before $2^{\\text{nd}}$ draw, out of 69 balls, 9 balls will match with the numbers on the ticket and 60 won't.** In the second draw, 1 ball is drawn out of 69 balls. The number on the ball drawn matches with one of your numbers. Hence, the probability of one of the numbers matching in the second draw is $\\frac{9}{69}$.\n",
        "\n",
        "  - **Before $3^{\\text{rd}}$ draw, out of 68 balls, 8 balls will match with the numbers on the ticket and 60 won't.** In the third draw, 1 ball is drawn out of 68 balls. The number on the ball drawn doesn't match with one of your numbers. Hence, the probability of one of the numbers **not** matching in the third draw is $\\frac{60}{68}$.\n",
        "\n",
        "    $\\vdots$\n",
        "\n",
        "  - **Before $10^{\\text{th}}$ draw, out of 61 balls, 8 ball will match with the numbers on the ticket and 53 won't.** In the last draw, 1 ball is drawn out of 61 balls. The number on the ball drawn doesn't match with one of your numbers. Hence, the probability of one of the numbers **not** matching in the final draw is $\\frac{53}{61}$.\n",
        "\n",
        "  $\\vdots$\n",
        "\n",
        "- $X = 9$ is $P(X = 9) = \\frac{10}{70} \\times \\frac{9}{69} \\times \\frac{8}{68} \\times \\frac{7}{67} \\times \\frac{6}{66} \\times \\frac{5}{65} \\times \\frac{4}{64} \\times \\frac{3}{63} \\times \\frac{2}{62} \\times \\frac{60}{61} \\times 10$\n",
        "  - **Before $1^{\\text{st}}$ draw, out of 70 balls, 10 balls will match with the numbers on the ticket and 60 won't.** In the first draw, 1 ball is drawn out of 70 balls. The number on the ball drawn matches with one of your numbers. Hence, the probability of one of the numbers matching in the first draw is $\\frac{10}{70}$. \n",
        "  \n",
        "  - **Before $2^{\\text{nd}}$ draw, out of 69 balls, 9 balls will match with the numbers on the ticket and 60 won't.** In the second draw, 1 ball is drawn out of 69 balls. The number on the ball drawn matches with one of your numbers. Hence, the probability of one of the numbers matching in the second draw is $\\frac{9}{69}$.\n",
        "\n",
        "  - **Before $3^{\\text{rd}}$ draw, out of 68 balls, 8 balls will match with the numbers on the ticket and 60 won't.** In the third draw, 1 ball is drawn out of 68 balls. The number on the ball drawn matches with one of your numbers. Hence, the probability of one of the numbers matching in the third draw is $\\frac{8}{68}$.\n",
        "\n",
        "    $\\vdots$\n",
        "\n",
        "  - **Before $10^{\\text{th}}$ draw, out of 61 balls, 1 ball will match with the numbers on the ticket and 60 won't.** In the last draw, 1 ball is drawn out of 61 balls. The number on the ball drawn doesn't match with one of your numbers. Hence, the probability of one of the numbers **not** matching in the final draw is $\\frac{60}{61}$.\n",
        "\n",
        "- $X = 10$ is $P(X = 10) = \\frac{10}{70} \\times \\frac{9}{69} \\times \\frac{8}{68} \\times \\frac{7}{67} \\times \\frac{6}{66} \\times \\frac{5}{65} \\times \\frac{4}{64} \\times \\frac{3}{63} \\times \\frac{2}{62} \\times \\frac{1}{61} \\times 1$\n",
        "  - **Before $1^{\\text{st}}$ draw, out of 70 balls, 10 balls will match with the numbers on the ticket and 60 won't.** In the first draw, 1 ball is drawn out of 70 balls. The number on the ball drawn matches with one of your numbers. Hence, the probability of one of the numbers matching in the first draw is $\\frac{10}{70}$.\n",
        "\n",
        "  - **Before $2^{\\text{nd}}$ draw, out of 69 balls, 9 balls will match with the numbers on the ticket and 60 won't.** In the second draw, 1 ball is drawn out of 69 balls. The number on the ball drawn also matches with one of your numbers. Hence, the probability of one of the numbers matching in the second draw is $\\frac{9}{69}$. \n",
        "  \n",
        "  - **Before $3^{\\text{rd}}$ draw, out of 68 balls, 8 balls will match with the numbers on the ticket and 60 won't.** In the third draw, 1 ball is drawn out of 68 balls. The number on the ball drawn also matches with one of your numbers. Hence, the probability of one of the numbers matching in the third draw is $\\frac{8}{68}$.\n",
        "\n",
        "    $\\vdots$\n",
        "\n",
        "  - Finally, **before $10^{\\text{th}}$ draw, out of 61 balls, 1 ball will match with the numbers on the ticket and 60 won't.** In the last draw, 1 ball is drawn out of 61 balls. The number on the ball drawn also matches with one of your numbers. Hence, the probability of one of the numbers matching in the final draw is $\\frac{1}{61}$.\n",
        "\n",
        "Let's implement this solution using Python."
      ]
    },
    {
      "cell_type": "code",
      "metadata": {
        "id": "Yrt680LDrWuj",
        "colab": {
          "base_uri": "https://localhost:8080/"
        },
        "outputId": "72be4f7f-41b3-4a8b-aceb-f139fd06f201"
      },
      "source": [
        "# Create a list containing the number of favourable outcomes per draw for random variables X = 0 to X = 10.\n",
        "favourable_outcomes = [[10 - j if j < i else 60 + i - j for j in range(10)] for i in range(11)]\n",
        "favourable_outcomes"
      ],
      "execution_count": null,
      "outputs": [
        {
          "output_type": "execute_result",
          "data": {
            "text/plain": [
              "[[60, 59, 58, 57, 56, 55, 54, 53, 52, 51],\n",
              " [10, 60, 59, 58, 57, 56, 55, 54, 53, 52],\n",
              " [10, 9, 60, 59, 58, 57, 56, 55, 54, 53],\n",
              " [10, 9, 8, 60, 59, 58, 57, 56, 55, 54],\n",
              " [10, 9, 8, 7, 60, 59, 58, 57, 56, 55],\n",
              " [10, 9, 8, 7, 6, 60, 59, 58, 57, 56],\n",
              " [10, 9, 8, 7, 6, 5, 60, 59, 58, 57],\n",
              " [10, 9, 8, 7, 6, 5, 4, 60, 59, 58],\n",
              " [10, 9, 8, 7, 6, 5, 4, 3, 60, 59],\n",
              " [10, 9, 8, 7, 6, 5, 4, 3, 2, 60],\n",
              " [10, 9, 8, 7, 6, 5, 4, 3, 2, 1]]"
            ]
          },
          "metadata": {
            "tags": []
          },
          "execution_count": 1
        }
      ]
    },
    {
      "cell_type": "code",
      "metadata": {
        "colab": {
          "base_uri": "https://localhost:8080/"
        },
        "id": "Vj87nVveIusA",
        "outputId": "dde72730-2238-450e-98b1-bcb30be22cb2"
      },
      "source": [
        "# Create a list containing probabilities of the random variable X = 0 to X = 10 such that probabilities are expressed in the ratio (p/q) form.\n",
        "prob_favourable_outcomes = [[str(10 - j) + '/' + str((70 - j)) if j < i else str((60 + i - j)) + '/' + str((70 - j)) for j in range(10)] for i in range(11)]\n",
        "for item in prob_favourable_outcomes:\n",
        "  print(item)"
      ],
      "execution_count": null,
      "outputs": [
        {
          "output_type": "stream",
          "text": [
            "['60/70', '59/69', '58/68', '57/67', '56/66', '55/65', '54/64', '53/63', '52/62', '51/61']\n",
            "['10/70', '60/69', '59/68', '58/67', '57/66', '56/65', '55/64', '54/63', '53/62', '52/61']\n",
            "['10/70', '9/69', '60/68', '59/67', '58/66', '57/65', '56/64', '55/63', '54/62', '53/61']\n",
            "['10/70', '9/69', '8/68', '60/67', '59/66', '58/65', '57/64', '56/63', '55/62', '54/61']\n",
            "['10/70', '9/69', '8/68', '7/67', '60/66', '59/65', '58/64', '57/63', '56/62', '55/61']\n",
            "['10/70', '9/69', '8/68', '7/67', '6/66', '60/65', '59/64', '58/63', '57/62', '56/61']\n",
            "['10/70', '9/69', '8/68', '7/67', '6/66', '5/65', '60/64', '59/63', '58/62', '57/61']\n",
            "['10/70', '9/69', '8/68', '7/67', '6/66', '5/65', '4/64', '60/63', '59/62', '58/61']\n",
            "['10/70', '9/69', '8/68', '7/67', '6/66', '5/65', '4/64', '3/63', '60/62', '59/61']\n",
            "['10/70', '9/69', '8/68', '7/67', '6/66', '5/65', '4/64', '3/63', '2/62', '60/61']\n",
            "['10/70', '9/69', '8/68', '7/67', '6/66', '5/65', '4/64', '3/63', '2/62', '1/61']\n"
          ],
          "name": "stdout"
        }
      ]
    },
    {
      "cell_type": "code",
      "metadata": {
        "id": "aQG096l5sx1m",
        "colab": {
          "base_uri": "https://localhost:8080/"
        },
        "outputId": "393f1596-2038-4a48-92bc-3eea0720d61b"
      },
      "source": [
        "# Create a list containing probabilities of the random variable X = 0 to X = 10.\n",
        "prob_favourable_outcomes = [[(10 - j) / (70 - j) if j < i else (60 + i - j) / (70 - j) for j in range(10)] for i in range(11)]\n",
        "for outcome in prob_favourable_outcomes:\n",
        "  print(outcome)"
      ],
      "execution_count": null,
      "outputs": [
        {
          "output_type": "stream",
          "text": [
            "[0.8571428571428571, 0.855072463768116, 0.8529411764705882, 0.8507462686567164, 0.8484848484848485, 0.8461538461538461, 0.84375, 0.8412698412698413, 0.8387096774193549, 0.8360655737704918]\n",
            "[0.14285714285714285, 0.8695652173913043, 0.8676470588235294, 0.8656716417910447, 0.8636363636363636, 0.8615384615384616, 0.859375, 0.8571428571428571, 0.8548387096774194, 0.8524590163934426]\n",
            "[0.14285714285714285, 0.13043478260869565, 0.8823529411764706, 0.8805970149253731, 0.8787878787878788, 0.8769230769230769, 0.875, 0.873015873015873, 0.8709677419354839, 0.8688524590163934]\n",
            "[0.14285714285714285, 0.13043478260869565, 0.11764705882352941, 0.8955223880597015, 0.8939393939393939, 0.8923076923076924, 0.890625, 0.8888888888888888, 0.8870967741935484, 0.8852459016393442]\n",
            "[0.14285714285714285, 0.13043478260869565, 0.11764705882352941, 0.1044776119402985, 0.9090909090909091, 0.9076923076923077, 0.90625, 0.9047619047619048, 0.9032258064516129, 0.9016393442622951]\n",
            "[0.14285714285714285, 0.13043478260869565, 0.11764705882352941, 0.1044776119402985, 0.09090909090909091, 0.9230769230769231, 0.921875, 0.9206349206349206, 0.9193548387096774, 0.9180327868852459]\n",
            "[0.14285714285714285, 0.13043478260869565, 0.11764705882352941, 0.1044776119402985, 0.09090909090909091, 0.07692307692307693, 0.9375, 0.9365079365079365, 0.9354838709677419, 0.9344262295081968]\n",
            "[0.14285714285714285, 0.13043478260869565, 0.11764705882352941, 0.1044776119402985, 0.09090909090909091, 0.07692307692307693, 0.0625, 0.9523809523809523, 0.9516129032258065, 0.9508196721311475]\n",
            "[0.14285714285714285, 0.13043478260869565, 0.11764705882352941, 0.1044776119402985, 0.09090909090909091, 0.07692307692307693, 0.0625, 0.047619047619047616, 0.967741935483871, 0.9672131147540983]\n",
            "[0.14285714285714285, 0.13043478260869565, 0.11764705882352941, 0.1044776119402985, 0.09090909090909091, 0.07692307692307693, 0.0625, 0.047619047619047616, 0.03225806451612903, 0.9836065573770492]\n",
            "[0.14285714285714285, 0.13043478260869565, 0.11764705882352941, 0.1044776119402985, 0.09090909090909091, 0.07692307692307693, 0.0625, 0.047619047619047616, 0.03225806451612903, 0.01639344262295082]\n"
          ],
          "name": "stdout"
        }
      ]
    },
    {
      "cell_type": "code",
      "metadata": {
        "id": "CBXukb_QpBnS"
      },
      "source": [
        "# Function to calculate the factorial value of a number 'n'.\n",
        "def factorial(num):\n",
        "  factorial = 1\n",
        "  if num < 0:\n",
        "    return \"Undefined.\"\n",
        "  else:\n",
        "    while num > 0:\n",
        "      factorial *= num\n",
        "      num -= 1\n",
        "    return factorial"
      ],
      "execution_count": null,
      "outputs": []
    },
    {
      "cell_type": "code",
      "metadata": {
        "id": "pjfvlOk3i0gk",
        "colab": {
          "base_uri": "https://localhost:8080/"
        },
        "outputId": "8a3de1c9-8cd4-413c-bc0d-f6e59f50cdfc"
      },
      "source": [
        "# Calculate the amount you are expected to win or lose after buying the WhiteHat Jr lottery ticket.\n",
        "ticket_price = 250\n",
        "prize = 250 # Using a loop, the prize value will go from 250 to 25,000,000 by a factor of 10.\n",
        "expected_value = 0\n",
        "\n",
        "for i in range(5):\n",
        "  prob_random_variable = 1 # Calculate the probability of a random variable X = 0 to X = 4.\n",
        "  for j in range(len(prob_favourable_outcomes[i])):\n",
        "    prob_random_variable *= prob_favourable_outcomes[i][j]\n",
        "  # Multiply probability with the number of ways the numbers on the ticket can match with the numbers on the balls drawn.\n",
        "  prob_random_variable *= factorial(10) / (factorial(i) * factorial(10 - i))\n",
        "  print(f\"\\nProbability of {i} matches = {prob_random_variable}\")\n",
        "  expected_value += -ticket_price * prob_random_variable\n",
        "  print(f\"Expected value after {i} matches = {expected_value}\")\n",
        "\n",
        "print(\"\\nEnd of first 5 iterations.\\n\")\n",
        "\n",
        "for i in range(5, 11):\n",
        "  prob_random_variable = 1 # Calculate the probability of a random variable X = 5 to X = 10.\n",
        "  for j in range(len(prob_favourable_outcomes[i])):\n",
        "    prob_random_variable *= prob_favourable_outcomes[i][j]\n",
        "  # Multiply probability with the number of ways the numbers on the ticket can match with the numbers on the balls drawn.\n",
        "  prob_random_variable *= factorial(10) / (factorial(i) * factorial(10 - i))\n",
        "  print(f\"\\nProbability of {i} matches = {prob_random_variable}\")\n",
        "  expected_value += (prize - 250) * prob_random_variable # The effective winning amount is the proposed winning amount minus the ticket price.\n",
        "  print(f\"For {i} matches, prize = INR {prize - 250:,.2f}\") # Print the new prize value such that the digits are separated by comma.\n",
        "  print(f\"Expected value after {i} matches = {expected_value}\")\n",
        "  prize *= 10\n",
        " \n",
        "print(\"\\n\\nFinal expected value =\", expected_value)"
      ],
      "execution_count": null,
      "outputs": [
        {
          "output_type": "stream",
          "text": [
            "\n",
            "Probability of 0 matches = 0.19005083875713255\n",
            "Expected value after 0 matches = -47.512709689283135\n",
            "\n",
            "Probability of 1 matches = 0.3726487034453579\n",
            "Expected value after 1 matches = -140.6748855506226\n",
            "\n",
            "Probability of 2 matches = 0.2902360094141729\n",
            "Expected value after 2 matches = -213.23388790416584\n",
            "\n",
            "Probability of 3 matches = 0.11682455724847214\n",
            "Expected value after 3 matches = -242.44002721628388\n",
            "\n",
            "Probability of 4 matches = 0.026501867153588585\n",
            "Expected value after 4 matches = -249.06549400468103\n",
            "\n",
            "End of first 5 iterations.\n",
            "\n",
            "\n",
            "Probability of 5 matches = 0.003469335336469779\n",
            "For 5 matches, prize = INR 0.00\n",
            "Expected value after 5 matches = -249.06549400468103\n",
            "\n",
            "Probability of 6 matches = 0.000258135069677811\n",
            "For 6 matches, prize = INR 2,250.00\n",
            "Expected value after 6 matches = -248.48469009790594\n",
            "\n",
            "Probability of 7 matches = 1.03512809895864e-05\n",
            "For 7 matches, prize = INR 24,750.00\n",
            "Expected value after 7 matches = -248.22849589341368\n",
            "\n",
            "Probability of 8 matches = 2.0077915712559832e-07\n",
            "For 8 matches, prize = INR 249,750.00\n",
            "Expected value after 8 matches = -248.17835129892157\n",
            "\n",
            "Probability of 9 matches = 1.5124606939781419e-09\n",
            "For 9 matches, prize = INR 2,499,750.00\n",
            "Expected value after 9 matches = -248.1745705253018\n",
            "\n",
            "Probability of 10 matches = 2.5207678232969033e-12\n",
            "For 10 matches, prize = INR 24,999,750.00\n",
            "Expected value after 10 matches = -248.1745075067364\n",
            "\n",
            "\n",
            "Final expected value = -248.1745075067364\n"
          ],
          "name": "stdout"
        }
      ]
    },
    {
      "cell_type": "markdown",
      "metadata": {
        "id": "oIczH9CPJx2t"
      },
      "source": [
        "So if you buy a lottery ticket, you are expected to lose INR 248.17 (approx) on an average which is nearly the cost of the ticket.\n",
        "\n",
        "So even if there are 5 different prizes to be won, the event of matching at least 5 numbers is so rare that it is practically impossible to win the lottery.\n",
        "\n",
        "In the above code:\n",
        "\n",
        "- The first `for` loop runs 5 times to calculate the probabilities of the random variable $X = 0$ to $X = 4$ and also the expected value until the random variable $X = 5$. At the time of computing probability, we multiply it with ${}^{10}C_i =$ (`factorial(10) / (factorial(i) * factorial(10 - i))`) to cover all the ways in which $i$ numbers can match the ones on the balls.  \n",
        "\n",
        "- The second `for` loop runs 6 times to calculate the probabilities of the random variable $X = 5$ to $X = 10$ and also the expected value until the random variable $X = 10$. At the time of computing probability, we multiply it with ${}^{10}C_i =$ (`factorial(10) / (factorial(i) * factorial(10 - i))`) to cover all the ways in which $i$ numbers can match the ones on the balls. In this case, we start with the prize value of INR 250 and then multiply it by 10 to reach the prize value of INR 25,000,000 towards the last iteration. We also subtract an amount of INR 250 from the `prize` variable because the effective winning amount is the proposed winning amount minus the ticket price."
      ]
    },
    {
      "cell_type": "markdown",
      "metadata": {
        "id": "_LuEG2lFGT-i"
      },
      "source": [
        "---"
      ]
    }
  ]
}
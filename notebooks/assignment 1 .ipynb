{
 "cells": [
  {
   "cell_type": "code",
   "execution_count": null,
   "id": "23e4070f",
   "metadata": {},
   "outputs": [],
   "source": [
    "#1 Write a program to check whether a number is odd or even\n",
    "\n",
    "a = int(input(\"enter a number\"))\n",
    "if a%2== 0:\n",
    "    print(\"number is even\")\n",
    "else:\n",
    "    print(\"number is odd\")"
   ]
  },
  {
   "cell_type": "code",
   "execution_count": null,
   "id": "3a192f08",
   "metadata": {},
   "outputs": [],
   "source": [
    "#2 Write a program that reads two numbers and an arithmetic operator and displays the computed result\n",
    "\n",
    "a=int(input(\"Enter value for a\"))\n",
    "b=int(input(\"Enter value for b\"))\n",
    "c=(input(\"Enter operation to be performed like +*/- **\"))\n",
    "\n",
    "if c==\"*\":\n",
    "    #print('multiplication of',a,'and',b,'is',a*b)\n",
    "    #print('multiplication of',a,'and',b,'is',a*b)\n",
    "    print(\"multiplication of %d and %d is %d\" %(a,b,a*b))\n",
    "elif c==\"+\":\n",
    "    print('Addition of %d and %d is'%(a,b,a+b))\n",
    "elif c==\"/\":\n",
    "    print(\"division of %d and %d  is \"%(a,b,a/b))\n",
    "elif c==\"-\":\n",
    "    print(\"subtraction of %d and %d  is \"%(a,b,a-b))\n",
    "elif c==\"**\":\n",
    "    print(\"exponential of %d and %d  is \"%(a,b,a**b))\n",
    "else:\n",
    "    print(\"enter correct input\")"
   ]
  },
  {
   "cell_type": "code",
   "execution_count": null,
   "id": "631221f2",
   "metadata": {},
   "outputs": [],
   "source": [
    "#3 Write a program to calculate and print roots of a quadratic equation ax 2 +bx+c=0(a should not be equal to zero)\n",
    "\n",
    "import cmath\n",
    "a = int(input(\"Enter 1st value\"))\n",
    "b = int(input(\"Enter 1st value\"))\n",
    "c = int(input(\"Enter 1st value\"))\n",
    "\n",
    "d = (b**2) - (4*a*c)\n",
    "x1 = (-b-cmath.sqrt(d))/(2*a)\n",
    "x2 = (-b+cmath.sqrt(d))/(2*a)\n",
    "\n",
    "print('The solution are {0:.2f} and {1:.2f}'.format(x1,x2))"
   ]
  },
  {
   "cell_type": "code",
   "execution_count": null,
   "id": "147368c1",
   "metadata": {},
   "outputs": [],
   "source": [
    "#4. Write a program to print the multiplication table of a number read\n",
    "\n",
    "a = int(input(\"enter a number\"))\n",
    "i=1\n",
    "while i<=10:\n",
    "    print(a*i)\n",
    "    i+=1"
   ]
  },
  {
   "cell_type": "code",
   "execution_count": null,
   "id": "6b28a4a8",
   "metadata": {},
   "outputs": [],
   "source": [
    "#5. Write a program to calculate and print the sums of even and odd integers of the first n natural numbers\n",
    "\n",
    "a = int(input(\"enter a number\"))\n",
    "sumOdd=0\n",
    "sumEven=0 \n",
    "for i in range(0,a+1):\n",
    "    if i%2==0:\n",
    "        sumEven+=i\n",
    "    elif i%2!=0:\n",
    "        sumOdd+=i\n",
    "print(\"Sum of even numbers is\",sumEven)\n",
    "print(\"Sum of odd numbers is\",sumOdd) "
   ]
  },
  {
   "cell_type": "code",
   "execution_count": null,
   "id": "4352aa8b",
   "metadata": {},
   "outputs": [],
   "source": [
    "#6. Write a program to input a number and test whether it is prime or not\n",
    "\n",
    "a = int(input(\"enter a number\"))\n",
    "if a>1:\n",
    "    for i in range (2,int(a/2)+1):\n",
    "        if a%i==0:\n",
    "            print(\"number is not  prime\")\n",
    "            break\n",
    "    else:\n",
    "        print(\"number is prime\")\n",
    "else:\n",
    "    print(\"number is not prime\")"
   ]
  },
  {
   "cell_type": "code",
   "execution_count": 16,
   "id": "d49f43e9",
   "metadata": {},
   "outputs": [
    {
     "name": "stdout",
     "output_type": "stream",
     "text": [
      "17\n",
      "19\n",
      "23\n"
     ]
    }
   ],
   "source": [
    "#7. Write a program that prints the prime numbers from 15 through 25\n",
    "\n",
    "for n in range(15,25):\n",
    "    x=0\n",
    "    for i in range(2,n//2+1):\n",
    "        if n%i==0:\n",
    "            x+=1\n",
    "    if x==0:\n",
    "        print(n)      "
   ]
  },
  {
   "cell_type": "code",
   "execution_count": 15,
   "id": "5604ca24",
   "metadata": {},
   "outputs": [
    {
     "name": "stdout",
     "output_type": "stream",
     "text": [
      "0 1 1 2 3 5 8 13 21 34 55 89 144 233 377 610 987 1597 2584 4181 "
     ]
    }
   ],
   "source": [
    "#8. Write a program to print the first 20 elements of the Fibonacci series\n",
    "\n",
    "a = 0\n",
    "b = 1\n",
    "count = 0\n",
    "for i in range(0,20):\n",
    "    print(a,end=\" \")\n",
    "    count = a+b\n",
    "    a=b\n",
    "    b=count"
   ]
  },
  {
   "cell_type": "code",
   "execution_count": 17,
   "id": "6164e739",
   "metadata": {},
   "outputs": [
    {
     "name": "stdout",
     "output_type": "stream",
     "text": [
      "enter a number to be reversed 321\n",
      "reversed nummber is 123\n"
     ]
    }
   ],
   "source": [
    "#9. Write a program to reverse a number\n",
    "\n",
    "n = int(input(\"enter a number to be reversed \"))\n",
    "p =0\n",
    "\n",
    "while n!=0:\n",
    "    d=n%10\n",
    "    p=p*10+d\n",
    "    n=n//10\n",
    "print(\"reversed nummber is\",p)"
   ]
  },
  {
   "cell_type": "code",
   "execution_count": null,
   "id": "9e35ecea",
   "metadata": {},
   "outputs": [],
   "source": [
    "#10. Write a program to generate divisors of a number\n",
    "\n",
    "a = int(input(\"enter a number \"))\n",
    "print(\"divisors are numbers \")\n",
    "for i in range(1,a+1):\n",
    "    if a%i==0:\n",
    "        print(i)"
   ]
  },
  {
   "cell_type": "code",
   "execution_count": 9,
   "id": "9df869f6",
   "metadata": {},
   "outputs": [
    {
     "name": "stdout",
     "output_type": "stream",
     "text": [
      "Enter weight in kgs 60\n",
      "Enter Height in meters 1.8\n",
      "Normal\n"
     ]
    }
   ],
   "source": [
    "\"\"\" 11. Write a program to calculate the BMI of a person after \n",
    "inputting the weight in kgs and height in meters and then print the Nutritional Status as per the following table Nutritional\n",
    "Status BMI Underweight &lt;18.5 Normal 18.5-24.9 Overweight 25-29.9 Obese &gt;=30 BMI =weight / (height 2 )\"\"\"\n",
    "\n",
    "a = float(input(\"Enter weight in kgs \"))\n",
    "b = float(input(\"Enter Height in meters \"))\n",
    "bmi=a/(b**2)\n",
    "if bmi<18.5:\n",
    "    print(\"Underweight\")\n",
    "elif 18.5<bmi<24.9:\n",
    "      print(\"Normal\")\n",
    "elif 25<bmi<29.9:\n",
    "      print(\"OverWeight\")\n",
    "elif bmi<=30:\n",
    "      print(\"Obese\")"
   ]
  },
  {
   "cell_type": "code",
   "execution_count": 19,
   "id": "505f4506",
   "metadata": {},
   "outputs": [
    {
     "name": "stdout",
     "output_type": "stream",
     "text": [
      "enter the num6\n",
      "num is perfect\n"
     ]
    }
   ],
   "source": [
    "#12. Write a program to check whether a number is a perfect number or not\n",
    "\n",
    "s=0\n",
    "a=int(input(\"enter the num\"))\n",
    "for i in range(1,a):\n",
    "    if a%i == 0:\n",
    "        s+=i\n",
    "        #print(s)  used for my knowledge\n",
    "if s==a:\n",
    "    print(\"num is perfect\")\n",
    "else:\n",
    "    print(\"num is not perfect\")"
   ]
  },
  {
   "cell_type": "code",
   "execution_count": null,
   "id": "caadb82e",
   "metadata": {},
   "outputs": [],
   "source": [
    "#13. Write a program to check whether a number is an Armstrong number or not\n",
    "\n",
    "a = int(input(\"enter a number\"))\n",
    "\n",
    "power=len(str(a)) #typecasted in string to calc length as length of int cant be calc\n",
    "total=0\n",
    "temp=a\n",
    "\n",
    "while a>0:\n",
    "    digit=a%10\n",
    "    total+=digit*power\n",
    "    a=a//10\n",
    "if total==a:\n",
    "    print(\"number is angstorm\")\n",
    "else:\n",
    "    print(\"number is not angstorm\")"
   ]
  },
  {
   "cell_type": "code",
   "execution_count": 18,
   "id": "46947918",
   "metadata": {},
   "outputs": [
    {
     "name": "stdout",
     "output_type": "stream",
     "text": [
      "enter how many items you want to buy6\n",
      "720\n"
     ]
    }
   ],
   "source": [
    "#14. A store charges Rs 120 per item if you buy less than 10 items. If you buy between 10 and 99 items,the cost is Rs 100 per item.If you buy 100 or more items, the cost is Rs 70 per item. Write a program that asks the user how many items they are buying and the total cost\n",
    "\n",
    "a=int(input(\"enter how many items you want to buy\"))\n",
    "if a<10:\n",
    "    total_cost=120*a\n",
    "    print(total_cost)\n",
    "elif 9<a<100:\n",
    "    total_cost=100*a\n",
    "    print(\"your total cost is :-\",total_cost)\n",
    "elif a>99:\n",
    "    total_cost=70*a\n",
    "    print(\"your total cost is :-\",total_cost)"
   ]
  },
  {
   "cell_type": "code",
   "execution_count": 20,
   "id": "46b64c36",
   "metadata": {},
   "outputs": [
    {
     "name": "stdout",
     "output_type": "stream",
     "text": [
      "enter number :- 69\n",
      "11\n",
      "12\n",
      "12 is multiple of 3\n",
      "13\n",
      "14\n",
      "14 is multiple of 7\n",
      "15\n",
      "15 is multiple of 3\n",
      "16\n",
      "17\n",
      "18\n",
      "18 is multiple of 3\n",
      "19\n",
      "20\n",
      "21\n",
      "21 is multiple of 3\n",
      "21 is multiple of 7\n",
      "21 is multiple of both\n",
      "22\n",
      "23\n",
      "24\n",
      "24 is multiple of 3\n",
      "25\n",
      "26\n",
      "27\n",
      "27 is multiple of 3\n",
      "28\n",
      "28 is multiple of 7\n",
      "29\n",
      "30\n",
      "30 is multiple of 3\n",
      "31\n",
      "32\n",
      "33\n",
      "33 is multiple of 3\n",
      "34\n",
      "35\n",
      "35 is multiple of 7\n",
      "36\n",
      "36 is multiple of 3\n",
      "37\n",
      "38\n",
      "39\n",
      "39 is multiple of 3\n",
      "40\n",
      "41\n",
      "42\n",
      "42 is multiple of 3\n",
      "42 is multiple of 7\n",
      "42 is multiple of both\n",
      "43\n",
      "44\n",
      "45\n",
      "45 is multiple of 3\n",
      "46\n",
      "47\n",
      "48\n",
      "48 is multiple of 3\n",
      "49\n",
      "49 is multiple of 7\n",
      "50\n",
      "51\n",
      "51 is multiple of 3\n",
      "52\n",
      "53\n",
      "54\n",
      "54 is multiple of 3\n",
      "55\n",
      "56\n",
      "56 is multiple of 7\n",
      "57\n",
      "57 is multiple of 3\n",
      "58\n",
      "59\n",
      "60\n",
      "60 is multiple of 3\n",
      "61\n",
      "62\n",
      "63\n",
      "63 is multiple of 3\n",
      "63 is multiple of 7\n",
      "63 is multiple of both\n",
      "64\n",
      "65\n",
      "66\n",
      "66 is multiple of 3\n",
      "67\n",
      "68\n"
     ]
    }
   ],
   "source": [
    "#15. Write a program to take n (n &gt; 20) as an input from the user. Print numbers from 11 to n. If the number is a multiple of 3 print “Multiple of 3”,if it is a multiple of 7 print “Multiple of 7”, if it is a multiple of both, print multiple of both 3 and 7\n",
    "\n",
    "a=int(input(\"enter number :- \"))\n",
    "for i in range(11,a):\n",
    "    print(i)\n",
    "    if i%3 == 0:\n",
    "        print(i,\"is multiple of 3\")\n",
    "    if i%7 == 0:\n",
    "         print(i,\"is multiple of 7\")\n",
    "    if i%3==0  and i%7 == 0:\n",
    "         print(i,\"is multiple of both\")"
   ]
  }
 ],
 "metadata": {
  "kernelspec": {
   "display_name": "Python 3",
   "language": "python",
   "name": "python3"
  },
  "language_info": {
   "codemirror_mode": {
    "name": "ipython",
    "version": 3
   },
   "file_extension": ".py",
   "mimetype": "text/x-python",
   "name": "python",
   "nbconvert_exporter": "python",
   "pygments_lexer": "ipython3",
   "version": "3.10.8 (tags/v3.10.8:aaaf517, Oct 11 2022, 16:50:30) [MSC v.1933 64 bit (AMD64)]"
  },
  "vscode": {
   "interpreter": {
    "hash": "26de051ba29f2982a8de78e945f0abaf191376122a1563185a90213a26c5da77"
   }
  }
 },
 "nbformat": 4,
 "nbformat_minor": 5
}

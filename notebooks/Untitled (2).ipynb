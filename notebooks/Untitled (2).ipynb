{
 "cells": [
  {
   "cell_type": "code",
   "execution_count": 15,
   "id": "fc628809",
   "metadata": {},
   "outputs": [
    {
     "data": {
      "text/plain": [
       "7"
      ]
     },
     "execution_count": 15,
     "metadata": {},
     "output_type": "execute_result"
    }
   ],
   "source": [
    "addTwoNumbers(3,4)"
   ]
  },
  {
   "cell_type": "code",
   "execution_count": 17,
   "id": "4b6962c3",
   "metadata": {},
   "outputs": [],
   "source": [
    "a = [1,2,3]"
   ]
  },
  {
   "cell_type": "code",
   "execution_count": 18,
   "id": "d36afea1",
   "metadata": {},
   "outputs": [
    {
     "data": {
      "text/plain": [
       "list"
      ]
     },
     "execution_count": 18,
     "metadata": {},
     "output_type": "execute_result"
    }
   ],
   "source": [
    "type(a)"
   ]
  },
  {
   "cell_type": "code",
   "execution_count": 21,
   "id": "6746b91a",
   "metadata": {},
   "outputs": [],
   "source": [
    " b=(1,2,3)"
   ]
  },
  {
   "cell_type": "code",
   "execution_count": 22,
   "id": "be8fbedf",
   "metadata": {},
   "outputs": [
    {
     "data": {
      "text/plain": [
       "tuple"
      ]
     },
     "execution_count": 22,
     "metadata": {},
     "output_type": "execute_result"
    }
   ],
   "source": [
    "type( b )"
   ]
  },
  {
   "cell_type": "code",
   "execution_count": 27,
   "id": "242b23c6",
   "metadata": {},
   "outputs": [],
   "source": [
    "c = [1,22,3]"
   ]
  },
  {
   "cell_type": "code",
   "execution_count": 28,
   "id": "005ecc64",
   "metadata": {},
   "outputs": [
    {
     "data": {
      "text/plain": [
       "list"
      ]
     },
     "execution_count": 28,
     "metadata": {},
     "output_type": "execute_result"
    }
   ],
   "source": [
    "type( c )"
   ]
  },
  {
   "cell_type": "code",
   "execution_count": 30,
   "id": "15f01df2",
   "metadata": {},
   "outputs": [
    {
     "name": "stdout",
     "output_type": "stream",
     "text": [
      "cheap\n"
     ]
    }
   ],
   "source": [
    "price = 600\n",
    "if price > 500 :\n",
    "    print(\"cheap\");\n",
    "else:\n",
    "    print(\"expensive\")"
   ]
  },
  {
   "cell_type": "code",
   "execution_count": 33,
   "id": "1eb271e1",
   "metadata": {},
   "outputs": [
    {
     "name": "stdout",
     "output_type": "stream",
     "text": [
      "Monday\n",
      "Tuesday\n",
      "Wednesday\n",
      "Friday\n",
      "Saturday\n",
      "Sunday\n"
     ]
    }
   ],
   "source": [
    "#The continue Statement\n",
    "#With the continue statement we can stop the current iteration of the loop, and continue with the next:\n",
    "#in this case skip printing Thursday\n",
    "week_days = [\"Monday\", \"Tuesday\", \"Wednesday\", \"Thursday\", \"Friday\",\"Saturday\", \"Sunday\"]\n",
    "for days in week_days:\n",
    "  \n",
    "  if days == \"Thursday\":\n",
    "   continue\n",
    "  print(days)\n"
   ]
  },
  {
   "cell_type": "code",
   "execution_count": 34,
   "id": "6065a3c0",
   "metadata": {},
   "outputs": [
    {
     "name": "stdout",
     "output_type": "stream",
     "text": [
      "Monday\n",
      "Tuesday\n",
      "Wednesday\n",
      "Thursday\n"
     ]
    }
   ],
   "source": [
    "#With the break statement we can stop the loop before it has looped through all the items:\n",
    "#Stop on Thursday\n",
    "week_days = [\"Monday\", \"Tuesday\", \"Wednesday\", \"Thursday\", \"Friday\",\"Saturday\", \"Sunday\"]\n",
    "for days in week_days:\n",
    "  print(days)\n",
    "  if days == \"Thursday\":\n",
    "   break\n"
   ]
  },
  {
   "cell_type": "code",
   "execution_count": 35,
   "id": "cffcad65",
   "metadata": {},
   "outputs": [
    {
     "name": "stdout",
     "output_type": "stream",
     "text": [
      "Python's keywords are...\n",
      "['False', 'None', 'True', 'and', 'as', 'assert', 'async', 'await', 'break', 'class', 'continue', 'def', 'del', 'elif', 'else', 'except', 'finally', 'for', 'from', 'global', 'if', 'import', 'in', 'is', 'lambda', 'nonlocal', 'not', 'or', 'pass', 'raise', 'return', 'try', 'while', 'with', 'yield']\n"
     ]
    }
   ],
   "source": [
    "# Python program to print the list of all keywords\n",
    "# importing the module keyword\n",
    "import keyword\n",
    "# printing the keywords\n",
    "print(\"Python's keywords are...\")\n",
    "print(keyword.kwlist)\n"
   ]
  },
  {
   "cell_type": "code",
   "execution_count": 36,
   "id": "67008a37",
   "metadata": {},
   "outputs": [
    {
     "name": "stdout",
     "output_type": "stream",
     "text": [
      "False\n",
      "None\n",
      "True\n",
      "and\n",
      "as\n",
      "assert\n",
      "async\n",
      "await\n",
      "break\n",
      "class\n",
      "continue\n",
      "def\n",
      "del\n",
      "elif\n",
      "else\n",
      "except\n",
      "finally\n",
      "for\n",
      "from\n",
      "global\n",
      "if\n",
      "import\n",
      "in\n",
      "is\n",
      "lambda\n",
      "nonlocal\n",
      "not\n",
      "or\n",
      "pass\n",
      "raise\n",
      "return\n",
      "try\n",
      "while\n",
      "with\n",
      "yield\n"
     ]
    }
   ],
   "source": [
    "import keyword\n",
    "\n",
    "if __name__ == '__main__':\n",
    "\t#get all keywords\n",
    "\tkeywords = keyword.kwlist\n",
    "\t#print the keywords\n",
    "\tfor key in keywords:\n",
    "\t\tprint(key)\n"
   ]
  },
  {
   "cell_type": "code",
   "execution_count": 37,
   "id": "fed59bc1",
   "metadata": {},
   "outputs": [
    {
     "name": "stdout",
     "output_type": "stream",
     "text": [
      "26\n",
      "3\n",
      "5.0\n",
      "11.5\n"
     ]
    }
   ],
   "source": [
    "#Multiple assigment operators\n",
    "#start by assigning working_hours\n",
    "working_hours = 25\n",
    "working_hours+=1 #working_hours = working_hours +1\n",
    "print(working_hours)\n",
    "\n",
    "working_hours-=23\n",
    "print(working_hours)\n",
    "\n",
    "working_hours=30\n",
    "working_hours/=6\n",
    "print(working_hours)\n",
    "\n",
    "working_hours *=2.3\n",
    "print(working_hours)\n"
   ]
  },
  {
   "cell_type": "code",
   "execution_count": 38,
   "id": "04feaca5",
   "metadata": {},
   "outputs": [
    {
     "name": "stdout",
     "output_type": "stream",
     "text": [
      "2017\n",
      "2018\n",
      "2019\n",
      "2020\n",
      "2021\n",
      "2022\n",
      "2023\n",
      "2024\n"
     ]
    }
   ],
   "source": [
    "#The while Loop\n",
    "#With the while loop we can execute a set of statements as long as a condition is true.\n",
    "Indian_Covid_Cases = 2017\n",
    "while Indian_Covid_Cases < 2025:\n",
    "  print(Indian_Covid_Cases)\n",
    "  Indian_Covid_Cases += 1\n"
   ]
  },
  {
   "cell_type": "code",
   "execution_count": 39,
   "id": "25860294",
   "metadata": {},
   "outputs": [
    {
     "name": "stdout",
     "output_type": "stream",
     "text": [
      "2017\n",
      "2018\n",
      "2019\n",
      "2020\n",
      "2021\n",
      "2022\n"
     ]
    }
   ],
   "source": [
    "#The break Statement\n",
    "#With the break statement we can stop the loop even if the while condition is true:\n",
    "Indian_Covid_Cases = 2017\n",
    "while Indian_Covid_Cases < 2025:\n",
    "  print(Indian_Covid_Cases)\n",
    "  if Indian_Covid_Cases == 2022:\n",
    "   break\n",
    "  Indian_Covid_Cases += 1\n"
   ]
  },
  {
   "cell_type": "code",
   "execution_count": 40,
   "id": "ae63b23e",
   "metadata": {},
   "outputs": [
    {
     "name": "stdout",
     "output_type": "stream",
     "text": [
      "2018\n",
      "2019\n",
      "2020\n",
      "2021\n",
      "2023\n",
      "2024\n",
      "2025\n"
     ]
    }
   ],
   "source": [
    "#The continue Statement\n",
    "#With the continue statement we can stop the current iteration, and continue with the next:\n",
    "#Here we stop at Year 2022 and continue\n",
    "Indian_Covid_Cases = 2017\n",
    "while Indian_Covid_Cases < 2025:\n",
    "  Indian_Covid_Cases += 1\n",
    "  if Indian_Covid_Cases == 2022:\n",
    "   continue\n",
    "  print(Indian_Covid_Cases)\n"
   ]
  },
  {
   "cell_type": "code",
   "execution_count": 41,
   "id": "e1f06879",
   "metadata": {},
   "outputs": [
    {
     "name": "stdout",
     "output_type": "stream",
     "text": [
      "Enter command:2\n",
      "Execute the Command\n",
      "Enter command:2\n",
      "Execute the Command\n",
      "Enter command:1\n",
      "Execute the Command\n",
      "Enter command:\n",
      "Enter command:\n",
      "Enter command:1\n",
      "Execute the Command\n",
      "Enter command:\n",
      "Enter command:1\n",
      "Execute the Command\n",
      "Enter command:uio\n",
      "Execute the Command\n",
      "Enter command:exit\n",
      "Goodbye\n",
      "bye\n"
     ]
    }
   ],
   "source": [
    "#From 'Just enough Python', modified\n",
    "while True: # this is an infinite loop \n",
    "    command=input('Enter command:') \n",
    "    if len(command)==0: # no command - try again \n",
    "     continue # goes to next loop (line 1) \n",
    "    elif command=='exit': # user exit \n",
    "         print('Goodbye') \n",
    "         break # skips to line 10 \n",
    "    else: \n",
    "        print(\"Execute the Command\") \n",
    "print('bye')\n"
   ]
  },
  {
   "cell_type": "code",
   "execution_count": 42,
   "id": "04545583",
   "metadata": {},
   "outputs": [
    {
     "name": "stdout",
     "output_type": "stream",
     "text": [
      "1000000\n",
      "2\n",
      "52\n",
      "9131\n"
     ]
    }
   ],
   "source": [
    "## different number systems from https://www.datacamp.com/tutorial/role-underscore-python '_'  operator\n",
    "## you can also check whether they are correct or not by coverting them into integer using \"int\" method\n",
    "million = 1_000_000\n",
    "binary = 0b_0010\n",
    "octa = 0o_64\n",
    "hexa = 0x_23_ab\n",
    "\n",
    "print(million)\n",
    "print(binary)\n",
    "print(octa)\n",
    "print(hexa)\n"
   ]
  },
  {
   "cell_type": "code",
   "execution_count": 43,
   "id": "55f147b4",
   "metadata": {},
   "outputs": [
    {
     "ename": "SyntaxError",
     "evalue": "unterminated string literal (detected at line 2) (3349062583.py, line 2)",
     "output_type": "error",
     "traceback": [
      "\u001b[1;36m  Cell \u001b[1;32mIn [43], line 2\u001b[1;36m\u001b[0m\n\u001b[1;33m    Suppose a student's grade selection is based on scores below:\u001b[0m\n\u001b[1;37m                     ^\u001b[0m\n\u001b[1;31mSyntaxError\u001b[0m\u001b[1;31m:\u001b[0m unterminated string literal (detected at line 2)\n"
     ]
    }
   ],
   "source": [
    "#modified from https://www.log2base2.com/programming-language/python3/conditional/nested-if-else-statement-in-python.html\n",
    "Suppose a student's grade selection is based on scores below:\n",
    "\n",
    "if the score is more than 90, student will get the S grade\n",
    "\n",
    "If the score is in between 80 and 90, student gets A grade\n",
    "\n",
    "If the score is in between 70 and 80, student gets B grade\n",
    "\n",
    "If the score is in between 60 and 70, student gets C grade\n",
    "\n",
    "If the score is in between 51 and 60, student gets D grade\n",
    "\n",
    "If the score is 50, student gets get E grade\n",
    "\n",
    "Below 50 student will be declared as failed.\n"
   ]
  },
  {
   "cell_type": "code",
   "execution_count": 55,
   "id": "b95f4200",
   "metadata": {},
   "outputs": [
    {
     "name": "stdout",
     "output_type": "stream",
     "text": [
      "E Grade\n"
     ]
    }
   ],
   "source": [
    "score = 51;\n",
    "if score>90:\n",
    "    print(\"s Grade\");\n",
    "if 90>=score>=80: \n",
    "    print(\"A grade\");\n",
    "if 80>=score>=70:\n",
    "    print(\"B Grade\");\n",
    "if(70>=score>=60):\n",
    "    print(\"c Grade\");\n",
    "if(70>=score>=60):\n",
    "    print(\"D Grade\");\n",
    "if(60>=score>=51):\n",
    "    print(\"E Grade\");\n",
    "else:\n",
    "    print(\"failed\")"
   ]
  },
  {
   "cell_type": "code",
   "execution_count": 65,
   "id": "edd04760",
   "metadata": {},
   "outputs": [
    {
     "name": "stdout",
     "output_type": "stream",
     "text": [
      "Enter Your Score\n",
      "70\n",
      "failed\n"
     ]
    }
   ],
   "source": [
    "score = int(input(\"Enter Your Score\\n\"))\n",
    "if score>90:\n",
    "    print(\"s Grade\");\n",
    "elif 90>score>80: \n",
    "    print(\"A grade\");\n",
    "elif 80>score>70:\n",
    "    print(\"B Grade\");\n",
    "elif(70>score>60):\n",
    "    print(\"c Grade\");\n",
    "elif(70>score>60):\n",
    "    print(\"D Grade\");\n",
    "elif(60>score>51):\n",
    "    print(\"E Grade\");\n",
    "else:\n",
    "    print(\"failed\")"
   ]
  },
  {
   "cell_type": "code",
   "execution_count": 69,
   "id": "85f9a0bc",
   "metadata": {},
   "outputs": [],
   "source": [
    "thisdict= {\"name\":\"Dhiraj\",\n",
    "        \"residance\":\"Dombivali\",\n",
    "        \"Edu\":\"Engineer\",\n",
    "        \"Age\":25\n",
    "       }"
   ]
  },
  {
   "cell_type": "code",
   "execution_count": 70,
   "id": "7e05cb4b",
   "metadata": {},
   "outputs": [
    {
     "name": "stdout",
     "output_type": "stream",
     "text": [
      "{'name': 'Dhiraj', 'residance': 'Dombivali', 'Edu': 'Engineer', 'Age': 25}\n"
     ]
    }
   ],
   "source": [
    "print( thisdict )"
   ]
  },
  {
   "cell_type": "code",
   "execution_count": 71,
   "id": "33654785",
   "metadata": {},
   "outputs": [
    {
     "name": "stdout",
     "output_type": "stream",
     "text": [
      "<class 'dict'>\n"
     ]
    }
   ],
   "source": [
    "print(type(thisdict))"
   ]
  },
  {
   "cell_type": "code",
   "execution_count": 72,
   "id": "878c600d",
   "metadata": {},
   "outputs": [],
   "source": [
    "age = 25"
   ]
  },
  {
   "cell_type": "code",
   "execution_count": 73,
   "id": "e27ed265",
   "metadata": {},
   "outputs": [
    {
     "name": "stdout",
     "output_type": "stream",
     "text": [
      "<class 'int'>\n"
     ]
    }
   ],
   "source": [
    "print(type(age))"
   ]
  },
  {
   "cell_type": "code",
   "execution_count": 80,
   "id": "4280bbb0",
   "metadata": {},
   "outputs": [
    {
     "data": {
      "text/plain": [
       "int"
      ]
     },
     "execution_count": 80,
     "metadata": {},
     "output_type": "execute_result"
    }
   ],
   "source": [
    "type(age)"
   ]
  },
  {
   "cell_type": "code",
   "execution_count": 81,
   "id": "9b31ca0a",
   "metadata": {},
   "outputs": [
    {
     "name": "stdout",
     "output_type": "stream",
     "text": [
      "enter your age\n",
      "25\n",
      "is this dhiraj?\n"
     ]
    }
   ],
   "source": [
    "age = int(input(\"enter your age\\n\"))\n",
    "if age == 25: \n",
    "    print(\"is this dhiraj?\")\n",
    "else:\n",
    "    print(\"you are definitely not dhiraj\")"
   ]
  },
  {
   "cell_type": "code",
   "execution_count": null,
   "id": "3b506885",
   "metadata": {},
   "outputs": [],
   "source": [
    "========================================day  2======================================================"
   ]
  },
  {
   "cell_type": "code",
   "execution_count": 1,
   "id": "8ee3f351",
   "metadata": {},
   "outputs": [
    {
     "data": {
      "text/plain": [
       "'QuickTel has 200 telecom towers in Mysore city'"
      ]
     },
     "execution_count": 1,
     "metadata": {},
     "output_type": "execute_result"
    }
   ],
   "source": [
    "telecom_towers = 200 \n",
    "service_provider='QuickTel' \n",
    "'%s has %d telecom towers in Mysore city' % (service_provider,telecom_towers)\n"
   ]
  },
  {
   "cell_type": "code",
   "execution_count": 3,
   "id": "52190a96",
   "metadata": {},
   "outputs": [
    {
     "data": {
      "text/plain": [
       "'cannon_length= 32.23 cm'"
      ]
     },
     "execution_count": 3,
     "metadata": {},
     "output_type": "execute_result"
    }
   ],
   "source": [
    "cannon_length = 32.23189\n",
    "'cannon_length= %.2f cm' % cannon_length #.2f two decimal places\n"
   ]
  },
  {
   "cell_type": "code",
   "execution_count": null,
   "id": "f2461dac",
   "metadata": {},
   "outputs": [],
   "source": [
    "# concatenation of strings\n",
    "text = 'Writetext'\n",
    "nums = 'A19982737456'"
   ]
  },
  {
   "cell_type": "code",
   "execution_count": 6,
   "id": "f2b93f6e",
   "metadata": {},
   "outputs": [
    {
     "ename": "NameError",
     "evalue": "name 'text' is not defined",
     "output_type": "error",
     "traceback": [
      "\u001b[1;31m---------------------------------------------------------------------------\u001b[0m",
      "\u001b[1;31mNameError\u001b[0m                                 Traceback (most recent call last)",
      "Cell \u001b[1;32mIn [6], line 2\u001b[0m\n\u001b[0;32m      1\u001b[0m \u001b[38;5;66;03m#''.join((text,nums)) #immediate join no space,\u001b[39;00m\n\u001b[1;32m----> 2\u001b[0m \u001b[38;5;124m'\u001b[39m\u001b[38;5;124m \u001b[39m\u001b[38;5;124m'\u001b[39m\u001b[38;5;241m.\u001b[39mjoin((\u001b[43mtext\u001b[49m,nums))\n",
      "\u001b[1;31mNameError\u001b[0m: name 'text' is not defined"
     ]
    }
   ],
   "source": [
    "\n",
    "#''.join((text,nums)) #immediate join no space,\n",
    "' '.join((text,nums)) # join with a space character in the middle\n"
   ]
  },
  {
   "cell_type": "code",
   "execution_count": 7,
   "id": "84586e3f",
   "metadata": {},
   "outputs": [
    {
     "data": {
      "text/plain": [
       "'writetext'"
      ]
     },
     "execution_count": 7,
     "metadata": {},
     "output_type": "execute_result"
    }
   ],
   "source": [
    "# case changing\n",
    "\n",
    "text = 'Writetext'\n",
    "text.upper()\n",
    "text.lower()"
   ]
  },
  {
   "cell_type": "code",
   "execution_count": 8,
   "id": "583f852e",
   "metadata": {},
   "outputs": [
    {
     "data": {
      "text/plain": [
       "['what', 'is', 'the', 'time']"
      ]
     },
     "execution_count": 8,
     "metadata": {},
     "output_type": "execute_result"
    }
   ],
   "source": [
    "#The split() method splits a string into a list.\n",
    "text = 'what is the time'\n",
    "text.split(' ') #Pass a separator, space\n"
   ]
  },
  {
   "cell_type": "code",
   "execution_count": 12,
   "id": "80a547a8",
   "metadata": {},
   "outputs": [
    {
     "data": {
      "text/plain": [
       "['dhiraj', 'vasant', 'johare']"
      ]
     },
     "execution_count": 12,
     "metadata": {},
     "output_type": "execute_result"
    }
   ],
   "source": [
    "name= 'dhiraj vasant johare'\n",
    "name.split(' ')"
   ]
  },
  {
   "cell_type": "code",
   "execution_count": 13,
   "id": "a5413cb7",
   "metadata": {},
   "outputs": [
    {
     "name": "stdout",
     "output_type": "stream",
     "text": [
      "No Python documentation found for 'split'.\n",
      "Use help() to get the interactive help utility.\n",
      "Use help(str) for help on the str class.\n",
      "\n"
     ]
    }
   ],
   "source": [
    "help('split')"
   ]
  },
  {
   "cell_type": "code",
   "execution_count": 16,
   "id": "3a88507c",
   "metadata": {},
   "outputs": [
    {
     "name": "stdout",
     "output_type": "stream",
     "text": [
      "Help on module string:\n",
      "\n",
      "NAME\n",
      "    string - A collection of string constants.\n",
      "\n",
      "MODULE REFERENCE\n",
      "    https://docs.python.org/3.10/library/string.html\n",
      "    \n",
      "    The following documentation is automatically generated from the Python\n",
      "    source files.  It may be incomplete, incorrect or include features that\n",
      "    are considered implementation detail and may vary between Python\n",
      "    implementations.  When in doubt, consult the module reference at the\n",
      "    location listed above.\n",
      "\n",
      "DESCRIPTION\n",
      "    Public module variables:\n",
      "    \n",
      "    whitespace -- a string containing all ASCII whitespace\n",
      "    ascii_lowercase -- a string containing all ASCII lowercase letters\n",
      "    ascii_uppercase -- a string containing all ASCII uppercase letters\n",
      "    ascii_letters -- a string containing all ASCII letters\n",
      "    digits -- a string containing all ASCII decimal digits\n",
      "    hexdigits -- a string containing all ASCII hexadecimal digits\n",
      "    octdigits -- a string containing all ASCII octal digits\n",
      "    punctuation -- a string containing all ASCII punctuation characters\n",
      "    printable -- a string containing all ASCII characters considered printable\n",
      "\n",
      "CLASSES\n",
      "    builtins.object\n",
      "        Formatter\n",
      "        Template\n",
      "    \n",
      "    class Formatter(builtins.object)\n",
      "     |  Methods defined here:\n",
      "     |  \n",
      "     |  check_unused_args(self, used_args, args, kwargs)\n",
      "     |  \n",
      "     |  convert_field(self, value, conversion)\n",
      "     |  \n",
      "     |  format(self, format_string, /, *args, **kwargs)\n",
      "     |  \n",
      "     |  format_field(self, value, format_spec)\n",
      "     |  \n",
      "     |  get_field(self, field_name, args, kwargs)\n",
      "     |      # given a field_name, find the object it references.\n",
      "     |      #  field_name:   the field being looked up, e.g. \"0.name\"\n",
      "     |      #                 or \"lookup[3]\"\n",
      "     |      #  used_args:    a set of which args have been used\n",
      "     |      #  args, kwargs: as passed in to vformat\n",
      "     |  \n",
      "     |  get_value(self, key, args, kwargs)\n",
      "     |  \n",
      "     |  parse(self, format_string)\n",
      "     |      # returns an iterable that contains tuples of the form:\n",
      "     |      # (literal_text, field_name, format_spec, conversion)\n",
      "     |      # literal_text can be zero length\n",
      "     |      # field_name can be None, in which case there's no\n",
      "     |      #  object to format and output\n",
      "     |      # if field_name is not None, it is looked up, formatted\n",
      "     |      #  with format_spec and conversion and then used\n",
      "     |  \n",
      "     |  vformat(self, format_string, args, kwargs)\n",
      "     |  \n",
      "     |  ----------------------------------------------------------------------\n",
      "     |  Data descriptors defined here:\n",
      "     |  \n",
      "     |  __dict__\n",
      "     |      dictionary for instance variables (if defined)\n",
      "     |  \n",
      "     |  __weakref__\n",
      "     |      list of weak references to the object (if defined)\n",
      "    \n",
      "    class Template(builtins.object)\n",
      "     |  Template(template)\n",
      "     |  \n",
      "     |  A string class for supporting $-substitutions.\n",
      "     |  \n",
      "     |  Methods defined here:\n",
      "     |  \n",
      "     |  __init__(self, template)\n",
      "     |      Initialize self.  See help(type(self)) for accurate signature.\n",
      "     |  \n",
      "     |  safe_substitute(self, mapping={}, /, **kws)\n",
      "     |  \n",
      "     |  substitute(self, mapping={}, /, **kws)\n",
      "     |  \n",
      "     |  ----------------------------------------------------------------------\n",
      "     |  Class methods defined here:\n",
      "     |  \n",
      "     |  __init_subclass__() from builtins.type\n",
      "     |      This method is called when a class is subclassed.\n",
      "     |      \n",
      "     |      The default implementation does nothing. It may be\n",
      "     |      overridden to extend subclasses.\n",
      "     |  \n",
      "     |  ----------------------------------------------------------------------\n",
      "     |  Data descriptors defined here:\n",
      "     |  \n",
      "     |  __dict__\n",
      "     |      dictionary for instance variables (if defined)\n",
      "     |  \n",
      "     |  __weakref__\n",
      "     |      list of weak references to the object (if defined)\n",
      "     |  \n",
      "     |  ----------------------------------------------------------------------\n",
      "     |  Data and other attributes defined here:\n",
      "     |  \n",
      "     |  braceidpattern = None\n",
      "     |  \n",
      "     |  delimiter = '$'\n",
      "     |  \n",
      "     |  flags = re.IGNORECASE\n",
      "     |  \n",
      "     |  idpattern = '(?a:[_a-z][_a-z0-9]*)'\n",
      "     |  \n",
      "     |  pattern = re.compile('\\n            \\\\$(?:\\n              ...identifie...\n",
      "\n",
      "FUNCTIONS\n",
      "    capwords(s, sep=None)\n",
      "        capwords(s [,sep]) -> string\n",
      "        \n",
      "        Split the argument into words using split, capitalize each\n",
      "        word using capitalize, and join the capitalized words using\n",
      "        join.  If the optional second argument sep is absent or None,\n",
      "        runs of whitespace characters are replaced by a single space\n",
      "        and leading and trailing whitespace are removed, otherwise\n",
      "        sep is used to split and join the words.\n",
      "\n",
      "DATA\n",
      "    __all__ = ['ascii_letters', 'ascii_lowercase', 'ascii_uppercase', 'cap...\n",
      "    ascii_letters = 'abcdefghijklmnopqrstuvwxyzABCDEFGHIJKLMNOPQRSTUVWXYZ'\n",
      "    ascii_lowercase = 'abcdefghijklmnopqrstuvwxyz'\n",
      "    ascii_uppercase = 'ABCDEFGHIJKLMNOPQRSTUVWXYZ'\n",
      "    digits = '0123456789'\n",
      "    hexdigits = '0123456789abcdefABCDEF'\n",
      "    octdigits = '01234567'\n",
      "    printable = '0123456789abcdefghijklmnopqrstuvwxyzABCDEFGHIJKLMNOPQRSTU...\n",
      "    punctuation = '!\"#$%&\\'()*+,-./:;<=>?@[\\\\]^_`{|}~'\n",
      "    whitespace = ' \\t\\n\\r\\x0b\\x0c'\n",
      "\n",
      "FILE\n",
      "    c:\\program files\\python310\\lib\\string.py\n",
      "\n",
      "\n"
     ]
    }
   ],
   "source": [
    "help ('string')\n"
   ]
  },
  {
   "cell_type": "code",
   "execution_count": 21,
   "id": "8a7e16a4",
   "metadata": {},
   "outputs": [],
   "source": [
    "text = 'dhiraj is engineer'"
   ]
  },
  {
   "cell_type": "code",
   "execution_count": 22,
   "id": "ff59fa73",
   "metadata": {},
   "outputs": [
    {
     "data": {
      "text/plain": [
       "'dhiraj was engineer'"
      ]
     },
     "execution_count": 22,
     "metadata": {},
     "output_type": "execute_result"
    }
   ],
   "source": [
    "# substitution\n",
    "text.replace('is','was')"
   ]
  },
  {
   "cell_type": "code",
   "execution_count": 26,
   "id": "7f718bf1",
   "metadata": {},
   "outputs": [
    {
     "data": {
      "text/plain": [
       "'what is the time'"
      ]
     },
     "execution_count": 26,
     "metadata": {},
     "output_type": "execute_result"
    }
   ],
   "source": [
    "# stripping\n",
    "text = '  what is the time  '\n",
    "#text.rstrip()\n",
    "#text.lstrip()\n",
    "text.strip()\n"
   ]
  },
  {
   "cell_type": "code",
   "execution_count": null,
   "id": "a3a5c611",
   "metadata": {},
   "outputs": [],
   "source": [
    "#The purpose of a list is to store values that are collected and processed in sequence, such as \n",
    "#lines of text read from or written to a text file, or where prepared values are looked up by \n",
    "#their position or offset in the array. \n",
    "#You will find yourself using list of the time\n"
   ]
  },
  {
   "cell_type": "code",
   "execution_count": 27,
   "id": "05a05ff6",
   "metadata": {},
   "outputs": [],
   "source": [
    "#Creating Lists is straighforward. You stick in strings within quotes and enclosed in square brackets\n",
    "look_up_list = [] #empty list\n",
    "famous_footballers=['Zidane','Maradona','Messi', 'Pele']\n",
    "mixed_list = [1,2,3,'four']\n",
    "embedded_list = [1,2,3,[4,5,6]]"
   ]
  },
  {
   "cell_type": "code",
   "execution_count": 33,
   "id": "e148ba09",
   "metadata": {},
   "outputs": [
    {
     "name": "stdout",
     "output_type": "stream",
     "text": [
      "4\n"
     ]
    }
   ],
   "source": [
    "#You can find the length of lists using the len() function. The length is the number \n",
    "#of elements in the list. The last element index of a list mylist would be accessed as \n",
    "#some_list[len(some_list)-1]. \n",
    "l = len(famous_footballers)\n",
    "print(l)"
   ]
  },
  {
   "cell_type": "code",
   "execution_count": 30,
   "id": "b18b6975",
   "metadata": {},
   "outputs": [
    {
     "name": "stdout",
     "output_type": "stream",
     "text": [
      "Pele\n"
     ]
    }
   ],
   "source": [
    "print(famous_footballers[len(famous_footballers)-1])\n"
   ]
  },
  {
   "cell_type": "code",
   "execution_count": 38,
   "id": "def8e848",
   "metadata": {},
   "outputs": [
    {
     "name": "stdout",
     "output_type": "stream",
     "text": [
      "Messi\n"
     ]
    }
   ],
   "source": [
    "print(famous_footballers[-2])"
   ]
  },
  {
   "cell_type": "code",
   "execution_count": 39,
   "id": "8de8265b",
   "metadata": {},
   "outputs": [
    {
     "data": {
      "text/plain": [
       "[2, 3, 'four']"
      ]
     },
     "execution_count": 39,
     "metadata": {},
     "output_type": "execute_result"
    }
   ],
   "source": [
    "#mixed_list[0]\n",
    "#mixed_list[3]\n",
    "\n",
    "mixed_list[1:4]\n"
   ]
  },
  {
   "cell_type": "code",
   "execution_count": 40,
   "id": "86b86ff7",
   "metadata": {},
   "outputs": [
    {
     "data": {
      "text/plain": [
       "[4, 5, 6]"
      ]
     },
     "execution_count": 40,
     "metadata": {},
     "output_type": "execute_result"
    }
   ],
   "source": [
    "#embedded_list[2]\n",
    "embedded_list[3]\n",
    "#embedded_list[3][2]\n"
   ]
  },
  {
   "cell_type": "code",
   "execution_count": 49,
   "id": "98a2b6d8",
   "metadata": {},
   "outputs": [],
   "source": [
    "#Updating Lists \n",
    "# Use the append() method to add entries to the end of a list. Use the del statement to \n",
    "#delete an entry. For example: \n",
    "look_up_list = [] #empty list\n",
    "look_up_list.append('Good')\n",
    "look_up_list.append('Bad')\n",
    "look_up_list.append('Ugly')\n"
   ]
  },
  {
   "cell_type": "code",
   "execution_count": 47,
   "id": "5595745a",
   "metadata": {},
   "outputs": [],
   "source": [
    "embedded_list = [1,2,3,[4,5,6]]"
   ]
  },
  {
   "cell_type": "code",
   "execution_count": 50,
   "id": "f5171501",
   "metadata": {},
   "outputs": [
    {
     "data": {
      "text/plain": [
       "['Good', 'Smooth', 'Ugly']"
      ]
     },
     "execution_count": 50,
     "metadata": {},
     "output_type": "execute_result"
    }
   ],
   "source": [
    "look_up_list\n",
    "#Change an entry in the list\n",
    "look_up_list[1]='Smooth'\n",
    "look_up_list\n"
   ]
  },
  {
   "cell_type": "code",
   "execution_count": 51,
   "id": "19e11d22",
   "metadata": {},
   "outputs": [
    {
     "data": {
      "text/plain": [
       "['Good', 'Ugly']"
      ]
     },
     "execution_count": 51,
     "metadata": {},
     "output_type": "execute_result"
    }
   ],
   "source": [
    "#Delete an entry in the list\n",
    "del look_up_list[1]\n",
    "look_up_list"
   ]
  },
  {
   "cell_type": "code",
   "execution_count": 117,
   "id": "553b3642",
   "metadata": {},
   "outputs": [],
   "source": [
    "#Nested Directory\n",
    "thefamily = {\n",
    "  \"child1\" : {\n",
    "    \"name\" : \"Pranav\",\n",
    "    \"year\" : 2004\n",
    "  },\n",
    "  \"child2\" : {\n",
    "    \"name\" : \"Pooja\",\n",
    "    \"year\" : 2007\n",
    "  },\n",
    "  \"child3\" : {\n",
    "    \"name\" : \"Dev\",\n",
    "    \"year\" : 2011\n",
    "  }\n",
    "}\n"
   ]
  },
  {
   "cell_type": "code",
   "execution_count": 119,
   "id": "01309d62",
   "metadata": {},
   "outputs": [
    {
     "name": "stdout",
     "output_type": "stream",
     "text": [
      "{'child1': {'name': 'Pranav', 'year': 2004}, 'child2': {'name': 'Pooja', 'year': 2007}, 'child3': {'name': 'Dev', 'year': 2011}}\n"
     ]
    }
   ],
   "source": [
    "print(thefamily)"
   ]
  },
  {
   "cell_type": "code",
   "execution_count": 141,
   "id": "ede9a947",
   "metadata": {},
   "outputs": [
    {
     "name": "stdout",
     "output_type": "stream",
     "text": [
      "****\n",
      "*********\n",
      "*******\n"
     ]
    }
   ],
   "source": [
    "\"\"\"Define a procedure histogram() that takes a list of \n",
    "integers and prints a histogram to the screen. For example, \n",
    "histogram([4, 9, 7]) should print the following:\"\"\"\n",
    "histogram = [4,9,7]\n",
    "for i in histogram:\n",
    "    print('*'*i)"
   ]
  },
  {
   "cell_type": "code",
   "execution_count": null,
   "id": "9adb9f0b",
   "metadata": {},
   "outputs": [],
   "source": []
  }
 ],
 "metadata": {
  "kernelspec": {
   "display_name": "Python 3 (ipykernel)",
   "language": "python",
   "name": "python3"
  },
  "language_info": {
   "codemirror_mode": {
    "name": "ipython",
    "version": 3
   },
   "file_extension": ".py",
   "mimetype": "text/x-python",
   "name": "python",
   "nbconvert_exporter": "python",
   "pygments_lexer": "ipython3",
   "version": "3.10.8"
  }
 },
 "nbformat": 4,
 "nbformat_minor": 5
}

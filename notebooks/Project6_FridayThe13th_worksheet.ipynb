{
  "nbformat": 4,
  "nbformat_minor": 0,
  "metadata": {
    "colab": {
      "provenance": []
    },
    "kernelspec": {
      "name": "python3",
      "display_name": "Python 3"
    }
  },
  "cells": [
    {
      "cell_type": "markdown",
      "metadata": {
        "id": "YZnBY81YDCCr"
      },
      "source": [
        "### Instructions"
      ]
    },
    {
      "cell_type": "markdown",
      "metadata": {
        "id": "fIKnY8occu37"
      },
      "source": [
        "#### Goal of the Project\n",
        "\n",
        "This project is designed for you to practice and solve the activities that are based on the concepts covered in the following lessons\n",
        "\n",
        "1. String Operations\n",
        "\n",
        "2. The `datetime` module\n"
      ]
    },
    {
      "cell_type": "markdown",
      "metadata": {
        "id": "YUkqcU3lMriL"
      },
      "source": [
        "---"
      ]
    },
    {
      "cell_type": "markdown",
      "metadata": {
        "id": "H0P9F3DUf8x2"
      },
      "source": [
        "### Activities\n",
        "\n",
        "\n",
        "  "
      ]
    },
    {
      "cell_type": "markdown",
      "metadata": {
        "id": "BVT9G_baB1aq"
      },
      "source": [
        "#### Activity 1:  Words Emphasised\n",
        "\n",
        "The challenge is to recreate the functionality of the `title()` method by creating a function called `emphasise()`. \n",
        "\n",
        "The `title()` function capitalises the first letter of every word. Similarly, our  `emphasise()` function should also capitalise the first letter of every word **without** using the built-in `title()` function of Python.\n",
        "\n",
        "**Constraints:**\n",
        "\n",
        "- You won't run into any issues when dealing with numbers.\n",
        "\n",
        "- Please don't use the `title()` method directly\n",
        "\n",
        "**Examples**\n",
        "```\n",
        "1. emphasise(\"hello world\") ➞ \"Hello World\"\n",
        "\n",
        "2. emphasise(\"GOOD MORNING\") ➞ \"Good Morning\"\n",
        "\n",
        "3. emphasise(\"99 red balloons!\") ➞ \"99 Red Balloons!\"\n",
        "```\n",
        "\n",
        "\n"
      ]
    },
    {
      "cell_type": "code",
      "metadata": {
        "id": "0pIGxKG9B3mb"
      },
      "source": [
        "# Write your solution here to capitalise the first letter of every word \n"
      ],
      "execution_count": null,
      "outputs": []
    },
    {
      "cell_type": "markdown",
      "metadata": {
        "id": "IJIZASayCpEW"
      },
      "source": [
        "---"
      ]
    },
    {
      "cell_type": "markdown",
      "metadata": {
        "id": "5kBinzKxn3hd"
      },
      "source": [
        "#### Activity 2: Friday the 13th\n",
        "\n",
        "Given the `month` and `year` as numbers, check whether that month contains a 'Friday 13th'.\n",
        "\n",
        "**Notes**:\n",
        "\n",
        "1. For `month`, January will be given as 1, February as 2, etc ...\n",
        "\n",
        "\n",
        "**Sample Inputs and Outputs:**\n",
        "```\n",
        "a. 3, 2020 ➞ True\n",
        "\n",
        "b. 10, 2017 ➞ True\n",
        "\n",
        "c. 1, 1985 ➞ False\n",
        "```\n",
        "\n",
        "**Hint:** \n",
        "\n",
        "The `weekday()` function of date class in datetime module, is used to return an integer corresponding to the day of the week, where,\n",
        "\n",
        "`0` is returned for `Monday`\n",
        "\n",
        "`1` is returned for `Tuesday`\n",
        "\n",
        "`2` is returned for `Wednesday`\n",
        "\n",
        ".\n",
        "\n",
        ".\n",
        "\n",
        ".\n",
        "\n",
        "`6` is returned for `Sunday`\n",
        "\n",
        "**For example:**\n",
        "\n",
        "`dt(y, m, 13).weekday()` will return `4` indicating that it is the 4th day of the week i.e. `Friday`.\n",
        "\n",
        "**Syntax**: `dt(year, month, date).weekday()`"
      ]
    },
    {
      "cell_type": "code",
      "metadata": {
        "id": "4gjDvOhzn6TL"
      },
      "source": [
        "# Write your solution here\n",
        "\n",
        "# import datetime module\n",
        "\n",
        "# create a function which accepts two parameters, month and year\n",
        "\n",
        "    # create a list containing weekdays from 'Monday' to 'Saturday'\n",
        "   \n",
        "    # use 'weekday()' function which returns an integer corresponding to the day of the week and store it in a variable 'day'. \n",
        "    # use this 'day' variable as index in the above list and fetch the day name associated with this index  \n",
        "   \n",
        "    # check whether day fetched is Friday or not. If yes return True else False\n",
        "    \n",
        "\n",
        "# call the function\n",
        "\n"
      ],
      "execution_count": null,
      "outputs": []
    },
    {
      "cell_type": "markdown",
      "metadata": {
        "id": "vGt-y4xp2UWT"
      },
      "source": [
        "---"
      ]
    }
  ]
}
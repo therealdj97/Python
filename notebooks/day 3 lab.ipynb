{
 "cells": [
  {
   "cell_type": "markdown",
   "id": "96a3bc55",
   "metadata": {},
   "source": [
    "# lab "
   ]
  },
  {
   "cell_type": "markdown",
   "id": "fb0e7e76",
   "metadata": {},
   "source": [
    "Write a program to check whether the string is palindrome or not\n"
   ]
  },
  {
   "cell_type": "code",
   "execution_count": 1,
   "id": "6d965ca1",
   "metadata": {},
   "outputs": [
    {
     "ename": "SyntaxError",
     "evalue": "unterminated string literal (detected at line 19) (1315176029.py, line 19)",
     "output_type": "error",
     "traceback": [
      "\u001b[1;36m  Cell \u001b[1;32mIn [1], line 19\u001b[1;36m\u001b[0m\n\u001b[1;33m    print \"Shift patter\u001b[0m\n\u001b[1;37m          ^\u001b[0m\n\u001b[1;31mSyntaxError\u001b[0m\u001b[1;31m:\u001b[0m unterminated string literal (detected at line 19)\n"
     ]
    }
   ],
   "source": [
    "def encrypt(text,s):\n",
    "result = \"\"\n",
    "   # transverse the plain text\n",
    "   for i in range(len(text)):\n",
    "      char = text[i]\n",
    "      # Encrypt uppercase characters in plain text\n",
    "      \n",
    "      if (char.isupper()):\n",
    "         result += chr((ord(char) + s-65) % 26 + 65)\n",
    "      # Encrypt lowercase characters in plain text\n",
    "      else:\n",
    "         result += chr((ord(char) + s - 97) % 26 + 97)\n",
    "      return result\n",
    "#check the above function\n",
    "text = \"CEASER CIPHER DEMO\"\n",
    "s = 4\n",
    "\n",
    "print \"Plain Text : \" + text\n",
    "print \"Shift patter"
   ]
  },
  {
   "cell_type": "markdown",
   "id": "387a49b3",
   "metadata": {},
   "source": [
    "Write a program to implement caeser cypher. Example shift of 3 is applied to all characters in the string.\n"
   ]
  },
  {
   "cell_type": "code",
   "execution_count": 2,
   "id": "3dfa428f",
   "metadata": {},
   "outputs": [],
   "source": [
    "x=2\n",
    "y,y=x+5,x+2"
   ]
  },
  {
   "cell_type": "code",
   "execution_count": 3,
   "id": "c3b7c6aa",
   "metadata": {},
   "outputs": [
    {
     "data": {
      "text/plain": [
       "4"
      ]
     },
     "execution_count": 3,
     "metadata": {},
     "output_type": "execute_result"
    }
   ],
   "source": [
    "y\n"
   ]
  },
  {
   "cell_type": "code",
   "execution_count": 4,
   "id": "75ca0266",
   "metadata": {},
   "outputs": [
    {
     "data": {
      "text/plain": [
       "0.5"
      ]
     },
     "execution_count": 4,
     "metadata": {},
     "output_type": "execute_result"
    }
   ],
   "source": [
    "2.5%2"
   ]
  },
  {
   "cell_type": "markdown",
   "id": "bc2d1933",
   "metadata": {},
   "source": [
    "# "
   ]
  },
  {
   "cell_type": "code",
   "execution_count": 7,
   "id": "871ac9f7",
   "metadata": {},
   "outputs": [
    {
     "data": {
      "text/plain": [
       "1612648415760"
      ]
     },
     "execution_count": 7,
     "metadata": {},
     "output_type": "execute_result"
    }
   ],
   "source": [
    "a=10 \n",
    "b=10\n",
    "id(a)\n",
    "id(b)"
   ]
  },
  {
   "cell_type": "code",
   "execution_count": 8,
   "id": "016a7109",
   "metadata": {},
   "outputs": [
    {
     "name": "stdout",
     "output_type": "stream",
     "text": [
      "0\n",
      "1\n",
      "2\n",
      "3\n"
     ]
    }
   ],
   "source": [
    "for i in range(10):\n",
    "    if i>3:\n",
    "        break\n",
    "    print(i)"
   ]
  },
  {
   "cell_type": "code",
   "execution_count": null,
   "id": "d8ad4c84",
   "metadata": {},
   "outputs": [],
   "source": []
  }
 ],
 "metadata": {
  "kernelspec": {
   "display_name": "Python 3",
   "language": "python",
   "name": "python3"
  },
  "language_info": {
   "codemirror_mode": {
    "name": "ipython",
    "version": 3
   },
   "file_extension": ".py",
   "mimetype": "text/x-python",
   "name": "python",
   "nbconvert_exporter": "python",
   "pygments_lexer": "ipython3",
   "version": "3.10.8 (tags/v3.10.8:aaaf517, Oct 11 2022, 16:50:30) [MSC v.1933 64 bit (AMD64)]"
  },
  "vscode": {
   "interpreter": {
    "hash": "26de051ba29f2982a8de78e945f0abaf191376122a1563185a90213a26c5da77"
   }
  }
 },
 "nbformat": 4,
 "nbformat_minor": 5
}

{
 "cells": [
  {
   "cell_type": "code",
   "execution_count": 15,
   "id": "fc628809",
   "metadata": {},
   "outputs": [
    {
     "data": {
      "text/plain": [
       "7"
      ]
     },
     "execution_count": 15,
     "metadata": {},
     "output_type": "execute_result"
    }
   ],
   "source": [
    "addTwoNumbers(3,4)"
   ]
  },
  {
   "cell_type": "code",
   "execution_count": 17,
   "id": "4b6962c3",
   "metadata": {},
   "outputs": [],
   "source": [
    "a = [1,2,3]"
   ]
  },
  {
   "cell_type": "code",
   "execution_count": 18,
   "id": "d36afea1",
   "metadata": {},
   "outputs": [
    {
     "data": {
      "text/plain": [
       "list"
      ]
     },
     "execution_count": 18,
     "metadata": {},
     "output_type": "execute_result"
    }
   ],
   "source": [
    "type(a)"
   ]
  },
  {
   "cell_type": "code",
   "execution_count": 21,
   "id": "6746b91a",
   "metadata": {},
   "outputs": [],
   "source": [
    " b=(1,2,3)"
   ]
  },
  {
   "cell_type": "code",
   "execution_count": 22,
   "id": "be8fbedf",
   "metadata": {},
   "outputs": [
    {
     "data": {
      "text/plain": [
       "tuple"
      ]
     },
     "execution_count": 22,
     "metadata": {},
     "output_type": "execute_result"
    }
   ],
   "source": [
    "type( b )"
   ]
  },
  {
   "cell_type": "code",
   "execution_count": 27,
   "id": "242b23c6",
   "metadata": {},
   "outputs": [],
   "source": [
    "c = [1,22,3]"
   ]
  },
  {
   "cell_type": "code",
   "execution_count": 28,
   "id": "005ecc64",
   "metadata": {},
   "outputs": [
    {
     "data": {
      "text/plain": [
       "list"
      ]
     },
     "execution_count": 28,
     "metadata": {},
     "output_type": "execute_result"
    }
   ],
   "source": [
    "type( c )"
   ]
  },
  {
   "cell_type": "code",
   "execution_count": 30,
   "id": "15f01df2",
   "metadata": {},
   "outputs": [
    {
     "name": "stdout",
     "output_type": "stream",
     "text": [
      "cheap\n"
     ]
    }
   ],
   "source": [
    "price = 600\n",
    "if price > 500 :\n",
    "    print(\"cheap\");\n",
    "else:\n",
    "    print(\"expensive\")"
   ]
  },
  {
   "cell_type": "code",
   "execution_count": null,
   "id": "1eb271e1",
   "metadata": {},
   "outputs": [],
   "source": []
  }
 ],
 "metadata": {
  "kernelspec": {
   "display_name": "Python 3 (ipykernel)",
   "language": "python",
   "name": "python3"
  },
  "language_info": {
   "codemirror_mode": {
    "name": "ipython",
    "version": 3
   },
   "file_extension": ".py",
   "mimetype": "text/x-python",
   "name": "python",
   "nbconvert_exporter": "python",
   "pygments_lexer": "ipython3",
   "version": "3.10.8"
  }
 },
 "nbformat": 4,
 "nbformat_minor": 5
}

{
 "cells": [
  {
   "cell_type": "code",
   "execution_count": 1,
   "id": "49306c3d",
   "metadata": {},
   "outputs": [],
   "source": [
    "class Student:\n",
    "    def function(self):\n",
    "        self.rollno=0\n",
    "        self.name=None\n",
    "        self.age=0\n",
    "        self.totalmark=0\n",
    "        \n",
    "    def get(self):\n",
    "        self.rollno=int(input(\"Enter the RollNo of Student: \"))\n",
    "        self.name=input(\"Enter the Name: \")\n",
    "        self.age=int(input(\"Enter the Age of Student: \"))\n",
    "        self.totalmark=int(input(\"Enter the Total marks of Student: \"))\n",
    "        \n",
    "    def display(self):\n",
    "        print(\"Roll No of the Student \",self.rollno)\n",
    "        print(\"Name of the Student \",self.name)\n",
    "        print(\"Age of the Student\",self.age)\n",
    "        print(\"Total marks of Student: \",self.totalmark)\n",
    "        \n",
    "    def findgrade(self):\n",
    "        if(self.totalmark > 900):\n",
    "            print(\"Grade is A: \")\n",
    "        elif(self.totalmark > 700):\n",
    "            print(\"Grade is B: \")\n",
    "        elif(self.totalmark > 500):\n",
    "            print(\"Grade is C: \")\n",
    "        else:\n",
    "            print(\"Failed\")"
   ]
  },
  {
   "cell_type": "code",
   "execution_count": 2,
   "id": "9d1632cd",
   "metadata": {},
   "outputs": [],
   "source": [
    "class ProjectStudent(Student):\n",
    "    def Projectfunction(self):\n",
    "        self.projID=None\n",
    "        self.projtitle=None\n",
    "        self.company=None\n",
    "        self.projgrade=None\n",
    "    \n",
    "    def getPDetails(self):\n",
    "        self.projID=input(\"Enter the Project ID: \")\n",
    "        self.projtitle=input(\"Enter the Project Title: \")\n",
    "        self.company=input(\"Enter the Name of the Company: \")\n",
    "        self.projgrade=input(\"Enter the Grade of the Project: \")\n",
    "    \n",
    "    def displayPDetails(self):\n",
    "        print(\"Project ID \",self.projID)\n",
    "        print(\"Project Title \",self.projtitle)\n",
    "        print(\"Name of Company \",self.company)\n",
    "        print(\"Project Grade \",self.projgrade)\n",
    "        "
   ]
  },
  {
   "cell_type": "code",
   "execution_count": 3,
   "id": "5ff32c64",
   "metadata": {},
   "outputs": [],
   "source": [
    "proj=ProjectStudent()"
   ]
  },
  {
   "cell_type": "code",
   "execution_count": 4,
   "id": "9be521a0",
   "metadata": {},
   "outputs": [],
   "source": [
    "proj.function()"
   ]
  },
  {
   "cell_type": "code",
   "execution_count": 6,
   "id": "ceb1ce90",
   "metadata": {
    "scrolled": true
   },
   "outputs": [
    {
     "name": "stdout",
     "output_type": "stream",
     "text": [
      "Enter the RollNo of Student: 21314\n",
      "Enter the Name: Amaar\n",
      "Enter the Age of Student: 29\n",
      "Enter the Total marks of Student: 708\n"
     ]
    }
   ],
   "source": [
    "proj.get()"
   ]
  },
  {
   "cell_type": "code",
   "execution_count": 8,
   "id": "aa9967ae",
   "metadata": {},
   "outputs": [
    {
     "name": "stdout",
     "output_type": "stream",
     "text": [
      "Roll No of the Student  21314\n",
      "Name of the Student  Amaar\n",
      "Age of the Student 29\n",
      "Total marks of Student:  708\n"
     ]
    }
   ],
   "source": [
    "proj.display()"
   ]
  },
  {
   "cell_type": "code",
   "execution_count": 9,
   "id": "0a8ab282",
   "metadata": {},
   "outputs": [
    {
     "name": "stdout",
     "output_type": "stream",
     "text": [
      "Grade is B: \n"
     ]
    }
   ],
   "source": [
    "proj.findgrade()"
   ]
  },
  {
   "cell_type": "code",
   "execution_count": 8,
   "id": "feea2bb4",
   "metadata": {},
   "outputs": [],
   "source": [
    "proj.Projectfunction()"
   ]
  },
  {
   "cell_type": "code",
   "execution_count": 9,
   "id": "85e7a25c",
   "metadata": {},
   "outputs": [
    {
     "name": "stdout",
     "output_type": "stream",
     "text": [
      "Enter the Project ID: AP00\n",
      "Enter the Project Title: Automic Car\n",
      "Enter the Name of the Company: Tesla\n",
      "Enter the Grade of the Project: A\n"
     ]
    }
   ],
   "source": [
    "proj.getPDetails()"
   ]
  },
  {
   "cell_type": "code",
   "execution_count": 10,
   "id": "763a9104",
   "metadata": {},
   "outputs": [
    {
     "name": "stdout",
     "output_type": "stream",
     "text": [
      "Project ID  AP00\n",
      "Project Title  Automic Car\n",
      "Name of Company  Tesla\n",
      "Project Grade  A\n"
     ]
    }
   ],
   "source": [
    "proj.displayPDetails()"
   ]
  },
  {
   "cell_type": "code",
   "execution_count": null,
   "id": "6fd566ee",
   "metadata": {},
   "outputs": [],
   "source": []
  },
  {
   "cell_type": "code",
   "execution_count": null,
   "id": "4f45e6f8",
   "metadata": {},
   "outputs": [],
   "source": []
  },
  {
   "cell_type": "code",
   "execution_count": 11,
   "id": "6de60809",
   "metadata": {},
   "outputs": [],
   "source": [
    "class Account:\n",
    "    def __init__(self):\n",
    "        self.custname=None\n",
    "        self.accno=0\n",
    "        self.acctype=None\n",
    "        self.balance=0\n",
    "    \n",
    "    def user(self):\n",
    "        self.custname=input(\"Enter the Name of Customer: \")\n",
    "        self.accno=int(input(\"Enter the Account No: \"))\n",
    "        self.acctype=input(\"Enter the Account Type: \")\n",
    "        self.balance=int(input(\"Enter the Balance: \"))\n",
    "        \n",
    "    def details(self):\n",
    "        print(\"Name of the customer \",self.custname)\n",
    "        print(\"AccNo of the customer \",self.accno)\n",
    "        print(\"Accoun Type of the customer \",self.acctype)\n",
    "        print(\"Balance of the customer \",self.balance)"
   ]
  },
  {
   "cell_type": "code",
   "execution_count": 12,
   "id": "e62e5ad0",
   "metadata": {},
   "outputs": [],
   "source": [
    "class SavingsAccount(Account):\n",
    "    \n",
    "    def deposit(self):\n",
    "        self.deposit=int(input(\"Enter deposit amount: \"))\n",
    "        self.balance=self.deposit+self.balance\n",
    "        print(\"Updated Balance: \",self.balance)\n",
    "        \n",
    "    def withdrawal(self):\n",
    "        self.withdrawbal=int(input(\"Enter the Withdrawal amount: \"))\n",
    "        if(self.balance < 500):\n",
    "            print(\"Insufficient Balance \")\n",
    "        else:\n",
    "            self.balance=self.balance-self.withdrawbal\n",
    "            print(\"Balance After Withdrawal: \",self.balance)"
   ]
  },
  {
   "cell_type": "code",
   "execution_count": 13,
   "id": "3adb2a02",
   "metadata": {},
   "outputs": [],
   "source": [
    "sav=SavingsAccount()"
   ]
  },
  {
   "cell_type": "code",
   "execution_count": 14,
   "id": "5fc714d5",
   "metadata": {},
   "outputs": [
    {
     "name": "stdout",
     "output_type": "stream",
     "text": [
      "Enter the Name of Customer: Sarvesh\n",
      "Enter the Account No: 12324\n",
      "Enter the Account Type: savinngs\n",
      "Enter the Balance: 20000\n"
     ]
    }
   ],
   "source": [
    "sav.user()"
   ]
  },
  {
   "cell_type": "code",
   "execution_count": 15,
   "id": "c48becf0",
   "metadata": {},
   "outputs": [
    {
     "name": "stdout",
     "output_type": "stream",
     "text": [
      "Name of the customer  Sarvesh\n",
      "AccNo of the customer  12324\n",
      "Accoun Type of the customer  savinngs\n",
      "Balance of the customer  20000\n"
     ]
    }
   ],
   "source": [
    "sav.details()"
   ]
  },
  {
   "cell_type": "code",
   "execution_count": 16,
   "id": "28d1d01c",
   "metadata": {},
   "outputs": [
    {
     "name": "stdout",
     "output_type": "stream",
     "text": [
      "Enter deposit amount: 20000\n",
      "Updated Balance:  40000\n"
     ]
    }
   ],
   "source": [
    "sav.deposit()"
   ]
  },
  {
   "cell_type": "code",
   "execution_count": 17,
   "id": "272ecacf",
   "metadata": {},
   "outputs": [
    {
     "name": "stdout",
     "output_type": "stream",
     "text": [
      "Enter the Withdrawal amount: 10000\n",
      "Balance After Withdrawal:  30000\n"
     ]
    }
   ],
   "source": [
    "sav.withdrawal()"
   ]
  },
  {
   "cell_type": "code",
   "execution_count": null,
   "id": "940ff865",
   "metadata": {},
   "outputs": [],
   "source": []
  },
  {
   "cell_type": "code",
   "execution_count": null,
   "id": "4bcbe819",
   "metadata": {},
   "outputs": [],
   "source": []
  },
  {
   "cell_type": "code",
   "execution_count": 18,
   "id": "06c7093b",
   "metadata": {},
   "outputs": [],
   "source": [
    "class ABC:\n",
    "    def get(self):\n",
    "        self.x=int(input(\"Enter the First Number: \"))\n",
    "        self.y=int(input(\"Enter the Second Number: \"))\n",
    "    \n",
    "    def sd(self):\n",
    "        print(\"First Number: \",self.x)\n",
    "        print(\"Second Number: \",self.y)\n",
    "   "
   ]
  },
  {
   "cell_type": "code",
   "execution_count": 19,
   "id": "7c74cb03",
   "metadata": {},
   "outputs": [],
   "source": [
    "class PQR(ABC):\n",
    "    def sum(self):\n",
    "        self.total=self.x+self.y\n",
    "        print(\"Sum: \",self.total)\n",
    "    \n",
    "    def product(self):\n",
    "        self.prod=self.x*self.y\n",
    "        print(\"Product: \",self.prod)\n",
    "        \n",
    "    def difference(self):\n",
    "        self.diff=self.x-self.y\n",
    "        print(\"Difference: \",self.diff)"
   ]
  },
  {
   "cell_type": "code",
   "execution_count": 20,
   "id": "2b45d7a8",
   "metadata": {},
   "outputs": [],
   "source": [
    "pq=PQR()"
   ]
  },
  {
   "cell_type": "code",
   "execution_count": 21,
   "id": "452a4f82",
   "metadata": {},
   "outputs": [
    {
     "name": "stdout",
     "output_type": "stream",
     "text": [
      "Enter the First Number: 10\n",
      "Enter the Second Number: 5\n"
     ]
    }
   ],
   "source": [
    "pq.get()"
   ]
  },
  {
   "cell_type": "code",
   "execution_count": 22,
   "id": "d918e06c",
   "metadata": {},
   "outputs": [
    {
     "name": "stdout",
     "output_type": "stream",
     "text": [
      "First Number:  10\n",
      "Second Number:  5\n"
     ]
    }
   ],
   "source": [
    "pq.sd()"
   ]
  },
  {
   "cell_type": "code",
   "execution_count": 24,
   "id": "14bfa7e4",
   "metadata": {},
   "outputs": [
    {
     "name": "stdout",
     "output_type": "stream",
     "text": [
      "Sum:  15\n"
     ]
    }
   ],
   "source": [
    "pq.sum()"
   ]
  },
  {
   "cell_type": "code",
   "execution_count": 25,
   "id": "26ba2222",
   "metadata": {},
   "outputs": [
    {
     "name": "stdout",
     "output_type": "stream",
     "text": [
      "Product:  50\n"
     ]
    }
   ],
   "source": [
    "pq.product()"
   ]
  },
  {
   "cell_type": "code",
   "execution_count": 26,
   "id": "a85271fe",
   "metadata": {},
   "outputs": [
    {
     "name": "stdout",
     "output_type": "stream",
     "text": [
      "Difference:  5\n"
     ]
    }
   ],
   "source": [
    "pq.difference()"
   ]
  },
  {
   "cell_type": "code",
   "execution_count": null,
   "id": "e7a5270c",
   "metadata": {},
   "outputs": [],
   "source": []
  },
  {
   "cell_type": "code",
   "execution_count": null,
   "id": "8d0f7301",
   "metadata": {},
   "outputs": [],
   "source": []
  },
  {
   "cell_type": "code",
   "execution_count": 65,
   "id": "3d6556ca",
   "metadata": {},
   "outputs": [],
   "source": [
    "class Member:\n",
    "    def __init__(self):\n",
    "        self.name=None\n",
    "        self.age=0\n",
    "        self.phoneno=0\n",
    "        self.address=None\n",
    "        self.salary=0\n",
    "        \n",
    "    def EnterDetails(self):\n",
    "        self.name=input(\"Enter the Name: \")\n",
    "        self.age=int(input(\"Enter the Age: \"))\n",
    "        self.phoneno=int(input(\"Enter the phone no: \"))\n",
    "        self.address=input(\"Enter the Address: \")\n",
    "        self.salary=int(input(\"Enter the Salary: \"))\n",
    "        \n",
    "    def printSalary(self):\n",
    "        print(\"Salary of the Member: \",self.salary)\n",
    "        \n",
    "        "
   ]
  },
  {
   "cell_type": "code",
   "execution_count": 66,
   "id": "09daa321",
   "metadata": {},
   "outputs": [],
   "source": [
    "class Employee(Member):\n",
    "    def specialisation(self):\n",
    "        print(\"Specialisation in Big Data Analysis\")\n",
    "        "
   ]
  },
  {
   "cell_type": "code",
   "execution_count": 67,
   "id": "2318691e",
   "metadata": {},
   "outputs": [],
   "source": [
    "class Manager(Member):\n",
    "     def department(self):\n",
    "        print(\"Data Scientist\")"
   ]
  },
  {
   "cell_type": "code",
   "execution_count": 68,
   "id": "8430ab60",
   "metadata": {},
   "outputs": [],
   "source": [
    "emp=Employee()"
   ]
  },
  {
   "cell_type": "code",
   "execution_count": 69,
   "id": "6f91e60c",
   "metadata": {},
   "outputs": [
    {
     "name": "stdout",
     "output_type": "stream",
     "text": [
      "Enter the Name: Sarvesh Mayekar\n",
      "Enter the Age: 22\n",
      "Enter the phone no: 8605207402\n",
      "Enter the Address: Roha\n",
      "Enter the Salary: 200000\n"
     ]
    }
   ],
   "source": [
    "emp.EnterDetails()"
   ]
  },
  {
   "cell_type": "code",
   "execution_count": 70,
   "id": "611700a9",
   "metadata": {},
   "outputs": [
    {
     "name": "stdout",
     "output_type": "stream",
     "text": [
      "Salary of the Member:  200000\n"
     ]
    }
   ],
   "source": [
    "emp.printSalary()"
   ]
  },
  {
   "cell_type": "code",
   "execution_count": 71,
   "id": "ada0c62b",
   "metadata": {},
   "outputs": [],
   "source": [
    "man=Manager()"
   ]
  },
  {
   "cell_type": "code",
   "execution_count": 72,
   "id": "0a821822",
   "metadata": {},
   "outputs": [
    {
     "name": "stdout",
     "output_type": "stream",
     "text": [
      "Enter the Name: Ketan Saptasagare\n",
      "Enter the Age: 25\n",
      "Enter the phone no: 13442555\n",
      "Enter the Address: Pune\n",
      "Enter the Salary: 30000\n"
     ]
    }
   ],
   "source": [
    "man.EnterDetails()"
   ]
  },
  {
   "cell_type": "code",
   "execution_count": 73,
   "id": "21aa0253",
   "metadata": {},
   "outputs": [
    {
     "name": "stdout",
     "output_type": "stream",
     "text": [
      "Salary of the Member:  30000\n"
     ]
    }
   ],
   "source": [
    "man.printSalary()"
   ]
  },
  {
   "cell_type": "code",
   "execution_count": null,
   "id": "98c43317",
   "metadata": {},
   "outputs": [],
   "source": []
  },
  {
   "cell_type": "code",
   "execution_count": 158,
   "id": "7ec5eb6e",
   "metadata": {},
   "outputs": [],
   "source": [
    "class Square:\n",
    "    def __init__(self):\n",
    "        self.side=None\n",
    "        \n",
    "    def area(self,a):\n",
    "        self.side=a\n",
    "        self.squ=self.side*self.side\n",
    "      \n",
    "    def display(self):\n",
    "        print(\"Area of circle \",self.squ)\n",
    " "
   ]
  },
  {
   "cell_type": "code",
   "execution_count": 159,
   "id": "847d2f26",
   "metadata": {},
   "outputs": [],
   "source": [
    "class Cube(Square):\n",
    "     def area(self):\n",
    "       # super().area()\n",
    "        self.side=int(input(\"Enter the cube size: \"))\n",
    "        super().area(self.side)\n",
    "        super().display()\n",
    "        self.squ=6*(self.side*self.side)\n",
    "        print(\"Area of Cube \",self.squ)\n",
    "        "
   ]
  },
  {
   "cell_type": "code",
   "execution_count": 160,
   "id": "5e138675",
   "metadata": {},
   "outputs": [],
   "source": [
    "cb=Cube()"
   ]
  },
  {
   "cell_type": "code",
   "execution_count": 161,
   "id": "d82aeeb2",
   "metadata": {
    "scrolled": true
   },
   "outputs": [
    {
     "name": "stdout",
     "output_type": "stream",
     "text": [
      "Enter the cube size: 10\n",
      "Area of circle  100\n",
      "Area of Cube  600\n"
     ]
    }
   ],
   "source": [
    "cb.area()"
   ]
  },
  {
   "cell_type": "code",
   "execution_count": null,
   "id": "d46c2cfd",
   "metadata": {},
   "outputs": [],
   "source": []
  },
  {
   "cell_type": "code",
   "execution_count": 175,
   "id": "61239385",
   "metadata": {},
   "outputs": [],
   "source": [
    "class A:\n",
    "    def dismsg(self):\n",
    "        print(\"Output from class A\")\n",
    "        "
   ]
  },
  {
   "cell_type": "code",
   "execution_count": 176,
   "id": "f51842d7",
   "metadata": {},
   "outputs": [],
   "source": [
    "class B(A):\n",
    "    def dismsg(self):\n",
    "        super().dismsg()\n",
    "        print(\"Output from class B\")"
   ]
  },
  {
   "cell_type": "code",
   "execution_count": 177,
   "id": "84455b28",
   "metadata": {},
   "outputs": [],
   "source": [
    "class C(B):\n",
    "    def dismsg(self):\n",
    "        super().dismsg()\n",
    "        print(\"Output from class C\")"
   ]
  },
  {
   "cell_type": "code",
   "execution_count": 178,
   "id": "6445c7bf",
   "metadata": {},
   "outputs": [],
   "source": [
    "bb=B()"
   ]
  },
  {
   "cell_type": "code",
   "execution_count": 179,
   "id": "e341585d",
   "metadata": {},
   "outputs": [],
   "source": [
    "cc=C()"
   ]
  },
  {
   "cell_type": "code",
   "execution_count": 180,
   "id": "598dbdef",
   "metadata": {},
   "outputs": [
    {
     "name": "stdout",
     "output_type": "stream",
     "text": [
      "Output from class A\n",
      "Output from class B\n"
     ]
    }
   ],
   "source": [
    "bb.dismsg()"
   ]
  },
  {
   "cell_type": "code",
   "execution_count": 181,
   "id": "722cf615",
   "metadata": {},
   "outputs": [
    {
     "name": "stdout",
     "output_type": "stream",
     "text": [
      "Output from class A\n",
      "Output from class B\n",
      "Output from class C\n"
     ]
    }
   ],
   "source": [
    "cc.dismsg()"
   ]
  },
  {
   "cell_type": "code",
   "execution_count": null,
   "id": "4341cd68",
   "metadata": {},
   "outputs": [],
   "source": []
  },
  {
   "cell_type": "code",
   "execution_count": 2,
   "id": "5ce56cde",
   "metadata": {},
   "outputs": [],
   "source": [
    "class Account:\n",
    "    def __init__(self):\n",
    "        self.accNo=0\n",
    "        self.Name=None\n",
    "        self.accType=None\n",
    "        self.accBalance=0\n",
    "        self.deposit=0\n",
    "        self.withdraw=0\n",
    "        \n",
    "    def dataEntry(self):\n",
    "        self.accNo=int(input(\"Enter the Account Number: \"))\n",
    "        self.Name=input(\"Enter the Name: \")\n",
    "        self.accType=input(\"Enter the Account Type: \")\n",
    "        self.accBalance=int(input(\"Enter the Account Balance: \"))\n",
    "\n",
    "    def checkBalance(self):\n",
    "        print(\"Current Balance: \",self.accBalance)\n",
    "        \n",
    "    "
   ]
  },
  {
   "cell_type": "code",
   "execution_count": 3,
   "id": "445af435",
   "metadata": {},
   "outputs": [],
   "source": [
    "class SavingsAccount(Account):\n",
    "    def moneyDeposit(self):\n",
    "        self.deposit=int(input(\"Enter the Deposit Amount: \"))\n",
    "        if(self.deposit < 50000):\n",
    "            self.accBalance=self.accBalance+self.deposit\n",
    "            print(\"Updated Balance \",self.accBalance)\n",
    "        else:\n",
    "            print(\"Deposit amount must be less than 50000\")\n",
    "        \n",
    "    def moneyWithdrawal(self):\n",
    "        self.withdraw=int(input(\"Enter the Withdrawal Amount: \"))\n",
    "        if(self.accBalance < 1000):\n",
    "            print(\"Insufficient Balance\")\n",
    "        else:\n",
    "            self.accBalance=self.accBalance-self.withdraw\n",
    "            print(\"Balance after withdrawal \",self.accBalance)\n",
    "        \n",
    "            "
   ]
  },
  {
   "cell_type": "code",
   "execution_count": 4,
   "id": "d060bc41",
   "metadata": {},
   "outputs": [],
   "source": [
    "class PrevilegedAccount(Account):\n",
    "    \n",
    "    def pDeposit(self):\n",
    "        self.deposit=int(input(\"Enter the Deposit Amount: \"))\n",
    "        self.accBalance=self.accBalance+self.deposit\n",
    "        print(\"Updated Balance of previleged account \",self.accBalance)\n",
    "        \n",
    "    def pWithdraw(self):\n",
    "        self.withdraw=int(input(\"Enter the Withdrawal Amount: \"))\n",
    "        if(self.accBalance - self.withdraw < 5000):\n",
    "              print(\"Failed!! Remaining Balance must be greater than 5000\")\n",
    "        else:\n",
    "            self.accBalance=self.accBalance-self.withdraw\n",
    "            print(\"Remaining Balance: \",self.accBalance)\n",
    "            "
   ]
  },
  {
   "cell_type": "code",
   "execution_count": 5,
   "id": "0b08ade8",
   "metadata": {},
   "outputs": [],
   "source": [
    "sv=SavingsAccount()"
   ]
  },
  {
   "cell_type": "code",
   "execution_count": 6,
   "id": "0e681e90",
   "metadata": {},
   "outputs": [
    {
     "name": "stdout",
     "output_type": "stream",
     "text": [
      "Enter the Account Number: 142325\n",
      "Enter the Name: abhi\n",
      "Enter the Account Type: salary\n",
      "Enter the Account Balance: 999\n"
     ]
    }
   ],
   "source": [
    "sv.dataEntry()"
   ]
  },
  {
   "cell_type": "code",
   "execution_count": 7,
   "id": "37615060",
   "metadata": {},
   "outputs": [
    {
     "name": "stdout",
     "output_type": "stream",
     "text": [
      "Current Balance:  999\n"
     ]
    }
   ],
   "source": [
    "sv.checkBalance()"
   ]
  },
  {
   "cell_type": "code",
   "execution_count": null,
   "id": "41206b84",
   "metadata": {},
   "outputs": [],
   "source": [
    "sv.moneyDeposit()"
   ]
  },
  {
   "cell_type": "code",
   "execution_count": 8,
   "id": "e08c89a5",
   "metadata": {},
   "outputs": [
    {
     "name": "stdout",
     "output_type": "stream",
     "text": [
      "Enter the Withdrawal Amount: 100\n",
      "Insufficient Balance\n"
     ]
    }
   ],
   "source": [
    "sv.moneyWithdrawal()"
   ]
  },
  {
   "cell_type": "code",
   "execution_count": 9,
   "id": "3ccd9ec0",
   "metadata": {},
   "outputs": [],
   "source": [
    "pv=PrevilegedAccount()"
   ]
  },
  {
   "cell_type": "code",
   "execution_count": 10,
   "id": "8b32382b",
   "metadata": {},
   "outputs": [
    {
     "name": "stdout",
     "output_type": "stream",
     "text": [
      "Enter the Account Number: 1424324\n",
      "Enter the Name: Panoti\n",
      "Enter the Account Type: Savings\n",
      "Enter the Account Balance: 20000\n"
     ]
    }
   ],
   "source": [
    "pv.dataEntry()"
   ]
  },
  {
   "cell_type": "code",
   "execution_count": 11,
   "id": "28b083a4",
   "metadata": {},
   "outputs": [
    {
     "name": "stdout",
     "output_type": "stream",
     "text": [
      "Current Balance:  20000\n"
     ]
    }
   ],
   "source": [
    "pv.checkBalance()"
   ]
  },
  {
   "cell_type": "code",
   "execution_count": 13,
   "id": "b2a10992",
   "metadata": {},
   "outputs": [
    {
     "name": "stdout",
     "output_type": "stream",
     "text": [
      "Enter the Deposit Amount: 20000\n",
      "Updated Balance of previleged account  100000\n"
     ]
    }
   ],
   "source": [
    "pv.pDeposit()"
   ]
  },
  {
   "cell_type": "code",
   "execution_count": 14,
   "id": "854bd294",
   "metadata": {},
   "outputs": [
    {
     "name": "stdout",
     "output_type": "stream",
     "text": [
      "Enter the Withdrawal Amount: 105000\n",
      "Failed!! Remaining Balance must be greater than 5000\n"
     ]
    }
   ],
   "source": [
    "pv.pWithdraw()"
   ]
  },
  {
   "cell_type": "code",
   "execution_count": null,
   "id": "8f2ed372",
   "metadata": {},
   "outputs": [],
   "source": []
  }
 ],
 "metadata": {
  "kernelspec": {
   "display_name": "Python 3 (ipykernel)",
   "language": "python",
   "name": "python3"
  },
  "language_info": {
   "codemirror_mode": {
    "name": "ipython",
    "version": 3
   },
   "file_extension": ".py",
   "mimetype": "text/x-python",
   "name": "python",
   "nbconvert_exporter": "python",
   "pygments_lexer": "ipython3",
   "version": "3.9.13"
  }
 },
 "nbformat": 4,
 "nbformat_minor": 5
}

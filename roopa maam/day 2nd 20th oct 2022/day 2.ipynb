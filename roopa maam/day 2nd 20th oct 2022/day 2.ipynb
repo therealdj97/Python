{
 "cells": [
  {
   "cell_type": "code",
   "execution_count": null,
   "id": "ad12330b",
   "metadata": {},
   "outputs": [],
   "source": [
    "#day 1 was introduction to python \n"
   ]
  },
  {
   "cell_type": "code",
   "execution_count": null,
   "id": "0e68e5c7",
   "metadata": {},
   "outputs": [],
   "source": [
    "2 Write a program that reads two numbers and an arithmetic operator and displays the computed\n",
    "result"
   ]
  },
  {
   "cell_type": "code",
   "execution_count": null,
   "id": "f31d8b90",
   "metadata": {},
   "outputs": [],
   "source": [
    "a=int(input(\"Enter value for a\"))\n",
    "b=int(input(\"Enter value for b\"))\n",
    "c=(input(\"Enter operation to be performed like +*/- **\"))\n",
    "\n",
    "if c==\"*\":\n",
    "    #print('multiplication of',a,'and',b,'is',a*b)\n",
    "    #print('multiplication of',a,'and',b,'is',a*b)\n",
    "    print(\"multiplication of %d and %d is %d\" %(a,b,a*b))\n",
    "elif c==\"+\":\n",
    "    print('Addition of %d and %d is'%(a,b,a+b))\n",
    "elif c==\"/\":\n",
    "    print(\"division of %d and %d  is \"%(a,b,a/b))\n",
    "elif c==\"-\":\n",
    "    print(\"subtraction of %d and %d  is \"%(a,b,a-b))\n",
    "elif c==\"**\":\n",
    "    print(\"exponential of %d and %d  is \"%(a,b,a**b))\n",
    "else:\n",
    "    print(\"enter correct input\")"
   ]
  },
  {
   "cell_type": "code",
   "execution_count": null,
   "id": "31fef65b",
   "metadata": {},
   "outputs": [],
   "source": []
  },
  {
   "cell_type": "code",
   "execution_count": null,
   "id": "4f1d6264",
   "metadata": {},
   "outputs": [],
   "source": [
    "a = int(input(\"Enter the year to be checked\"))\n",
    "if a%4==0:\n",
    "    print(\"%d is a leap year\"%a)\n",
    "else:\n",
    "    print(\"year is not a leap year\")"
   ]
  },
  {
   "cell_type": "code",
   "execution_count": null,
   "id": "f7fc8321",
   "metadata": {},
   "outputs": [],
   "source": [
    "a = int(input(\"enter a number\"))\n",
    "if a == 0:\n",
    "    print(\"number is zero\")\n",
    "elif a>0:\n",
    "    print(\"number is +ve\")\n",
    "elif a<0:\n",
    "    print(\"number is -ve\")"
   ]
  },
  {
   "cell_type": "code",
   "execution_count": null,
   "id": "91c8c87d",
   "metadata": {},
   "outputs": [],
   "source": [
    "a = input(\"enter an alphabet \")\n",
    "b = input(\"enter a string \")\n",
    "if a in b:\n",
    "    print(\"entered character is present in string\")\n",
    "else:\n",
    "    print(\"not present\")\n",
    "    "
   ]
  },
  {
   "cell_type": "code",
   "execution_count": null,
   "id": "546c8f16",
   "metadata": {},
   "outputs": [],
   "source": [
    "a = input(\"enter an alphabet \")\n",
    "b = input(\"enter a string \")\n",
    "for n in b:\n",
    "    if n==a:\n",
    "        print(\"entered alphabet is present in string \") \n",
    "        break\n",
    "    else:\n",
    "        print(\"entered alphabet inst present in string\")\n",
    "        break"
   ]
  },
  {
   "cell_type": "code",
   "execution_count": null,
   "id": "a0c1a9b3",
   "metadata": {},
   "outputs": [],
   "source": [
    "a = int(input(\"Enter a number\"))\n",
    "b = int(input(\"Enter a number\"))\n",
    "c = int(input(\"Enter a number\"))\n",
    "\n",
    "if a>b:\n",
    "    print(\"b is greater than a\")\n",
    "    if a>c:\n",
    "        print(\"a is greatest\")\n",
    "    else:\n",
    "        print(\"b is greatest\")\n",
    "else:\n",
    "    if b>c:\n",
    "        print(\"b is greatest\")\n",
    "    else:\n",
    "        print(\"c is greatest\")\n",
    "\n",
    "        "
   ]
  },
  {
   "cell_type": "markdown",
   "id": "8a1aa803",
   "metadata": {},
   "source": [
    "##### 3 in [1,2,3,4]"
   ]
  },
  {
   "cell_type": "code",
   "execution_count": null,
   "id": "c0687883",
   "metadata": {},
   "outputs": [],
   "source": [
    "4 in [1,2]"
   ]
  },
  {
   "cell_type": "code",
   "execution_count": null,
   "id": "df8cae95",
   "metadata": {},
   "outputs": [],
   "source": [
    "if a>b:\n",
    "    if a>c:\n",
    "        print(a,\"is the greatest among all\")\n",
    "    else:\n",
    "        print(c,\"is the greatest among all\")\n",
    "else:\n",
    "    if b>c:\n",
    "        print(b,\"is the greatest among all\")\n",
    "    else:\n",
    "        print(c,\"is the greatest among all\")"
   ]
  },
  {
   "cell_type": "code",
   "execution_count": null,
   "id": "617c192d",
   "metadata": {},
   "outputs": [],
   "source": []
  },
  {
   "cell_type": "code",
   "execution_count": 4,
   "id": "d7126e71",
   "metadata": {},
   "outputs": [
    {
     "name": "stdout",
     "output_type": "stream",
     "text": [
      "1\n",
      "2\n",
      "3\n",
      "4\n",
      "5\n",
      "6\n",
      "7\n",
      "8\n",
      "9\n",
      "10\n",
      "11\n",
      "12\n",
      "13\n",
      "14\n",
      "15\n",
      "16\n",
      "17\n",
      "18\n",
      "19\n",
      "20\n",
      "21\n",
      "22\n",
      "23\n",
      "24\n",
      "25\n",
      "26\n",
      "27\n",
      "28\n",
      "29\n",
      "30\n",
      "31\n",
      "32\n",
      "33\n",
      "34\n",
      "35\n",
      "36\n",
      "37\n",
      "38\n",
      "39\n",
      "40\n",
      "41\n",
      "42\n",
      "43\n",
      "44\n",
      "45\n",
      "46\n",
      "47\n",
      "48\n",
      "49\n",
      "50\n",
      "51\n",
      "52\n",
      "53\n",
      "54\n",
      "55\n",
      "56\n",
      "57\n",
      "58\n",
      "59\n",
      "60\n",
      "61\n",
      "62\n",
      "63\n",
      "64\n",
      "65\n",
      "66\n",
      "67\n",
      "68\n",
      "69\n",
      "70\n",
      "71\n",
      "72\n",
      "73\n",
      "74\n",
      "75\n",
      "76\n",
      "77\n",
      "78\n",
      "79\n",
      "80\n",
      "81\n",
      "82\n",
      "83\n",
      "84\n",
      "85\n",
      "86\n",
      "87\n",
      "88\n",
      "89\n",
      "90\n",
      "91\n",
      "92\n",
      "93\n",
      "94\n",
      "95\n",
      "96\n",
      "97\n",
      "98\n",
      "99\n",
      "100\n",
      "101\n",
      "102\n",
      "103\n",
      "104\n",
      "105\n",
      "106\n",
      "107\n",
      "108\n",
      "109\n",
      "110\n",
      "111\n",
      "112\n",
      "113\n",
      "114\n",
      "115\n",
      "116\n",
      "117\n",
      "118\n",
      "119\n",
      "120\n",
      "121\n",
      "122\n",
      "123\n",
      "124\n",
      "125\n",
      "126\n",
      "127\n",
      "128\n",
      "129\n",
      "130\n",
      "131\n",
      "132\n",
      "133\n",
      "134\n",
      "135\n",
      "136\n",
      "137\n",
      "138\n",
      "139\n",
      "140\n",
      "141\n",
      "142\n",
      "143\n",
      "144\n",
      "145\n",
      "146\n",
      "147\n",
      "148\n",
      "149\n",
      "150\n",
      "151\n",
      "152\n",
      "153\n",
      "154\n",
      "155\n",
      "156\n",
      "157\n",
      "158\n",
      "159\n",
      "160\n",
      "161\n",
      "162\n",
      "163\n",
      "164\n",
      "165\n",
      "166\n",
      "167\n",
      "168\n",
      "169\n",
      "170\n",
      "171\n",
      "172\n",
      "173\n",
      "174\n",
      "175\n",
      "176\n",
      "177\n",
      "178\n",
      "179\n",
      "180\n",
      "181\n",
      "182\n",
      "183\n",
      "184\n",
      "185\n",
      "186\n",
      "187\n",
      "188\n",
      "189\n",
      "190\n",
      "191\n",
      "192\n",
      "193\n",
      "194\n",
      "195\n",
      "196\n",
      "197\n",
      "198\n",
      "199\n",
      "200\n"
     ]
    }
   ],
   "source": [
    "i=1\n",
    "while i <=200:\n",
    "    print(i)\n",
    "    i+=1"
   ]
  },
  {
   "cell_type": "code",
   "execution_count": 24,
   "id": "16651e9e",
   "metadata": {},
   "outputs": [
    {
     "name": "stdout",
     "output_type": "stream",
     "text": [
      "1591317212529333741454953"
     ]
    }
   ],
   "source": [
    "for i in range(1,200,4):\n",
    "    if i == 57:\n",
    "        break\n",
    "    print(i,end=\"\",sep=\" \") "
   ]
  },
  {
   "cell_type": "code",
   "execution_count": 19,
   "id": "2a8929d6",
   "metadata": {},
   "outputs": [
    {
     "name": "stdout",
     "output_type": "stream",
     "text": [
      "1234567891112131415161718192021222324252627282930313233343536373839404142434445464748495051525354555657585960616263646566676869707172737475767778798081828384858687888990919293949596979899100101102103104105106107108109110111112113114115116117118119120121122123124125126127128129130131132133134135136137138139140141142143144145146147148149150151152153154155156157158159160161162163164165166167168169170171172173174175176177178179180181182183184185186187188189190191192193194195196197198199"
     ]
    }
   ],
   "source": [
    "for i in range (1,200,1):\n",
    "    if i==10:\n",
    "        continue\n",
    "    print(i,end=\"\")"
   ]
  },
  {
   "cell_type": "code",
   "execution_count": 25,
   "id": "580eb6f1",
   "metadata": {},
   "outputs": [
    {
     "ename": "SyntaxError",
     "evalue": "invalid syntax (1275436431.py, line 1)",
     "output_type": "error",
     "traceback": [
      "\u001b[1;36m  Cell \u001b[1;32mIn [25], line 1\u001b[1;36m\u001b[0m\n\u001b[1;33m    Write a program to check whether a number is odd or even\u001b[0m\n\u001b[1;37m          ^\u001b[0m\n\u001b[1;31mSyntaxError\u001b[0m\u001b[1;31m:\u001b[0m invalid syntax\n"
     ]
    }
   ],
   "source": [
    "#1 Write a program to check whether a number is odd or even"
   ]
  },
  {
   "cell_type": "code",
   "execution_count": 29,
   "id": "aa32678b",
   "metadata": {},
   "outputs": [
    {
     "name": "stdout",
     "output_type": "stream",
     "text": [
      "enter a number2\n",
      "number is even\n"
     ]
    }
   ],
   "source": [
    "a = int(input(\"enter a number\"))\n",
    "if a%2== 0:\n",
    "    print(\"number is even\")\n",
    "else:\n",
    "    print(\"number is odd\")"
   ]
  },
  {
   "cell_type": "code",
   "execution_count": 30,
   "id": "52b481f1",
   "metadata": {},
   "outputs": [
    {
     "ename": "SyntaxError",
     "evalue": "invalid syntax (405359001.py, line 1)",
     "output_type": "error",
     "traceback": [
      "\u001b[1;36m  Cell \u001b[1;32mIn [30], line 1\u001b[1;36m\u001b[0m\n\u001b[1;33m    Write a program that reads two numbers and an arithmetic operator and displays the computed\u001b[0m\n\u001b[1;37m          ^\u001b[0m\n\u001b[1;31mSyntaxError\u001b[0m\u001b[1;31m:\u001b[0m invalid syntax\n"
     ]
    }
   ],
   "source": [
    "#Write a program that reads two numbers and an arithmetic operator and displays the computed\n",
    "result"
   ]
  },
  {
   "cell_type": "code",
   "execution_count": 31,
   "id": "417101fa",
   "metadata": {},
   "outputs": [
    {
     "ename": "SyntaxError",
     "evalue": "Missing parentheses in call to 'print'. Did you mean print(...)? (1852129012.py, line 1)",
     "output_type": "error",
     "traceback": [
      "\u001b[1;36m  Cell \u001b[1;32mIn [31], line 1\u001b[1;36m\u001b[0m\n\u001b[1;33m    Write a program to print the multiplication table of a number read\u001b[0m\n\u001b[1;37m                       ^\u001b[0m\n\u001b[1;31mSyntaxError\u001b[0m\u001b[1;31m:\u001b[0m Missing parentheses in call to 'print'. Did you mean print(...)?\n"
     ]
    }
   ],
   "source": [
    "#Write a program to print the multiplication table of a number read"
   ]
  },
  {
   "cell_type": "code",
   "execution_count": null,
   "id": "c83bc433",
   "metadata": {},
   "outputs": [],
   "source": [
    "a = int(input(\"enter a number\"))\n",
    "i=1\n",
    "while i<=10:\n",
    "    print(a*i)\n",
    "    i+=1\n"
   ]
  },
  {
   "cell_type": "code",
   "execution_count": 23,
   "id": "bf89766d",
   "metadata": {},
   "outputs": [],
   "source": [
    "#6 Write a program to input a number and test whether it is prime or not"
   ]
  },
  {
   "cell_type": "code",
   "execution_count": 31,
   "id": "7794354a",
   "metadata": {},
   "outputs": [
    {
     "name": "stdout",
     "output_type": "stream",
     "text": [
      "enter a number9\n",
      "number is prime\n"
     ]
    }
   ],
   "source": [
    "a = int(input(\"enter a number\"))\n",
    "if a>1:\n",
    "    for i in range (2,a):\n",
    "        if a%i==1:\n",
    "            print(\"number is prime\")\n",
    "            break\n",
    "        else:\n",
    "            print(\"number isnt prime\")\n",
    "    "
   ]
  },
  {
   "cell_type": "code",
   "execution_count": null,
   "id": "9605fa54",
   "metadata": {},
   "outputs": [],
   "source": []
  },
  {
   "cell_type": "code",
   "execution_count": null,
   "id": "1f334a8f",
   "metadata": {},
   "outputs": [],
   "source": []
  }
 ],
 "metadata": {
  "kernelspec": {
   "display_name": "Python 3",
   "language": "python",
   "name": "python3"
  },
  "language_info": {
   "codemirror_mode": {
    "name": "ipython",
    "version": 3
   },
   "file_extension": ".py",
   "mimetype": "text/x-python",
   "name": "python",
   "nbconvert_exporter": "python",
   "pygments_lexer": "ipython3",
   "version": "3.10.8 (tags/v3.10.8:aaaf517, Oct 11 2022, 16:50:30) [MSC v.1933 64 bit (AMD64)]"
  },
  "vscode": {
   "interpreter": {
    "hash": "26de051ba29f2982a8de78e945f0abaf191376122a1563185a90213a26c5da77"
   }
  }
 },
 "nbformat": 4,
 "nbformat_minor": 5
}

{
 "cells": [
  {
   "cell_type": "code",
   "execution_count": 1,
   "id": "eea612b3",
   "metadata": {},
   "outputs": [
    {
     "name": "stdout",
     "output_type": "stream",
     "text": [
      "number is odd\n"
     ]
    }
   ],
   "source": [
    "#1 Write a program to check whether a number is odd or even\n",
    "\n",
    "a = int(input(\"enter a number\"))\n",
    "if a%2== 0:\n",
    "    print(\"number is even\")\n",
    "else:\n",
    "    print(\"number is odd\")"
   ]
  },
  {
   "cell_type": "code",
   "execution_count": 2,
   "id": "3c59fe87",
   "metadata": {},
   "outputs": [
    {
     "name": "stdout",
     "output_type": "stream",
     "text": [
      "multiplication of 56 and 66 is 3696\n"
     ]
    }
   ],
   "source": [
    "#2 Write a program that reads two numbers and an arithmetic operator and displays the computed result\n",
    "\n",
    "a=int(input(\"Enter value for a\"))\n",
    "b=int(input(\"Enter value for b\"))\n",
    "c=(input(\"Enter operation to be performed like + * / -  ** \"))\n",
    "\n",
    "if c==\"*\":\n",
    "    print(\"multiplication of %d and %d is %d\" %(a,b,a*b))\n",
    "elif c==\"+\":\n",
    "    print(\"Addition of %d and %d is %d\" %(a,b,a+b))\n",
    "elif c==\"/\":\n",
    "    print( 'division of %d and %d  is %d' %(a,b,a/b))\n",
    "elif c==\"-\":\n",
    "    print(\"subtraction of %d and %d  is %d\" %(a,b,a-b))\n",
    "elif c==\"**\":\n",
    "    print(\"exponential of %d and %d  is %d\" %(a,b,a**b))\n",
    "else:\n",
    "    print(\"enter correct input\")"
   ]
  },
  {
   "cell_type": "code",
   "execution_count": 3,
   "id": "2b88ba6b",
   "metadata": {},
   "outputs": [
    {
     "name": "stdout",
     "output_type": "stream",
     "text": [
      "The solution are -0.48-0.71j and -0.48+0.71j\n"
     ]
    }
   ],
   "source": [
    "#3 Write a program to calculate and print roots of a quadratic equation ax 2 +bx+c=0(a should not be equal to zero)\n",
    "\n",
    "import cmath\n",
    "a = int(input(\"Enter 1st value\"))\n",
    "b = int(input(\"Enter 2nd value\"))\n",
    "c = int(input(\"Enter 3rd value\"))\n",
    "\n",
    "d = (b**2) - (4*a*c)\n",
    "x1 = (-b-cmath.sqrt(d))/(2*a)\n",
    "x2 = (-b+cmath.sqrt(d))/(2*a)\n",
    "\n",
    "print('The solution are {0:.2f} and {1:.2f}'.format(x1,x2))"
   ]
  },
  {
   "cell_type": "code",
   "execution_count": 4,
   "id": "5d8518ef",
   "metadata": {},
   "outputs": [
    {
     "name": "stdout",
     "output_type": "stream",
     "text": [
      "56\n",
      "112\n",
      "168\n",
      "224\n",
      "280\n",
      "336\n",
      "392\n",
      "448\n",
      "504\n",
      "560\n"
     ]
    }
   ],
   "source": [
    "#4. Write a program to print the multiplication table of a number read\n",
    "\n",
    "a = int(input(\"enter a number\"))\n",
    "i=1\n",
    "while i<=10:\n",
    "    print(a*i)\n",
    "    i+=1"
   ]
  },
  {
   "cell_type": "code",
   "execution_count": 5,
   "id": "0da7ecb9",
   "metadata": {},
   "outputs": [
    {
     "name": "stdout",
     "output_type": "stream",
     "text": [
      "Sum of even numbers is 12\n",
      "Sum of odd numbers is 9\n"
     ]
    }
   ],
   "source": [
    "#5. Write a program to calculate and print the sums of even and odd integers of the first n natural numbers\n",
    "\n",
    "a = int(input(\"enter a number\"))\n",
    "sumOdd=0\n",
    "sumEven=0 \n",
    "for i in range(0,a+1):\n",
    "    if i%2==0:\n",
    "        sumEven+=i\n",
    "    elif i%2!=0:\n",
    "        sumOdd+=i\n",
    "print(\"Sum of even numbers is\",sumEven)\n",
    "print(\"Sum of odd numbers is\",sumOdd) "
   ]
  },
  {
   "cell_type": "code",
   "execution_count": 6,
   "id": "24f4cad6",
   "metadata": {},
   "outputs": [
    {
     "ename": "ValueError",
     "evalue": "invalid literal for int() with base 10: ''",
     "output_type": "error",
     "traceback": [
      "\u001b[1;31m---------------------------------------------------------------------------\u001b[0m",
      "\u001b[1;31mValueError\u001b[0m                                Traceback (most recent call last)",
      "\u001b[1;32md:\\c-dac-pgdbda\\python\\roopa maam\\day 1 19th oct 2022\\dhiraj johare_assignment1.ipynb Cell 6\u001b[0m in \u001b[0;36m3\n\u001b[0;32m      <a href='vscode-notebook-cell:/d%3A/c-dac-pgdbda/python/roopa%20maam/day%201%2019th%20oct%202022/dhiraj%20johare_assignment1.ipynb#W5sZmlsZQ%3D%3D?line=0'>1</a>\u001b[0m \u001b[39m#6. Write a program to input a number and test whether it is prime or not\u001b[39;00m\n\u001b[1;32m----> <a href='vscode-notebook-cell:/d%3A/c-dac-pgdbda/python/roopa%20maam/day%201%2019th%20oct%202022/dhiraj%20johare_assignment1.ipynb#W5sZmlsZQ%3D%3D?line=2'>3</a>\u001b[0m a \u001b[39m=\u001b[39m \u001b[39mint\u001b[39;49m(\u001b[39minput\u001b[39;49m(\u001b[39m\"\u001b[39;49m\u001b[39menter a number\u001b[39;49m\u001b[39m\"\u001b[39;49m))\n\u001b[0;32m      <a href='vscode-notebook-cell:/d%3A/c-dac-pgdbda/python/roopa%20maam/day%201%2019th%20oct%202022/dhiraj%20johare_assignment1.ipynb#W5sZmlsZQ%3D%3D?line=3'>4</a>\u001b[0m \u001b[39mif\u001b[39;00m a\u001b[39m>\u001b[39m\u001b[39m1\u001b[39m:\n\u001b[0;32m      <a href='vscode-notebook-cell:/d%3A/c-dac-pgdbda/python/roopa%20maam/day%201%2019th%20oct%202022/dhiraj%20johare_assignment1.ipynb#W5sZmlsZQ%3D%3D?line=4'>5</a>\u001b[0m     \u001b[39mfor\u001b[39;00m i \u001b[39min\u001b[39;00m \u001b[39mrange\u001b[39m (\u001b[39m2\u001b[39m,\u001b[39mint\u001b[39m(a\u001b[39m/\u001b[39m\u001b[39m2\u001b[39m)\u001b[39m+\u001b[39m\u001b[39m1\u001b[39m):\n",
      "\u001b[1;31mValueError\u001b[0m: invalid literal for int() with base 10: ''"
     ]
    }
   ],
   "source": [
    "#6. Write a program to input a number and test whether it is prime or not\n",
    "\n",
    "a = int(input(\"enter a number\"))\n",
    "if a>1:\n",
    "    for i in range (2,int(a/2)+1):\n",
    "        if a%i==0:\n",
    "            print(\"number is not  prime\")\n",
    "            break\n",
    "    else:\n",
    "        print(\"number is prime\")\n",
    "else:\n",
    "    print(\"number is not prime\")"
   ]
  },
  {
   "cell_type": "code",
   "execution_count": null,
   "id": "e3b0edd6",
   "metadata": {},
   "outputs": [],
   "source": [
    "#7. Write a program that prints the prime numbers from 15 through 25\n",
    "\n",
    "for n in range(15,25):\n",
    "    x=0\n",
    "    for i in range(2,n//2+1):\n",
    "        if n%i==0:\n",
    "            x+=1\n",
    "    if x==0:\n",
    "        print(n)      "
   ]
  },
  {
   "cell_type": "code",
   "execution_count": null,
   "id": "7252d85b",
   "metadata": {},
   "outputs": [],
   "source": [
    "#8. Write a program to print the first 20 elements of the Fibonacci series\n",
    "\n",
    "a = 0\n",
    "b = 1\n",
    "count = 0\n",
    "for i in range(0,20):\n",
    "    print(a,end=\" \")\n",
    "    count = a+b\n",
    "    a=b\n",
    "    b=count"
   ]
  },
  {
   "cell_type": "code",
   "execution_count": null,
   "id": "94e1b60a",
   "metadata": {},
   "outputs": [],
   "source": [
    "#9. Write a program to reverse a number\n",
    "\n",
    "n = int(input(\"enter a number to be reversed \"))\n",
    "p =0\n",
    "\n",
    "while n!=0:\n",
    "    d=n%10\n",
    "    p=p*10+d\n",
    "    n=n//10\n",
    "print(\"reversed nummber is\",p)"
   ]
  },
  {
   "cell_type": "code",
   "execution_count": null,
   "id": "72104f57",
   "metadata": {},
   "outputs": [],
   "source": [
    "#10. Write a program to generate divisors of a number\n",
    "\n",
    "a = int(input(\"enter a number \"))\n",
    "print(\"divisors are numbers \")\n",
    "for i in range(1,a+1):\n",
    "    if a%i==0:\n",
    "        print(i)"
   ]
  },
  {
   "cell_type": "code",
   "execution_count": null,
   "id": "d7144365",
   "metadata": {},
   "outputs": [],
   "source": [
    "\"\"\" 11. Write a program to calculate the BMI of a person after \n",
    "inputting the weight in kgs and height in meters and then print the Nutritional Status as per the following table Nutritional\n",
    "Status BMI Underweight &lt;18.5 Normal 18.5-24.9 Overweight 25-29.9 Obese &gt;=30 BMI =weight / (height 2 )\"\"\"\n",
    "\n",
    "a = float(input(\"Enter weight in kgs \"))\n",
    "b = float(input(\"Enter Height in meters \"))\n",
    "bmi=a/(b**2)\n",
    "if bmi<18.5:\n",
    "    print(\"Underweight\")\n",
    "elif 18.5<bmi<24.9:\n",
    "      print(\"Normal\")\n",
    "elif 25<bmi<29.9:\n",
    "      print(\"OverWeight\")\n",
    "elif bmi<=30:\n",
    "      print(\"Obese\")"
   ]
  },
  {
   "cell_type": "code",
   "execution_count": null,
   "id": "02283f61",
   "metadata": {},
   "outputs": [],
   "source": [
    "#12. Write a program to check whether a number is a perfect number or not\n",
    "\n",
    "s=0\n",
    "a=int(input(\"enter the num\"))\n",
    "for i in range(1,a):\n",
    "    if a%i == 0:\n",
    "        s+=i\n",
    "        #print(s)  used for my knowledge\n",
    "if s==a:\n",
    "    print(\"num is perfect\")\n",
    "else:\n",
    "    print(\"num is not perfect\")"
   ]
  },
  {
   "cell_type": "code",
   "execution_count": null,
   "id": "24c48ea9",
   "metadata": {},
   "outputs": [],
   "source": [
    "#13. Write a program to check whether a number is an Armstrong number or not\n",
    "\n",
    "a = int(input(\"enter a number \"))\n",
    "\n",
    "power=len(str(a)) #typecasted in string to calc length as length of int cant be calc\n",
    "total=0\n",
    "temp=a\n",
    "\n",
    "while a>0:\n",
    "    digit=a%10\n",
    "    total+=digit**power\n",
    "    a=a//10\n",
    "if total==temp:\n",
    "    print(\"number is angstorm\")\n",
    "else:\n",
    "    print(\"number is not angstorm\")"
   ]
  },
  {
   "cell_type": "code",
   "execution_count": null,
   "id": "8ffb2cb2",
   "metadata": {},
   "outputs": [],
   "source": [
    "#14. A store charges Rs 120 per item if you buy less than 10 items. If you buy between 10 and 99 items,the cost is Rs 100 per item.If you buy 100 or more items, the cost is Rs 70 per item. Write a program that asks the user how many items they are buying and the total cost\n",
    "\n",
    "a=int(input(\"enter how many items you want to buy\"))\n",
    "if a<10:\n",
    "    total_cost=120*a\n",
    "    print(total_cost)\n",
    "elif 9<a<100:\n",
    "    total_cost=100*a\n",
    "    print(\"your total cost is :-\",total_cost)\n",
    "elif a>99:\n",
    "    total_cost=70*a\n",
    "    print(\"your total cost is :-\",total_cost)"
   ]
  },
  {
   "cell_type": "code",
   "execution_count": null,
   "id": "2ac2d85c",
   "metadata": {},
   "outputs": [],
   "source": [
    "#15. Write a program to take n (n &gt; 20) as an input from the user. Print numbers from 11 to n. If the number is a multiple of 3 print “Multiple of 3”,if it is a multiple of 7 print “Multiple of 7”, if it is a multiple of both, print multiple of both 3 and 7\n",
    "a=int(input(\"enter number :- \"))\n",
    "for i in range(11,a):\n",
    "    if i%3 == 0:\n",
    "        print(i,\"is multiple of 3\")\n",
    "    if i%7 == 0:\n",
    "         print(i,\"is multiple of 7\")\n",
    "    if i%3==0  and i%7 == 0:\n",
    "         print(i,\"is multiple of both\")"
   ]
  },
  {
   "cell_type": "code",
   "execution_count": null,
   "id": "ae68f289",
   "metadata": {},
   "outputs": [],
   "source": [
    "21\n",
    "\n"
   ]
  }
 ],
 "metadata": {
  "kernelspec": {
   "display_name": "Python 3 (ipykernel)",
   "language": "python",
   "name": "python3"
  },
  "language_info": {
   "codemirror_mode": {
    "name": "ipython",
    "version": 3
   },
   "file_extension": ".py",
   "mimetype": "text/x-python",
   "name": "python",
   "nbconvert_exporter": "python",
   "pygments_lexer": "ipython3",
   "version": "3.10.9"
  }
 },
 "nbformat": 4,
 "nbformat_minor": 5
}

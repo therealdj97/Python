{
 "cells": [
  {
   "cell_type": "code",
   "execution_count": 1,
   "id": "4041c74b",
   "metadata": {},
   "outputs": [
    {
     "name": "stdout",
     "output_type": "stream",
     "text": [
      "[1, 4, 9]\n"
     ]
    }
   ],
   "source": [
    "l=[1,2,3]\n",
    "def prod(x):\n",
    "    return x*x\n",
    "l1=[]\n",
    "for i in l:\n",
    "    x=prod(i)\n",
    "    l1.append(x)\n",
    "print(l1)"
   ]
  },
  {
   "cell_type": "code",
   "execution_count": 3,
   "id": "f0ab7de8",
   "metadata": {},
   "outputs": [
    {
     "name": "stdout",
     "output_type": "stream",
     "text": [
      "[1, 4, 9]\n"
     ]
    }
   ],
   "source": [
    "l=[1,2,3]\n",
    "def prod(x):\n",
    "    return x*x\n",
    "r=list(map(prod,l))\n",
    "print(r)"
   ]
  },
  {
   "cell_type": "code",
   "execution_count": 4,
   "id": "a3c56a58",
   "metadata": {},
   "outputs": [
    {
     "name": "stdout",
     "output_type": "stream",
     "text": [
      "[1, 4, 9]\n"
     ]
    }
   ],
   "source": [
    "l=[1,2,3]\n",
    "\n",
    "print(list(map(lambda x:x*x,l)))"
   ]
  },
  {
   "cell_type": "code",
   "execution_count": 5,
   "id": "3ef7876a",
   "metadata": {},
   "outputs": [
    {
     "name": "stdout",
     "output_type": "stream",
     "text": [
      "['APPLE', 'BALL', 'CAT']\n"
     ]
    }
   ],
   "source": [
    "print(list(map(str.upper,['Apple','Ball','cat'])))"
   ]
  },
  {
   "cell_type": "code",
   "execution_count": 6,
   "id": "3619dcc0",
   "metadata": {},
   "outputs": [
    {
     "name": "stdout",
     "output_type": "stream",
     "text": [
      "[4, 6]\n"
     ]
    }
   ],
   "source": [
    "li=[\"java\",\"python\"]\n",
    "newli=map(lambda x:len(x),li)\n",
    "print(list(newli))"
   ]
  },
  {
   "cell_type": "code",
   "execution_count": 7,
   "id": "d8d83279",
   "metadata": {},
   "outputs": [
    {
     "name": "stdout",
     "output_type": "stream",
     "text": [
      "[1, 4, 9, 16]\n"
     ]
    }
   ],
   "source": [
    "num=[1,2,3,4]\n",
    "sq=[n*n for n in num]\n",
    "print(sq)"
   ]
  },
  {
   "cell_type": "code",
   "execution_count": 8,
   "id": "a52a72bd",
   "metadata": {},
   "outputs": [
    {
     "name": "stdout",
     "output_type": "stream",
     "text": [
      "['P', 'y', 't', 'h', 'o', 'n']\n"
     ]
    }
   ],
   "source": [
    "n_letters=[letter for letter in \"Python\" ]\n",
    "print(n_letters)"
   ]
  },
  {
   "cell_type": "code",
   "execution_count": 9,
   "id": "e3ab4fff",
   "metadata": {},
   "outputs": [
    {
     "name": "stdout",
     "output_type": "stream",
     "text": [
      "['Tesla']\n"
     ]
    }
   ],
   "source": [
    "cars=['Jaguar','Landrover','Tesla','Toyota','Tata']\n",
    "newlist=[x for x in cars if 's' in x]\n",
    "print(newlist)"
   ]
  },
  {
   "cell_type": "code",
   "execution_count": 10,
   "id": "6d865130",
   "metadata": {},
   "outputs": [
    {
     "name": "stdout",
     "output_type": "stream",
     "text": [
      "[2, 4, 6, 8, 10, 12, 14, 16, 18, 20]\n"
     ]
    }
   ],
   "source": [
    "even=[x for x in range(1,21) if x%2==0]\n",
    "print(even)"
   ]
  },
  {
   "cell_type": "code",
   "execution_count": 13,
   "id": "7fb83e5d",
   "metadata": {},
   "outputs": [
    {
     "name": "stdout",
     "output_type": "stream",
     "text": [
      "['Jaguar', 'Landrover', 'Audi', 'Toyota', 'Tata']\n"
     ]
    }
   ],
   "source": [
    "cars=['Jaguar','Landrover','Tesla','Toyota','Tata']\n",
    "\n",
    "newlist=[x if x!='Tesla' else 'Audi' for x in cars ]\n",
    "print(newlist)\n"
   ]
  },
  {
   "cell_type": "code",
   "execution_count": 14,
   "id": "2ec60118",
   "metadata": {},
   "outputs": [
    {
     "name": "stdout",
     "output_type": "stream",
     "text": [
      "[False, True, False, True, False, True, False, True, False, True, False, True, False, True, False, True, False, True, False, True]\n"
     ]
    }
   ],
   "source": [
    "numbers=[i%2==0 for i in range(1,21)]\n",
    "print(numbers)"
   ]
  },
  {
   "cell_type": "code",
   "execution_count": 16,
   "id": "53169938",
   "metadata": {},
   "outputs": [
    {
     "name": "stdout",
     "output_type": "stream",
     "text": [
      "('information_schema',)\n",
      "('cdacdb',)\n",
      "('classicmodels',)\n",
      "('company',)\n",
      "('demo',)\n",
      "('employeedb',)\n",
      "('fkdemo',)\n",
      "('fullstack',)\n",
      "('mysql',)\n",
      "('performance_schema',)\n",
      "('pgdac',)\n",
      "('pgdbda',)\n",
      "('pydb',)\n",
      "('salesdb',)\n",
      "('shoppingcart',)\n",
      "('sys',)\n",
      "('test',)\n",
      "('tklms',)\n",
      "('webtech',)\n"
     ]
    }
   ],
   "source": [
    "import mysql.connector\n",
    "conn_obj=mysql.connector.connect(host=\"localhost\",user=\"root\",passwd=\"\")\n",
    "cur=conn_obj.cursor()\n",
    "cur.execute(\"create database pgdbda\")\n",
    "cur.execute(\"show databases\")\n",
    "for i in cur:\n",
    "    print(i)"
   ]
  },
  {
   "cell_type": "code",
   "execution_count": 17,
   "id": "1d463efb",
   "metadata": {},
   "outputs": [],
   "source": [
    "import mysql.connector\n",
    "conn_obj=mysql.connector.connect(host=\"localhost\",user=\"root\",passwd=\"\",database=\"pgdbda\")\n",
    "cur=conn_obj.cursor()\n",
    "q=\"create table student(rollno int primary key,sname varchar(30),branch varchar(20))\"\n",
    "cur.execute(q)"
   ]
  },
  {
   "cell_type": "code",
   "execution_count": 18,
   "id": "9d63eb7e",
   "metadata": {},
   "outputs": [],
   "source": [
    "q=\"insert into student values(%s,%s,%s)\"\n",
    "v=(100,'Akshay','Mech')\n",
    "cur.execute(q,v)"
   ]
  },
  {
   "cell_type": "code",
   "execution_count": 19,
   "id": "f4051d3b",
   "metadata": {},
   "outputs": [],
   "source": [
    "v=[(101,'Vaibhav','Civil'),(102,'Harshada','ECE'),(103,'Poonam','CSE'),(104,'Sarath','Mech')]\n",
    "cur.executemany(q,v)"
   ]
  },
  {
   "cell_type": "code",
   "execution_count": 20,
   "id": "bf75af3d",
   "metadata": {},
   "outputs": [],
   "source": [
    "q=\"update student set branch='CS' where rollno=104\"\n",
    "cur.execute(q)"
   ]
  },
  {
   "cell_type": "code",
   "execution_count": 21,
   "id": "a86fa3d8",
   "metadata": {},
   "outputs": [],
   "source": [
    "q=\"delete from student where rollno=103\"\n",
    "cur.execute(q)"
   ]
  },
  {
   "cell_type": "code",
   "execution_count": 26,
   "id": "d2e24dd8",
   "metadata": {},
   "outputs": [
    {
     "name": "stdout",
     "output_type": "stream",
     "text": [
      "(100, 'Akshay', 'Mech')\n",
      "(102, 'Harshada', 'ECE')\n"
     ]
    }
   ],
   "source": [
    "q=\"select * from student where sname like '%sh%'\"\n",
    "cur.execute(q)\n",
    "for i in cur:\n",
    "    print(i)"
   ]
  },
  {
   "cell_type": "code",
   "execution_count": null,
   "id": "44353e1a",
   "metadata": {},
   "outputs": [],
   "source": []
  }
 ],
 "metadata": {
  "kernelspec": {
   "display_name": "Python 3 (ipykernel)",
   "language": "python",
   "name": "python3"
  },
  "language_info": {
   "codemirror_mode": {
    "name": "ipython",
    "version": 3
   },
   "file_extension": ".py",
   "mimetype": "text/x-python",
   "name": "python",
   "nbconvert_exporter": "python",
   "pygments_lexer": "ipython3",
   "version": "3.9.10"
  }
 },
 "nbformat": 4,
 "nbformat_minor": 5
}

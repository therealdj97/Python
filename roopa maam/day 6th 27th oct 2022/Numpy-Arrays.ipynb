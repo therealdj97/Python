{
 "cells": [
  {
   "cell_type": "code",
   "execution_count": 4,
   "id": "f1e32b02",
   "metadata": {},
   "outputs": [
    {
     "name": "stdout",
     "output_type": "stream",
     "text": [
      "<built-in function array>\n"
     ]
    }
   ],
   "source": [
    "import numpy as np\n",
    "#import numpy\n",
    "a=np.array\n",
    "print(a)\n"
   ]
  },
  {
   "cell_type": "code",
   "execution_count": 18,
   "id": "0afd2b4d",
   "metadata": {},
   "outputs": [
    {
     "name": "stdout",
     "output_type": "stream",
     "text": [
      "[[ 1  2  3  4  5]\n",
      " [ 4  5  6  7  6]\n",
      " [ 9 10 11 23  8]]\n",
      "2\n",
      "4\n",
      "int32\n",
      "15\n",
      "(3, 5)\n"
     ]
    }
   ],
   "source": [
    "#Array creation and variables\n",
    "a1 = np.array([1, 2, 3])  \n",
    "#print(a1)\n",
    "a2=np.array([[1,2],[3,4]])\n",
    "#print(a2)\n",
    "arr2 = np.array([[1, 2, 3, 4,5], [4, 5, 6, 7,6], [9, 10, 11, 23,8]])  \n",
    "print(arr2)\n",
    "print(a2.ndim)\n",
    "print(arr2.itemsize)\n",
    "print(arr2.dtype)\n",
    "print(arr2.size)\n",
    "print(arr2.shape)"
   ]
  },
  {
   "cell_type": "code",
   "execution_count": 31,
   "id": "0102769c",
   "metadata": {},
   "outputs": [
    {
     "name": "stdout",
     "output_type": "stream",
     "text": [
      "[[1 2]\n",
      " [3 4]\n",
      " [5 6]\n",
      " [8 9]]\n",
      "(4, 2)\n",
      "[[1 2 3 4]\n",
      " [5 6 8 9]]\n",
      "[4 9]\n",
      "[1 2 3 4]\n",
      "[ 6  8 11 13]\n"
     ]
    }
   ],
   "source": [
    "#Array Functions\n",
    "a1=np.array([[1,2],[3,4],[5,6],[8,9]])\n",
    "print(a1)\n",
    "#a1=a3\n",
    "print(a1.shape)\n",
    "a1=a1.reshape(2,4)\n",
    "#print(a2)\n",
    "#print(a2.shape)\n",
    "print(a1)\n",
    "print(a1.max(axis=1))\n",
    "print(a1.min(axis=0))\n",
    "print(a1.sum(axis=0))"
   ]
  },
  {
   "cell_type": "code",
   "execution_count": 53,
   "id": "8fe32e52",
   "metadata": {},
   "outputs": [
    {
     "name": "stdout",
     "output_type": "stream",
     "text": [
      "[2 4 6]\n",
      "[5 6]\n",
      "[ 9 12]\n",
      "[ 3  7 11]\n"
     ]
    }
   ],
   "source": [
    "print(a1.max(axis=1))\n",
    "print(a1.max(axis=0))\n",
    "print(a1.sum(axis=0))\n",
    "print(a1.sum(axis=1))"
   ]
  },
  {
   "cell_type": "code",
   "execution_count": 38,
   "id": "f35d6b59",
   "metadata": {},
   "outputs": [
    {
     "name": "stdout",
     "output_type": "stream",
     "text": [
      "[1 2 3 4 5 6 7]\n",
      "[3 4 5 6 7]\n",
      "[5 6]\n",
      "[1 3 5]\n"
     ]
    }
   ],
   "source": [
    "#Array Slicing\n",
    "arr1 = np.array([1, 2, 3, 4, 5, 6, 7])\n",
    "print(arr1[0:7])\n",
    "print(arr1[2:])\n",
    "print(arr1[-3:-1])\n",
    "print(arr1[0:5:2])\n",
    "#print(arr1[::2])\n",
    "#arr2 = np.array([[1, 2, 3, 4, 5], [6, 7, 8, 9, 10]])\n",
    "#print(arr2[1,1:4])\n",
    "#print(arr2[0:2,1])#From both the elements return index 1\n",
    "#print(arr2[0:2,1:3])"
   ]
  },
  {
   "cell_type": "code",
   "execution_count": 43,
   "id": "17253f4a",
   "metadata": {},
   "outputs": [
    {
     "name": "stdout",
     "output_type": "stream",
     "text": [
      "[[ 2  4  6]\n",
      " [22 34 33]]\n",
      "[[  0   0   0]\n",
      " [ -2  -4 -25]]\n",
      "[[  1   4   9]\n",
      " [120 285 116]]\n",
      "[[1.         1.         1.        ]\n",
      " [0.83333333 0.78947368 0.13793103]]\n"
     ]
    }
   ],
   "source": [
    "#Arithmetic Opearations in array\n",
    "a = np.array([[1,2,3],[10,15,4]])  \n",
    "b = np.array([[1,2,3],[12, 19, 29]])  \n",
    "print(a+b)\n",
    "print(a-b)\n",
    "print(a*b)\n",
    "print(a/b)"
   ]
  },
  {
   "cell_type": "code",
   "execution_count": 55,
   "id": "61a905d8",
   "metadata": {},
   "outputs": [
    {
     "name": "stdout",
     "output_type": "stream",
     "text": [
      "[array([[1, 2, 3, 4, 5, 6]]), array([[11, 12, 13, 14, 15, 16]])]\n",
      "_____________\n"
     ]
    }
   ],
   "source": [
    "#Array Cocatenation and splitting\n",
    "a = np.array([[1,2,30],[10,15,4]])  \n",
    "b = np.array([[1,2,3],[12, 19, 29]])  \n",
    "#print(np.concatenate((a,b)))\n",
    "#print(\"_____________\")\n",
    "#print(np.vstack((a,b)))\n",
    "#print(\"_____________\")\n",
    "#print(np.hstack((a,b)))\n",
    "#print(\"_____________\")\n",
    "#print(np.array_split(a,2))\n",
    "#print(\"_____________\")\n",
    "a1=np.array([[1,2,3,4,5,6],[11,12,13,14,15,16]])\n",
    "print(np.array_split(a1,2))\n",
    "#print(np.hsplit(b,3))\n",
    "#print(np.hsplit(a1,3))\n",
    "print(\"_____________\")"
   ]
  },
  {
   "cell_type": "code",
   "execution_count": 61,
   "id": "d5b7abcf",
   "metadata": {},
   "outputs": [
    {
     "name": "stdout",
     "output_type": "stream",
     "text": [
      "[[1 1]\n",
      " [1 1]\n",
      " [1 1]]\n"
     ]
    }
   ],
   "source": [
    "#Array Creation\n",
    "arr = np.ones((3,2), dtype = int,order='C') \n",
    "print(arr)\n",
    "#arr0=np.zeros((3,3),dtype=int)\n",
    "#print(arr0)"
   ]
  },
  {
   "cell_type": "code",
   "execution_count": 65,
   "id": "4c74cf48",
   "metadata": {},
   "outputs": [
    {
     "name": "stdout",
     "output_type": "stream",
     "text": [
      "[1 2 3]\n"
     ]
    }
   ],
   "source": [
    "#Datatype conversion\n",
    "arr = np.array([1.1, 2.1, 3.1])\n",
    "#print(arr.dtype)\n",
    "#arr1=np.array([1,2,3])\n",
    "newarr = arr.astype('i')\n",
    "#newarr1 = arr1.astype(int)\n",
    "print(newarr)\n",
    "#print(newarr.dtype)"
   ]
  },
  {
   "cell_type": "code",
   "execution_count": 70,
   "id": "e98fcd36",
   "metadata": {},
   "outputs": [
    {
     "name": "stdout",
     "output_type": "stream",
     "text": [
      "<class 'list'>\n",
      "[1 2 3 4]\n"
     ]
    }
   ],
   "source": [
    "#Converting collections to array\n",
    "l=[1,2,3,4,5,6,7]  \n",
    "print(type(l))\n",
    "#print(l)\n",
    "a = np.asarray(l); \n",
    "#print(a)\n",
    "#print(type(a))  \n",
    "#print(a)  \n",
    "t=(1,2,3,4)\n",
    "b=np.asarray(t)\n",
    "print(b)\n",
    "#print(type(b))"
   ]
  },
  {
   "cell_type": "code",
   "execution_count": 74,
   "id": "a5449c9c",
   "metadata": {},
   "outputs": [
    {
     "name": "stdout",
     "output_type": "stream",
     "text": [
      "[0. 1. 2. 3. 4. 5. 6. 7. 8. 9.]\n"
     ]
    }
   ],
   "source": [
    "#Arrays in a range\n",
    "#arr = np.arange(0,10,2,float)  \n",
    "arr = np.arange(0,10,1,float) \n",
    "print(arr)  \n",
    "#arr1 = np.arange(10,100,5,int) \n",
    "#print(arr1)"
   ]
  },
  {
   "cell_type": "code",
   "execution_count": 79,
   "id": "c96a2b6b",
   "metadata": {},
   "outputs": [
    {
     "name": "stdout",
     "output_type": "stream",
     "text": [
      "[[ 1  2  3  4]\n",
      " [ 2  4  5  6]\n",
      " [10 20 39  3]]\n",
      "[[ 1  2 10]\n",
      " [ 2  4 20]\n",
      " [ 3  5 39]\n",
      " [ 4  6  3]]\n"
     ]
    }
   ],
   "source": [
    "#Array iteration\n",
    "a = np.array([[1,2,3,4],[2,4,5,6],[10,20,39,3]])  \n",
    "#print(\"Printing array:\")  \n",
    "print(a)\n",
    "#print(\"Iterating over the array:\")  \n",
    "#for x in np.nditer(a):  \n",
    "    #print(x,end=' ')\n",
    "#print(end=' ')\n",
    "#print(\"-------------------\")\n",
    "at=a.T\n",
    "print(at)"
   ]
  },
  {
   "cell_type": "code",
   "execution_count": 71,
   "id": "1dcb19cf",
   "metadata": {},
   "outputs": [
    {
     "name": "stdout",
     "output_type": "stream",
     "text": [
      "1\n",
      "2\n",
      "3\n",
      "[1 2 3]\n",
      "[4 5 6]\n",
      "[10 11 12]\n"
     ]
    }
   ],
   "source": [
    "#Iterating in arrays\n",
    "arr = np.array([1, 2, 3])\n",
    "for x in arr:\n",
    "    print(x)\n",
    "arr1 = np.array([[1, 2, 3], [4, 5, 6]])\n",
    "for y in arr1:\n",
    "    print(y)\n",
    "arr2 = np.array([[[1, 2, 3], [4, 5, 6]], [[7, 8, 9], [10, 11, 12]]])\n",
    "print(arr2[1,1])"
   ]
  },
  {
   "cell_type": "code",
   "execution_count": 82,
   "id": "1c6fa9f3",
   "metadata": {},
   "outputs": [
    {
     "name": "stdout",
     "output_type": "stream",
     "text": [
      "[43  2  3  4  5]\n",
      "[43  2  3  4  5]\n"
     ]
    }
   ],
   "source": [
    "#Copy VS View\n",
    "arr = np.array([1, 2, 3, 4, 5])\n",
    "x = arr.copy()\n",
    "y = arr.view()\n",
    "#x[0] = 42\n",
    "\n",
    "#print(arr)\n",
    "#print(x)\n",
    "#y = arr.view()\n",
    "y[0] = 43\n",
    "\n",
    "print(arr)\n",
    "print(y)\n",
    "#print(x.base)\n",
    "#print(y.base)"
   ]
  },
  {
   "cell_type": "code",
   "execution_count": 91,
   "id": "33304877",
   "metadata": {},
   "outputs": [
    {
     "name": "stdout",
     "output_type": "stream",
     "text": [
      "[[10  2  3]\n",
      " [ 4  5  6]\n",
      " [ 7  8  9]]\n",
      "(array([1], dtype=int64),)\n"
     ]
    }
   ],
   "source": [
    "#Sorting and Searching\n",
    "a = np.array([[10,2,3],[4,5,6],[7,8,9]])  \n",
    "print(a) \n",
    "#print(\"Sorting along the columns:\")  \n",
    "#print(np.sort(a,0))  \n",
    "  \n",
    "#print(\"Sorting along the rows:\")  \n",
    "#print(np.sort(a, 0))  \n",
    "  \n",
    "#print(np.sort(a)) \n",
    "#print(np.sort(a))\n",
    "arr = np.array([1, 2, 3, 4, 15, 4, 7, 4])\n",
    "x=np.where(arr==2)\n",
    "print(x)\n",
    "#y=np.where(arr%2==1)\n",
    "#print(y)"
   ]
  },
  {
   "cell_type": "code",
   "execution_count": 94,
   "id": "7b1852d1",
   "metadata": {},
   "outputs": [
    {
     "name": "stdout",
     "output_type": "stream",
     "text": [
      "[False  True False  True]\n",
      "[42 44]\n"
     ]
    }
   ],
   "source": [
    "#Array Filtering\n",
    "arr = np.array([41, 42, 43, 44])\n",
    "\n",
    "x = [True, False, True, False]\n",
    "\n",
    "newarr = arr[x]\n",
    "\n",
    "#print(newarr)\n",
    "filter_arr=arr%2==0\n",
    "print(filter_arr)\n",
    "newarr1=arr[filter_arr]\n",
    "print(newarr1)"
   ]
  },
  {
   "cell_type": "code",
   "execution_count": null,
   "id": "d04f3e7c",
   "metadata": {},
   "outputs": [],
   "source": []
  }
 ],
 "metadata": {
  "kernelspec": {
   "display_name": "Python 3",
   "language": "python",
   "name": "python3"
  },
  "language_info": {
   "codemirror_mode": {
    "name": "ipython",
    "version": 3
   },
   "file_extension": ".py",
   "mimetype": "text/x-python",
   "name": "python",
   "nbconvert_exporter": "python",
   "pygments_lexer": "ipython3",
   "version": "3.10.8 (tags/v3.10.8:aaaf517, Oct 11 2022, 16:50:30) [MSC v.1933 64 bit (AMD64)]"
  },
  "vscode": {
   "interpreter": {
    "hash": "26de051ba29f2982a8de78e945f0abaf191376122a1563185a90213a26c5da77"
   }
  }
 },
 "nbformat": 4,
 "nbformat_minor": 5
}

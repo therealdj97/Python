{
 "cells": [
  {
   "cell_type": "markdown",
   "id": "d437b8bc",
   "metadata": {},
   "source": [
    "numpy"
   ]
  },
  {
   "cell_type": "code",
   "execution_count": 3,
   "id": "d1644a2d",
   "metadata": {},
   "outputs": [
    {
     "name": "stdout",
     "output_type": "stream",
     "text": [
      "<built-in function array>\n"
     ]
    }
   ],
   "source": [
    "import numpy as np\n",
    "a=np.array\n",
    "print(a)"
   ]
  },
  {
   "cell_type": "code",
   "execution_count": 56,
   "id": "d0ea3271",
   "metadata": {},
   "outputs": [
    {
     "ename": "TypeError",
     "evalue": "'numpy.ndarray' object is not callable",
     "output_type": "error",
     "traceback": [
      "\u001b[1;31m-----------------------------------------------------------------------\u001b[0m",
      "\u001b[1;31mTypeError\u001b[0m                             Traceback (most recent call last)",
      "Cell \u001b[1;32mIn [56], line 9\u001b[0m\n\u001b[0;32m      5\u001b[0m arr \u001b[38;5;241m=\u001b[39m np\u001b[38;5;241m.\u001b[39marray([[\u001b[38;5;241m1\u001b[39m, \u001b[38;5;241m2\u001b[39m, \u001b[38;5;241m3\u001b[39m], [\u001b[38;5;241m4\u001b[39m, \u001b[38;5;241m5\u001b[39m, \u001b[38;5;241m6\u001b[39m]])\n\u001b[0;32m      6\u001b[0m \u001b[38;5;66;03m#print(arr2)\u001b[39;00m\n\u001b[0;32m      7\u001b[0m \u001b[38;5;66;03m#print(arr.ndim)\u001b[39;00m\n\u001b[0;32m      8\u001b[0m \u001b[38;5;66;03m#print(arr2.itemsize)\u001b[39;00m\n\u001b[1;32m----> 9\u001b[0m \u001b[38;5;28mprint\u001b[39m(\u001b[43ma1\u001b[49m\u001b[43m(\u001b[49m\u001b[43maxis\u001b[49m\u001b[38;5;241;43m=\u001b[39;49m\u001b[38;5;241;43m0\u001b[39;49m\u001b[43m)\u001b[49m)\n",
      "\u001b[1;31mTypeError\u001b[0m: 'numpy.ndarray' object is not callable"
     ]
    }
   ],
   "source": [
    "a1=np.array([1,2,3])\n",
    "#print(a1)\n",
    "arr = np.array([ [ [1, 2, 3], [4, 5, 6] ], [ [1, 2, 3], [4, 5, 6] ] ])\n",
    "arr2=np.array([[1,2,3,4],[4,5,6,7],[9,10,11,23]])\n",
    "arr3 = np.array([[1, 2, 3], [4, 5, 6]])\n",
    "#print(arr2)\n",
    "#print(arr.ndim)\n",
    "#print(arr2.itemsize)\n",
    "print(a1("
   ]
  },
  {
   "cell_type": "code",
   "execution_count": 17,
   "id": "11060d8f",
   "metadata": {},
   "outputs": [
    {
     "name": "stdout",
     "output_type": "stream",
     "text": [
      "1\n",
      "2\n",
      "3\n"
     ]
    }
   ],
   "source": [
    "arr1 = np.array([1, 2, 3, 4, 5])\n",
    "arr2 = np.array([[1, 2, 3], [4, 5, 6]])\n",
    "arr3 = np.array([[[1, 2, 3], [4, 5, 6]], [[1, 2, 3], [4, 5, 6]]])\n",
    "\n",
    "print(arr1.ndim)\n",
    "print(arr2.ndim)\n",
    "print(arr3.ndim)"
   ]
  },
  {
   "cell_type": "code",
   "execution_count": 21,
   "id": "1ca85f8f",
   "metadata": {},
   "outputs": [
    {
     "name": "stdout",
     "output_type": "stream",
     "text": [
      "4 4 4\n"
     ]
    }
   ],
   "source": [
    "#returns number oof elements in an array\n",
    "print(arr1.itemsize,arr2.itemsize,arr3.itemsize)"
   ]
  },
  {
   "cell_type": "code",
   "execution_count": 24,
   "id": "cc92eebf",
   "metadata": {},
   "outputs": [
    {
     "name": "stdout",
     "output_type": "stream",
     "text": [
      "int32 int32 int32\n"
     ]
    }
   ],
   "source": [
    "#datatype of array\n",
    "print(arr.dtype,arr2.dtype,arr3.dtype)"
   ]
  },
  {
   "cell_type": "code",
   "execution_count": 30,
   "id": "59e79d72",
   "metadata": {},
   "outputs": [
    {
     "name": "stdout",
     "output_type": "stream",
     "text": [
      "5 6\n"
     ]
    }
   ],
   "source": [
    "#numbers of ellement in an array\n",
    "print(arr1.size,arr2.size)"
   ]
  },
  {
   "cell_type": "code",
   "execution_count": 33,
   "id": "f4af7610",
   "metadata": {},
   "outputs": [
    {
     "name": "stdout",
     "output_type": "stream",
     "text": [
      "(2, 2, 3)\n"
     ]
    }
   ],
   "source": [
    "print(arr3.shape)"
   ]
  },
  {
   "cell_type": "code",
   "execution_count": 43,
   "id": "fdc944e6",
   "metadata": {},
   "outputs": [
    {
     "data": {
      "text/plain": [
       "21"
      ]
     },
     "execution_count": 43,
     "metadata": {},
     "output_type": "execute_result"
    }
   ],
   "source": [
    "#array function \n",
    "a1=np.array([[1,2],[3,4],[5,6]]) \n",
    "a1.shape\n",
    "a2=a1.reshape(2,3)\n",
    "a2.shape\n",
    "a2\n",
    "a2.max()\n",
    "a1.min()\n",
    "a1.sum()"
   ]
  },
  {
   "cell_type": "code",
   "execution_count": 51,
   "id": "3ccff6b5",
   "metadata": {},
   "outputs": [
    {
     "name": "stdout",
     "output_type": "stream",
     "text": [
      "[[1 2]\n",
      " [3 4]\n",
      " [5 6]] sep [[1 2 3]\n",
      " [4 5 6]]\n"
     ]
    }
   ],
   "source": [
    "print(a1,\"sep\",a2)"
   ]
  },
  {
   "cell_type": "code",
   "execution_count": 53,
   "id": "73ced132",
   "metadata": {},
   "outputs": [
    {
     "ename": "SyntaxError",
     "evalue": "invalid syntax (2419781871.py, line 1)",
     "output_type": "error",
     "traceback": [
      "\u001b[1;36m  Cell \u001b[1;32mIn [53], line 1\u001b[1;36m\u001b[0m\n\u001b[1;33m    print(a1.(axis=1))\u001b[0m\n\u001b[1;37m             ^\u001b[0m\n\u001b[1;31mSyntaxError\u001b[0m\u001b[1;31m:\u001b[0m invalid syntax\n"
     ]
    }
   ],
   "source": [
    "print(a1.(axis=1))"
   ]
  },
  {
   "cell_type": "code",
   "execution_count": 64,
   "id": "b94ec013",
   "metadata": {},
   "outputs": [
    {
     "name": "stdout",
     "output_type": "stream",
     "text": [
      "[1 4]\n",
      "[3 6]\n",
      "[ 6 15]\n"
     ]
    },
    {
     "ename": "AttributeError",
     "evalue": "'numpy.ndarray' object has no attribute 'squareroot'",
     "output_type": "error",
     "traceback": [
      "\u001b[1;31m-----------------------------------------------------------------------\u001b[0m",
      "\u001b[1;31mAttributeError\u001b[0m                        Traceback (most recent call last)",
      "Cell \u001b[1;32mIn [64], line 5\u001b[0m\n\u001b[0;32m      3\u001b[0m \u001b[38;5;28mprint\u001b[39m(arr3\u001b[38;5;241m.\u001b[39mmax(axis\u001b[38;5;241m=\u001b[39m\u001b[38;5;241m1\u001b[39m))\n\u001b[0;32m      4\u001b[0m \u001b[38;5;28mprint\u001b[39m(arr3\u001b[38;5;241m.\u001b[39msum(axis\u001b[38;5;241m=\u001b[39m\u001b[38;5;241m1\u001b[39m))\n\u001b[1;32m----> 5\u001b[0m \u001b[38;5;28mprint\u001b[39m(\u001b[43marr3\u001b[49m\u001b[38;5;241;43m.\u001b[39;49m\u001b[43msquareroot\u001b[49m(axis\u001b[38;5;241m=\u001b[39m\u001b[38;5;241m1\u001b[39m))\n",
      "\u001b[1;31mAttributeError\u001b[0m: 'numpy.ndarray' object has no attribute 'squareroot'"
     ]
    }
   ],
   "source": [
    "arr3 = np.array([[1, 2, 3], [4, 5, 6]])\n",
    "print(arr3.min(axis=1))\n",
    "print(arr3.max(axis=1))\n",
    "print(arr3.sum(axis=1))\n",
    "print(arr3.squareroot(axis=1))\n"
   ]
  },
  {
   "cell_type": "code",
   "execution_count": 70,
   "id": "ecbf2a06",
   "metadata": {},
   "outputs": [
    {
     "name": "stdout",
     "output_type": "stream",
     "text": [
      "(3, 2)\n"
     ]
    },
    {
     "data": {
      "text/plain": [
       "array([[1, 2, 3, 4, 5, 6]])"
      ]
     },
     "execution_count": 70,
     "metadata": {},
     "output_type": "execute_result"
    }
   ],
   "source": [
    "b=np.array([[1,2],[3,4],[5,6]])\n",
    "print(b.shape)\n",
    "b.reshape(1,6)"
   ]
  },
  {
   "cell_type": "code",
   "execution_count": 100,
   "id": "fc214765",
   "metadata": {},
   "outputs": [
    {
     "name": "stdout",
     "output_type": "stream",
     "text": [
      "[1 2 3 4 5 6 7]\n",
      "[3 4 5 6 7]\n",
      "[2 4]\n",
      "[7 8 9]\n"
     ]
    }
   ],
   "source": [
    "# #Array Slicing\n",
    "arr2=np.array([1,2,3,4,5,6,7])\n",
    "#print(arr2[1:4])\n",
    "print(arr2[0:7:1])\n",
    "print(arr2[2:])\n",
    "print(arr1[1:5:2])\n",
    "arr2 = np.array([[1, 2, 3, 4, 5], [6, 7, 8, 9, 10]])\n",
    "print(arr2[1,1:4])\n",
    "# print(arr2[0:2,1])\n",
    "# print(arr2[0:2,1:3])"
   ]
  },
  {
   "cell_type": "code",
   "execution_count": 88,
   "id": "78201661",
   "metadata": {},
   "outputs": [
    {
     "name": "stdout",
     "output_type": "stream",
     "text": [
      "[]\n"
     ]
    }
   ],
   "source": [
    "l=[1,2,3,4,5,6]\n",
    "z=(l[0:6:-1])\n",
    "print(z)"
   ]
  },
  {
   "cell_type": "code",
   "execution_count": 87,
   "id": "6d090678",
   "metadata": {},
   "outputs": [
    {
     "name": "stdout",
     "output_type": "stream",
     "text": [
      "hkiehsihba\n"
     ]
    }
   ],
   "source": [
    "l=\"abhisheikh\"\n",
    "z=(l[::-1])"
   ]
  },
  {
   "cell_type": "code",
   "execution_count": 134,
   "id": "8c09311a",
   "metadata": {},
   "outputs": [
    {
     "name": "stdout",
     "output_type": "stream",
     "text": [
      "(2, 3)\n",
      "(3, 2)\n",
      "[[1 2 3]\n",
      " [3 4 5]]\n",
      "[[1 2]\n",
      " [3 3]\n",
      " [4 5]]\n",
      "[ 1  2  3  4  5  6  7  8  9 10 11 12]\n",
      "12\n",
      "1\n",
      "78\n"
     ]
    }
   ],
   "source": [
    "arr=np.array([1,2,3,4])\n",
    "arr2=np.array([[1,2,3],[3,4,5]])\n",
    "arr3=np.array([[[1,2,3],[4,5,6]],[[7,8,9],[10,11,12]]])\n",
    "# print(arr.ndim)\n",
    "# print(arr2.ndim)\n",
    "# print(arr3.ndim)\n",
    "# print(arr3)\n",
    "#print(arr3)\n",
    "print(arr2.shape)\n",
    "c=arr2.reshape(3,2)\n",
    "print(c.shape)\n",
    "print(arr2)\n",
    "print(c)\n",
    "print(arr3.reshape(12,))\n",
    "print(arr3.max())\n",
    "print(arr3.min())\n",
    "print(arr3.sum())"
   ]
  },
  {
   "cell_type": "code",
   "execution_count": 139,
   "id": "55e14833",
   "metadata": {},
   "outputs": [
    {
     "name": "stdout",
     "output_type": "stream",
     "text": [
      "[[1 2 3]\n",
      " [3 4 5]]\n",
      "[4 6 8]\n",
      "[ 6 12]\n"
     ]
    }
   ],
   "source": [
    "#axis\n",
    "#0=column\n",
    "#1=row\n",
    "arr=np.array([1,2,3,4])\n",
    "arr2=np.array([[1,2,3],[3,4,5]])\n",
    "arr3=np.array([[[1,2,3],[4,5,6]],[[7,8,9],[10,11,12]]])\n",
    "\n",
    "print(arr2)\n",
    "print(arr2.sum(axis=0))\n",
    "print(arr2.sum(axis=1))"
   ]
  },
  {
   "cell_type": "code",
   "execution_count": 140,
   "id": "a4dea133",
   "metadata": {},
   "outputs": [
    {
     "name": "stdout",
     "output_type": "stream",
     "text": [
      "[ 1  2  3  4  5  6  7  8  9 10 11 12]\n"
     ]
    }
   ],
   "source": [
    "arr3=np.array([[[1,2,3],[4,5,6]],[[7,8,9],[10,11,12]]])\n",
    "c=arr3.reshape(12,)\n",
    "print(c)"
   ]
  },
  {
   "cell_type": "code",
   "execution_count": 151,
   "id": "33029167",
   "metadata": {},
   "outputs": [
    {
     "name": "stdout",
     "output_type": "stream",
     "text": [
      "[1 2 3 4]\n",
      "[3 5 7 9]\n",
      "[[[1 2 3]\n",
      "  [4 5 6]]]\n",
      "[]\n"
     ]
    }
   ],
   "source": [
    "print(c[:4])\n",
    "print(c[2:10:2])\n",
    "print(arr3[0:1][0:1])\n",
    "print(c[-12:-1:-1])"
   ]
  },
  {
   "cell_type": "code",
   "execution_count": 156,
   "id": "623113c0",
   "metadata": {},
   "outputs": [
    {
     "name": "stdout",
     "output_type": "stream",
     "text": [
      "[[[3]\n",
      "  [4]]]\n"
     ]
    }
   ],
   "source": [
    "a=np.array([1,2,3])\n",
    "b=np.array([[4,5,6],[1,2,3]])\n",
    "c=np.array([[[1],[2]],[[3],[4]]])\n",
    "#print(a[::-1])\n",
    "\n",
    "print(c[::-])"
   ]
  },
  {
   "cell_type": "code",
   "execution_count": 169,
   "id": "69028cf2",
   "metadata": {},
   "outputs": [
    {
     "name": "stdout",
     "output_type": "stream",
     "text": [
      "[ 6  8 10 12]\n"
     ]
    }
   ],
   "source": [
    "#arithmatic operation \n",
    "a=np.array([1,2,3,4])\n",
    "b=np.array([5,6,7,8])\n",
    "print(a+b)\n",
    "# print(a-b)\n",
    "# print(a*b)\n",
    "# print(a/b)"
   ]
  },
  {
   "cell_type": "code",
   "execution_count": 170,
   "id": "90b93d72",
   "metadata": {},
   "outputs": [
    {
     "name": "stdout",
     "output_type": "stream",
     "text": [
      "[10, 10, 10]\n",
      "[10, 10, 10]\n",
      "[10, 10, 10]\n",
      "[10, 10, 10]\n"
     ]
    }
   ],
   "source": [
    "a=[1,2,3],[4,5,6],[9,8,7],[6,5,4]\n",
    "b=[9,8,7],[6,5,4],[1,2,3],[4,5,6]\n",
    "result = [[0,0,0],[0,0,0],[0,0,0],[0,0,0]]\n",
    "for i in range(len(a)):\n",
    "    for j in range(len(a[0])):\n",
    "        result[i][j] = a[i][j] + b[i][j]\n",
    "for r in result:\n",
    "    print(r)"
   ]
  },
  {
   "cell_type": "code",
   "execution_count": 179,
   "id": "c2ab65a5",
   "metadata": {},
   "outputs": [
    {
     "name": "stdout",
     "output_type": "stream",
     "text": [
      "this is concat\n",
      "[[ 1  2  3]\n",
      " [ 4  5  6]\n",
      " [ 7  8  9]\n",
      " [10 11 12]]\n",
      "this is vstack\n",
      "[[ 1  2  3]\n",
      " [ 4  5  6]\n",
      " [ 7  8  9]\n",
      " [10 11 12]]\n",
      "this is hstack\n",
      "[[ 1  2  3  7  8  9]\n",
      " [ 4  5  6 10 11 12]]\n"
     ]
    }
   ],
   "source": [
    "#Array Cocatenation and splitting\n",
    "a=np.array([[1,2,3],[4,5,6]])\n",
    "b=np.array([[7,8,9],[10,11,12]])\n",
    "print(\"this is concat\")\n",
    "print(np.concatenate((a,b)))\n",
    "print(\"this is vstack\")\n",
    "print(np.vstack((a,b)))\n",
    "print(\"this is hstack\")\n",
    "print(np.hstack((a,b)))\n"
   ]
  },
  {
   "cell_type": "code",
   "execution_count": 183,
   "id": "057fd2f4",
   "metadata": {},
   "outputs": [
    {
     "name": "stdout",
     "output_type": "stream",
     "text": [
      "this is array split\n",
      "[array([[1, 2, 3],\n",
      "       [4, 5, 6]])]\n",
      "this is array split\n",
      "[array([[1, 2, 3]]), array([[4, 5, 6]])]\n",
      "this is array split\n",
      "[array([[1, 2, 3]]), array([[4, 5, 6]]), array([], shape=(0, 3), dtype=int32)]\n",
      "this is array split\n",
      "[array([[1, 2, 3]]), array([[4, 5, 6]]), array([], shape=(0, 3), dtype=int32), array([], shape=(0, 3), dtype=int32)]\n",
      "this is array split\n",
      "[array([[1, 2, 3]]), array([[4, 5, 6]]), array([], shape=(0, 3), dtype=int32), array([], shape=(0, 3), dtype=int32), array([], shape=(0, 3), dtype=int32)]\n"
     ]
    }
   ],
   "source": [
    "a=np.array([[1,2,3],[4,5,6]])\n",
    "b=np.array([[7,8,9],[10,11,12]])\n",
    "print(\"this is array split\")\n",
    "print(np.array_split(a,1))\n",
    "print(\"this is array split\")\n",
    "print(np.array_split(a,2))\n",
    "print(\"this is array split\")\n",
    "print(np.array_split(a,3))\n",
    "print(\"this is array split\")\n",
    "print(np.array_split(a,4))\n",
    "print(\"this is array split\")\n",
    "print(np.array_split(a,5))"
   ]
  },
  {
   "cell_type": "code",
   "execution_count": 186,
   "id": "ff1ee470",
   "metadata": {},
   "outputs": [
    {
     "name": "stdout",
     "output_type": "stream",
     "text": [
      "[array([[ 7],\n",
      "       [10]]), array([[ 8],\n",
      "       [11]]), array([[ 9],\n",
      "       [12]])]\n"
     ]
    }
   ],
   "source": [
    "#horizontle split\n",
    "\n",
    "a=np.array([[1,2,3],[4,5,6]])\n",
    "b=np.array([[7,8,9],[10,11,12]])\n",
    "c=np.hsplit(b,3)\n",
    "print(c)"
   ]
  },
  {
   "cell_type": "code",
   "execution_count": 210,
   "id": "0fede81e",
   "metadata": {},
   "outputs": [
    {
     "name": "stdout",
     "output_type": "stream",
     "text": [
      "abc [[0 0]\n",
      " [1 0]\n",
      " [1 0]]\n",
      "abcd [[0 0 0]\n",
      " [0 0 0]\n",
      " [0 0 0]]\n",
      "abcde [[[1]\n",
      "  [1]\n",
      "  [1]]\n",
      "\n",
      " [[1]\n",
      "  [1]\n",
      "  [1]]\n",
      "\n",
      " [[1]\n",
      "  [1]\n",
      "  [1]]]\n"
     ]
    }
   ],
   "source": [
    "#array creation \n",
    "abc=np.empty((3,2),dtype =int)\n",
    "print(\"abc\",abc)\n",
    "abcd=np.zeros((3,3),dtype=int)\n",
    "print(\"abcd\",abcd)\n",
    "abcde=np.ones((3,3,1),dtype=int)\n",
    "print(\"abcde\",abcde)"
   ]
  },
  {
   "cell_type": "code",
   "execution_count": 217,
   "id": "808bc7ea",
   "metadata": {},
   "outputs": [
    {
     "name": "stdout",
     "output_type": "stream",
     "text": [
      "[1 2 3]\n",
      "[1.1 2.1 3.1]\n"
     ]
    }
   ],
   "source": [
    "#datatype Conversion\n",
    "dhiraj=np.array([1.1,2.1,3.1])\n",
    "newarr=dhiraj.astype('i')\n",
    "#newarr=dhiraj.astype('f')\n",
    "print(newarr)\n",
    "newarr1=dhiraj.astype(int)\n",
    "newarr1=dhiraj.astype(float)\n",
    "print(newarr1)"
   ]
  },
  {
   "cell_type": "code",
   "execution_count": 220,
   "id": "1b226df5",
   "metadata": {},
   "outputs": [
    {
     "name": "stdout",
     "output_type": "stream",
     "text": [
      "<class 'list'>\n",
      "[1 2 3 4 5 6 7 8 9]\n",
      "<class 'numpy.ndarray'>\n"
     ]
    }
   ],
   "source": [
    "#converting collection to an array\n",
    "\n",
    "#list\n",
    "\n",
    "l=[1,2,3,4,5,6,7,8,9]\n",
    "print(type(l))\n",
    "a=np.asarray(l)\n",
    "print(a)\n",
    "print(type(a))"
   ]
  },
  {
   "cell_type": "code",
   "execution_count": 227,
   "id": "4bcf716a",
   "metadata": {},
   "outputs": [
    {
     "name": "stdout",
     "output_type": "stream",
     "text": [
      "<class 'tuple'>\n",
      "[1 2 3 4]\n",
      "<class 'numpy.ndarray'>\n"
     ]
    }
   ],
   "source": [
    "#tuple\n",
    "a=(1,2,3,4)\n",
    "print(type(a))\n",
    "abhisheikh=np.array(a)\n",
    "abhisheikh=np.asarray(a)\n",
    "print(abhisheikh)\n",
    "print(type(abhisheikh))"
   ]
  },
  {
   "cell_type": "code",
   "execution_count": 235,
   "id": "5c11e65d",
   "metadata": {},
   "outputs": [
    {
     "name": "stdout",
     "output_type": "stream",
     "text": [
      "87\n",
      "[[[ 1  2  3]\n",
      "  [ 4  5 87]]]\n"
     ]
    }
   ],
   "source": [
    "arr = np.array([[[1, 2, 3], [4, 5, 87]], [[7, 8, 9], [10, 11, 12]]])\n",
    "\n",
    "print(arr[0,1,2])\n",
    "print(arr[0:1:2])"
   ]
  },
  {
   "cell_type": "code",
   "execution_count": 238,
   "id": "d411badd",
   "metadata": {},
   "outputs": [
    {
     "name": "stdout",
     "output_type": "stream",
     "text": [
      "[1 2 3 4]\n",
      "1\n",
      "iterated\n",
      "2\n",
      "iterated\n",
      "3\n",
      "iterated\n",
      "4\n",
      "iterated\n"
     ]
    }
   ],
   "source": [
    "#array iteration\n",
    "abc=np.array([1,2,3,4])\n",
    "print(abc)\n",
    "for i in abc:\n",
    "    print(i)\n",
    "    print(\"iterated\")"
   ]
  },
  {
   "cell_type": "code",
   "execution_count": 243,
   "id": "c07b2644",
   "metadata": {},
   "outputs": [
    {
     "name": "stdout",
     "output_type": "stream",
     "text": [
      "1 2 3 4 2 4 5 6 10 20 39 3 [[ 1  2 10]\n",
      " [ 2  4 20]\n",
      " [ 3  5 39]\n",
      " [ 4  6  3]]\n"
     ]
    }
   ],
   "source": [
    "a = np.array([[1,2,3,4],[2,4,5,6],[10,20,39,3]]) \n",
    "#nditer number of dimentions iterated \n",
    "for x in np.nditer(a):\n",
    "    print(x,end=\" \")"
   ]
  },
  {
   "cell_type": "code",
   "execution_count": 245,
   "id": "fe462afd",
   "metadata": {},
   "outputs": [
    {
     "name": "stdout",
     "output_type": "stream",
     "text": [
      "[[ 1  2 10]\n",
      " [ 2  4 20]\n",
      " [ 3  5 39]\n",
      " [ 4  6  3]]\n"
     ]
    }
   ],
   "source": [
    "#T stands for transpose\n",
    "rt=a.T\n",
    "print(rt)"
   ]
  },
  {
   "cell_type": "code",
   "execution_count": 257,
   "id": "63f262c0",
   "metadata": {},
   "outputs": [
    {
     "name": "stdout",
     "output_type": "stream",
     "text": [
      "this is default array [42  2  3  4  5]\n",
      "this is view [42  2  3  4  5]\n",
      "this is base of x None\n",
      "this is base of y [42  2  3  4  5]\n"
     ]
    }
   ],
   "source": [
    "#Copy VS View\n",
    "arr = np.array([1,2,3,4,5])\n",
    "x=arr.copy()\n",
    "x[0]=42\n",
    "\n",
    "#print(arr)\n",
    "#print(x)\n",
    "y=arr.view()\n",
    "arr[0]=42\n",
    "\n",
    "print(\"this is default array\",arr)\n",
    "print(\"this is view\",y)\n",
    "print(\"this is base of x\",x.base)\n",
    "print(\"this is base of y\",y.base)"
   ]
  },
  {
   "cell_type": "code",
   "execution_count": 16,
   "id": "e694e79e",
   "metadata": {},
   "outputs": [
    {
     "name": "stdout",
     "output_type": "stream",
     "text": [
      "[[10  2  3]\n",
      " [ 4  5  6]\n",
      " [ 7 58  9]]\n",
      "sorting along columns\n",
      "[[ 2  3 10]\n",
      " [ 4  5  6]\n",
      " [ 7  9 58]]\n",
      "Sorting along the rows:\n",
      "[[ 4  2  3]\n",
      " [ 7  5  6]\n",
      " [10 58  9]]\n"
     ]
    }
   ],
   "source": [
    "#sorting & searching\n",
    "import numpy as np\n",
    "a = np.array([[10,2,3],[4,5,6],[7,58,9]])\n",
    "print(a)\n",
    "print(\"sorting along columns\")\n",
    "print(np.sort(a))\n",
    "print(\"Sorting along the rows:\")  \n",
    "print(np.sort(a,0))  "
   ]
  },
  {
   "cell_type": "code",
   "execution_count": 20,
   "id": "7a8e3d7c",
   "metadata": {},
   "outputs": [
    {
     "name": "stdout",
     "output_type": "stream",
     "text": [
      "[41 43]\n",
      "[42 44]\n"
     ]
    }
   ],
   "source": [
    "#Array Filtering\n",
    "arr = np.array([41, 42, 43, 44])\n",
    "x = [True, False, True, False]\n",
    "newarr=arr[x]\n",
    "print (newarr)\n",
    "filter_arr=arr%2==0\n",
    "newarr1=arr[filter_arr]\n",
    "print(newarr1)"
   ]
  },
  {
   "cell_type": "markdown",
   "id": "f5455a32",
   "metadata": {},
   "source": [
    "pandas"
   ]
  },
  {
   "cell_type": "code",
   "execution_count": 3,
   "id": "ac170b9a",
   "metadata": {},
   "outputs": [
    {
     "ename": "NameError",
     "evalue": "name 'info' is not defined",
     "output_type": "error",
     "traceback": [
      "\u001b[1;31m---------------------------------------------------------------------------\u001b[0m",
      "\u001b[1;31mNameError\u001b[0m                                 Traceback (most recent call last)",
      "Cell \u001b[1;32mIn [3], line 8\u001b[0m\n\u001b[0;32m      4\u001b[0m \u001b[38;5;66;03m#remove duplicates\u001b[39;00m\n\u001b[0;32m      5\u001b[0m emp \u001b[38;5;241m=\u001b[39m {\u001b[38;5;124m\"\u001b[39m\u001b[38;5;124mname\u001b[39m\u001b[38;5;124m\"\u001b[39m:[\u001b[38;5;124m\"\u001b[39m\u001b[38;5;124mRajesh\u001b[39m\u001b[38;5;124m\"\u001b[39m,\u001b[38;5;124m\"\u001b[39m\u001b[38;5;124msunita\u001b[39m\u001b[38;5;124m\"\u001b[39m,\u001b[38;5;124m\"\u001b[39m\u001b[38;5;124mmamata\u001b[39m\u001b[38;5;124m\"\u001b[39m,\u001b[38;5;124m\"\u001b[39m\u001b[38;5;124mrajesh\u001b[39m\u001b[38;5;124m\"\u001b[39m],\n\u001b[0;32m      6\u001b[0m       \u001b[38;5;124m\"\u001b[39m\u001b[38;5;124mAge\u001b[39m\u001b[38;5;124m\"\u001b[39m:[\u001b[38;5;241m21\u001b[39m,\u001b[38;5;241m32\u001b[39m,\u001b[38;5;241m29\u001b[39m,\u001b[38;5;241m21\u001b[39m]\n\u001b[0;32m      7\u001b[0m       }\n\u001b[1;32m----> 8\u001b[0m \u001b[43minfo\u001b[49m()\n",
      "\u001b[1;31mNameError\u001b[0m: name 'info' is not defined"
     ]
    }
   ],
   "source": [
    "import pandas as pd\n",
    "infi_nums=pd.DataFrame({})\n",
    "\n",
    "#remove duplicates\n",
    "emp = {\"name\":[\"Rajesh\",\"sunita\",\"mamata\",\"rajesh\"],\n",
    "      \"Age\":[21,32,29,21]\n",
    "      }\n",
    "info()"
   ]
  },
  {
   "cell_type": "code",
   "execution_count": 2,
   "id": "475c50b8",
   "metadata": {},
   "outputs": [
    {
     "name": "stdout",
     "output_type": "stream",
     "text": [
      "     Duration  Pulse  Maxpulse  Calories\n",
      "0          60    110       130     409.1\n",
      "1          60    117       145     479.0\n",
      "2          60    103       135     340.0\n",
      "3          45    109       175     282.4\n",
      "4          45    117       148     406.0\n",
      "5          60    102       127     300.0\n",
      "6          60    110       136     374.0\n",
      "7          45    104       134     253.3\n",
      "8          30    109       133     195.1\n",
      "9          60     98       124     269.0\n",
      "10         60    103       147     329.3\n",
      "11         60    100       120     250.7\n",
      "12         60    106       128     345.3\n",
      "13         60    104       132     379.3\n",
      "14         60     98       123     275.0\n",
      "15         60     98       120     215.2\n",
      "16         60    100       120     300.0\n",
      "17         45     90       112       NaN\n",
      "18         60    103       123     323.0\n",
      "19         45     97       125     243.0\n",
      "20         60    108       131     364.2\n",
      "21         45    100       119     282.0\n",
      "22         60    130       101     300.0\n",
      "23         45    105       132     246.0\n",
      "24         60    102       126     334.5\n",
      "25         60    100       120     250.0\n",
      "26         60     92       118     241.0\n",
      "27         60    103       132       NaN\n",
      "28         60    100       132     280.0\n",
      "29         60    102       129     380.3\n",
      "30         60     92       115     243.0\n",
      "31         45     90       112     180.1\n",
      "32         60    101       124     299.0\n",
      "33         60     93       113     223.0\n",
      "34         60    107       136     361.0\n",
      "35         60    114       140     415.0\n",
      "36         60    102       127     300.0\n",
      "37         60    100       120     300.0\n",
      "38         60    100       120     300.0\n",
      "39         45    104       129     266.0\n",
      "40         45     90       112     180.1\n",
      "41         60     98       126     286.0\n",
      "42         60    100       122     329.4\n",
      "43         60    111       138     400.0\n",
      "44         60    111       131     397.0\n",
      "45         60     99       119     273.0\n",
      "46         60    109       153     387.6\n",
      "47         45    111       136     300.0\n",
      "48         45    108       129     298.0\n",
      "49         60    111       139     397.6\n",
      "50         60    107       136     380.2\n",
      "51         80    123       146     643.1\n",
      "52         60    106       130     263.0\n",
      "53         60    118       151     486.0\n",
      "54         30    136       175     238.0\n",
      "55         60    121       146     450.7\n",
      "56         60    118       121     413.0\n",
      "57         45    115       144     305.0\n",
      "58         20    153       172     226.4\n",
      "59         45    123       152     321.0\n",
      "60        210    108       160    1376.0\n",
      "61        160    110       137    1034.4\n",
      "62        160    109       135     853.0\n",
      "63         45    118       141     341.0\n",
      "64         20    110       130     131.4\n",
      "65        180     90       130     800.4\n",
      "66        150    105       135     873.4\n",
      "67        150    107       130     816.0\n",
      "68         20    106       136     110.4\n",
      "69        300    108       143    1500.2\n",
      "70        150     97       129    1115.0\n",
      "71         60    109       153     387.6\n",
      "72         90    100       127     700.0\n",
      "73        150     97       127     953.2\n",
      "74         45    114       146     304.0\n",
      "75         90     98       125     563.2\n",
      "76         45    105       134     251.0\n",
      "77         45    110       141     300.0\n",
      "78        120    100       130     500.4\n",
      "79        270    100       131    1729.0\n",
      "80         30    159       182     319.2\n",
      "81         45    149       169     344.0\n",
      "82         30    103       139     151.1\n",
      "83        120    100       130     500.0\n",
      "84         45    100       120     225.3\n",
      "85         30    151       170     300.0\n",
      "86         45    102       136     234.0\n",
      "87        120    100       157    1000.1\n",
      "88         45    129       103     242.0\n",
      "89         20     83       107      50.3\n",
      "90        180    101       127     600.1\n",
      "91         45    107       137       NaN\n",
      "92         30     90       107     105.3\n",
      "93         15     80       100      50.5\n",
      "94         20    150       171     127.4\n",
      "95         20    151       168     229.4\n",
      "96         30     95       128     128.2\n",
      "97         25    152       168     244.2\n",
      "98         30    109       131     188.2\n",
      "99         90     93       124     604.1\n",
      "100        20     95       112      77.7\n",
      "101        90     90       110     500.0\n",
      "102        90     90       100     500.0\n",
      "103        90     90       100     500.4\n",
      "104        30     92       108      92.7\n",
      "105        30     93       128     124.0\n",
      "106       180     90       120     800.3\n",
      "107        30     90       120      86.2\n",
      "108        90     90       120     500.3\n",
      "109       210    137       184    1860.4\n",
      "110        60    102       124     325.2\n",
      "111        45    107       124     275.0\n",
      "112        15    124       139     124.2\n",
      "113        45    100       120     225.3\n",
      "114        60    108       131     367.6\n",
      "115        60    108       151     351.7\n",
      "116        60    116       141     443.0\n",
      "117        60     97       122     277.4\n",
      "118        60    105       125       NaN\n",
      "119        60    103       124     332.7\n",
      "120        30    112       137     193.9\n",
      "121        45    100       120     100.7\n",
      "122        60    119       169     336.7\n",
      "123        60    107       127     344.9\n",
      "124        60    111       151     368.5\n",
      "125        60     98       122     271.0\n",
      "126        60     97       124     275.3\n",
      "127        60    109       127     382.0\n",
      "128        90     99       125     466.4\n",
      "129        60    114       151     384.0\n",
      "130        60    104       134     342.5\n",
      "131        60    107       138     357.5\n",
      "132        60    103       133     335.0\n",
      "133        60    106       132     327.5\n",
      "134        60    103       136     339.0\n",
      "135        20    136       156     189.0\n",
      "136        45    117       143     317.7\n",
      "137        45    115       137     318.0\n",
      "138        45    113       138     308.0\n",
      "139        20    141       162     222.4\n",
      "140        60    108       135     390.0\n",
      "141        60     97       127       NaN\n",
      "142        45    100       120     250.4\n",
      "143        45    122       149     335.4\n",
      "144        60    136       170     470.2\n",
      "145        45    106       126     270.8\n",
      "146        60    107       136     400.0\n",
      "147        60    112       146     361.9\n",
      "148        30    103       127     185.0\n",
      "149        60    110       150     409.4\n",
      "150        60    106       134     343.0\n",
      "151        60    109       129     353.2\n",
      "152        60    109       138     374.0\n",
      "153        30    150       167     275.8\n",
      "154        60    105       128     328.0\n",
      "155        60    111       151     368.5\n",
      "156        60     97       131     270.4\n",
      "157        60    100       120     270.4\n",
      "158        60    114       150     382.8\n",
      "159        30     80       120     240.9\n",
      "160        30     85       120     250.4\n",
      "161        45     90       130     260.4\n",
      "162        45     95       130     270.0\n",
      "163        45    100       140     280.9\n",
      "164        60    105       140     290.8\n",
      "165        60    110       145     300.0\n",
      "166        60    115       145     310.2\n",
      "167        75    120       150     320.4\n",
      "168        75    125       150     330.4\n"
     ]
    }
   ],
   "source": [
    "import pandas as pd\n",
    "\n",
    "df = pd.read_csv('data.csv')\n",
    "\n",
    "print(df.to_string()) "
   ]
  },
  {
   "cell_type": "code",
   "execution_count": 5,
   "id": "06a68da3",
   "metadata": {},
   "outputs": [
    {
     "name": "stdout",
     "output_type": "stream",
     "text": [
      "    cars  passings\n",
      "0    BMW         3\n",
      "1  Volvo         7\n",
      "2   Ford         2\n"
     ]
    }
   ],
   "source": [
    "import pandas as pd\n",
    "\n",
    "mydataset = {\n",
    "  'cars': [\"BMW\", \"Volvo\", \"Ford\"],\n",
    "  'passings': [3, 7, 2]\n",
    "}\n",
    "\n",
    "myvar = pandas.DataFrame(mydataset)\n",
    "\n",
    "print(myvar)"
   ]
  },
  {
   "cell_type": "code",
   "execution_count": 6,
   "id": "2a64b8a8",
   "metadata": {},
   "outputs": [
    {
     "name": "stdout",
     "output_type": "stream",
     "text": [
      "1.5.1\n"
     ]
    }
   ],
   "source": [
    "print(pd.__version__)"
   ]
  },
  {
   "cell_type": "code",
   "execution_count": 35,
   "id": "6d5495fb",
   "metadata": {},
   "outputs": [
    {
     "name": "stdout",
     "output_type": "stream",
     "text": [
      "0    1\n",
      "1    2\n",
      "2    3\n",
      "3    4\n",
      "dtype: int64\n"
     ]
    }
   ],
   "source": [
    "import pandas as pd\n",
    "a=[1,2,3,4]\n",
    "x=pd.Series(a)\n",
    "#b=pd.Series(([1,2,3],index(\"a\",\"b\",\"c\")))\n",
    "print(x)"
   ]
  },
  {
   "cell_type": "code",
   "execution_count": 27,
   "id": "9226712b",
   "metadata": {},
   "outputs": [
    {
     "name": "stdout",
     "output_type": "stream",
     "text": [
      "a    1\n",
      "b    2\n",
      "c    3\n",
      "dtype: int64\n"
     ]
    }
   ],
   "source": [
    "a=[1,2,3]\n",
    "b=pd.Series(a,index=[\"a\",\"b\",\"c\"])\n",
    "print(b)"
   ]
  },
  {
   "cell_type": "code",
   "execution_count": 30,
   "id": "62984f22",
   "metadata": {},
   "outputs": [
    {
     "name": "stdout",
     "output_type": "stream",
     "text": [
      "a    1\n",
      "b    2\n",
      "c    3\n",
      "dtype: int64\n"
     ]
    }
   ],
   "source": [
    "x=pd.Series([1,2,3],index = ['a','b','c'])\n",
    "print(x)"
   ]
  },
  {
   "cell_type": "code",
   "execution_count": 31,
   "id": "fea4343a",
   "metadata": {},
   "outputs": [
    {
     "name": "stdout",
     "output_type": "stream",
     "text": [
      "1\n"
     ]
    }
   ],
   "source": [
    "print(x[\"a\"])"
   ]
  },
  {
   "cell_type": "code",
   "execution_count": 33,
   "id": "55d4d34b",
   "metadata": {},
   "outputs": [
    {
     "data": {
      "text/plain": [
       "abishek    1\n",
       "dhiraj     2\n",
       "rohit      3\n",
       "dtype: int64"
      ]
     },
     "execution_count": 33,
     "metadata": {},
     "output_type": "execute_result"
    }
   ],
   "source": [
    "friends={\"abishek\":1,\"dhiraj\":2,\"rohit\":3}\n",
    "dbda=pd.Series(friends)\n",
    "#print(dbda)\n",
    "dbda"
   ]
  },
  {
   "cell_type": "code",
   "execution_count": 39,
   "id": "285bf581",
   "metadata": {},
   "outputs": [
    {
     "name": "stdout",
     "output_type": "stream",
     "text": [
      "abhishek    NaN\n",
      "dhiraj      2.0\n",
      "rohit       3.0\n",
      "dtype: float64\n"
     ]
    }
   ],
   "source": [
    "friends={\"abishek\":1,\"dhiraj\":2,\"rohit\":3}\n",
    "dbda=pd.Series(friends,index=[\"abhishek\",\"dhiraj\",\"rohit\"])\n",
    "print(dbda)"
   ]
  },
  {
   "cell_type": "code",
   "execution_count": 46,
   "id": "bf57c308",
   "metadata": {},
   "outputs": [
    {
     "data": {
      "text/html": [
       "<div>\n",
       "<style scoped>\n",
       "    .dataframe tbody tr th:only-of-type {\n",
       "        vertical-align: middle;\n",
       "    }\n",
       "\n",
       "    .dataframe tbody tr th {\n",
       "        vertical-align: top;\n",
       "    }\n",
       "\n",
       "    .dataframe thead th {\n",
       "        text-align: right;\n",
       "    }\n",
       "</style>\n",
       "<table border=\"1\" class=\"dataframe\">\n",
       "  <thead>\n",
       "    <tr style=\"text-align: right;\">\n",
       "      <th></th>\n",
       "      <th>0</th>\n",
       "    </tr>\n",
       "  </thead>\n",
       "  <tbody>\n",
       "    <tr>\n",
       "      <th>100</th>\n",
       "      <td>Abhi</td>\n",
       "    </tr>\n",
       "    <tr>\n",
       "      <th>200</th>\n",
       "      <td>dhiraj</td>\n",
       "    </tr>\n",
       "    <tr>\n",
       "      <th>300</th>\n",
       "      <td>rohit</td>\n",
       "    </tr>\n",
       "  </tbody>\n",
       "</table>\n",
       "</div>"
      ],
      "text/plain": [
       "          0\n",
       "100    Abhi\n",
       "200  dhiraj\n",
       "300   rohit"
      ]
     },
     "execution_count": 46,
     "metadata": {},
     "output_type": "execute_result"
    }
   ],
   "source": [
    "#friends={\"abishek\":1,\"dhiraj\":2,\"rohit\":3}\n",
    "friends=[\"Abhi\",\"dhiraj\",\"rohit\"]\n",
    "marks=[100,200,300]\n",
    "dbda=pd.DataFrame(friends,marks)\n",
    "#print(dbda)\n",
    "dbda"
   ]
  },
  {
   "cell_type": "code",
   "execution_count": 53,
   "id": "9d35b8e5",
   "metadata": {},
   "outputs": [
    {
     "data": {
      "text/html": [
       "<div>\n",
       "<style scoped>\n",
       "    .dataframe tbody tr th:only-of-type {\n",
       "        vertical-align: middle;\n",
       "    }\n",
       "\n",
       "    .dataframe tbody tr th {\n",
       "        vertical-align: top;\n",
       "    }\n",
       "\n",
       "    .dataframe thead th {\n",
       "        text-align: right;\n",
       "    }\n",
       "</style>\n",
       "<table border=\"1\" class=\"dataframe\">\n",
       "  <thead>\n",
       "    <tr style=\"text-align: right;\">\n",
       "      <th></th>\n",
       "      <th>friends</th>\n",
       "      <th>marks</th>\n",
       "    </tr>\n",
       "  </thead>\n",
       "  <tbody>\n",
       "    <tr>\n",
       "      <th>0</th>\n",
       "      <td>Abhi</td>\n",
       "      <td>100</td>\n",
       "    </tr>\n",
       "    <tr>\n",
       "      <th>1</th>\n",
       "      <td>dhiraj</td>\n",
       "      <td>200</td>\n",
       "    </tr>\n",
       "    <tr>\n",
       "      <th>2</th>\n",
       "      <td>rohit</td>\n",
       "      <td>300</td>\n",
       "    </tr>\n",
       "  </tbody>\n",
       "</table>\n",
       "</div>"
      ],
      "text/plain": [
       "  friends  marks\n",
       "0    Abhi    100\n",
       "1  dhiraj    200\n",
       "2   rohit    300"
      ]
     },
     "execution_count": 53,
     "metadata": {},
     "output_type": "execute_result"
    }
   ],
   "source": [
    "set1={\n",
    "    \"friends\":[\"Abhi\",\"dhiraj\",\"rohit\"],\n",
    "    \"marks\":[100,200,300]}\n",
    "\n",
    "dbda=pd.DataFrame(set1)\n",
    "dbda"
   ]
  },
  {
   "cell_type": "code",
   "execution_count": 57,
   "id": "9e921fa9",
   "metadata": {},
   "outputs": [],
   "source": [
    "dbda.to_csv(\"set1.csv\")"
   ]
  },
  {
   "cell_type": "code",
   "execution_count": 62,
   "id": "c2d7cd0c",
   "metadata": {},
   "outputs": [
    {
     "data": {
      "text/plain": [
       "'  friends  marks\\n0    Abhi    100\\n1  dhiraj    200\\n2   rohit    300'"
      ]
     },
     "execution_count": 62,
     "metadata": {},
     "output_type": "execute_result"
    }
   ],
   "source": [
    "dbda.to_string()"
   ]
  },
  {
   "cell_type": "markdown",
   "id": "2b3e22c0",
   "metadata": {},
   "source": [
    "matplotlib"
   ]
  },
  {
   "cell_type": "code",
   "execution_count": 64,
   "id": "693135c6",
   "metadata": {},
   "outputs": [],
   "source": [
    "import pandas as pd\n",
    "import numpy as np\n",
    "import matplotlib.pyplot as plt\n",
    "import seaborn as sns"
   ]
  },
  {
   "cell_type": "code",
   "execution_count": 70,
   "id": "e20e0c83",
   "metadata": {},
   "outputs": [
    {
     "name": "stdout",
     "output_type": "stream",
     "text": [
      "     Duration  Pulse  Maxpulse  Calories\n",
      "0          60    110       130     409.1\n",
      "1          60    117       145     479.0\n",
      "2          60    103       135     340.0\n",
      "3          45    109       175     282.4\n",
      "4          45    117       148     406.0\n",
      "..        ...    ...       ...       ...\n",
      "164        60    105       140     290.8\n",
      "165        60    110       145     300.0\n",
      "166        60    115       145     310.2\n",
      "167        75    120       150     320.4\n",
      "168        75    125       150     330.4\n",
      "\n",
      "[169 rows x 4 columns]\n",
      "[2, 9, 1, 16, 35, 79, 2, 1, 8, 3, 4, 2, 3, 2, 1, 1]\n"
     ]
    }
   ],
   "source": [
    "data=pd.read_csv(\"data.csv\")\n",
    "c1=pd.DataFrame(data)\n",
    "print(c1)\n",
    "duration_count=list(c1.groupby('Duration').Duration.agg(\"count\"))\n",
    "print(duration_count)"
   ]
  },
  {
   "cell_type": "code",
   "execution_count": 77,
   "id": "0d59efac",
   "metadata": {},
   "outputs": [
    {
     "name": "stdout",
     "output_type": "stream",
     "text": [
      "a is 1\n",
      "b is 2\n",
      "multiplication is 2\n"
     ]
    }
   ],
   "source": [
    "def sum1(a,b):\n",
    "    print(\"a is\",a)\n",
    "    print(\"b is\",b)\n",
    "    return a*b\n",
    "\n",
    "\n",
    "z=sum1(1,2)\n",
    "print(\"multiplication is\",z)\n",
    "\n"
   ]
  },
  {
   "cell_type": "code",
   "execution_count": 78,
   "id": "9b38846c",
   "metadata": {},
   "outputs": [
    {
     "ename": "ModuleNotFoundError",
     "evalue": "No module named 'calc'",
     "output_type": "error",
     "traceback": [
      "\u001b[1;31m---------------------------------------------------------------------------\u001b[0m",
      "\u001b[1;31mModuleNotFoundError\u001b[0m                       Traceback (most recent call last)",
      "Cell \u001b[1;32mIn [78], line 1\u001b[0m\n\u001b[1;32m----> 1\u001b[0m \u001b[38;5;28;01mimport\u001b[39;00m \u001b[38;5;21;01mcalc\u001b[39;00m\n",
      "\u001b[1;31mModuleNotFoundError\u001b[0m: No module named 'calc'"
     ]
    }
   ],
   "source": [
    "import calc"
   ]
  },
  {
   "cell_type": "code",
   "execution_count": 79,
   "id": "7cef30e6",
   "metadata": {},
   "outputs": [],
   "source": [
    "from turtle import *\n",
    "color('red', 'yellow')\n",
    "begin_fill()\n",
    "while True:\n",
    "    forward(200)\n",
    "    left(170)\n",
    "    if abs(pos()) < 1:\n",
    "        break\n",
    "end_fill()\n",
    "done()"
   ]
  },
  {
   "cell_type": "markdown",
   "id": "b051cedf",
   "metadata": {},
   "source": [
    "beautifulsoup"
   ]
  },
  {
   "cell_type": "code",
   "execution_count": 8,
   "id": "ebb77a00",
   "metadata": {},
   "outputs": [
    {
     "data": {
      "text/plain": [
       "bs4.element.Tag"
      ]
     },
     "execution_count": 8,
     "metadata": {},
     "output_type": "execute_result"
    }
   ],
   "source": [
    "from  bs4 import BeautifulSoup\n",
    "soup=BeautifulSoup('<b class=\"boldest\">Extremely bold</b>')\n",
    "tag=soup.b\n",
    "type(tag)"
   ]
  },
  {
   "cell_type": "code",
   "execution_count": 18,
   "id": "18bc9f3c",
   "metadata": {},
   "outputs": [
    {
     "data": {
      "text/plain": [
       "<head><title>The Dormouse's story</title></head>"
      ]
     },
     "execution_count": 18,
     "metadata": {},
     "output_type": "execute_result"
    }
   ],
   "source": [
    "html_doc=\"\"\"\n",
    "<html>\n",
    "<head><title>The Dormouse's story</title></head>\n",
    "<body>\n",
    "<p class=\"title\"><b>The Dormouse's story</b></p>\n",
    "\n",
    "<p class=\"story\">Once upon a time there were three little sisters; and their names were\n",
    "<a href=\"http://example.com/elsie\" class=\"sister\" id=\"link1\">Elsie</a>,\n",
    "<a href=\"http://example.com/lacie\" class=\"sister\" id=\"link2\">Lacie</a> and\n",
    "<a href=\"http://example.com/tillie\" class=\"sister\" id=\"link3\">Tillie</a>;\n",
    "and they lived at the bottom of a well.</p>\n",
    "\n",
    "<p class=\"story\">...</p>\n",
    "</body>\n",
    "</html>\n",
    "\"\"\"\n",
    "from bs4 import BeautifulSoup\n",
    "soup=BeautifulSoup(html_doc,\"html.parser\")\n",
    "head_tag=soup.head\n",
    "head_tag"
   ]
  },
  {
   "cell_type": "code",
   "execution_count": 6,
   "id": "b9890387",
   "metadata": {},
   "outputs": [
    {
     "data": {
      "text/plain": [
       "<body>\n",
       "<p class=\"title\"><b>The Dormouse's story</b></p>\n",
       "<p class=\"story\">Once upon a time there were three little sisters; and their names were\n",
       "<a class=\"sister\" href=\"http://example.com/elsie\" id=\"link1\">Elsie</a>,\n",
       "<a class=\"sister\" href=\"http://example.com/lacie\" id=\"link2\">Lacie</a> and\n",
       "<a class=\"sister\" href=\"http://example.com/tillie\" id=\"link3\">Tillie</a>;\n",
       "and they lived at the bottom of a well.</p>\n",
       "<p class=\"story\">...</p>\n",
       "</body>"
      ]
     },
     "execution_count": 6,
     "metadata": {},
     "output_type": "execute_result"
    }
   ],
   "source": [
    "body_tag=soup.body\n",
    "body_tag"
   ]
  },
  {
   "cell_type": "code",
   "execution_count": 11,
   "id": "2bc7cc12",
   "metadata": {},
   "outputs": [
    {
     "name": "stdout",
     "output_type": "stream",
     "text": [
      "[<title>The Dormouse's story</title>]\n"
     ]
    }
   ],
   "source": [
    "print(head_tag.contents)"
   ]
  },
  {
   "cell_type": "code",
   "execution_count": 12,
   "id": "e2b68ff7",
   "metadata": {},
   "outputs": [
    {
     "name": "stdout",
     "output_type": "stream",
     "text": [
      "['\\n', <p class=\"title\"><b>The Dormouse's story</b></p>, '\\n', <p class=\"story\">Once upon a time there were three little sisters; and their names were\n",
      "<a class=\"sister\" href=\"http://example.com/elsie\" id=\"link1\">Elsie</a>,\n",
      "<a class=\"sister\" href=\"http://example.com/lacie\" id=\"link2\">Lacie</a> and\n",
      "<a class=\"sister\" href=\"http://example.com/tillie\" id=\"link3\">Tillie</a>;\n",
      "and they lived at the bottom of a well.</p>, '\\n', <p class=\"story\">...</p>, '\\n']\n"
     ]
    }
   ],
   "source": [
    "print(body_tag.contents)"
   ]
  },
  {
   "cell_type": "code",
   "execution_count": 14,
   "id": "9620a2a6",
   "metadata": {},
   "outputs": [
    {
     "name": "stdout",
     "output_type": "stream",
     "text": [
      "<generator object Tag._all_strings at 0x0000026F009A43C0>\n"
     ]
    }
   ],
   "source": [
    "a=head_tag.strings\n",
    "print(a)"
   ]
  },
  {
   "cell_type": "code",
   "execution_count": 15,
   "id": "a93c6fb2",
   "metadata": {},
   "outputs": [],
   "source": [
    "tag_title=soup.title\n",
    "tag_title"
   ]
  },
  {
   "cell_type": "code",
   "execution_count": 20,
   "id": "eb190535",
   "metadata": {},
   "outputs": [
    {
     "name": "stdout",
     "output_type": "stream",
     "text": [
      "<title>The Dormouse's story</title>\n"
     ]
    }
   ],
   "source": [
    "print(soup.title)"
   ]
  },
  {
   "cell_type": "code",
   "execution_count": 21,
   "id": "431e5c35",
   "metadata": {},
   "outputs": [
    {
     "data": {
      "text/plain": [
       "<head><title>The Dormouse's story</title></head>"
      ]
     },
     "execution_count": 21,
     "metadata": {},
     "output_type": "execute_result"
    }
   ],
   "source": [
    "soup.head"
   ]
  },
  {
   "cell_type": "code",
   "execution_count": 24,
   "id": "89103323",
   "metadata": {},
   "outputs": [
    {
     "data": {
      "text/plain": [
       "<p class=\"title\"><b>The Dormouse's story</b></p>"
      ]
     },
     "execution_count": 24,
     "metadata": {},
     "output_type": "execute_result"
    }
   ],
   "source": [
    "soup.p"
   ]
  },
  {
   "cell_type": "code",
   "execution_count": 30,
   "id": "05dc7e1b",
   "metadata": {},
   "outputs": [
    {
     "name": "stdout",
     "output_type": "stream",
     "text": [
      "['\\n', <p class=\"title\"><b>The Dormouse's story</b></p>, '\\n', <p class=\"story\">Once upon a time there were three little sisters; and their names were\n",
      "<a class=\"sister\" href=\"http://example.com/elsie\" id=\"link1\">Elsie</a>,\n",
      "<a class=\"sister\" href=\"http://example.com/lacie\" id=\"link2\">Lacie</a> and\n",
      "<a class=\"sister\" href=\"http://example.com/tillie\" id=\"link3\">Tillie</a>;\n",
      "and they lived at the bottom of a well.</p>, '\\n', <p class=\"story\">...</p>, '\\n']\n"
     ]
    }
   ],
   "source": [
    "tag_body=soup.body\n",
    "print(tag_body.contents)"
   ]
  },
  {
   "cell_type": "code",
   "execution_count": 31,
   "id": "33164f06",
   "metadata": {},
   "outputs": [
    {
     "name": "stdout",
     "output_type": "stream",
     "text": [
      "\n",
      "\n",
      "<p class=\"title\"><b>The Dormouse's story</b></p>\n",
      "\n",
      "\n",
      "<p class=\"story\">Once upon a time there were three little sisters; and their names were\n",
      "<a class=\"sister\" href=\"http://example.com/elsie\" id=\"link1\">Elsie</a>,\n",
      "<a class=\"sister\" href=\"http://example.com/lacie\" id=\"link2\">Lacie</a> and\n",
      "<a class=\"sister\" href=\"http://example.com/tillie\" id=\"link3\">Tillie</a>;\n",
      "and they lived at the bottom of a well.</p>\n",
      "\n",
      "\n",
      "<p class=\"story\">...</p>\n",
      "\n",
      "\n"
     ]
    }
   ],
   "source": [
    "bodytags = soup.body\n",
    "for child in bodytags.children:\n",
    "    print(child)"
   ]
  },
  {
   "cell_type": "code",
   "execution_count": 34,
   "id": "7bdf57f2",
   "metadata": {},
   "outputs": [
    {
     "name": "stdout",
     "output_type": "stream",
     "text": [
      "\n",
      "\n",
      "<p class=\"title\"><b>The Dormouse's story</b></p>\n",
      "<b>The Dormouse's story</b>\n",
      "The Dormouse's story\n",
      "\n",
      "\n",
      "<p class=\"story\">Once upon a time there were three little sisters; and their names were\n",
      "<a class=\"sister\" href=\"http://example.com/elsie\" id=\"link1\">Elsie</a>,\n",
      "<a class=\"sister\" href=\"http://example.com/lacie\" id=\"link2\">Lacie</a> and\n",
      "<a class=\"sister\" href=\"http://example.com/tillie\" id=\"link3\">Tillie</a>;\n",
      "and they lived at the bottom of a well.</p>\n",
      "Once upon a time there were three little sisters; and their names were\n",
      "\n",
      "<a class=\"sister\" href=\"http://example.com/elsie\" id=\"link1\">Elsie</a>\n",
      "Elsie\n",
      ",\n",
      "\n",
      "<a class=\"sister\" href=\"http://example.com/lacie\" id=\"link2\">Lacie</a>\n",
      "Lacie\n",
      " and\n",
      "\n",
      "<a class=\"sister\" href=\"http://example.com/tillie\" id=\"link3\">Tillie</a>\n",
      "Tillie\n",
      ";\n",
      "and they lived at the bottom of a well.\n",
      "\n",
      "\n",
      "<p class=\"story\">...</p>\n",
      "...\n",
      "\n",
      "\n"
     ]
    }
   ],
   "source": [
    "bodytags = soup.body\n",
    "for parent in bodytags.descendants:\n",
    "    print(parent)"
   ]
  },
  {
   "cell_type": "code",
   "execution_count": null,
   "id": "5adc7d97",
   "metadata": {},
   "outputs": [],
   "source": []
  }
 ],
 "metadata": {
  "kernelspec": {
   "display_name": "Python 3 (ipykernel)",
   "language": "python",
   "name": "python3"
  },
  "language_info": {
   "codemirror_mode": {
    "name": "ipython",
    "version": 3
   },
   "file_extension": ".py",
   "mimetype": "text/x-python",
   "name": "python",
   "nbconvert_exporter": "python",
   "pygments_lexer": "ipython3",
   "version": "3.10.8"
  }
 },
 "nbformat": 4,
 "nbformat_minor": 5
}

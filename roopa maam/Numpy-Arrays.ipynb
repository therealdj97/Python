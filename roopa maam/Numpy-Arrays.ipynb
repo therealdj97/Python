{
 "cells": [
  {
   "cell_type": "code",
   "execution_count": 2,
   "id": "f1e32b02",
   "metadata": {},
   "outputs": [
    {
     "name": "stdout",
     "output_type": "stream",
     "text": [
      "<built-in function array>\n"
     ]
    }
   ],
   "source": [
    "import numpy as np\n",
    "a=np.array\n",
    "print(a)"
   ]
  },
  {
   "cell_type": "code",
   "execution_count": 13,
   "id": "0afd2b4d",
   "metadata": {},
   "outputs": [
    {
     "name": "stdout",
     "output_type": "stream",
     "text": [
      "[1 2 3]\n",
      "[[ 1  2  3  4]\n",
      " [ 4  5  6  7]\n",
      " [ 9 10 11 23]]\n",
      "2\n",
      "4\n",
      "int32\n",
      "12\n",
      "(3, 4)\n"
     ]
    }
   ],
   "source": [
    "#Array creation and variables\n",
    "a1 = np.array([1, 2, 3])  \n",
    "print(a1)\n",
    "arr2 = np.array([[1, 2, 3, 4], [4, 5, 6, 7], [9, 10, 11, 23]])  \n",
    "print(arr2)\n",
    "print(arr2.ndim)\n",
    "print(arr2.itemsize)\n",
    "print(arr2.dtype)\n",
    "print(arr2.size)\n",
    "print(arr2.shape)"
   ]
  },
  {
   "cell_type": "code",
   "execution_count": 18,
   "id": "0102769c",
   "metadata": {},
   "outputs": [
    {
     "name": "stdout",
     "output_type": "stream",
     "text": [
      "(3, 2)\n",
      "[[1 2 3]\n",
      " [4 5 6]]\n",
      "(2, 3)\n",
      "6\n",
      "1\n",
      "21\n"
     ]
    }
   ],
   "source": [
    "#Array Functions\n",
    "a1=np.array([[1,2],[3,4],[5,6]])  \n",
    "print(a1.shape)\n",
    "a2=a1.reshape(2,3)\n",
    "print(a2)\n",
    "print(a2.shape)\n",
    "print(a1.max())\n",
    "print(a1.min())\n",
    "print(a1.sum())"
   ]
  },
  {
   "cell_type": "code",
   "execution_count": 53,
   "id": "8fe32e52",
   "metadata": {},
   "outputs": [
    {
     "name": "stdout",
     "output_type": "stream",
     "text": [
      "[2 4 6]\n",
      "[5 6]\n",
      "[ 9 12]\n",
      "[ 3  7 11]\n"
     ]
    }
   ],
   "source": [
    "print(a1.max(axis=1))\n",
    "print(a1.max(axis=0))\n",
    "print(a1.sum(axis=0))\n",
    "print(a1.sum(axis=1))"
   ]
  },
  {
   "cell_type": "code",
   "execution_count": null,
   "id": "f35d6b59",
   "metadata": {},
   "outputs": [],
   "source": [
    "#Array Slicing\n",
    "arr1 = np.array([1, 2, 3, 4, 5, 6, 7])\n",
    "print(arr1[:4])\n",
    "print(arr1[2:])\n",
    "print(arr1[-3:-1])\n",
    "print(arr1[1:5:2])\n",
    "print(arr1[::2])\n",
    "arr2 = np.array([[1, 2, 3, 4, 5], [6, 7, 8, 9, 10]])\n",
    "print(arr2[1,1:4])\n",
    "print(arr2[0:2,1])#From both the elements return index 1\n",
    "print(arr2[0:2,1:3])"
   ]
  },
  {
   "cell_type": "code",
   "execution_count": 26,
   "id": "17253f4a",
   "metadata": {},
   "outputs": [
    {
     "name": "stdout",
     "output_type": "stream",
     "text": [
      "[[ 2  4 33]\n",
      " [22 34 33]]\n",
      "[[  0   0  27]\n",
      " [ -2  -4 -25]]\n",
      "[[  1   4  90]\n",
      " [120 285 116]]\n",
      "[[ 1.          1.         10.        ]\n",
      " [ 0.83333333  0.78947368  0.13793103]]\n"
     ]
    }
   ],
   "source": [
    "#Arithmetic Opearations in array\n",
    "a = np.array([[1,2,30],[10,15,4]])  \n",
    "b = np.array([[1,2,3],[12, 19, 29]])  \n",
    "print(a+b)\n",
    "print(a-b)\n",
    "print(a*b)\n",
    "print(a/b)"
   ]
  },
  {
   "cell_type": "code",
   "execution_count": 51,
   "id": "61a905d8",
   "metadata": {},
   "outputs": [
    {
     "name": "stdout",
     "output_type": "stream",
     "text": [
      "[[ 1  2 30]\n",
      " [10 15  4]\n",
      " [ 1  2  3]\n",
      " [12 19 29]]\n",
      "_____________\n",
      "[[ 1  2 30]\n",
      " [10 15  4]\n",
      " [ 1  2  3]\n",
      " [12 19 29]]\n",
      "_____________\n",
      "[[ 1  2 30  1  2  3]\n",
      " [10 15  4 12 19 29]]\n",
      "_____________\n",
      "[array([[ 1,  2, 30]]), array([[10, 15,  4]])]\n",
      "_____________\n",
      "[array([[ 1],\n",
      "       [12]]), array([[ 2],\n",
      "       [19]]), array([[ 3],\n",
      "       [29]])]\n",
      "_____________\n"
     ]
    }
   ],
   "source": [
    "#Array Cocatenation and splitting\n",
    "a = np.array([[1,2,30],[10,15,4]])  \n",
    "b = np.array([[1,2,3],[12, 19, 29]])  \n",
    "print(np.concatenate((a,b)))\n",
    "print(\"_____________\")\n",
    "print(np.vstack((a,b)))\n",
    "print(\"_____________\")\n",
    "print(np.hstack((a,b)))\n",
    "print(\"_____________\")\n",
    "print(np.array_split(a,2))\n",
    "print(\"_____________\")\n",
    "print(np.hsplit(b,3))\n",
    "print(\"_____________\")"
   ]
  },
  {
   "cell_type": "code",
   "execution_count": 1,
   "id": "d5b7abcf",
   "metadata": {},
   "outputs": [
    {
     "ename": "NameError",
     "evalue": "name 'np' is not defined",
     "output_type": "error",
     "traceback": [
      "\u001b[1;31m---------------------------------------------------------------------------\u001b[0m",
      "\u001b[1;31mNameError\u001b[0m                                 Traceback (most recent call last)",
      "Cell \u001b[1;32mIn [1], line 2\u001b[0m\n\u001b[0;32m      1\u001b[0m \u001b[38;5;66;03m#Array Creation\u001b[39;00m\n\u001b[1;32m----> 2\u001b[0m arr \u001b[38;5;241m=\u001b[39m \u001b[43mnp\u001b[49m\u001b[38;5;241m.\u001b[39mempty((\u001b[38;5;241m3\u001b[39m,\u001b[38;5;241m2\u001b[39m), dtype \u001b[38;5;241m=\u001b[39m \u001b[38;5;28mint\u001b[39m) \n\u001b[0;32m      3\u001b[0m \u001b[38;5;28mprint\u001b[39m(arr)\n\u001b[0;32m      4\u001b[0m arr0\u001b[38;5;241m=\u001b[39mnp\u001b[38;5;241m.\u001b[39mzeros((\u001b[38;5;241m3\u001b[39m,\u001b[38;5;241m3\u001b[39m),dtype\u001b[38;5;241m=\u001b[39m\u001b[38;5;28mint\u001b[39m)\n",
      "\u001b[1;31mNameError\u001b[0m: name 'np' is not defined"
     ]
    }
   ],
   "source": [
    "#Array Creation\n",
    "arr = np.empty((3,2), dtype = int) \n",
    "print(arr)\n",
    "arr0=np.zeros((3,3),dtype=int)\n",
    "print(arr0)"
   ]
  },
  {
   "cell_type": "code",
   "execution_count": null,
   "id": "4c74cf48",
   "metadata": {},
   "outputs": [],
   "source": [
    "#Datatype conversion\n",
    "arr = np.array([1.1, 2.1, 3.1])\n",
    "\n",
    "newarr = arr1.astype('i')\n",
    "newarr1 = arr1.astype(int)\n",
    "print(newarr)\n",
    "print(newarr.dtype)"
   ]
  },
  {
   "cell_type": "code",
   "execution_count": 32,
   "id": "e98fcd36",
   "metadata": {},
   "outputs": [
    {
     "name": "stdout",
     "output_type": "stream",
     "text": [
      "<class 'numpy.ndarray'>\n",
      "[1 2 3 4 5 6 7]\n",
      "[1 2 3 4]\n",
      "<class 'numpy.ndarray'>\n"
     ]
    }
   ],
   "source": [
    "#Converting collections to array\n",
    "l=[1,2,3,4,5,6,7]  \n",
    "a = np.asarray(l);  \n",
    "print(type(a))  \n",
    "print(a)  \n",
    "t=(1,2,3,4)\n",
    "b=np.asarray(t)\n",
    "print(b)\n",
    "print(type(b))"
   ]
  },
  {
   "cell_type": "code",
   "execution_count": 34,
   "id": "a5449c9c",
   "metadata": {},
   "outputs": [
    {
     "name": "stdout",
     "output_type": "stream",
     "text": [
      "[0. 2. 4. 6. 8.]\n",
      "[10 15 20 25 30 35 40 45 50 55 60 65 70 75 80 85 90 95]\n"
     ]
    }
   ],
   "source": [
    "#Arrays in a range\n",
    "arr = np.arange(0,10,2,float)  \n",
    "print(arr)  \n",
    "arr1 = np.arange(10,100,5,int) \n",
    "print(arr1)"
   ]
  },
  {
   "cell_type": "code",
   "execution_count": 60,
   "id": "c96a2b6b",
   "metadata": {},
   "outputs": [
    {
     "name": "stdout",
     "output_type": "stream",
     "text": [
      "Printing array:\n",
      "[[ 1  2  3  4]\n",
      " [ 2  4  5  6]\n",
      " [10 20 39  3]]\n",
      "Iterating over the array:\n",
      "1 2 3 4 2 4 5 6 10 20 39 3  -------------------\n",
      "[[ 1  2 10]\n",
      " [ 2  4 20]\n",
      " [ 3  5 39]\n",
      " [ 4  6  3]]\n"
     ]
    }
   ],
   "source": [
    "#Array iteration\n",
    "a = np.array([[1,2,3,4],[2,4,5,6],[10,20,39,3]])  \n",
    "print(\"Printing array:\")  \n",
    "print(a);  \n",
    "print(\"Iterating over the array:\")  \n",
    "for x in np.nditer(a):  \n",
    "    print(x,end=' ')\n",
    "print(end=' ')\n",
    "print(\"-------------------\")\n",
    "at=a.T\n",
    "print(at)"
   ]
  },
  {
   "cell_type": "code",
   "execution_count": 71,
   "id": "1dcb19cf",
   "metadata": {},
   "outputs": [
    {
     "name": "stdout",
     "output_type": "stream",
     "text": [
      "1\n",
      "2\n",
      "3\n",
      "[1 2 3]\n",
      "[4 5 6]\n",
      "[10 11 12]\n"
     ]
    }
   ],
   "source": [
    "#Iterating in arrays\n",
    "arr = np.array([1, 2, 3])\n",
    "for x in arr:\n",
    "    print(x)\n",
    "arr1 = np.array([[1, 2, 3], [4, 5, 6]])\n",
    "for y in arr1:\n",
    "    print(y)\n",
    "arr2 = np.array([[[1, 2, 3], [4, 5, 6]], [[7, 8, 9], [10, 11, 12]]])\n",
    "print(arr2[1,1])"
   ]
  },
  {
   "cell_type": "code",
   "execution_count": 55,
   "id": "1c6fa9f3",
   "metadata": {},
   "outputs": [
    {
     "name": "stdout",
     "output_type": "stream",
     "text": [
      "[1 2 3 4 5]\n",
      "[42  2  3  4  5]\n",
      "[42  2  3  4  5]\n",
      "[42  2  3  4  5]\n",
      "None\n",
      "[42  2  3  4  5]\n"
     ]
    }
   ],
   "source": [
    "#Copy VS View\n",
    "arr = np.array([1, 2, 3, 4, 5])\n",
    "x = arr.copy()\n",
    "x[0] = 42\n",
    "\n",
    "print(arr)\n",
    "print(x)\n",
    "y = arr.view()\n",
    "arr[0] = 42\n",
    "\n",
    "print(arr)\n",
    "print(y)\n",
    "print(x.base)\n",
    "print(y.base)"
   ]
  },
  {
   "cell_type": "code",
   "execution_count": 59,
   "id": "33304877",
   "metadata": {},
   "outputs": [
    {
     "name": "stdout",
     "output_type": "stream",
     "text": [
      "Sorting along the columns:\n",
      "[[ 2  3 10]\n",
      " [ 4  5  6]\n",
      " [ 7  8  9]]\n",
      "Sorting along the rows:\n",
      "[[ 4  2  3]\n",
      " [ 7  5  6]\n",
      " [10  8  9]]\n",
      "[[ 4  2  3]\n",
      " [ 7  5  6]\n",
      " [10  8  9]]\n",
      "(array([3, 5, 7], dtype=int64),)\n",
      "(array([0, 2, 4, 6], dtype=int64),)\n"
     ]
    }
   ],
   "source": [
    "#Sorting and Searching\n",
    "a = np.array([[10,2,3],[4,5,6],[7,8,9]])  \n",
    "  \n",
    "print(\"Sorting along the columns:\")  \n",
    "print(np.sort(a))  \n",
    "  \n",
    "print(\"Sorting along the rows:\")  \n",
    "print(np.sort(a, 0))  \n",
    "  \n",
    "print(np.sort(a, 0,'heapsort')) \n",
    "\n",
    "arr = np.array([1, 2, 3, 4, 15, 4, 7, 4])\n",
    "x=np.where(arr==4)\n",
    "print(x)\n",
    "y=np.where(arr%2==1)\n",
    "print(y)"
   ]
  },
  {
   "cell_type": "code",
   "execution_count": 72,
   "id": "7b1852d1",
   "metadata": {},
   "outputs": [
    {
     "name": "stdout",
     "output_type": "stream",
     "text": [
      "[41 43]\n",
      "[42 44]\n"
     ]
    }
   ],
   "source": [
    "#Array Filtering\n",
    "arr = np.array([41, 42, 43, 44])\n",
    "\n",
    "x = [True, False, True, False]\n",
    "\n",
    "newarr = arr[x]\n",
    "\n",
    "print(newarr)\n",
    "filter_arr=arr%2==0\n",
    "newarr1=arr[filter_arr]\n",
    "print(newarr1)"
   ]
  }
 ],
 "metadata": {
  "kernelspec": {
   "display_name": "Python 3 (ipykernel)",
   "language": "python",
   "name": "python3"
  },
  "language_info": {
   "codemirror_mode": {
    "name": "ipython",
    "version": 3
   },
   "file_extension": ".py",
   "mimetype": "text/x-python",
   "name": "python",
   "nbconvert_exporter": "python",
   "pygments_lexer": "ipython3",
   "version": "3.10.8"
  }
 },
 "nbformat": 4,
 "nbformat_minor": 5
}

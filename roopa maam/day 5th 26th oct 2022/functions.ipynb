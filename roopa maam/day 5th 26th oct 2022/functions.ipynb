{
 "cells": [
  {
   "cell_type": "code",
   "execution_count": 3,
   "id": "8edc7d34",
   "metadata": {},
   "outputs": [
    {
     "name": "stdout",
     "output_type": "stream",
     "text": [
      "first number1\n",
      "second number2\n"
     ]
    },
    {
     "ename": "TypeError",
     "evalue": "add() missing 2 required positional arguments: 'x' and 'y'",
     "output_type": "error",
     "traceback": [
      "\u001b[1;31m---------------------------------------------------------------------------\u001b[0m",
      "\u001b[1;31mTypeError\u001b[0m                                 Traceback (most recent call last)",
      "Input \u001b[1;32mIn [3]\u001b[0m, in \u001b[0;36m<cell line: 7>\u001b[1;34m()\u001b[0m\n\u001b[0;32m      5\u001b[0m a\u001b[38;5;241m=\u001b[39m\u001b[38;5;28mint\u001b[39m(\u001b[38;5;28minput\u001b[39m(\u001b[38;5;124m\"\u001b[39m\u001b[38;5;124mfirst number\u001b[39m\u001b[38;5;124m\"\u001b[39m))\n\u001b[0;32m      6\u001b[0m b\u001b[38;5;241m=\u001b[39m\u001b[38;5;28mint\u001b[39m(\u001b[38;5;28minput\u001b[39m(\u001b[38;5;124m\"\u001b[39m\u001b[38;5;124msecond number\u001b[39m\u001b[38;5;124m\"\u001b[39m))    \n\u001b[1;32m----> 7\u001b[0m \u001b[43madd\u001b[49m\u001b[43m(\u001b[49m\u001b[43m)\u001b[49m\n",
      "\u001b[1;31mTypeError\u001b[0m: add() missing 2 required positional arguments: 'x' and 'y'"
     ]
    }
   ],
   "source": [
    "def add(x,y):  #function header\n",
    "    s=x+y\n",
    "    print(\"Sum=\",s)\n",
    "\n",
    "a=int(input(\"first number\"))\n",
    "b=int(input(\"second number\"))    \n",
    "add(a,b)"
   ]
  },
  {
   "cell_type": "code",
   "execution_count": 7,
   "id": "2b42b821",
   "metadata": {},
   "outputs": [
    {
     "name": "stdout",
     "output_type": "stream",
     "text": [
      "SI= 160.0\n"
     ]
    }
   ],
   "source": [
    "def calculateintrest(p,n,r=0.10):\n",
    "    i=p*n*r\n",
    "    print(\"SI=\",i)\n",
    "calculateintrest(1000,2,0.08)"
   ]
  },
  {
   "cell_type": "code",
   "execution_count": 5,
   "id": "83da3fa8",
   "metadata": {},
   "outputs": [
    {
     "name": "stdout",
     "output_type": "stream",
     "text": [
      "SI= 200.0\n"
     ]
    }
   ],
   "source": [
    "calculateintrest(1000,2)"
   ]
  },
  {
   "cell_type": "code",
   "execution_count": 8,
   "id": "797f3fdc",
   "metadata": {},
   "outputs": [
    {
     "name": "stdout",
     "output_type": "stream",
     "text": [
      "SI= 1500.0\n"
     ]
    }
   ],
   "source": [
    "calculateintrest()"
   ]
  },
  {
   "cell_type": "code",
   "execution_count": 9,
   "id": "566694cf",
   "metadata": {},
   "outputs": [
    {
     "name": "stdout",
     "output_type": "stream",
     "text": [
      "SI= 1500.0\n"
     ]
    }
   ],
   "source": [
    "def calculateintrest(p,n,r=0.10):\n",
    "    i=p*n*r\n",
    "    print(\"SI=\",i)\n",
    "\n",
    "calculateintrest(n=5,p=3000)"
   ]
  },
  {
   "cell_type": "code",
   "execution_count": 11,
   "id": "26df0756",
   "metadata": {},
   "outputs": [
    {
     "ename": "TypeError",
     "evalue": "calculate() got multiple values for argument 'x'",
     "output_type": "error",
     "traceback": [
      "\u001b[1;31m---------------------------------------------------------------------------\u001b[0m",
      "\u001b[1;31mTypeError\u001b[0m                                 Traceback (most recent call last)",
      "Input \u001b[1;32mIn [11]\u001b[0m, in \u001b[0;36m<cell line: 4>\u001b[1;34m()\u001b[0m\n\u001b[0;32m      1\u001b[0m \u001b[38;5;28;01mdef\u001b[39;00m \u001b[38;5;21mcalculate\u001b[39m(x,y,z\u001b[38;5;241m=\u001b[39m\u001b[38;5;241m2\u001b[39m,r\u001b[38;5;241m=\u001b[39m\u001b[38;5;241m1.5\u001b[39m):\n\u001b[0;32m      2\u001b[0m     \u001b[38;5;28mprint\u001b[39m(x\u001b[38;5;241m+\u001b[39my\u001b[38;5;241m+\u001b[39mz\u001b[38;5;241m+\u001b[39mr)\n\u001b[1;32m----> 4\u001b[0m \u001b[43mcalculate\u001b[49m\u001b[43m(\u001b[49m\u001b[38;5;241;43m5000\u001b[39;49m\u001b[43m,\u001b[49m\u001b[43mx\u001b[49m\u001b[38;5;241;43m=\u001b[39;49m\u001b[38;5;241;43m3\u001b[39;49m\u001b[43m,\u001b[49m\u001b[43my\u001b[49m\u001b[38;5;241;43m=\u001b[39;49m\u001b[38;5;241;43m2\u001b[39;49m\u001b[43m)\u001b[49m\n",
      "\u001b[1;31mTypeError\u001b[0m: calculate() got multiple values for argument 'x'"
     ]
    }
   ],
   "source": [
    "def calculate(x,y,z=2,r=1.5):\n",
    "    print(x+y+z+r)\n",
    "\n",
    "calculate(5000,x=3,y=2)"
   ]
  },
  {
   "cell_type": "code",
   "execution_count": 14,
   "id": "5ba02fd9",
   "metadata": {},
   "outputs": [
    {
     "name": "stdout",
     "output_type": "stream",
     "text": [
      "first number6\n",
      "second number5\n",
      "sum= 11\n"
     ]
    }
   ],
   "source": [
    "def add(x,y):  #function header\n",
    "    \n",
    "    return x+y\n",
    "\n",
    "a=int(input(\"first number\"))\n",
    "b=int(input(\"second number\"))    \n",
    "#k=add(a,b)\n",
    "print(\"sum=\",add(a,b))"
   ]
  },
  {
   "cell_type": "code",
   "execution_count": 16,
   "id": "34754664",
   "metadata": {},
   "outputs": [],
   "source": [
    "def func(a,b):\n",
    "    if a%b==0:\n",
    "        return\n",
    "    print(\"a=\",a,\"b=\",b)\n",
    "    \n",
    "func(4,2)\n",
    "    \n",
    "    "
   ]
  },
  {
   "cell_type": "code",
   "execution_count": 17,
   "id": "9e3683ac",
   "metadata": {},
   "outputs": [
    {
     "name": "stdout",
     "output_type": "stream",
     "text": [
      "(4, 16)\n"
     ]
    }
   ],
   "source": [
    "def square(a,b):\n",
    "    return a*a,b*b\n",
    "\n",
    "t=square(2,4)\n",
    "print(t)"
   ]
  },
  {
   "cell_type": "code",
   "execution_count": 18,
   "id": "516538db",
   "metadata": {},
   "outputs": [
    {
     "name": "stdout",
     "output_type": "stream",
     "text": [
      "4 16\n"
     ]
    }
   ],
   "source": [
    "def square(a,b):\n",
    "    return a*a,b*b\n",
    "\n",
    "x,y=square(2,4)\n",
    "print(x,y)"
   ]
  },
  {
   "cell_type": "code",
   "execution_count": 19,
   "id": "baea05fd",
   "metadata": {},
   "outputs": [
    {
     "name": "stdout",
     "output_type": "stream",
     "text": [
      "first number1\n",
      "second number2\n"
     ]
    }
   ],
   "source": [
    "def add(x,y):  #function header\n",
    "    s=x+y\n",
    "    return s\n",
    "\n",
    "a=int(input(\"first number\"))\n",
    "b=int(input(\"second number\"))    \n",
    "r=add(a,b)"
   ]
  },
  {
   "cell_type": "code",
   "execution_count": 20,
   "id": "22275bbb",
   "metadata": {},
   "outputs": [
    {
     "name": "stdout",
     "output_type": "stream",
     "text": [
      "Enter first number1\n",
      "Enter second number2\n",
      "Enter first number3\n",
      "2.0\n"
     ]
    }
   ],
   "source": [
    "def calcsum(a,b,c):\n",
    "    s=a+b+c\n",
    "    return s\n",
    "def average(x,y,z):\n",
    "    sm=calcsum(x,y,z)\n",
    "    return sm/3\n",
    "num1=int(input(\"Enter first number\"))\n",
    "num2=int(input(\"Enter second number\"))\n",
    "num3=int(input(\"Enter first number\"))\n",
    "print(average(num1,num2,num3))"
   ]
  },
  {
   "cell_type": "code",
   "execution_count": 21,
   "id": "bfa2bee5",
   "metadata": {},
   "outputs": [
    {
     "name": "stdout",
     "output_type": "stream",
     "text": [
      "Enter first number10\n",
      "Enter second number12\n",
      "10\n",
      "sum= 22\n"
     ]
    }
   ],
   "source": [
    "def calcsum(x,y):\n",
    "    s=x+y\n",
    "    print(num1)\n",
    "    return s\n",
    "num1=int(input(\"Enter first number\"))\n",
    "num2=int(input(\"Enter second number\"))\n",
    "print(\"sum=\",calcsum(num1,num2))"
   ]
  },
  {
   "cell_type": "code",
   "execution_count": 22,
   "id": "4205eacd",
   "metadata": {},
   "outputs": [
    {
     "ename": "NameError",
     "evalue": "name 'name' is not defined",
     "output_type": "error",
     "traceback": [
      "\u001b[1;31m---------------------------------------------------------------------------\u001b[0m",
      "\u001b[1;31mNameError\u001b[0m                                 Traceback (most recent call last)",
      "Input \u001b[1;32mIn [22]\u001b[0m, in \u001b[0;36m<cell line: 3>\u001b[1;34m()\u001b[0m\n\u001b[0;32m      1\u001b[0m \u001b[38;5;28;01mdef\u001b[39;00m \u001b[38;5;21mwelcome\u001b[39m():\n\u001b[0;32m      2\u001b[0m     \u001b[38;5;28mprint\u001b[39m(\u001b[38;5;124m\"\u001b[39m\u001b[38;5;124mHello\u001b[39m\u001b[38;5;124m\"\u001b[39m,name)\n\u001b[1;32m----> 3\u001b[0m \u001b[43mwelcome\u001b[49m\u001b[43m(\u001b[49m\u001b[43m)\u001b[49m\n",
      "Input \u001b[1;32mIn [22]\u001b[0m, in \u001b[0;36mwelcome\u001b[1;34m()\u001b[0m\n\u001b[0;32m      1\u001b[0m \u001b[38;5;28;01mdef\u001b[39;00m \u001b[38;5;21mwelcome\u001b[39m():\n\u001b[1;32m----> 2\u001b[0m     \u001b[38;5;28mprint\u001b[39m(\u001b[38;5;124m\"\u001b[39m\u001b[38;5;124mHello\u001b[39m\u001b[38;5;124m\"\u001b[39m,\u001b[43mname\u001b[49m)\n",
      "\u001b[1;31mNameError\u001b[0m: name 'name' is not defined"
     ]
    }
   ],
   "source": [
    "def welcome():\n",
    "    print(\"Hello\",name)\n",
    "welcome()\n"
   ]
  },
  {
   "cell_type": "code",
   "execution_count": 23,
   "id": "ce8c0b7e",
   "metadata": {},
   "outputs": [
    {
     "name": "stdout",
     "output_type": "stream",
     "text": [
      "a in top level 100\n",
      "a in function 15\n",
      "a in top level 100\n"
     ]
    }
   ],
   "source": [
    "def f1():\n",
    "    a=15\n",
    "    print(\"a in function\", a)\n",
    "a=100\n",
    "print(\"a in top level\",a)\n",
    "f1()\n",
    "print(\"a in top level\",a)"
   ]
  },
  {
   "cell_type": "code",
   "execution_count": 24,
   "id": "78f9c1ce",
   "metadata": {},
   "outputs": [
    {
     "name": "stdout",
     "output_type": "stream",
     "text": [
      "a in top level 100\n",
      "a in function 15\n",
      "a in top level 15\n"
     ]
    }
   ],
   "source": [
    "def f1():\n",
    "    global a\n",
    "    a=15\n",
    "    print(\"a in function\", a)\n",
    "a=100\n",
    "print(\"a in top level\",a)\n",
    "f1()\n",
    "print(\"a in top level\",a)"
   ]
  },
  {
   "cell_type": "code",
   "execution_count": 25,
   "id": "e04f58d8",
   "metadata": {},
   "outputs": [
    {
     "data": {
      "text/plain": [
       "109"
      ]
     },
     "execution_count": 25,
     "metadata": {},
     "output_type": "execute_result"
    }
   ],
   "source": [
    "def add(a,b):\n",
    "\treturn a+b\n",
    "add(100,9)"
   ]
  },
  {
   "cell_type": "code",
   "execution_count": 26,
   "id": "4f7902d5",
   "metadata": {},
   "outputs": [
    {
     "data": {
      "text/plain": [
       "5"
      ]
     },
     "execution_count": 26,
     "metadata": {},
     "output_type": "execute_result"
    }
   ],
   "source": [
    "add=lambda a,b:a+b\n",
    "add(2,3)\n",
    "\n",
    "\n"
   ]
  },
  {
   "cell_type": "code",
   "execution_count": 27,
   "id": "75464336",
   "metadata": {},
   "outputs": [
    {
     "data": {
      "text/plain": [
       "109"
      ]
     },
     "execution_count": 27,
     "metadata": {},
     "output_type": "execute_result"
    }
   ],
   "source": [
    "(lambda a,b:a+b)(30,79)  #iife- immediately invoked function expression"
   ]
  },
  {
   "cell_type": "code",
   "execution_count": 28,
   "id": "752807b4",
   "metadata": {},
   "outputs": [
    {
     "data": {
      "text/plain": [
       "25"
      ]
     },
     "execution_count": 28,
     "metadata": {},
     "output_type": "execute_result"
    }
   ],
   "source": [
    "add=lambda a,b,c=7:a+b+c\n",
    "add(b=6,a=12)"
   ]
  },
  {
   "cell_type": "code",
   "execution_count": 36,
   "id": "51d999df",
   "metadata": {},
   "outputs": [
    {
     "name": "stdout",
     "output_type": "stream",
     "text": [
      "<class 'tuple'>\n",
      "Sum= 100\n"
     ]
    }
   ],
   "source": [
    "def func(*args):\n",
    "    sum1=0\n",
    "    for i in args:\n",
    "        sum1+=i\n",
    "    print(type(args))\n",
    "    print(\"Sum=\",sum1)\n",
    "\n",
    "func(10,20,30,40)"
   ]
  },
  {
   "cell_type": "code",
   "execution_count": 33,
   "id": "25358381",
   "metadata": {},
   "outputs": [
    {
     "name": "stdout",
     "output_type": "stream",
     "text": [
      "Sum= 16\n"
     ]
    }
   ],
   "source": [
    "func(10,6)"
   ]
  },
  {
   "cell_type": "code",
   "execution_count": 34,
   "id": "5fcff0bf",
   "metadata": {},
   "outputs": [
    {
     "data": {
      "text/plain": [
       "28"
      ]
     },
     "execution_count": 34,
     "metadata": {},
     "output_type": "execute_result"
    }
   ],
   "source": [
    "add=lambda *args: sum(args)\n",
    "add(1,2,3,4,5,6,7)"
   ]
  },
  {
   "cell_type": "code",
   "execution_count": 35,
   "id": "5e0e1d7d",
   "metadata": {},
   "outputs": [
    {
     "data": {
      "text/plain": [
       "3"
      ]
     },
     "execution_count": 35,
     "metadata": {},
     "output_type": "execute_result"
    }
   ],
   "source": [
    "add(1,2)"
   ]
  },
  {
   "cell_type": "code",
   "execution_count": 37,
   "id": "bb494c04",
   "metadata": {},
   "outputs": [
    {
     "data": {
      "text/plain": [
       "72"
      ]
     },
     "execution_count": 37,
     "metadata": {},
     "output_type": "execute_result"
    }
   ],
   "source": [
    "h=lambda x,f : x+f(x)\n",
    "\n",
    "h(8,lambda x:x*x)"
   ]
  },
  {
   "cell_type": "code",
   "execution_count": 38,
   "id": "96ded571",
   "metadata": {},
   "outputs": [
    {
     "data": {
      "text/plain": [
       "True"
      ]
     },
     "execution_count": 38,
     "metadata": {},
     "output_type": "execute_result"
    }
   ],
   "source": [
    "substring=lambda string :string in \"Iam studying Python\"\n",
    "substring(\"Python\")"
   ]
  },
  {
   "cell_type": "code",
   "execution_count": 39,
   "id": "437dd9e1",
   "metadata": {},
   "outputs": [
    {
     "data": {
      "text/plain": [
       "'even'"
      ]
     },
     "execution_count": 39,
     "metadata": {},
     "output_type": "execute_result"
    }
   ],
   "source": [
    "k=lambda x:\"even\" if (x%2==0) else \"odd\"\n",
    "k(110)"
   ]
  },
  {
   "cell_type": "code",
   "execution_count": 40,
   "id": "f7548b38",
   "metadata": {},
   "outputs": [
    {
     "data": {
      "text/plain": [
       "'odd'"
      ]
     },
     "execution_count": 40,
     "metadata": {},
     "output_type": "execute_result"
    }
   ],
   "source": [
    "k(1)"
   ]
  },
  {
   "cell_type": "code",
   "execution_count": null,
   "id": "2e1ac5e4",
   "metadata": {},
   "outputs": [],
   "source": []
  }
 ],
 "metadata": {
  "kernelspec": {
   "display_name": "Python 3 (ipykernel)",
   "language": "python",
   "name": "python3"
  },
  "language_info": {
   "codemirror_mode": {
    "name": "ipython",
    "version": 3
   },
   "file_extension": ".py",
   "mimetype": "text/x-python",
   "name": "python",
   "nbconvert_exporter": "python",
   "pygments_lexer": "ipython3",
   "version": "3.9.10"
  }
 },
 "nbformat": 4,
 "nbformat_minor": 5
}

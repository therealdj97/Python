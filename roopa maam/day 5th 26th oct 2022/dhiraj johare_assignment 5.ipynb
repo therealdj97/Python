{
 "cells": [
  {
   "cell_type": "code",
   "execution_count": null,
   "id": "aac94875",
   "metadata": {},
   "outputs": [],
   "source": [
    "#1.write a python program to get the info and convert that into an array\n",
    "\n",
    "from PIL import Image\n",
    "import numpy as np\n",
    "img=input('Enter the image name\\n ') #image must be in same working directory/else enter the absolute path of the image file\n",
    "image = Image.open(img)\n",
    "a=print(image.info)\n",
    "b=np.array(img)\n",
    "print(b)\n",
    "print(type(a))\n",
    "print(type(b))"
   ]
  },
  {
   "cell_type": "code",
   "execution_count": null,
   "id": "e953bfcb",
   "metadata": {},
   "outputs": [],
   "source": [
    "#2. write a python program to rotate the image according to the angles specified by user\n",
    "\n",
    "from PIL import Image \n",
    "a=int(input(\"Enter a angle:- \"))\n",
    "img = Image.open('taj.jpeg') \n",
    " \n",
    "rotate_img= img.rotate(a)\n",
    " \n",
    "rotate_img.show()\n"
   ]
  },
  {
   "cell_type": "code",
   "execution_count": null,
   "id": "6d1398ed",
   "metadata": {},
   "outputs": [],
   "source": [
    "#3. State the use of convert function with palettes and do that on the loaded image.\n",
    "#convert function returns converted copy of the given image as per given MODE  \n",
    "\n",
    "\n",
    "\n",
    "from PIL import Image,ImageDraw    \n",
    "img = Image.open('taj.jpeg') \n",
    "img1=img.convert(\"L\")\n",
    "img1.show()\n",
    "img2=img.convert(\"1\")\n",
    "img2.show()\n",
    "img3=img.convert(\"P\",palette=Image.ADAPTIVE,colors=88)\n",
    "img3.show()\n"
   ]
  },
  {
   "cell_type": "code",
   "execution_count": null,
   "id": "77d943ec",
   "metadata": {},
   "outputs": [],
   "source": []
  }
 ],
 "metadata": {
  "kernelspec": {
   "display_name": "Python 3",
   "language": "python",
   "name": "python3"
  },
  "language_info": {
   "codemirror_mode": {
    "name": "ipython",
    "version": 3
   },
   "file_extension": ".py",
   "mimetype": "text/x-python",
   "name": "python",
   "nbconvert_exporter": "python",
   "pygments_lexer": "ipython3",
   "version": "3.10.8 (tags/v3.10.8:aaaf517, Oct 11 2022, 16:50:30) [MSC v.1933 64 bit (AMD64)]"
  },
  "vscode": {
   "interpreter": {
    "hash": "26de051ba29f2982a8de78e945f0abaf191376122a1563185a90213a26c5da77"
   }
  }
 },
 "nbformat": 4,
 "nbformat_minor": 5
}

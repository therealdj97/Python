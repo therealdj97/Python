{
 "cells": [
  {
   "cell_type": "code",
   "execution_count": 2,
   "id": "f48863b7",
   "metadata": {},
   "outputs": [
    {
     "name": "stdout",
     "output_type": "stream",
     "text": [
      "enter principle amount65\n",
      "enter number of years52\n",
      "enter rate of interest456\n",
      "simple interest is 15412.8\n"
     ]
    }
   ],
   "source": [
    "def simpleI(p,n,r):\n",
    "    si=((p*n*r)/100)\n",
    "    print(\"simple interest is\",si)\n",
    "p=int(input(\"enter principle amount\"))\n",
    "n=int(input(\"enter number of years\"))\n",
    "r=int(input(\"enter rate of interest\"))\n",
    "simpleI(p,n,r)"
   ]
  },
  {
   "cell_type": "code",
   "execution_count": 1,
   "id": "3b3d79e5",
   "metadata": {},
   "outputs": [
    {
     "name": "stdout",
     "output_type": "stream",
     "text": [
      "enter principle amount65\n",
      "enter number of years52\n",
      "enter rate of interest55\n",
      "simple interest is 1859.0\n"
     ]
    }
   ],
   "source": [
    "def simpleI():\n",
    "    p=int(input(\"enter principle amount\"))\n",
    "    n=int(input(\"enter number of years\"))\n",
    "    r=int(input(\"enter rate of interest\"))\n",
    "    si=((p*n*r)/100)\n",
    "    print(\"simple interest is\",si)\n",
    "    \n",
    "simpleI()"
   ]
  },
  {
   "cell_type": "code",
   "execution_count": 4,
   "id": "7138b757",
   "metadata": {},
   "outputs": [
    {
     "data": {
      "text/plain": [
       "72"
      ]
     },
     "execution_count": 4,
     "metadata": {},
     "output_type": "execute_result"
    }
   ],
   "source": [
    "h=lambda x,f : x+f(x)\n",
    "h(8,lambda x:x*x)"
   ]
  },
  {
   "cell_type": "code",
   "execution_count": null,
   "id": "8f4c68b0",
   "metadata": {},
   "outputs": [],
   "source": []
  }
 ],
 "metadata": {
  "kernelspec": {
   "display_name": "Python 3 (ipykernel)",
   "language": "python",
   "name": "python3"
  },
  "language_info": {
   "codemirror_mode": {
    "name": "ipython",
    "version": 3
   },
   "file_extension": ".py",
   "mimetype": "text/x-python",
   "name": "python",
   "nbconvert_exporter": "python",
   "pygments_lexer": "ipython3",
   "version": "3.10.8"
  }
 },
 "nbformat": 4,
 "nbformat_minor": 5
}

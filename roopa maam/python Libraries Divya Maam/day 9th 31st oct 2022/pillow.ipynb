{
 "cells": [
  {
   "cell_type": "code",
   "execution_count": 27,
   "id": "c4d1c4ed",
   "metadata": {},
   "outputs": [
    {
     "name": "stdout",
     "output_type": "stream",
     "text": [
      "1.png\n",
      "PNG\n",
      "mode is  LA\n",
      "(2048, 2048)\n",
      "2048\n",
      "2048\n"
     ]
    }
   ],
   "source": [
    "from PIL import Image\n",
    "im = Image.open(\"1.png\")\n",
    "imim=im.rotate(45)\n",
    "print(im.filename)\n",
    "print(im.format)\n",
    "\n",
    "print(\"mode is \",im.mode)\n",
    "print(im.size)\n",
    "print(im.height)\n",
    "print(im.width)\n",
    "imim.save(\"d1.png\")\n",
    "imim.show()"
   ]
  },
  {
   "cell_type": "code",
   "execution_count": 13,
   "id": "2f0f0292",
   "metadata": {},
   "outputs": [
    {
     "ename": "FileNotFoundError",
     "evalue": "[Errno 2] No such file or directory: 'MG.jpg'",
     "output_type": "error",
     "traceback": [
      "\u001b[1;31m---------------------------------------------------------------------------\u001b[0m",
      "\u001b[1;31mFileNotFoundError\u001b[0m                         Traceback (most recent call last)",
      "Cell \u001b[1;32mIn [13], line 3\u001b[0m\n\u001b[0;32m      1\u001b[0m \u001b[38;5;28;01mfrom\u001b[39;00m \u001b[38;5;21;01mPIL\u001b[39;00m \u001b[38;5;28;01mimport\u001b[39;00m Image\n\u001b[1;32m----> 3\u001b[0m image \u001b[38;5;241m=\u001b[39m \u001b[43mImage\u001b[49m\u001b[38;5;241;43m.\u001b[39;49m\u001b[43mopen\u001b[49m\u001b[43m(\u001b[49m\u001b[38;5;124;43m'\u001b[39;49m\u001b[38;5;124;43mMG.jpg\u001b[39;49m\u001b[38;5;124;43m'\u001b[39;49m\u001b[43m)\u001b[49m\n\u001b[0;32m      4\u001b[0m image\u001b[38;5;241m.\u001b[39mshow()\n\u001b[0;32m      6\u001b[0m \u001b[38;5;66;03m#image_blank=Image.new('RGBA', (1000, 600))\u001b[39;00m\n\u001b[0;32m      7\u001b[0m \u001b[38;5;66;03m#image_blank.show()\u001b[39;00m\n\u001b[0;32m      8\u001b[0m \n\u001b[0;32m      9\u001b[0m \u001b[38;5;66;03m#image.save('test_save.jpg')\u001b[39;00m\n",
      "File \u001b[1;32mC:\\Program Files\\Python310\\lib\\site-packages\\PIL\\Image.py:3092\u001b[0m, in \u001b[0;36mopen\u001b[1;34m(fp, mode, formats)\u001b[0m\n\u001b[0;32m   3089\u001b[0m     filename \u001b[38;5;241m=\u001b[39m fp\n\u001b[0;32m   3091\u001b[0m \u001b[38;5;28;01mif\u001b[39;00m filename:\n\u001b[1;32m-> 3092\u001b[0m     fp \u001b[38;5;241m=\u001b[39m \u001b[43mbuiltins\u001b[49m\u001b[38;5;241;43m.\u001b[39;49m\u001b[43mopen\u001b[49m\u001b[43m(\u001b[49m\u001b[43mfilename\u001b[49m\u001b[43m,\u001b[49m\u001b[43m \u001b[49m\u001b[38;5;124;43m\"\u001b[39;49m\u001b[38;5;124;43mrb\u001b[39;49m\u001b[38;5;124;43m\"\u001b[39;49m\u001b[43m)\u001b[49m\n\u001b[0;32m   3093\u001b[0m     exclusive_fp \u001b[38;5;241m=\u001b[39m \u001b[38;5;28;01mTrue\u001b[39;00m\n\u001b[0;32m   3095\u001b[0m \u001b[38;5;28;01mtry\u001b[39;00m:\n",
      "\u001b[1;31mFileNotFoundError\u001b[0m: [Errno 2] No such file or directory: 'MG.jpg'"
     ]
    }
   ],
   "source": [
    "from PIL import Image\n",
    "\n",
    "image = Image.open('MG.jpg')\n",
    "image.show()\n",
    "\n",
    "#image_blank=Image.new('RGBA', (1000, 600))\n",
    "#image_blank.show()\n",
    "\n",
    "#image.save('test_save.jpg')\n",
    "\n",
    "print(image.size)\n",
    "print(image.filename)\n",
    "print(image.format)\n",
    "print(image.format_description)\n",
    "print(Image.info)"
   ]
  },
  {
   "cell_type": "code",
   "execution_count": 16,
   "id": "d94ae3dd",
   "metadata": {},
   "outputs": [],
   "source": [
    "#image functions\n",
    "img=Image.open(\"1.png\")\n",
    "img.show()\n",
    "img.thumbnail((80,80))\n",
    "img.save(\"thumbnail.png\")\n",
    "img_t=Image.open(\"thumbnail.png\")\n",
    "img_t.show()"
   ]
  },
  {
   "cell_type": "code",
   "execution_count": 32,
   "id": "ed1eae78",
   "metadata": {},
   "outputs": [],
   "source": [
    "#split And merge functions\n",
    "image=Image.open(\"2.jpg\")\n",
    "r,g,b=image.split()\n",
    "r.show()\n",
    "b.show()\n",
    "g.show()\n",
    "image.show()\n",
    "image=Image.merge(\"RGB\",(r,g,b))\n",
    "image.show()"
   ]
  },
  {
   "cell_type": "code",
   "execution_count": 33,
   "id": "2eca717e",
   "metadata": {},
   "outputs": [],
   "source": [
    "from PIL import Image\n",
    "im=Image.open(\"2.jpg\")\n",
    "im.show()\n",
    "imim=im.rotate(45)\n",
    "imim.show()\n"
   ]
  },
  {
   "cell_type": "code",
   "execution_count": 39,
   "id": "ed50299f",
   "metadata": {},
   "outputs": [
    {
     "name": "stdout",
     "output_type": "stream",
     "text": [
      "(6000, 4000)\n"
     ]
    }
   ],
   "source": [
    "from PIL import Image\n",
    "image1=Image.open(\"2.jpg\")\n",
    "image2=Image.open(\"1.jpg\")\n",
    "image2.show()\n",
    "image1_size=image1.size\n",
    "image2_size=image2.size\n",
    "print(image2_size)\n",
    "new_image=Image.new('RGB',(image1_size[0],2*image1_size[1]),\"white\")\n",
    "new_image.paste(image1,(0,0))\n",
    "new_image.paste(image2,(0,image1_size[1]))\n",
    "new_image.show()\n",
    "new_image.save(\"merged.jpg\")"
   ]
  },
  {
   "cell_type": "code",
   "execution_count": 40,
   "id": "62a963df",
   "metadata": {},
   "outputs": [],
   "source": [
    "#imgae filtering\n",
    "from PIL import Image,ImageFilter\n",
    "image1 = Image.open(r\"1.jpg\")\n",
    "blur_Image=image.filter(ImageFilter.BLUR)\n",
    "b1=image1.filter(ImageFilter.BoxBlur(50))\n",
    "#blur_Image.show()\n",
    "b1.show()"
   ]
  },
  {
   "cell_type": "code",
   "execution_count": 53,
   "id": "85e23aa3",
   "metadata": {},
   "outputs": [],
   "source": [
    "#watermark\n",
    "from PIL import Image,ImageDraw,ImageFont\n",
    "im=Image.open(\"taj.jpeg\")\n",
    "width,height=im.size\n",
    "draw=ImageDraw.Draw(im)\n",
    "text=\"edited in python\"\n",
    "font=ImageFont.truetype('arial.ttf',36)\n",
    "margin=10\n",
    "draw.text((100,100),text,font=font)\n",
    "im.show()"
   ]
  },
  {
   "cell_type": "code",
   "execution_count": 54,
   "id": "7eed792e",
   "metadata": {},
   "outputs": [],
   "source": [
    "from PIL import Image,ImageDraw\n",
    "img=Image.open(\"taj.jpeg\")\n",
    "d1=ImageDraw.Draw(img)\n",
    "d1.text((100,100),\"PGDBDA\",fill=(255,255,0))\n",
    "img.show()"
   ]
  },
  {
   "cell_type": "code",
   "execution_count": null,
   "id": "b3d4abe5",
   "metadata": {},
   "outputs": [],
   "source": [
    "#Flip and Rotate Image Using Pillow\n",
    "\n",
    "from PIL import Image\n",
    "\n",
    "# Open an already existing image and create image object \n",
    "imageObject = Image.open('photo.jpeg')\n",
    "\n",
    "# perform a flip of left and right\n",
    "\n",
    "#hori_flippedImage=imageObject.transpose(Image.FLIP_LEFT_RIGHT)\n",
    "\n",
    "# perform a flip of left and right\n",
    "\n",
    "top_flippedImage=imageObject.transpose(Image.FLIP_TOP_BOTTOM) \n",
    "\n",
    "# perform a flip of left and right\n",
    "\n",
    "#rotate_Image=imageObject.transpose(Image.ROTATE_90)\n",
    "\n",
    "# display the original image \n",
    "imageObject.show()\n",
    "\n",
    "# display the horizontal flipped image \n",
    "#hori_flippedImage.show()\n",
    "\n",
    "# display the top flipped image \n",
    "top_flippedImage.show()\n",
    "\n",
    "# display the 90 flipped image \n",
    "rotate_Image.show()"
   ]
  },
  {
   "cell_type": "code",
   "execution_count": 55,
   "id": "c0b31122",
   "metadata": {},
   "outputs": [
    {
     "ename": "SyntaxError",
     "evalue": "invalid syntax (1008216993.py, line 1)",
     "output_type": "error",
     "traceback": [
      "\u001b[1;36m  Cell \u001b[1;32mIn [55], line 1\u001b[1;36m\u001b[0m\n\u001b[1;33m    write a python program to get the info and convert that into an array\u001b[0m\n\u001b[1;37m          ^\u001b[0m\n\u001b[1;31mSyntaxError\u001b[0m\u001b[1;31m:\u001b[0m invalid syntax\n"
     ]
    }
   ],
   "source": [
    "write a python program to get the info and convert that into an array\n",
    "write a python program to rotate the image according to the angles specified by user"
   ]
  },
  {
   "cell_type": "code",
   "execution_count": 60,
   "id": "4c70ecb2",
   "metadata": {},
   "outputs": [
    {
     "name": "stdout",
     "output_type": "stream",
     "text": [
      "Enter a angle30\n"
     ]
    }
   ],
   "source": [
    "from PIL import Image \n",
    " \n",
    "a=int(input(\"Enter a angle\"))\n",
    "img = Image.open(r\"taj.jpeg\") \n",
    " \n",
    "rotate_img= img.rotate(a)\n",
    " \n",
    "rotate_img.show()"
   ]
  },
  {
   "cell_type": "code",
   "execution_count": null,
   "id": "55897156",
   "metadata": {},
   "outputs": [],
   "source": []
  }
 ],
 "metadata": {
  "kernelspec": {
   "display_name": "Python 3 (ipykernel)",
   "language": "python",
   "name": "python3"
  },
  "language_info": {
   "codemirror_mode": {
    "name": "ipython",
    "version": 3
   },
   "file_extension": ".py",
   "mimetype": "text/x-python",
   "name": "python",
   "nbconvert_exporter": "python",
   "pygments_lexer": "ipython3",
   "version": "3.10.8"
  }
 },
 "nbformat": 4,
 "nbformat_minor": 5
}

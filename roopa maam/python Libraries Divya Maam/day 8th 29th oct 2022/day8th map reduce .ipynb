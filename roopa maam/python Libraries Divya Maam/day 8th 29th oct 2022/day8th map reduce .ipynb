{
 "cells": [
  {
   "cell_type": "code",
   "execution_count": null,
   "id": "3315a62a",
   "metadata": {},
   "outputs": [],
   "source": [
    "l=[1,2,3]\n",
    "def prod(x):\n",
    "    return x*x\n",
    "r=list(map(prod,l))\n",
    "print(r)"
   ]
  },
  {
   "cell_type": "code",
   "execution_count": null,
   "id": "5fddcc82",
   "metadata": {},
   "outputs": [],
   "source": [
    "print(list(map(lambda x:x*x,l)))"
   ]
  },
  {
   "cell_type": "code",
   "execution_count": null,
   "id": "772810fc",
   "metadata": {},
   "outputs": [],
   "source": [
    "print(list(map(str.upper,[\"apple\",'ball','cat'])))"
   ]
  },
  {
   "cell_type": "code",
   "execution_count": null,
   "id": "57da5a2f",
   "metadata": {},
   "outputs": [],
   "source": [
    "num =[1,2,3,4]\n",
    "sq=[n*n for n in num]\n",
    "print(sq)"
   ]
  },
  {
   "cell_type": "code",
   "execution_count": null,
   "id": "8931b115",
   "metadata": {},
   "outputs": [],
   "source": [
    "n_letter = [letter for letter in \"python\"]\n",
    "print(n_letter)"
   ]
  },
  {
   "cell_type": "code",
   "execution_count": null,
   "id": "a5cdbf90",
   "metadata": {},
   "outputs": [],
   "source": [
    "cars=['jaguar','landrover','bugatti','tesla','toyota']\n",
    "newlist=[]\n",
    "for x in cars:\n",
    "    if 's' in x:\n",
    "        newlist.append(x)\n",
    "print(newlist)"
   ]
  },
  {
   "cell_type": "code",
   "execution_count": null,
   "id": "f7c8a97d",
   "metadata": {},
   "outputs": [],
   "source": [
    "even=[x for x in range(1,21) if x%2==0]\n",
    "print(even)"
   ]
  },
  {
   "cell_type": "code",
   "execution_count": null,
   "id": "03cfa427",
   "metadata": {},
   "outputs": [],
   "source": [
    "odd=[x for x in range(1,20) if x%2!=0]\n",
    "print(odd)"
   ]
  },
  {
   "cell_type": "code",
   "execution_count": null,
   "id": "783ccf45",
   "metadata": {},
   "outputs": [],
   "source": [
    "cars=['jaguar','landrover','bugatti','tesla','toyota']\n",
    "newlist=[x if x!='tesla' else 'audi' for x in cars]\n",
    "print(newlist)\n"
   ]
  },
  {
   "cell_type": "code",
   "execution_count": null,
   "id": "3cfef7fc",
   "metadata": {},
   "outputs": [],
   "source": [
    "def greet():\n",
    "    print(\"hi how are you doing?\")"
   ]
  },
  {
   "cell_type": "code",
   "execution_count": 5,
   "id": "c0d5cb63",
   "metadata": {},
   "outputs": [
    {
     "name": "stdout",
     "output_type": "stream",
     "text": [
      "('books',)\n",
      "('davaindia',)\n",
      "('information_schema',)\n",
      "('mysql',)\n",
      "('netflix',)\n",
      "('performance_schema',)\n",
      "('pgdbda',)\n",
      "('sakila',)\n",
      "('sys',)\n",
      "('test',)\n",
      "('transport',)\n",
      "('world',)\n"
     ]
    }
   ],
   "source": [
    "import mysql.connector\n",
    "conn_obj=mysql.connector.connect(host=\"localhost\",user=\"root\",passwd=\"123456\")\n",
    "cur=conn_obj.cursor()\n",
    "cur.execute(\"show databases\")\n",
    "#cur.execute(\"CREATE DATABASE pgdbda\")\n",
    "for i in cur:\n",
    "    print(i)"
   ]
  },
  {
   "cell_type": "code",
   "execution_count": null,
   "id": "5742adb8",
   "metadata": {},
   "outputs": [],
   "source": [
    "import mysql.connector\n",
    "conn_obj=mysql.connector.connect(host=\"localhost\",user=\"root\",passwd=\"123456\",database=\"pgdbda\")\n",
    "cur=conn_obj.cursor()\n",
    "q=\"create table student(rollno int primary key,sname varchar(30),branch varchar(20))\"\n",
    "cur.execute(q)"
   ]
  },
  {
   "cell_type": "code",
   "execution_count": null,
   "id": "8159c2a0",
   "metadata": {},
   "outputs": [],
   "source": [
    "q=\"insert into student values(%s,%s,%s)\"\n",
    "v=(110,\"ketan\",\"mech\")\n",
    "cur.execute(q,v)"
   ]
  },
  {
   "cell_type": "code",
   "execution_count": null,
   "id": "7555d021",
   "metadata": {},
   "outputs": [],
   "source": [
    "conn_obj.commit()"
   ]
  },
  {
   "cell_type": "code",
   "execution_count": 7,
   "id": "fda4efac",
   "metadata": {},
   "outputs": [],
   "source": [
    "import mysql.connector\n",
    "conn_obj=mysql.connector.connect(host=\"localhost\",user=\"root\",passwd=\"123456\",database=\"pgdbda\")\n",
    "cur=conn_obj.cursor()\n",
    "q=\"insert into student values(%s,%s,%s)\"\n",
    "v=[(101,'rushi','bams'),(102,'abhisheikh','civil'),(103,'vinod','cs')]\n",
    "#v=(120,\"dhiraj\",\"electrical\")\n",
    "#cur.execute(q,v)\n",
    "cur.executemany(q,v)\n",
    "conn_obj.commit()"
   ]
  },
  {
   "cell_type": "code",
   "execution_count": null,
   "id": "99200823",
   "metadata": {},
   "outputs": [],
   "source": [
    "q=\"select * from student where sname like '%ir%'\"\n",
    "cur.execute(q)\n",
    "for i in cur:\n",
    "    print(i)"
   ]
  },
  {
   "cell_type": "code",
   "execution_count": 2,
   "id": "0992acb5",
   "metadata": {},
   "outputs": [
    {
     "ename": "NameError",
     "evalue": "name 'q' is not defined",
     "output_type": "error",
     "traceback": [
      "\u001b[1;31m---------------------------------------------------------------------------\u001b[0m",
      "\u001b[1;31mNameError\u001b[0m                                 Traceback (most recent call last)",
      "Cell \u001b[1;32mIn [2], line 2\u001b[0m\n\u001b[0;32m      1\u001b[0m v\u001b[38;5;241m=\u001b[39m[(\u001b[38;5;241m101\u001b[39m,\u001b[38;5;124m'\u001b[39m\u001b[38;5;124mrushi\u001b[39m\u001b[38;5;124m'\u001b[39m,\u001b[38;5;124m'\u001b[39m\u001b[38;5;124mbams\u001b[39m\u001b[38;5;124m'\u001b[39m),(\u001b[38;5;241m102\u001b[39m,\u001b[38;5;124m'\u001b[39m\u001b[38;5;124mabhisheikh\u001b[39m\u001b[38;5;124m'\u001b[39m,\u001b[38;5;124m'\u001b[39m\u001b[38;5;124mcivil\u001b[39m\u001b[38;5;124m'\u001b[39m),(\u001b[38;5;241m103\u001b[39m,\u001b[38;5;124m'\u001b[39m\u001b[38;5;124mvinod\u001b[39m\u001b[38;5;124m'\u001b[39m,\u001b[38;5;124m'\u001b[39m\u001b[38;5;124mcs\u001b[39m\u001b[38;5;124m'\u001b[39m)]\n\u001b[1;32m----> 2\u001b[0m cur\u001b[38;5;241m.\u001b[39mexecute(\u001b[43mq\u001b[49m)\n",
      "\u001b[1;31mNameError\u001b[0m: name 'q' is not defined"
     ]
    }
   ],
   "source": [
    "v=[(101,'rushi','bams'),(102,'abhisheikh','civil'),(103,'vinod','cs')]\n",
    "cur.execute(q)"
   ]
  },
  {
   "cell_type": "code",
   "execution_count": 3,
   "id": "dac2e7d9",
   "metadata": {},
   "outputs": [],
   "source": [
    "import mysql.connector"
   ]
  },
  {
   "cell_type": "code",
   "execution_count": null,
   "id": "0e32a096",
   "metadata": {},
   "outputs": [],
   "source": []
  }
 ],
 "metadata": {
  "kernelspec": {
   "display_name": "Python 3 (ipykernel)",
   "language": "python",
   "name": "python3"
  },
  "language_info": {
   "codemirror_mode": {
    "name": "ipython",
    "version": 3
   },
   "file_extension": ".py",
   "mimetype": "text/x-python",
   "name": "python",
   "nbconvert_exporter": "python",
   "pygments_lexer": "ipython3",
   "version": "3.10.8"
  }
 },
 "nbformat": 4,
 "nbformat_minor": 5
}

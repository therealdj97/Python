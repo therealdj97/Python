{
 "cells": [
  {
   "cell_type": "markdown",
   "id": "e9c8baf4",
   "metadata": {},
   "source": [
    "strings"
   ]
  },
  {
   "cell_type": "code",
   "execution_count": 2,
   "id": "36a070a0",
   "metadata": {},
   "outputs": [
    {
     "data": {
      "text/plain": [
       "False"
      ]
     },
     "execution_count": 2,
     "metadata": {},
     "output_type": "execute_result"
    }
   ],
   "source": [
    "'s' in \"STDC\""
   ]
  },
  {
   "cell_type": "code",
   "execution_count": 4,
   "id": "d3235960",
   "metadata": {},
   "outputs": [
    {
     "data": {
      "text/plain": [
       "True"
      ]
     },
     "execution_count": 4,
     "metadata": {},
     "output_type": "execute_result"
    }
   ],
   "source": [
    "\"S\" in \"STAC\""
   ]
  },
  {
   "cell_type": "code",
   "execution_count": 6,
   "id": "b6a768b0",
   "metadata": {},
   "outputs": [
    {
     "data": {
      "text/plain": [
       "65"
      ]
     },
     "execution_count": 6,
     "metadata": {},
     "output_type": "execute_result"
    }
   ],
   "source": [
    "ord(\"A\") #ordinal value"
   ]
  },
  {
   "cell_type": "code",
   "execution_count": 7,
   "id": "e154ccc5",
   "metadata": {},
   "outputs": [
    {
     "data": {
      "text/plain": [
       "'A'"
      ]
     },
     "execution_count": 7,
     "metadata": {},
     "output_type": "execute_result"
    }
   ],
   "source": [
    "chr(65)"
   ]
  },
  {
   "cell_type": "code",
   "execution_count": 8,
   "id": "3a245800",
   "metadata": {},
   "outputs": [
    {
     "data": {
      "text/plain": [
       "True"
      ]
     },
     "execution_count": 8,
     "metadata": {},
     "output_type": "execute_result"
    }
   ],
   "source": [
    "'Apple'<'apple' #comaring ordinal value"
   ]
  },
  {
   "cell_type": "markdown",
   "id": "37377555",
   "metadata": {},
   "source": [
    "slice"
   ]
  },
  {
   "cell_type": "code",
   "execution_count": 9,
   "id": "569661b1",
   "metadata": {},
   "outputs": [],
   "source": [
    "word = \"Amazing\""
   ]
  },
  {
   "cell_type": "code",
   "execution_count": 10,
   "id": "76117bf2",
   "metadata": {},
   "outputs": [
    {
     "data": {
      "text/plain": [
       "'Amazing'"
      ]
     },
     "execution_count": 10,
     "metadata": {},
     "output_type": "execute_result"
    }
   ],
   "source": [
    "word[:3]+word[3:]"
   ]
  },
  {
   "cell_type": "code",
   "execution_count": 11,
   "id": "ee595b45",
   "metadata": {},
   "outputs": [
    {
     "data": {
      "text/plain": [
       "'Ama'"
      ]
     },
     "execution_count": 11,
     "metadata": {},
     "output_type": "execute_result"
    }
   ],
   "source": [
    "word[:3]"
   ]
  },
  {
   "cell_type": "code",
   "execution_count": 12,
   "id": "25bbacb9",
   "metadata": {},
   "outputs": [
    {
     "data": {
      "text/plain": [
       "'zing'"
      ]
     },
     "execution_count": 12,
     "metadata": {},
     "output_type": "execute_result"
    }
   ],
   "source": [
    "word[3:]"
   ]
  },
  {
   "cell_type": "code",
   "execution_count": 13,
   "id": "5e0f4de8",
   "metadata": {},
   "outputs": [
    {
     "data": {
      "text/plain": [
       "'mz'"
      ]
     },
     "execution_count": 13,
     "metadata": {},
     "output_type": "execute_result"
    }
   ],
   "source": [
    "word[1:5:2]"
   ]
  },
  {
   "cell_type": "code",
   "execution_count": 14,
   "id": "308cff50",
   "metadata": {},
   "outputs": [
    {
     "data": {
      "text/plain": [
       "'Az'"
      ]
     },
     "execution_count": 14,
     "metadata": {},
     "output_type": "execute_result"
    }
   ],
   "source": [
    "word[-7:-3:3]"
   ]
  },
  {
   "cell_type": "code",
   "execution_count": 15,
   "id": "ae14ea77",
   "metadata": {},
   "outputs": [
    {
     "data": {
      "text/plain": [
       "'giaA'"
      ]
     },
     "execution_count": 15,
     "metadata": {},
     "output_type": "execute_result"
    }
   ],
   "source": [
    "word[::-2]"
   ]
  },
  {
   "cell_type": "code",
   "execution_count": 16,
   "id": "a4e4c544",
   "metadata": {},
   "outputs": [
    {
     "data": {
      "text/plain": [
       "'gnizamA'"
      ]
     },
     "execution_count": 16,
     "metadata": {},
     "output_type": "execute_result"
    }
   ],
   "source": [
    "word[::-1]"
   ]
  },
  {
   "cell_type": "code",
   "execution_count": 17,
   "id": "b2912169",
   "metadata": {},
   "outputs": [
    {
     "data": {
      "text/plain": [
       "'Amazing'"
      ]
     },
     "execution_count": 17,
     "metadata": {},
     "output_type": "execute_result"
    }
   ],
   "source": [
    "word[::1]"
   ]
  },
  {
   "cell_type": "markdown",
   "id": "285f1e1d",
   "metadata": {},
   "source": [
    "no char spaces and digits"
   ]
  },
  {
   "cell_type": "code",
   "execution_count": 18,
   "id": "717481f3",
   "metadata": {},
   "outputs": [],
   "source": [
    "word1 = \"India is my country\""
   ]
  },
  {
   "cell_type": "code",
   "execution_count": 4,
   "id": "6f238fe2",
   "metadata": {},
   "outputs": [
    {
     "data": {
      "text/plain": [
       "19"
      ]
     },
     "execution_count": 4,
     "metadata": {},
     "output_type": "execute_result"
    }
   ],
   "source": [
    "len(\"India is my country\")"
   ]
  },
  {
   "cell_type": "code",
   "execution_count": 5,
   "id": "34fd2735",
   "metadata": {},
   "outputs": [
    {
     "name": "stdout",
     "output_type": "stream",
     "text": [
      "Enter a string India is my country\n",
      "characters in string are 16\n",
      "digits in string are 0\n",
      "spaces in string are 3\n"
     ]
    }
   ],
   "source": [
    "a=input(\"Enter a string \")\n",
    "countalpha=0\n",
    "countdigit=0\n",
    "countspaces=0\n",
    "\n",
    "for i in a:\n",
    "    if i.isalpha():\n",
    "        countalpha=countalpha+1  \n",
    "    elif i.isdigit():\n",
    "        countdigit=countdigit+1 \n",
    "    elif i.isspace():\n",
    "        countspaces=countspaces+1 \n",
    "        \n",
    "print(\"characters in string are\",countalpha)\n",
    "print(\"digits in string are\",countdigit)\n",
    "print(\"spaces in string are\",countspaces)"
   ]
  },
  {
   "cell_type": "code",
   "execution_count": 7,
   "id": "2b87707c",
   "metadata": {},
   "outputs": [
    {
     "name": "stdout",
     "output_type": "stream",
     "text": [
      "Enter a string India\n",
      "characters in string are 5\n",
      "digits in string are 0\n",
      "spaces in string are 0\n"
     ]
    }
   ],
   "source": [
    "a=input(\"Enter a string \")\n",
    "a=str(a)\n",
    "countalpha=0\n",
    "countdigit=0\n",
    "countspaces=0\n",
    "\n",
    "for i in a:\n",
    "    if i.isalpha():\n",
    "        countalpha=countalpha+1  \n",
    "    elif i.isdigit():\n",
    "        countdigit=countdigit+1 \n",
    "    elif i.isspace():\n",
    "        countspaces=countspaces+1 \n",
    "        \n",
    "print(\"characters in string are\",countalpha)\n",
    "print(\"digits in string are\",countdigit)\n",
    "print(\"spaces in string are\",countspaces)"
   ]
  },
  {
   "cell_type": "code",
   "execution_count": null,
   "id": "1c9d221d",
   "metadata": {},
   "outputs": [],
   "source": []
  }
 ],
 "metadata": {
  "kernelspec": {
   "display_name": "Python 3 (ipykernel)",
   "language": "python",
   "name": "python3"
  },
  "language_info": {
   "codemirror_mode": {
    "name": "ipython",
    "version": 3
   },
   "file_extension": ".py",
   "mimetype": "text/x-python",
   "name": "python",
   "nbconvert_exporter": "python",
   "pygments_lexer": "ipython3",
   "version": "3.10.8"
  }
 },
 "nbformat": 4,
 "nbformat_minor": 5
}

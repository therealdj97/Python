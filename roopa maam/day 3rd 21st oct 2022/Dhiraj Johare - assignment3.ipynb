{
 "cells": [
  {
   "cell_type": "code",
   "execution_count": 1,
   "id": "62c9510c",
   "metadata": {},
   "outputs": [
    {
     "name": "stdout",
     "output_type": "stream",
     "text": [
      "first slice is [6, 8, 10, 12, 14]\n",
      "second slice is [1, 5, 9, 13]\n",
      "sum is 50\n",
      "avg is 7.0\n"
     ]
    }
   ],
   "source": [
    "\"\"\"1 Extract two list slices out of a given list of numbers. Display and print the sum of elements of\n",
    "first slice which contains every other element of the list between indexes 5 to 15. Program\n",
    "should also display the average of elements in second list slice that contains every fourth\n",
    "element of the list.\"\"\"\n",
    "\n",
    "a = [1,2,3,4,5,6,7,8,9,10,11,12,13,14,15,16]\n",
    "a1=a[5:15:2]\n",
    "a2=a[0::4]\n",
    "print(\"first slice is\" ,a1)\n",
    "print(\"second slice is\" ,a2)\n",
    "sum1=0\n",
    "sum2=0\n",
    "for i in a1:\n",
    "    sum1+=i\n",
    "print(\"sum is\",sum1)\n",
    "for j in a2:\n",
    "    sum2+=j\n",
    "print(\"avg is\",sum2/len(a2)) "
   ]
  },
  {
   "cell_type": "code",
   "execution_count": 2,
   "id": "b14584bb",
   "metadata": {},
   "outputs": [
    {
     "name": "stdout",
     "output_type": "stream",
     "text": [
      "enter number of elements in list3\n",
      "1\n",
      "2\n",
      "3\n",
      "list is [1, 2, 3]\n",
      "replicated list is [1, 2, 3]\n",
      "asscending sorted list is  [1, 2, 3]\n",
      "desedescending  sorted list is  [3, 2, 1]\n"
     ]
    }
   ],
   "source": [
    "\"\"\"2 Write a program that inputs a list, replicates it twice and then prints the sorted list both in\n",
    "ascending and descending order\"\"\"\n",
    "list1=[]\n",
    "a = int(input(\"enter number of elements in list\"))\n",
    "\n",
    "for i in range(0,a):\n",
    "    ele = int(input())\n",
    "    list1.append(ele)\n",
    "print(\"list is\",list1)\n",
    "list2=list1\n",
    "print (\"replicated list is\",list2)\n",
    "print(\"asscending sorted list is \", sorted(list2))\n",
    "print(\"desedescending  sorted list is \", sorted(list2,reverse=True))"
   ]
  },
  {
   "cell_type": "code",
   "execution_count": null,
   "id": "92478318",
   "metadata": {},
   "outputs": [],
   "source": [
    "\"\"\" 3. Write a program to calculate the mean of a list of numbers\"\"\"\n",
    "list1=[]\n",
    "a = int(input(\"enter number of elements in list\"))\n",
    "sum1=0\n",
    "for i in range(0,a):\n",
    "    ele = int(input())\n",
    "    list1.append(ele)\n",
    "print(\"list is\",list1)\n",
    "\n",
    "for j in list1:\n",
    "    sum1+=j\n",
    "print(\"Avg is\", sum1/len(list1))"
   ]
  },
  {
   "cell_type": "code",
   "execution_count": null,
   "id": "7d0080a2",
   "metadata": {},
   "outputs": [],
   "source": [
    "\"\"\"4. Write a program to check if the max element of the list lies in the first half or the second half\"\"\"\n",
    "list1=[]\n",
    "a = int(input(\"enter number of elements in list\"))\n",
    "\n",
    "for i in range(0,a):\n",
    "    ele = int(input())\n",
    "    list1.append(ele)\n",
    "print(\"list is\",list1)\n",
    "\n",
    "x=max(list1)\n",
    "y=list1.index(x)\n",
    "if y<=(1/2):\n",
    "    print(\"max number is \",x,\"lies in 1st half of list\")\n",
    "else:\n",
    "      print(\"max number is \",x,\"lies in 2nd half of list\")"
   ]
  },
  {
   "cell_type": "code",
   "execution_count": 12,
   "id": "88914657",
   "metadata": {},
   "outputs": [
    {
     "name": "stdout",
     "output_type": "stream",
     "text": [
      "enter number of elements in 1st list4\n",
      "22\n",
      "334\n",
      "543\n",
      "1222\n",
      "list is [22, 334, 543, 1222]\n",
      "maximum from list1 is 1222 present at index 3\n",
      "enter number of elements in 2nd list5\n",
      "22\n",
      "22\n",
      "44\n",
      "5656\n",
      "1212\n",
      "list is [22, 22, 44, 5656, 1212]\n",
      "maximum from list2 is 5656 present at index 3\n"
     ]
    }
   ],
   "source": [
    "\"\"\"5. Write a program to input 2 lists and display the maximum element from the elements of both\n",
    "the list, along with its index in the list\"\"\"\n",
    "list1=[]\n",
    "list2=[]\n",
    "a = int(input(\"enter number of elements in 1st list\"))\n",
    "\n",
    "for i in range(0,a):\n",
    "    ele = int(input())\n",
    "    list1.append(ele)\n",
    "print(\"list is\",list1)\n",
    "y=max(list1)\n",
    "z=list1.index(y)\n",
    "print(\"maximum from list1 is\",y,\"present at index\",z)\n",
    "\n",
    "b = int(input(\"enter number of elements in 2nd list\"))\n",
    "\n",
    "for j in range(0,b):\n",
    "    elem = int(input())\n",
    "    list2.append(elem)\n",
    "print(\"list is\",list2)\n",
    "m=max(list2)\n",
    "n=list2.index(m)\n",
    "print(\"maximum from list2 is\",m, \"present at index\",n)"
   ]
  },
  {
   "cell_type": "code",
   "execution_count": 3,
   "id": "81122d2a",
   "metadata": {},
   "outputs": [
    {
     "name": "stdout",
     "output_type": "stream",
     "text": [
      "overlap\n"
     ]
    }
   ],
   "source": [
    "\"\"\"6. Given 2 lists, write a program that prints “overlapped” if they have at least one member in\n",
    "common otherwise “not overlapped”\"\"\"\n",
    "\n",
    "a=[11,22,33,44,55]\n",
    "b=[11,12,13,14,15]\n",
    "flag=False\n",
    "for i in a:\n",
    "    if i in b:\n",
    "        flag=True    \n",
    "if flag==True:\n",
    "    print(\"overlap\")\n",
    "else:\n",
    "    print(\"not overlapped \")"
   ]
  },
  {
   "cell_type": "code",
   "execution_count": 2,
   "id": "5c931b44",
   "metadata": {},
   "outputs": [
    {
     "name": "stdout",
     "output_type": "stream",
     "text": [
      "enter number of elements in 1st list5\n",
      "10\n",
      "11\n",
      "12\n",
      "13\n",
      "14\n",
      "list is [10, 11, 12, 13, 14]\n",
      "Enter 1st number2\n",
      "Enter 2nd number3\n",
      "from list 1 numbers which are divisible by 2  &  3 d is [12]\n"
     ]
    }
   ],
   "source": [
    "\"\"\"7. Write a program to input a list and 2 numbers m and n. Then create a list from those elements\n",
    "which are divisible by both m and n\"\"\"\n",
    "list1=[]\n",
    "list2=[]\n",
    "\n",
    "a = int(input(\"enter number of elements in 1st list\"))\n",
    "\n",
    "for i in range(0,a):\n",
    "    ele = int(input())\n",
    "    list1.append(ele)\n",
    "print(\"list is\",list1)\n",
    "\n",
    "m=int(input(\"Enter 1st number\"))\n",
    "n=int(input(\"Enter 2nd number\"))\n",
    "\n",
    "\n",
    "for j in list1:\n",
    "    if j%m==0 and j%n==0:\n",
    "        list2.append(j)\n",
    "#print(\"from list 1 numbers which are divisible by %d & %d is %d\" %(m,n,list2))\n",
    "print(\"from list 1 numbers which are divisible by\",m,\" & \",n,\"d is\" ,list2)"
   ]
  },
  {
   "cell_type": "code",
   "execution_count": 2,
   "id": "902974b1",
   "metadata": {},
   "outputs": [
    {
     "name": "stdout",
     "output_type": "stream",
     "text": [
      "(0, 1, 1, 2, 3, 5, 8, 13, 21)\n"
     ]
    }
   ],
   "source": [
    "\"\"\"8. Write a Python program that creates a tuple storing first 9 terms of Fibonacci series\"\"\"\n",
    "list1=[0,1]\n",
    "a=0\n",
    "b=1\n",
    "flag=0\n",
    "\n",
    "for i in range(0,7):\n",
    "    flag=a+b\n",
    "    a=b\n",
    "    b=flag\n",
    "    list1.append(flag)\n",
    "    \n",
    "list1=tuple(list1)\n",
    "print(list1)"
   ]
  },
  {
   "cell_type": "code",
   "execution_count": null,
   "id": "9db27f56",
   "metadata": {},
   "outputs": [],
   "source": [
    "\"\"\"9. Write a program to enter names of employees and their salaries as input and store it in a\n",
    "dictionary\"\"\"\n",
    "employees={}\n",
    "\n",
    "while True:\n",
    "    a=input(\"Enter name of employee\")\n",
    "    b=int(input(\"Enter salary of employee\"))\n",
    "    c = input(\"if you want to stop type yes else type no\")\n",
    "    if c==\"yes\":\n",
    "        break\n",
    "employees[a]=b\n",
    "print(employees)"
   ]
  },
  {
   "cell_type": "code",
   "execution_count": 1,
   "id": "6dacce9c",
   "metadata": {},
   "outputs": [
    {
     "name": "stdout",
     "output_type": "stream",
     "text": [
      "enter members for keys[\"name\",\"location\"]\n",
      "enter members for values[\"dhiraj\",\"dombivali\"]\n",
      "{'name': 'dhiraj', 'location': 'dombivali'}\n"
     ]
    }
   ],
   "source": [
    "\"\"\"10. Write a program to create a dictionary from 2 lists read from the keyboard. The first list should\n",
    "contain the keys and the second list should contain the values\"\"\"\n",
    "\n",
    "a = eval(input(\"enter members for keys\"))\n",
    "b = eval(input(\"enter members for values\"))\n",
    "myDictionary=dict(zip((a),(b)))\n",
    "print(myDictionary)"
   ]
  }
 ],
 "metadata": {
  "kernelspec": {
   "display_name": "Python 3 (ipykernel)",
   "language": "python",
   "name": "python3"
  },
  "language_info": {
   "codemirror_mode": {
    "name": "ipython",
    "version": 3
   },
   "file_extension": ".py",
   "mimetype": "text/x-python",
   "name": "python",
   "nbconvert_exporter": "python",
   "pygments_lexer": "ipython3",
   "version": "3.10.8"
  }
 },
 "nbformat": 4,
 "nbformat_minor": 5
}

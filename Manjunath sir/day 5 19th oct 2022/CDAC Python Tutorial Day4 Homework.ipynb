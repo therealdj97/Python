{
 "cells": [
  {
   "cell_type": "markdown",
   "id": "67711009",
   "metadata": {},
   "source": [
    "We can define sum from 1 to x (i.e. 1 + 2 + ... + x) \n",
    " recursively as follows for integer x ≥ 1: \n",
    " 1, if x = 1 \n",
    " x + sum from 1 to x-1 if x > 1 \n",
    " Complete the following Python program to \n",
    "compute the \n",
    " sum 1 + 2 + 3 + 4 + 5 + 6 + 7 + 8 + 9 + 10 \n",
    "recursively: "
   ]
  },
  {
   "cell_type": "markdown",
   "id": "65df43e1",
   "metadata": {},
   "source": [
    "Use the map fuion to solve this problem:\n",
    "    Define a function overlapping () that takes two lists and returns True if they have at least one member in common, False otherwise."
   ]
  },
  {
   "cell_type": "code",
   "execution_count": null,
   "id": "9cb8fe53",
   "metadata": {},
   "outputs": [],
   "source": []
  }
 ],
 "metadata": {
  "kernelspec": {
   "display_name": "Python 3 (ipykernel)",
   "language": "python",
   "name": "python3"
  },
  "language_info": {
   "codemirror_mode": {
    "name": "ipython",
    "version": 3
   },
   "file_extension": ".py",
   "mimetype": "text/x-python",
   "name": "python",
   "nbconvert_exporter": "python",
   "pygments_lexer": "ipython3",
   "version": "3.10.7"
  },
  "toc": {
   "base_numbering": 1,
   "nav_menu": {},
   "number_sections": true,
   "sideBar": true,
   "skip_h1_title": false,
   "title_cell": "Table of Contents",
   "title_sidebar": "Contents",
   "toc_cell": false,
   "toc_position": {},
   "toc_section_display": true,
   "toc_window_display": false
  }
 },
 "nbformat": 4,
 "nbformat_minor": 5
}

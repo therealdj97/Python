{
 "cells": [
  {
   "cell_type": "code",
   "execution_count": null,
   "id": "c83eb120",
   "metadata": {},
   "outputs": [],
   "source": [
    "#Use of Doc String for making it easy for other developers to follow your code"
   ]
  },
  {
   "cell_type": "code",
   "execution_count": null,
   "id": "a6cc4bef",
   "metadata": {},
   "outputs": [],
   "source": [
    "def addTwoNumbers(a, b):\n",
    " \"adds two numbers, given two parameters, a, b\"\n",
    " return a + b"
   ]
  },
  {
   "cell_type": "code",
   "execution_count": null,
   "id": "15f161ad",
   "metadata": {},
   "outputs": [],
   "source": [
    "addTwoNumbers(4,3)"
   ]
  },
  {
   "cell_type": "code",
   "execution_count": null,
   "id": "f3861a65",
   "metadata": {},
   "outputs": [],
   "source": [
    "help(addTwoNumbers)"
   ]
  },
  {
   "cell_type": "markdown",
   "id": "1c49f31a",
   "metadata": {},
   "source": [
    "Common Assignment Operations \n",
    "When you set data to a variable using the \"=\" sign it is called assignment. An assignment statement \n",
    "places a value or the result of an expression into variable(s). The general format of an \n",
    "assignment is: \n",
    "var = expression \n",
    "An expression could be a literal, a calculation based on a simple algebra, a call to a function, or a combination \n",
    "of all three. "
   ]
  },
  {
   "cell_type": "markdown",
   "id": "4b8d3066",
   "metadata": {},
   "source": [
    "Python’s four number types are integers, floats, complex numbers, and Booleans:\n",
    " Integers—1, –3, 42, 355, 888888888888888, –7777777777 (integers aren’t limited\n",
    "in size except by available memory)\n",
    " Floats—3.0, 31e12, –6e-4\n",
    " Complex numbers—3 + 2j, –4- 2j, 4.2 + 6.3j\n",
    " Booleans—True, False\n",
    "You can manipulate them by using the arithmetic operators: + (addition), – (subtrac-\n",
    "tion), * (multiplication), / (division), ** (exponentiation), and % (modulus)."
   ]
  },
  {
   "cell_type": "code",
   "execution_count": null,
   "id": "97636da4",
   "metadata": {},
   "outputs": [],
   "source": [
    "#Types of Variables\n",
    "#Numerical, String, Boolean\n",
    "#Store 25 into some_number \n",
    "some_number = 25 \n",
    "# Assign a string of characters into a string variable \n",
    "some_text = 'lets learn Python' \n",
    "print(some_number)\n",
    "print(some_text)"
   ]
  },
  {
   "cell_type": "code",
   "execution_count": null,
   "id": "9c459e63",
   "metadata": {},
   "outputs": [],
   "source": [
    "# a floating point number \n",
    "stock_value_CoalIndia = 229.25 \n",
    "#create a long string \n",
    "Full_Name = 'Mr' + '' +'Nadkalpur ' + ''+ 'Manjunath' \n",
    "# a list \n",
    "breakfast_menu = ['ham','eggs','mushrooms','omelette'] \n",
    "cell_numbers = (9008094006, 99722455525) #use tuple when you expect values not to change aka immutable\n",
    "# multiple assignment (a=1, b=2, b=3) \n",
    "a, b, c = 1,2,4\n",
    "print(stock_value_CoalIndia, Full_Name,breakfast_menu)\n",
    "print(a,b,c)\n",
    "print(cell_numbers)"
   ]
  },
  {
   "cell_type": "code",
   "execution_count": null,
   "id": "9d1b9296",
   "metadata": {},
   "outputs": [],
   "source": [
    "#A good way to ensure you are using the correct type of variable is to check type(variable)\n",
    "#Every variable in Python is actually an object. \n",
    "#All variables have a type that can be seen by using the built-in type() function.\n",
    "\n",
    "type(breakfast_menu)\n",
    "type(stock_value_CoalIndia)\n",
    "type(Full_Name)\n",
    "type(cell_numbers)"
   ]
  },
  {
   "cell_type": "markdown",
   "id": "e11ccdc5",
   "metadata": {},
   "source": [
    "#Booleans represent one of two values: True or False.\n",
    "#In programming you often need to know if an expression is True or False and take a decision\n",
    "#You can evaluate any expression in Python, and get one of two answers, True or False.\n",
    "#at its simplest, When you compare two values, the expression is evaluated and Python returns the Boolean answer:"
   ]
  },
  {
   "cell_type": "code",
   "execution_count": null,
   "id": "e20fc2d2",
   "metadata": {},
   "outputs": [],
   "source": [
    "#Compare two values\n",
    "a = 100\n",
    "b = 1\n",
    "\n",
    "if b > a:\n",
    "  print(\"b is greater than a\")\n",
    "else:\n",
    "  print(\"b is not greater than a\")"
   ]
  },
  {
   "cell_type": "code",
   "execution_count": null,
   "id": "103a36c1",
   "metadata": {},
   "outputs": [],
   "source": [
    "print(10 > 9)\n",
    "print(10 == 9)\n",
    "print(10 < 9)"
   ]
  },
  {
   "cell_type": "code",
   "execution_count": null,
   "id": "639a143c",
   "metadata": {},
   "outputs": [],
   "source": [
    "print(bool(\"Hello\"))\n",
    "print(bool(15))"
   ]
  },
  {
   "cell_type": "code",
   "execution_count": null,
   "id": "476b0eaf",
   "metadata": {},
   "outputs": [],
   "source": [
    "print(bool(\"\")) #Empty String!\n",
    "print(bool(15))"
   ]
  },
  {
   "cell_type": "code",
   "execution_count": null,
   "id": "f9609676",
   "metadata": {},
   "outputs": [],
   "source": [
    "x = \"Hello\"\n",
    "y = 15\n",
    "\n",
    "print(bool(x))\n",
    "print(bool(y))"
   ]
  },
  {
   "cell_type": "code",
   "execution_count": null,
   "id": "a8c135df",
   "metadata": {},
   "outputs": [],
   "source": [
    "#Multiple assigment operators\n",
    "#start by assigning working_hours\n",
    "working_hours = 25\n",
    "working_hours+=1\n",
    "print(working_hours)\n",
    "\n",
    "working_hours-=23\n",
    "print(working_hours)\n",
    "\n",
    "working_hours=30\n",
    "working_hours/=6\n",
    "print(working_hours)\n",
    "\n",
    "working_hours *=2.3\n",
    "print(working_hours)\n",
    "\n",
    "\n",
    "    \n"
   ]
  },
  {
   "cell_type": "markdown",
   "id": "33cfd3d6",
   "metadata": {},
   "source": [
    " Python Keywords \n",
    " Just as in other programming languages, Python too has reserved some words with defined meanings. This means you must not use these words as variable names. \n",
    "Note that they are all lowercase. These are:\n",
    "    and as assert break\n",
    "class continue def del\n",
    "elif else except exec\n",
    "finally for from global\n",
    "if import in is\n",
    "lambda not or pass\n",
    "print raise return try\n",
    "while with yield"
   ]
  },
  {
   "cell_type": "markdown",
   "id": "311803e5",
   "metadata": {},
   "source": [
    "There are a large number of built-in names that you must not use, except for their \n",
    "intended purpose. The cases of True , False , and None are important. The most common \n",
    "ones are listed here. \n",
    "True False None abs\n",
    "all any chr dict\n",
    "dir eval exit file\n",
    "float format input int\n",
    "max min next object\n",
    "open print quit range\n",
    "round set str sum\n",
    "tuple type vars zip\n"
   ]
  },
  {
   "cell_type": "code",
   "execution_count": null,
   "id": "e92fedbe",
   "metadata": {},
   "outputs": [],
   "source": [
    "#To display the list of these built-ins, list the contents of the __builtins__ module in the \n",
    "#do \n",
    "dir(__builtins__) "
   ]
  },
  {
   "cell_type": "markdown",
   "id": "d6ddfac2",
   "metadata": {},
   "source": [
    "#This code is present at the bottom of a script. The interpreter loads your program and runs it if necessary. \n",
    "if __name__ == '__main__': \n",
    " main() \n"
   ]
  },
  {
   "cell_type": "markdown",
   "id": "bdbe6d3d",
   "metadata": {},
   "source": [
    "#What are  Python Modules \n",
    "#Python code is usually stored in text files that are read by the Python interpreter at \n",
    "#runtime. Often, programs get so large that it makes sense to split them into smaller ones \n",
    "#called modules. One module can be imported into others using the import statement. \n",
    "\n",
    "import othermod # makes the code in othermod\n",
    "import mymodule # and mymodule available \n"
   ]
  },
  {
   "cell_type": "code",
   "execution_count": null,
   "id": "56d6e95f",
   "metadata": {},
   "outputs": [],
   "source": [
    " #Special Characters and Escaping \n",
    " #A string can contain nonprinting and control characters (e.g., tab, newline, and other \n",
    "#special characters) by “ escaping ” them with a backslash (\\). Common escape characters \n",
    "#are the following: \n",
    "#\\0 Null character \n",
    "#\\t Horizontal tab \n",
    "#\\n Newline character \n",
    "#\\' Single quote \n",
    "#\\\" Double quote \n",
    "#\\\\ Backslash \n",
    "#multiplelines='Line 1\\nLine 2\\nLine 3' \n",
    "multiplelines='Line 1\\nLine 2' \n",
    "print(multiplelines) "
   ]
  },
  {
   "cell_type": "markdown",
   "id": "99d9f6ae",
   "metadata": {},
   "source": [
    "The percent ( % ) operator provides string formatting functionality. \n",
    "\n",
    "formatstring % (arguments to format)\n",
    "\n",
    "%c Single character/string of length 1\n",
    "\n",
    "%s String\n",
    "\n",
    "%d Signed decimal integer\n",
    "\n",
    "%f Floating point number\n",
    "\n",
    "%% Percent character\n"
   ]
  },
  {
   "cell_type": "code",
   "execution_count": null,
   "id": "342bd51d",
   "metadata": {},
   "outputs": [],
   "source": []
  },
  {
   "cell_type": "code",
   "execution_count": null,
   "id": "7ef1df89",
   "metadata": {},
   "outputs": [],
   "source": [
    "#The for statement acts as a header statement for a code block that is to be executed until \n",
    "#some condition is met. The for statement operates on an iterable set of elements, often a \n",
    "#sequence. \n",
    "theATeam=['Messi','Pele','Maradona','Ronaldo','Beckham'] \n",
    "for player in theATeam: \n",
    "#for _ in theATeam:\n",
    " print('%s is in the team' % player) "
   ]
  },
  {
   "cell_type": "code",
   "execution_count": null,
   "id": "e3a82205",
   "metadata": {},
   "outputs": [],
   "source": [
    "#Controlling the flow of script execution\n",
    "#We often need need to make decisions and choices in a program to interpret the data\n",
    "#this is done using if, elseif, and while statements. "
   ]
  },
  {
   "cell_type": "markdown",
   "id": "993b0c87",
   "metadata": {},
   "source": [
    "#The if Statement \n",
    "#if statements test a condition. The normal format of an if\n",
    "#statement is: \n",
    "\n",
    "if test: condition # note the colon, then execute statements below. \n",
    "    \n",
    " statement1 # If the test is true, statements following the \n",
    "\n",
    " statement2 # if keyword are indented and executed \n",
    "    \n",
    " statement3 "
   ]
  },
  {
   "cell_type": "code",
   "execution_count": null,
   "id": "dc158262",
   "metadata": {},
   "outputs": [],
   "source": [
    "#Python supports multiple logical conditions from algebra:\n",
    "#Equals: a == b\n",
    "#Not Equals: a != b\n",
    "#Less than: a < b\n",
    "#Less than or equal to: a <= b\n",
    "#Greater than: a > b\n",
    "#Greater than or equal to: a >= b\n",
    "#These conditions can be used in several ways, most commonly in \"if statements\" and loops.\n",
    "#Develop an intuitive feel for the 'if-logic' flow\n",
    "\n",
    "price = 600\n",
    "if price > 500: # test the condition to evaluate to True or False. \n",
    " print(\"Yes it is!\")\n",
    "else: # note the colon after 'else' \n",
    " print(\"No it is not!\")"
   ]
  },
  {
   "cell_type": "code",
   "execution_count": null,
   "id": "cc46b035",
   "metadata": {},
   "outputs": [],
   "source": [
    "#Develop an intuitive feel for the 'if-logic' flow\n",
    "price = 600\n",
    "if price > 500: # test the condition to evaluate to True or False. \n",
    " #yes_it_is() #write a function yes_it_is() if needed... if test=True \n",
    " print(\"Yes it is!\")\n",
    "else: # note the colon after 'else' \n",
    " #no_it_is_not() #write a function no_it_is_not() if needed... if test=False\n",
    " print(\"No it is not!\")"
   ]
  },
  {
   "cell_type": "code",
   "execution_count": null,
   "id": "1db51ac1",
   "metadata": {},
   "outputs": [],
   "source": [
    "#the else-if example\n",
    "population_India_Millions = 900\n",
    "population_USA_Millions = 200\n",
    "\n",
    "if population_USA_Millions > population_India_Millions :\n",
    "  print(\"US has greater population than India\")\n",
    "elif population_USA_Millions == population_India_Millions:\n",
    "  print(\"US, India population are equal\")\n",
    "else:\n",
    "  print(\"India has greater population than US\")"
   ]
  },
  {
   "cell_type": "code",
   "execution_count": null,
   "id": "fe9ace75",
   "metadata": {},
   "outputs": [],
   "source": [
    "#Python is very versatile and gives you a few shorthand options"
   ]
  },
  {
   "cell_type": "code",
   "execution_count": null,
   "id": "c7194ec1",
   "metadata": {},
   "outputs": [],
   "source": [
    "#Short Hand If ... Else\n",
    "#suppose you have only one statement to execute, one for if, and one for else, you can put it all on the \n",
    "#same line:\n",
    "population_India_Mills = 900\n",
    "population_USA_Mills = 200\n",
    "\n",
    "print(\"India has bigger population than USA\") if population_India_Mills > population_USA_Mills else print(\"US has bigger population than India\")\n"
   ]
  },
  {
   "cell_type": "code",
   "execution_count": null,
   "id": "1ce75dea",
   "metadata": {},
   "outputs": [],
   "source": [
    "#if statements cannot be empty, sometimes while you are figuring out the logicin an if statement\n",
    "#with no content, put in the pass statement to avoid getting an error.\n",
    "#The pass statement is a “do nothing”.pass is often useful to show explicitly what the program \n",
    "#is doing (or not doing). \n",
    "schools = 10\n",
    "students = 4500\n",
    "\n",
    "if students > schools:\n",
    "  pass"
   ]
  },
  {
   "cell_type": "code",
   "execution_count": null,
   "id": "441d837b",
   "metadata": {},
   "outputs": [],
   "source": [
    "#Decisions can be nested though indented code blocks of other decisions. For example: \n",
    "#seeking a driver's license with and without criminal conviction\n",
    "car_in_condition = 'TRUE'\n",
    "#no_criminal_record = 'TRUE'\n",
    "no_criminal_record = 'FALSE'\n",
    "age = 20\n",
    "\n",
    "if age>18: \n",
    " if car_in_condition=='TRUE': \n",
    "  if no_criminal_record=='TRUE': \n",
    "   print(\"Issue Licence\") \n",
    "  else: print(\"Alert Police\")"
   ]
  },
  {
   "cell_type": "code",
   "execution_count": null,
   "id": "055f7b15",
   "metadata": {},
   "outputs": [],
   "source": [
    "#Greatest productivity in programming comes through performing activities repetitively to process\n",
    "#a number of statements, including the following:\n",
    "#• Lists of values in a spreadsheet. \n",
    "#• Entries in a dictionary (a kind of special list). \n",
    "#• Rows of data in a database. \n",
    "#• Lines of text in a file. \n",
    "#Called loops , they execute a code block repeatedly on some item of data until some condition is met (or not met).\n",
    "#These loops are #implemented using for and while statements. "
   ]
  },
  {
   "cell_type": "code",
   "execution_count": null,
   "id": "6820f2a8",
   "metadata": {},
   "outputs": [],
   "source": [
    "#The for statement acts as a header statement for a code block that is to be executed until \n",
    "#some condition is met. The for statement operates on an iterable set of elements, often a \n",
    "#sequence. \n",
    "theATeam=['Messi','Pele','Maradona','Ronaldo','Beckham'] \n",
    "for player in theATeam: \n",
    " print('%s is in the team' % player) "
   ]
  },
  {
   "cell_type": "code",
   "execution_count": null,
   "id": "c74abf75",
   "metadata": {},
   "outputs": [],
   "source": [
    "#A for loop is used for iterating over a sequence (that is either a list,\n",
    "#a tuple, a dictionary, a set, or a string)."
   ]
  },
  {
   "cell_type": "code",
   "execution_count": null,
   "id": "8a6cb341",
   "metadata": {},
   "outputs": [],
   "source": [
    "week_days = [\"Monday\", \"Tuesday\", \"Wednesday\", \"Thursday\", \"Friday\",\"Saturday\", \"Sunday\"]\n",
    "for days in week_days:\n",
    "  print(days)"
   ]
  },
  {
   "cell_type": "code",
   "execution_count": null,
   "id": "e2c624e6",
   "metadata": {},
   "outputs": [],
   "source": [
    "#With the break statement we can stop the loop before it has looped through all the items:\n",
    "#Stop on Thursday\n",
    "week_days = [\"Monday\", \"Tuesday\", \"Wednesday\", \"Thursday\", \"Friday\",\"Saturday\", \"Sunday\"]\n",
    "for days in week_days:\n",
    "  print(days)\n",
    "  if days == \"Monday\":\n",
    "   pass"
   ]
  },
  {
   "cell_type": "code",
   "execution_count": null,
   "id": "f4615a02",
   "metadata": {},
   "outputs": [],
   "source": [
    "#The continue Statement\n",
    "#With the continue statement we can stop the current iteration of the loop, and continue with the next:\n",
    "#in this case skip printing Thursday\n",
    "week_days = [\"Monday\", \"Tuesday\", \"Wednesday\", \"Thursday\", \"Friday\",\"Saturday\", \"Sunday\"]\n",
    "for days in week_days:\n",
    "  \n",
    "  if days == \"Thursday\":\n",
    "   continue\n",
    "  print(days)"
   ]
  },
  {
   "cell_type": "code",
   "execution_count": null,
   "id": "12cc73b8",
   "metadata": {},
   "outputs": [],
   "source": [
    "#The while Loop\n",
    "#With the while loop we can execute a set of statements as long as a condition is true.\n",
    "Indian_Covid_Cases = 2017\n",
    "while Indian_Covid_Cases < 2025:\n",
    "  print(Indian_Covid_Cases)\n",
    "  Indian_Covid_Cases += 1"
   ]
  },
  {
   "cell_type": "code",
   "execution_count": null,
   "id": "7a6e1098",
   "metadata": {},
   "outputs": [],
   "source": [
    "#The break Statement\n",
    "#With the break statement we can stop the loop even if the while condition is true:\n",
    "Indian_Covid_Cases = 2017\n",
    "while Indian_Covid_Cases < 2025:\n",
    "  print(Indian_Covid_Cases)\n",
    "  if Indian_Covid_Cases == 2022:\n",
    "   break\n",
    "  Indian_Covid_Cases += 1"
   ]
  },
  {
   "cell_type": "code",
   "execution_count": null,
   "id": "0a2c053c",
   "metadata": {},
   "outputs": [],
   "source": [
    "#The continue Statement\n",
    "#With the continue statement we can stop the current iteration, and continue with the next:\n",
    "#Here we stop at Year 2022 and continue\n",
    "Indian_Covid_Cases = 2017\n",
    "while Indian_Covid_Cases < 2025:\n",
    "  Indian_Covid_Cases += 1\n",
    "  if Indian_Covid_Cases == 2022:\n",
    "   continue\n",
    "  print(Indian_Covid_Cases)"
   ]
  },
  {
   "cell_type": "code",
   "execution_count": null,
   "id": "48958c80",
   "metadata": {},
   "outputs": [],
   "source": [
    "#modified from https://www.log2base2.com/programming-language/python3/conditional/nested-if-else-statement-in-python.html\n",
    "Suppose a student's grade selection is based on scores below:\n",
    "\n",
    "if the score is more than 90, student will get the S grade\n",
    "\n",
    "If the score is in between 80 and 90, student gets A grade\n",
    "\n",
    "If the score is in between 70 and 80, student gets B grade\n",
    "\n",
    "If the score is in between 60 and 70, student gets C grade\n",
    "\n",
    "If the score is in between 51 and 60, student gets D grade\n",
    "\n",
    "If the score is 50, student gets get E grade\n",
    "\n",
    "Below 50 student will be declared as failed."
   ]
  },
  {
   "cell_type": "code",
   "execution_count": null,
   "id": "2bcde3f6",
   "metadata": {},
   "outputs": [],
   "source": [
    "#nested if else in python\n",
    "\n",
    "exam_score = int(input(\"Enter Student's Score\\n\"))\n",
    "\n",
    "if(exam_score <=100 and exam_score >= 90): \n",
    "  print(\"S \")\n",
    "elif(exam_score < 90 and exam_score >= 80):\n",
    "  print(\"A \")\n",
    "elif(exam_score < 80 and exam_score >= 70):\n",
    "  print(\"B \")\n",
    "elif(exam_score < 70 and exam_score >= 60):\n",
    "  print(\"C \")\n",
    "elif(exam_score < 60 and exam_score > 50):\n",
    "  print(\"D \")\n",
    "elif(exam_score == 50):\n",
    "  print(\"E \")\n",
    "elif(exam_score < 50 and exam_score >= 0):\n",
    "  print(\"Student has failed examination; needs corrective classes\")\n",
    "else:\n",
    "  print(\"Please enter a valid score between 0 and 100\")"
   ]
  },
  {
   "cell_type": "code",
   "execution_count": null,
   "id": "bb0560a4",
   "metadata": {},
   "outputs": [],
   "source": [
    "exam_score = int(input(\"Enter Student's Score\\n\"))\n",
    "\n"
   ]
  },
  {
   "cell_type": "code",
   "execution_count": null,
   "id": "e914d388",
   "metadata": {},
   "outputs": [],
   "source": []
  }
 ],
 "metadata": {
  "kernelspec": {
   "display_name": "Python 3",
   "language": "python",
   "name": "python3"
  },
  "language_info": {
   "codemirror_mode": {
    "name": "ipython",
    "version": 3
   },
   "file_extension": ".py",
   "mimetype": "text/x-python",
   "name": "python",
   "nbconvert_exporter": "python",
   "pygments_lexer": "ipython3",
   "version": "3.10.8 (tags/v3.10.8:aaaf517, Oct 11 2022, 16:50:30) [MSC v.1933 64 bit (AMD64)]"
  },
  "toc": {
   "base_numbering": 1,
   "nav_menu": {},
   "number_sections": true,
   "sideBar": true,
   "skip_h1_title": false,
   "title_cell": "Table of Contents",
   "title_sidebar": "Contents",
   "toc_cell": false,
   "toc_position": {},
   "toc_section_display": true,
   "toc_window_display": false
  },
  "vscode": {
   "interpreter": {
    "hash": "26de051ba29f2982a8de78e945f0abaf191376122a1563185a90213a26c5da77"
   }
  }
 },
 "nbformat": 4,
 "nbformat_minor": 5
}

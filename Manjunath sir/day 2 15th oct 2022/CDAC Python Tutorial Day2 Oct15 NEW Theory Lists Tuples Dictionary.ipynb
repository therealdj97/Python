{
 "cells": [
  {
   "cell_type": "code",
   "execution_count": null,
   "id": "c83eb120",
   "metadata": {},
   "outputs": [],
   "source": [
    "#Use of Doc String for making it easy for other developers to follow your code"
   ]
  },
  {
   "cell_type": "code",
   "execution_count": null,
   "id": "a6cc4bef",
   "metadata": {},
   "outputs": [],
   "source": [
    "def addTwoNumbers(a, b):\n",
    " \"adds two numbers, given two parameters, a, b\"\n",
    " return a + b"
   ]
  },
  {
   "cell_type": "code",
   "execution_count": null,
   "id": "15f161ad",
   "metadata": {},
   "outputs": [],
   "source": [
    "addTwoNumbers(4,3)"
   ]
  },
  {
   "cell_type": "code",
   "execution_count": null,
   "id": "f3861a65",
   "metadata": {},
   "outputs": [],
   "source": [
    "help(addTwoNumbers)"
   ]
  },
  {
   "cell_type": "markdown",
   "id": "06b4950d",
   "metadata": {},
   "source": [
    "Specify a Variable Type\n",
    "There may be times when you want to specify a type on to a variable. This can be done with casting. Python is an object-orientated language, and as such it uses classes to define data types, including its primitive types.\n",
    "\n",
    "Casting in python is therefore done using constructor functions:\n",
    "\n",
    "int() - constructs an integer number from an integer literal, a float literal (by removing all decimals), or a string literal (providing the string represents a whole number)\n",
    "float() - constructs a float number from an integer literal, a float literal or a string literal (providing the string represents a float or an integer)\n",
    "str() - constructs a string from a wide variety of data types, including strings, integer literals and float literals"
   ]
  },
  {
   "cell_type": "code",
   "execution_count": null,
   "id": "12e95073",
   "metadata": {},
   "outputs": [],
   "source": []
  },
  {
   "cell_type": "markdown",
   "id": "1c49f31a",
   "metadata": {},
   "source": [
    "Common Assignment Operations \n",
    "When you set data to a variable using the \"=\" sign it is called assignment. An assignment statement \n",
    "places a value or the result of an expression into variable(s). The general format of an \n",
    "assignment is: \n",
    "var = expression \n",
    "An expression could be a literal, a calculation based on a simple algebra, a call to a function, or a combination \n",
    "of all three. "
   ]
  },
  {
   "cell_type": "markdown",
   "id": "4b8d3066",
   "metadata": {},
   "source": [
    "Python’s four number types are integers, floats, complex numbers, and Booleans:\n",
    " Integers—1, –3, 42, 355, 888888888888888, –7777777777 (integers aren’t limited\n",
    "in size except by available memory)\n",
    " Floats—3.0, 31e12, –6e-4\n",
    " Complex numbers—3 + 2j, –4- 2j, 4.2 + 6.3j\n",
    " Booleans—True, False\n",
    "You can manipulate them by using the arithmetic operators: + (addition), – (subtrac-\n",
    "tion), * (multiplication), / (division), ** (exponentiation), and % (modulus)."
   ]
  },
  {
   "cell_type": "code",
   "execution_count": null,
   "id": "97636da4",
   "metadata": {},
   "outputs": [],
   "source": [
    "#Types of Variables\n",
    "#Numerical, String, Boolean\n",
    "#Store 25 into some_number \n",
    "some_number = 25 \n",
    "# Assign a string of characters into a string variable \n",
    "some_text = 'lets learn Python' \n",
    "print(some_number)\n",
    "print(some_text)"
   ]
  },
  {
   "cell_type": "code",
   "execution_count": null,
   "id": "9c459e63",
   "metadata": {},
   "outputs": [],
   "source": [
    "# a floating point number \n",
    "stock_value_CoalIndia = 229.25 \n",
    "#create a long string \n",
    "Full_Name = 'Mr' + '' +'Nadkalpur ' + ''+ 'Manjunath' \n",
    "# a list \n",
    "breakfast_menu = ['ham','eggs','mushrooms','omelette'] \n",
    "cell_numbers = (9008094006, 99722455525) #use tuple when you expect values not to change aka immutable\n",
    "# multiple assignment (a=1, b=2, b=3) \n",
    "a, b, c = 1,2,4\n",
    "print(stock_value_CoalIndia, Full_Name,breakfast_menu)\n",
    "print(a,b,c)\n",
    "print(cell_numbers)"
   ]
  },
  {
   "cell_type": "code",
   "execution_count": null,
   "id": "9d1b9296",
   "metadata": {},
   "outputs": [],
   "source": [
    "#A good way to ensure you are using the correct type of variable is to check type(variable)\n",
    "#Every variable in Python is actually an object. \n",
    "#All variables have a type that can be seen by using the built-in type() function.\n",
    "\n",
    "type(breakfast_menu)\n",
    "type(stock_value_CoalIndia)\n",
    "type(Full_Name)\n",
    "type(cell_numbers)"
   ]
  },
  {
   "cell_type": "markdown",
   "id": "e11ccdc5",
   "metadata": {},
   "source": [
    "#Booleans represent one of two values: True or False.\n",
    "#In programming you often need to know if an expression is True or False and take a decision\n",
    "#You can evaluate any expression in Python, and get one of two answers, True or False.\n",
    "#at its simplest, When you compare two values, the expression is evaluated and Python returns the Boolean answer:"
   ]
  },
  {
   "cell_type": "code",
   "execution_count": null,
   "id": "e20fc2d2",
   "metadata": {},
   "outputs": [],
   "source": [
    "#Compare two values\n",
    "a = 100\n",
    "b = 1\n",
    "\n",
    "if b > a:\n",
    "  print(\"b is greater than a\")\n",
    "else:\n",
    "  print(\"b is not greater than a\")"
   ]
  },
  {
   "cell_type": "code",
   "execution_count": null,
   "id": "103a36c1",
   "metadata": {},
   "outputs": [],
   "source": [
    "print(10 > 9)\n",
    "print(10 == 9)\n",
    "print(10 < 9)"
   ]
  },
  {
   "cell_type": "code",
   "execution_count": null,
   "id": "639a143c",
   "metadata": {},
   "outputs": [],
   "source": [
    "print(bool(\"Hello\"))\n",
    "print(bool(15))"
   ]
  },
  {
   "cell_type": "code",
   "execution_count": null,
   "id": "476b0eaf",
   "metadata": {},
   "outputs": [],
   "source": [
    "print(bool(\"\")) #Empty String!\n",
    "print(bool(15))"
   ]
  },
  {
   "cell_type": "code",
   "execution_count": null,
   "id": "f9609676",
   "metadata": {},
   "outputs": [],
   "source": [
    "x = \"Hello\"\n",
    "y = 15\n",
    "\n",
    "print(bool(x))\n",
    "print(bool(y))"
   ]
  },
  {
   "cell_type": "code",
   "execution_count": null,
   "id": "a8c135df",
   "metadata": {},
   "outputs": [],
   "source": [
    "#Multiple assigment operators\n",
    "#start by assigning working_hours\n",
    "working_hours = 25\n",
    "working_hours+=1\n",
    "print(working_hours)\n",
    "\n",
    "working_hours-=23\n",
    "print(working_hours)\n",
    "\n",
    "working_hours=30\n",
    "working_hours/=6\n",
    "print(working_hours)\n",
    "\n",
    "working_hours *=2.3\n",
    "print(working_hours)\n",
    "\n",
    "\n",
    "    \n"
   ]
  },
  {
   "cell_type": "markdown",
   "id": "33cfd3d6",
   "metadata": {},
   "source": [
    " Python Keywords \n",
    " Just as in other programming languages, Python too has reserved some words with defined meanings. This means you must not use these words as variable names. \n",
    "Note that they are all lowercase. These are:\n",
    "    and as assert break\n",
    "class continue def del\n",
    "elif else except exec\n",
    "finally for from global\n",
    "if import in is\n",
    "lambda not or pass\n",
    "print raise return try\n",
    "while with yield"
   ]
  },
  {
   "cell_type": "markdown",
   "id": "311803e5",
   "metadata": {},
   "source": [
    "There are a large number of built-in names that you must not use, except for their \n",
    "intended purpose. The cases of True , False , and None are important. The most common \n",
    "ones are listed here. \n",
    "True False None abs\n",
    "all any chr dict\n",
    "dir eval exit file\n",
    "float format input int\n",
    "max min next object\n",
    "open print quit range\n",
    "round set str sum\n",
    "tuple type vars zip\n"
   ]
  },
  {
   "cell_type": "code",
   "execution_count": null,
   "id": "e92fedbe",
   "metadata": {},
   "outputs": [],
   "source": [
    "#To display the list of these built-ins, list the contents of the __builtins__ module in the \n",
    "#do \n",
    "dir(__builtins__) "
   ]
  },
  {
   "cell_type": "markdown",
   "id": "d6ddfac2",
   "metadata": {},
   "source": [
    "#This code is present at the bottom of a script. The interpreter loads your program and runs it if necessary. \n",
    "if __name__ == '__main__': \n",
    " main() \n"
   ]
  },
  {
   "cell_type": "markdown",
   "id": "bdbe6d3d",
   "metadata": {},
   "source": [
    "#What are  Python Modules \n",
    "#Python code is usually stored in text files that are read by the Python interpreter at \n",
    "#runtime. Often, programs get so large that it makes sense to split them into smaller ones \n",
    "#called modules. One module can be imported into others using the import statement. \n",
    "\n",
    "import othermod # makes the code in othermod\n",
    "import mymodule # and mymodule available \n"
   ]
  },
  {
   "cell_type": "code",
   "execution_count": null,
   "id": "f0545310",
   "metadata": {},
   "outputs": [],
   "source": [
    "#There are four collection data types in the Python programming language:\n",
    "\n",
    "#List is a collection which is ordered and changeable. Allows duplicate members.\n",
    "#Tuple is a collection which is ordered and unchangeable. Allows duplicate members.\n",
    "#Set is a collection which is unordered, unchangeable*, and unindexed. No duplicate members.\n",
    "#Dictionary is a collection which is ordered** and changeable. No duplicate members.\n"
   ]
  },
  {
   "cell_type": "code",
   "execution_count": null,
   "id": "62646638",
   "metadata": {},
   "outputs": [],
   "source": [
    "#What are Sequences: Strings, Lists, and Tuples \n",
    "#So far, we have looked at variables that hold a single value. A sequence is a variable that \n",
    "#holds multiple values as an array. Each element can be addressed by its position in the \n",
    "#sequence as an offset from the first element. The three types of sequence are as follows:\n",
    "#• Strings : A sequence of characters that together form a text string. \n",
    "#• Lists : A sequence of values where each value can be accessed \n",
    "#using an offset from the first entry in the list. \n",
    "#• Tuples : A sequence of values, very much like a list, but the entries \n",
    "#in a tuple are immutable; they cannot be changed. \n",
    "#Its useful to study the commong Python features to all sequences and then relook at \n",
    "#the three types separately. "
   ]
  },
  {
   "cell_type": "code",
   "execution_count": null,
   "id": "11c8ee20",
   "metadata": {},
   "outputs": [],
   "source": [
    "#A list can contain a mixture of other types as its elements, including strings, tuples,\n",
    "#lists, dictionaries, functions, file objects, and any type of number B.\n",
    "# A list can be indexed from its front or back. You can also refer to a subsegment, or\n",
    "#slice, of a list by using slice notation: \n",
    "#Index from the front B using positive indices (starting with 0 as the first element).\n",
    "#Index from the back c using negative indices (starting with -1 as the last element).\n",
    "#Obtain a slice using [m:n] d, where m is the inclusive starting point and n is the\n",
    "#exclusive ending point. An [:n] slice e starts at its beginning, and an [m:] slice goes to a list’s end.\n",
    "\n",
    "x = [\"hundred\", \"thousand\", \"million\", \"billion\"]\n",
    "x[0] \n",
    " \n",
    "x[2] \n",
    "\n",
    "x[-1] \n",
    " \n",
    "x[-2] \n",
    " \n",
    "x[1:-1] \n",
    " \n",
    "x[0:3] \n",
    " \n",
    "x[-2:-1] \n",
    "\n",
    "\n",
    "\n"
   ]
  },
  {
   "cell_type": "code",
   "execution_count": null,
   "id": "86ed3fcf",
   "metadata": {},
   "outputs": [],
   "source": [
    "#Some built-in functions (len, max, and min), some operators (in, +, and *), the\n",
    "#del statement, and the list methods (append, count, extend, index, insert, pop,\n",
    "#remove, reverse, and sort) operate on lists:\n",
    "x = [1, 2, 3, 4, 5, 6, 7, 8, 9,11,25,36,67]\n",
    "len(x) #length of sequence\n",
    "\n",
    "y= [-1, 0] + x #add to sequence x, set it to y\n",
    "y\n",
    "x.reverse() #Reverse sequence\n",
    "x\n",
    "\n",
    "#The operators + and * each create a new list, leaving the original unchanged B. A\n",
    "#list’s methods are called by using attribute notation on the list itself: x.method\n",
    "#(arguments).  Some of these operations repeat functionality that can be performed with slice\n",
    "#notation, but they improve code readability. \n"
   ]
  },
  {
   "cell_type": "code",
   "execution_count": null,
   "id": "3294a84c",
   "metadata": {},
   "outputs": [],
   "source": [
    "#A common check is to determine whether a value exists 'in' a sequence, using the 'in' keyword. For example: \n",
    "\n",
    "#'a' in 'trajectory'\n",
    "\n",
    "#9 in [1,2,3,4,5,6,25]\n",
    "\n",
    "#'x' not in 'next'\n",
    "'red' not in ['ash','blue']\n",
    "\n"
   ]
  },
  {
   "cell_type": "code",
   "execution_count": null,
   "id": "394e1dc9",
   "metadata": {},
   "outputs": [],
   "source": [
    "#Two or more sequences can be added together to make longer sequences. The plus sign \n",
    "#(+) is used to concatenate strings, lists, or tuples. \n",
    "#sequence1 + sequence2 results in a new sequence\n",
    "'Covid'+'-19'+' Immunity'\n"
   ]
  },
  {
   "cell_type": "code",
   "execution_count": null,
   "id": "9c567991",
   "metadata": {},
   "outputs": [],
   "source": [
    "#A string is a sequence of characters that make up a piece of text. Strings are immutable, but \n",
    "#you can update the value of a string by assigning a new string to the same string variable. \n",
    "football_club_venue = 'Bernabau Stadium' \n",
    "football_club_venue=football_club_venue.lower() # updates football_club_venue  \n",
    "football_club_venue\n",
    "football_club_venue=football_club_venue.upper() # updates football_club_venue  \n",
    "football_club_venue"
   ]
  },
  {
   "cell_type": "code",
   "execution_count": null,
   "id": "56d6e95f",
   "metadata": {},
   "outputs": [],
   "source": [
    " #Special Characters and Escaping \n",
    " #A string can contain nonprinting and control characters (e.g., tab, newline, and other \n",
    "#special characters) by “ escaping ” them with a backslash (\\). Common escape characters \n",
    "#are the following: \n",
    "#\\0 Null character \n",
    "#\\t Horizontal tab \n",
    "#\\n Newline character \n",
    "#\\' Single quote \n",
    "#\\\" Double quote \n",
    "#\\\\ Backslash \n",
    "#multiplelines='Line 1\\nLine 2\\nLine 3' \n",
    "multiplelines='Line 1\\nLine 2' \n",
    "print(multiplelines) "
   ]
  },
  {
   "cell_type": "markdown",
   "id": "99d9f6ae",
   "metadata": {},
   "source": [
    "The percent ( % ) operator provides string formatting functionality. \n",
    "\n",
    "formatstring % (arguments to format)\n",
    "\n",
    "%c Single character/string of length 1\n",
    "\n",
    "%s String\n",
    "\n",
    "%d Signed decimal integer\n",
    "\n",
    "%f Floating point number\n",
    "\n",
    "%% Percent character\n"
   ]
  },
  {
   "cell_type": "code",
   "execution_count": 125,
   "id": "56f5785a",
   "metadata": {},
   "outputs": [
    {
     "data": {
      "text/plain": [
       "'QuickTel has 200 telecom towers in Mysore city'"
      ]
     },
     "execution_count": 125,
     "metadata": {},
     "output_type": "execute_result"
    }
   ],
   "source": [
    "telecom_towers = 200 \n",
    "service_provider='QuickTel' \n",
    "'%s has %d telecom towers in Mysore city' % (service_provider,telecom_towers)"
   ]
  },
  {
   "cell_type": "code",
   "execution_count": null,
   "id": "201d8c4d",
   "metadata": {},
   "outputs": [],
   "source": [
    "cannon_length = 32.23189\n",
    "'cannon_length= %.3f cm' % cannon_length #.2f two decimal places\n",
    "#Lab session"
   ]
  },
  {
   "cell_type": "code",
   "execution_count": null,
   "id": "afe21721",
   "metadata": {},
   "outputs": [],
   "source": [
    "telecom_towers = 200 \n",
    "city_revenue = 212.35\n",
    "service_provider='QuickTel' \n",
    "'%s which has %d telecom towers in Mysore city, made %f lakhs in revenue' % (service_provider,telecom_towers,city_revenue)"
   ]
  },
  {
   "cell_type": "code",
   "execution_count": null,
   "id": "0e4e1024",
   "metadata": {},
   "outputs": [],
   "source": []
  },
  {
   "cell_type": "code",
   "execution_count": null,
   "id": "58ffc53f",
   "metadata": {},
   "outputs": [],
   "source": [
    "#String Functions \n",
    "#There are a large number of built-in string functions. they do not make changes to \n",
    "#strings because strings are immutable.They return a new string\n",
    "\n",
    "text = 'Writetext'\n",
    "nums = 'A19982737456'\n",
    "\n",
    "# finding bits of strings inside the text variable\n",
    "print(text.find('xt')) #finds so at the first match, index 10\n",
    "print(text.find('W')) #finds so at the first match, index 0\n",
    "print(text.find('w')) #Why -1?\n",
    "print(text.find('your')) #why -1?\n",
    "nums.isdigit()\n"
   ]
  },
  {
   "cell_type": "code",
   "execution_count": null,
   "id": "d80c2303",
   "metadata": {},
   "outputs": [],
   "source": [
    "txt = \"company genius\"\n",
    "\n",
    "x =txt.isalpha()\n",
    "\n",
    "print(x)"
   ]
  },
  {
   "cell_type": "code",
   "execution_count": null,
   "id": "a8d31300",
   "metadata": {},
   "outputs": [],
   "source": [
    "txt = \"Company Genius\"\n",
    "\n",
    "x =txt.isalpha()\n",
    "\n",
    "print(x) #Check if all the characters in the text are letters:since there is a space you get False"
   ]
  },
  {
   "cell_type": "code",
   "execution_count": null,
   "id": "1da5cf35",
   "metadata": {},
   "outputs": [],
   "source": [
    "# concatenation of strings\n",
    "text = 'Writetext'\n",
    "nums = 'A19982737456'\n",
    "\n",
    "\n",
    "':'.join((text,nums)) #immediate join no space,\n",
    "#' '.join((text,nums)) # join with a space character in the middle"
   ]
  },
  {
   "cell_type": "code",
   "execution_count": null,
   "id": "bed75915",
   "metadata": {},
   "outputs": [],
   "source": [
    "# case changing\n",
    "\n",
    "text = 'Writetext what is my case'\n",
    "text.upper()\n",
    "#text.lower()\n"
   ]
  },
  {
   "cell_type": "code",
   "execution_count": null,
   "id": "1a8c84e5",
   "metadata": {},
   "outputs": [],
   "source": [
    "#The split() method splits a string into a list.\n",
    "text = 'what is the time'\n",
    "text.split(' ') #Pass a separator, space"
   ]
  },
  {
   "cell_type": "code",
   "execution_count": null,
   "id": "981a9178",
   "metadata": {},
   "outputs": [],
   "source": []
  },
  {
   "cell_type": "code",
   "execution_count": null,
   "id": "c9696314",
   "metadata": {},
   "outputs": [],
   "source": [
    "# substitution\n",
    "text.replace('is','was')"
   ]
  },
  {
   "cell_type": "code",
   "execution_count": null,
   "id": "fcba7e61",
   "metadata": {},
   "outputs": [],
   "source": [
    "# stripping\n",
    "text = '  what is the time  '\n",
    "#text.rstrip()\n",
    "#text.lstrip()\n",
    "text.strip()"
   ]
  },
  {
   "cell_type": "code",
   "execution_count": null,
   "id": "20af855a",
   "metadata": {},
   "outputs": [],
   "source": [
    "#The purpose of a list is to store values that are collected and processed in sequence, such as \n",
    "#lines of text read from or written to a text file, or where prepared values are looked up by \n",
    "#their position or offset in the array. \n",
    "#You will find yourself using list of the time\n"
   ]
  },
  {
   "cell_type": "code",
   "execution_count": null,
   "id": "b5394848",
   "metadata": {},
   "outputs": [],
   "source": [
    "#Creating Lists is straighforward. You stick in strings within quotes and enclosed in square brackets\n",
    "look_up_list = [] #empty list\n",
    "famous_footballers=['Zidane','Maradona','Messi', 'Pele']\n",
    "mixed_list = [1,2,3,'four']\n",
    "embedded_list = [1,2,3,[4,5,6]]\n"
   ]
  },
  {
   "cell_type": "code",
   "execution_count": null,
   "id": "ad595459",
   "metadata": {},
   "outputs": [],
   "source": [
    "#You can find the length of lists using the len() function. The length is the number \n",
    "#of elements in the list. The last element index of a list mylist would be accessed as \n",
    "#some_list[len(some_list)-1]. \n",
    "l = len(famous_footballers) "
   ]
  },
  {
   "cell_type": "code",
   "execution_count": null,
   "id": "f6795880",
   "metadata": {},
   "outputs": [],
   "source": [
    "print(l)"
   ]
  },
  {
   "cell_type": "code",
   "execution_count": null,
   "id": "a8e56c26",
   "metadata": {},
   "outputs": [],
   "source": [
    "print(famous_footballers[len(famous_footballers)-4])"
   ]
  },
  {
   "cell_type": "code",
   "execution_count": null,
   "id": "2656c76d",
   "metadata": {},
   "outputs": [],
   "source": [
    "#Values in the preceding lists are accessed as shown in the following code fragments. \n",
    "famous_footballers[1]\n"
   ]
  },
  {
   "cell_type": "code",
   "execution_count": null,
   "id": "b65dcd88",
   "metadata": {},
   "outputs": [],
   "source": [
    "#mixed_list[0]\n",
    "#mixed_list[3]\n",
    "mixed_list[1:4]\n"
   ]
  },
  {
   "cell_type": "code",
   "execution_count": null,
   "id": "25f15e81",
   "metadata": {},
   "outputs": [],
   "source": [
    "#embedded_list[2]\n",
    "embedded_list[3]\n",
    "#embedded_list[3][2]"
   ]
  },
  {
   "cell_type": "code",
   "execution_count": null,
   "id": "5b28c1d0",
   "metadata": {},
   "outputs": [],
   "source": [
    "#If you try to access a nonexistent element in the list, you will get a 'list index out \n",
    "#of range' error. \n",
    "famous_footballers[5]"
   ]
  },
  {
   "cell_type": "code",
   "execution_count": null,
   "id": "2390675c",
   "metadata": {},
   "outputs": [],
   "source": [
    "#Updating Lists \n",
    "# Use the append() method to add entries to the end of a list. Use the del statement to \n",
    "#delete an entry. For example: \n",
    "look_up_list = [] #empty list\n",
    "look_up_list.append('Good')\n",
    "look_up_list.append('Bad')\n",
    "look_up_list.append('Ugly')\n",
    "\n",
    "#Change an entry\n",
    "#mylist[1]='Bill'\n",
    "#Delete an entry\n",
    "#del mylist[1]\n"
   ]
  },
  {
   "cell_type": "code",
   "execution_count": null,
   "id": "94f21c78",
   "metadata": {},
   "outputs": [],
   "source": [
    "look_up_list"
   ]
  },
  {
   "cell_type": "code",
   "execution_count": null,
   "id": "95119509",
   "metadata": {},
   "outputs": [],
   "source": [
    "#Change an entry in the list\n",
    "look_up_list[1]='Smooth'\n",
    "look_up_list\n"
   ]
  },
  {
   "cell_type": "code",
   "execution_count": null,
   "id": "f0d18c4c",
   "metadata": {},
   "outputs": [],
   "source": [
    "#Delete an entry in the list\n",
    "del look_up_list[1]\n",
    "look_up_list\n"
   ]
  },
  {
   "cell_type": "code",
   "execution_count": null,
   "id": "c0139845",
   "metadata": {},
   "outputs": [],
   "source": [
    "#Learn Indexing because the membership (in, not in) operators return a Boolean True or False , but the \n",
    "#index() method finds an entry in your list and returns the offset of that entry. If the entry \n",
    "#cannot be found, it returns an error. \n",
    "famous_footballers=['Zidane','Maradona','Messi', 'Pele']\n",
    "famous_footballers.index('Pele')\n",
    "#famous_footballers.index('Beckham')\n"
   ]
  },
  {
   "cell_type": "code",
   "execution_count": null,
   "id": "81abfbb8",
   "metadata": {},
   "outputs": [],
   "source": [
    "#Sequence Operations and Functions such as len(), max(), min(), sum(), sorted() and \n",
    "#reversed() —all work as expected. \n",
    "famous_footballers=['Zidane','Maradona','Messi', 'Pele']\n",
    "l = len(famous_footballers) \n",
    "print(l)\n",
    "m= max (famous_footballers)\n",
    "print(m)\n",
    "n= min(famous_footballers)\n",
    "print(n)\n",
    "#p= sum(famous_footballers)\n",
    "#print(p)\n",
    "neat_seq = sorted(famous_footballers)\n",
    "print(neat_seq)\n",
    "famous_footballers.reverse()\n",
    "print(famous_footballers)\n"
   ]
  },
  {
   "cell_type": "code",
   "execution_count": null,
   "id": "92dea4b3",
   "metadata": {},
   "outputs": [],
   "source": [
    "list2.reverse()\n",
    "print(list2)"
   ]
  },
  {
   "cell_type": "code",
   "execution_count": null,
   "id": "e3a82205",
   "metadata": {},
   "outputs": [],
   "source": [
    "#Controlling the flow of script execution\n",
    "#We often need need to make decisions and choices in a program to interpret the data\n",
    "#this is done using if, elseif, and while statements. "
   ]
  },
  {
   "cell_type": "markdown",
   "id": "993b0c87",
   "metadata": {},
   "source": [
    "#The if Statement \n",
    "#if statements test a condition. The normal format of an if\n",
    "#statement is: \n",
    "\n",
    "if test: condition # note the colon, then execute statements below. \n",
    "    \n",
    " statement1 # If the test is true, statements following the \n",
    "\n",
    " statement2 # if keyword are indented and executed \n",
    "    \n",
    " statement3 "
   ]
  },
  {
   "cell_type": "code",
   "execution_count": null,
   "id": "dc158262",
   "metadata": {},
   "outputs": [],
   "source": [
    "#Python supports multiple logical conditions from algebra:\n",
    "#Equals: a == b\n",
    "#Not Equals: a != b\n",
    "#Less than: a < b\n",
    "#Less than or equal to: a <= b\n",
    "#Greater than: a > b\n",
    "#Greater than or equal to: a >= b\n",
    "#These conditions can be used in several ways, most commonly in \"if statements\" and loops.\n",
    "#Develop an intuitive feel for the 'if-logic' flow\n",
    "\n",
    "price = 600\n",
    "if price > 500: # test the condition to evaluate to True or False. \n",
    " print(\"Yes it is!\")\n",
    "else: # note the colon after 'else' \n",
    " print(\"No it is not!\")"
   ]
  },
  {
   "cell_type": "code",
   "execution_count": null,
   "id": "cc46b035",
   "metadata": {},
   "outputs": [],
   "source": [
    "#Develop an intuitive feel for the 'if-logic' flow\n",
    "price = 600\n",
    "if price > 500: # test the condition to evaluate to True or False. \n",
    " #yes_it_is() #write a function yes_it_is() if needed... if test=True \n",
    " print(\"Yes it is!\")\n",
    "else: # note the colon after 'else' \n",
    " #no_it_is_not() #write a function no_it_is_not() if needed... if test=False\n",
    " print(\"No it is not!\")"
   ]
  },
  {
   "cell_type": "code",
   "execution_count": null,
   "id": "1db51ac1",
   "metadata": {},
   "outputs": [],
   "source": [
    "#the else-if example\n",
    "population_India_Millions = 900\n",
    "population_USA_Millions = 200\n",
    "\n",
    "if population_USA_Millions > population_India_Millions :\n",
    "  print(\"US has greater population than India\")\n",
    "elif population_USA_Millions == population_India_Millions:\n",
    "  print(\"US, India population are equal\")\n",
    "else:\n",
    "  print(\"India has greater population than US\")"
   ]
  },
  {
   "cell_type": "code",
   "execution_count": null,
   "id": "fe9ace75",
   "metadata": {},
   "outputs": [],
   "source": [
    "#Python is very versatile and gives you a few shorthand options"
   ]
  },
  {
   "cell_type": "code",
   "execution_count": null,
   "id": "c7194ec1",
   "metadata": {},
   "outputs": [],
   "source": [
    "#Short Hand If ... Else\n",
    "#suppose you have only one statement to execute, one for if, and one for else, you can put it all on the \n",
    "#same line:\n",
    "population_India_Mills = 900\n",
    "population_USA_Mills = 200\n",
    "\n",
    "print(\"India has bigger population than USA\") if population_India_Mills > population_USA_Mills else print(\"US has bigger population than India\")\n"
   ]
  },
  {
   "cell_type": "code",
   "execution_count": null,
   "id": "1ce75dea",
   "metadata": {},
   "outputs": [],
   "source": [
    "#if statements cannot be empty, sometimes while you are figuring out the logicin an if statement\n",
    "#with no content, put in the pass statement to avoid getting an error.\n",
    "#The pass statement is a “do nothing”.pass is often useful to show explicitly what the program \n",
    "#is doing (or not doing). \n",
    "schools = 10\n",
    "students = 4500\n",
    "\n",
    "if students > schools:\n",
    "  pass"
   ]
  },
  {
   "cell_type": "code",
   "execution_count": null,
   "id": "441d837b",
   "metadata": {},
   "outputs": [],
   "source": [
    "#Decisions can be nested though indented code blocks of other decisions. For example: \n",
    "#seeking a driver's license with and without criminal conviction\n",
    "car_in_condition = 'TRUE'\n",
    "#no_criminal_record = 'TRUE'\n",
    "no_criminal_record = 'FALSE'\n",
    "age = 20\n",
    "\n",
    "if age>18: \n",
    " if car_in_condition=='TRUE': \n",
    "  if no_criminal_record=='TRUE': \n",
    "   print(\"Issue Licence\") \n",
    "  else: print(\"Alert Police\")"
   ]
  },
  {
   "cell_type": "code",
   "execution_count": null,
   "id": "055f7b15",
   "metadata": {},
   "outputs": [],
   "source": [
    "#Greatest productivity in programming comes through performing activities repetitively to process\n",
    "#a number of statements, including the following:\n",
    "#• Lists of values in a spreadsheet. \n",
    "#• Entries in a dictionary (a kind of special list). \n",
    "#• Rows of data in a database. \n",
    "#• Lines of text in a file. \n",
    "#Called loops , they execute a code block repeatedly on some item of data until some condition is met (or not met).\n",
    "#These loops are #implemented using for and while statements. "
   ]
  },
  {
   "cell_type": "code",
   "execution_count": null,
   "id": "6820f2a8",
   "metadata": {},
   "outputs": [],
   "source": [
    "#The for statement acts as a header statement for a code block that is to be executed until \n",
    "#some condition is met. The for statement operates on an iterable set of elements, often a \n",
    "#sequence. \n",
    "theATeam=['Messi','Pele','Maradona','Ronaldo','Beckham'] \n",
    "neat_team = sorted(theATeam) \n",
    "print(neat_team)\n",
    "for player in neat_team: \n",
    " print('%s is in the team' % player) "
   ]
  },
  {
   "cell_type": "code",
   "execution_count": null,
   "id": "c74abf75",
   "metadata": {},
   "outputs": [],
   "source": [
    "#A for loop is used for iterating over a sequence (that is either a list,\n",
    "#a tuple, a dictionary, a set, or a string)."
   ]
  },
  {
   "cell_type": "code",
   "execution_count": null,
   "id": "8a6cb341",
   "metadata": {},
   "outputs": [],
   "source": [
    "week_days = [\"Monday\", \"Tuesday\", \"Wednesday\", \"Thursday\", \"Friday\",\"Saturday\", \"Sunday\"]\n",
    "for days in week_days:\n",
    "  print(days)"
   ]
  },
  {
   "cell_type": "code",
   "execution_count": null,
   "id": "e2c624e6",
   "metadata": {},
   "outputs": [],
   "source": [
    "#With the break statement we can stop the loop before it has looped through all the items:\n",
    "#Stop on Thursday\n",
    "week_days = [\"Monday\", \"Tuesday\", \"Wednesday\", \"Thursday\", \"Friday\",\"Saturday\", \"Sunday\"]\n",
    "for days in week_days:\n",
    "  print(days)\n",
    "  if days == \"Thursday\":\n",
    "   break"
   ]
  },
  {
   "cell_type": "code",
   "execution_count": null,
   "id": "f4615a02",
   "metadata": {},
   "outputs": [],
   "source": [
    "#The continue Statement\n",
    "#With the continue statement we can stop the current iteration of the loop, and continue with the next:\n",
    "#in this case skip printing Thursday\n",
    "week_days = [\"Monday\", \"Tuesday\", \"Wednesday\", \"Thursday\", \"Friday\",\"Saturday\", \"Sunday\"]\n",
    "for days in week_days:\n",
    "  \n",
    "  if days == \"Thursday\":\n",
    "   continue\n",
    "  print(days)"
   ]
  },
  {
   "cell_type": "code",
   "execution_count": null,
   "id": "12cc73b8",
   "metadata": {},
   "outputs": [],
   "source": [
    "#The while Loop\n",
    "#With the while loop we can execute a set of statements as long as a condition is true.\n",
    "Indian_Covid_Cases = 2017\n",
    "while Indian_Covid_Cases < 2025:\n",
    "  print(Indian_Covid_Cases)\n",
    "  Indian_Covid_Cases += 1"
   ]
  },
  {
   "cell_type": "code",
   "execution_count": null,
   "id": "7a6e1098",
   "metadata": {},
   "outputs": [],
   "source": [
    "#The break Statement\n",
    "#With the break statement we can stop the loop even if the while condition is true:\n",
    "Indian_Covid_Cases = 2017\n",
    "while Indian_Covid_Cases < 2025:\n",
    "  print(Indian_Covid_Cases)\n",
    "  if Indian_Covid_Cases == 2022:\n",
    "   break\n",
    "  Indian_Covid_Cases += 1"
   ]
  },
  {
   "cell_type": "code",
   "execution_count": null,
   "id": "0a2c053c",
   "metadata": {},
   "outputs": [],
   "source": [
    "#The continue Statement\n",
    "#With the continue statement we can stop the current iteration, and continue with the next:\n",
    "#Here we stop at Year 2022 and continue\n",
    "Indian_Covid_Cases = 2017\n",
    "while Indian_Covid_Cases < 2025:\n",
    "  Indian_Covid_Cases += 1\n",
    "  if Indian_Covid_Cases == 2022:\n",
    "   continue\n",
    "  print(Indian_Covid_Cases)"
   ]
  },
  {
   "cell_type": "markdown",
   "id": "f5b9fcb0",
   "metadata": {},
   "source": [
    " Dictionaries \n",
    " If we want our program to remember a collection of values, we can use lists and we can \n",
    "access the entries using the index to those values. To find the value we want, though, we \n",
    "must know the offset to that value (or search for it). \n",
    " Dictionaries provide a lookup facility based on key/value pairs. The order of the entries \n",
    "in a dictionary is not defined (in fact, it is somewhat random), but every entry can be retrieved \n",
    "by using its key. Keys must be unique; there can only be one entry in a dictionary for each key. "
   ]
  },
  {
   "cell_type": "code",
   "execution_count": null,
   "id": "6154e42b",
   "metadata": {},
   "outputs": [],
   "source": [
    " #Creating a Dictionary \n",
    " #You can create a dictionary using a set of key/value pairs. \n",
    "# days of week – yields seven key-value pairs \n",
    "week_days={'M':'Monday','T':'Tuesday', 'W':'Wednesday','Th':'Thursday', 'F':'Friday','Sa':'Saturday', \n",
    "'Su':'Sunday'} \n",
    "#Find a week day with key: 'Sa'\n",
    "week_days['T'] \n",
    "len(week_days)\n",
    "#week_days['W'] \n",
    "\n",
    "#week_days['Sa'] \n"
   ]
  },
  {
   "cell_type": "code",
   "execution_count": null,
   "id": "5efcd474",
   "metadata": {},
   "outputs": [],
   "source": [
    "type(week_days)"
   ]
  },
  {
   "cell_type": "code",
   "execution_count": null,
   "id": "cbc090ec",
   "metadata": {},
   "outputs": [],
   "source": [
    "#Creating and Updating a Dictionary \n",
    "#You can update dictionaries using the dict[key] convention. \n",
    "fifa_dict = {} # empty dictionary \n",
    "fifa_dict['1st'] = 'Uruguay' # add 1st entry \n",
    "fifa_dict['2nd'] = 'Italy'# add 2nd entry \n",
    "fifa_dict['3rd'] = 'Brazil' # add 3rd entry \n",
    "fifa_dict['4th'] = 'Argentina' # add 4th entry\n",
    "fifa_dict['5th'] = 'England' # add 5th entry\n",
    "fifa_dict['6th'] = 'Germany' # add 6th entry\n",
    "fifa_dict['7th'] = 'Spain' # add 7th entry\n",
    "fifa_dict['8th'] = 'France' # add 8th entry\n",
    "\n",
    "#del newdict['2nd'] # delete 2nd entry \n",
    "len(fifa_dict) # 1 \n"
   ]
  },
  {
   "cell_type": "code",
   "execution_count": null,
   "id": "8f55ea7c",
   "metadata": {},
   "outputs": [],
   "source": [
    "fifa_dict"
   ]
  },
  {
   "cell_type": "code",
   "execution_count": null,
   "id": "f37b38b4",
   "metadata": {},
   "outputs": [],
   "source": [
    "#Some entries add and delete\n",
    "fifa_dict['1st'] = 'India' # update 1st entry \n",
    "#del fifa_dict['2nd'] # delete 2nd entry \n",
    "len(fifa_dict) # 1 \n",
    "fifa_dict"
   ]
  },
  {
   "cell_type": "code",
   "execution_count": null,
   "id": "fc5cb225",
   "metadata": {},
   "outputs": [],
   "source": [
    "#Dictionary Operations \n",
    "# The sequence operators—comparisons, membership, and concatenation—all work as \n",
    "#expected. Here are a few dictionary operations that you might find useful: \n",
    "# days of week – seven key/value pairs \n",
    "# key existence \n",
    "'8th' in fifa_dict \n",
    "#'11th' in fifa_dict \n"
   ]
  },
  {
   "cell_type": "code",
   "execution_count": null,
   "id": "55ffb2a6",
   "metadata": {},
   "outputs": [],
   "source": [
    "#Creating and Updating a Dictionary \n",
    "#You can update dictionaries using the dict[key] convention. \n",
    "fifa_dict = {} # empty dictionary \n",
    "fifa_dict['1st'] = 'Uruguay' # add 1st entry \n",
    "fifa_dict['2nd'] = 'Italy'# add 2nd entry \n",
    "fifa_dict['3rd'] = 'Brazil' # add 3rd entry \n",
    "fifa_dict['4th'] = 'Argentina' # add 4th entry\n",
    "fifa_dict['5th'] = 'England' # add 5th entry\n",
    "fifa_dict['6th'] = 'Germany' # add 6th entry\n",
    "fifa_dict['7th'] = 'Spain' # add 7th entry\n",
    "fifa_dict['8th'] = 'France' # add 8th entry\n",
    "\n",
    "#del newdict['2nd'] # delete 2nd entry \n",
    "len(fifa_dict) # 1 "
   ]
  },
  {
   "cell_type": "code",
   "execution_count": null,
   "id": "52736b50",
   "metadata": {},
   "outputs": [],
   "source": [
    "#show the list of keys in a dictionary\n",
    "# create list of keys \n",
    "fifa_dict.keys() \n",
    "\n"
   ]
  },
  {
   "cell_type": "code",
   "execution_count": null,
   "id": "8784a058",
   "metadata": {},
   "outputs": [],
   "source": [
    "#similarly create an iterable list of values in a dictionary\n",
    "fifa_dict.values() \n"
   ]
  },
  {
   "cell_type": "code",
   "execution_count": null,
   "id": "dc9b7b3c",
   "metadata": {},
   "outputs": [],
   "source": [
    "#More Dictionaries\n",
    "#Dictionary items are ordered, changeable, and does not allow duplicates.\n",
    "#Dictionary items are presented in key:value pairs, and can be referred to by using the key name.\n",
    "#Dictionaries are changeable, meaning that we can change, add or remove items after the dictionary has been created.#\n",
    "#Duplicates Not Allowed: Dictionaries cannot have two items with the same key:\n",
    "#The values in dictionary items can be of any data type:\n",
    "mobile_dict = {\n",
    "  \"brand\": \"Google Pixel\",\n",
    "  \"5G\": True,\n",
    "  \"year\": 2022,\n",
    "  \"colors\": [\"white\", \"black\", \"blue\"]\n",
    "}\n"
   ]
  },
  {
   "cell_type": "code",
   "execution_count": null,
   "id": "4a7a1abb",
   "metadata": {},
   "outputs": [],
   "source": [
    "print(mobile_dict)"
   ]
  },
  {
   "cell_type": "code",
   "execution_count": null,
   "id": "d5c275a3",
   "metadata": {},
   "outputs": [],
   "source": [
    "#You can access the items of a dictionary by referring to its key name, inside square brackets:\n",
    "x = mobile_dict[\"brand\"]"
   ]
  },
  {
   "cell_type": "code",
   "execution_count": null,
   "id": "e047e8e0",
   "metadata": {},
   "outputs": [],
   "source": [
    "mobile_dict.keys() \n"
   ]
  },
  {
   "cell_type": "code",
   "execution_count": null,
   "id": "a01dfe92",
   "metadata": {},
   "outputs": [],
   "source": [
    "#There is also a method called get() that will give you the same result:\n",
    "#Get the value of the \"brand\" key:\n",
    "\n",
    "print(mobile_dict.get(\"brand\"))"
   ]
  },
  {
   "cell_type": "code",
   "execution_count": null,
   "id": "56f54252",
   "metadata": {},
   "outputs": [],
   "source": [
    "#the keys() method will return a list of all the keys in the dictionary.\n",
    "print(mobile_dict.keys())"
   ]
  },
  {
   "cell_type": "code",
   "execution_count": null,
   "id": "a9f99156",
   "metadata": {},
   "outputs": [],
   "source": [
    "mobile_dict.values() "
   ]
  },
  {
   "cell_type": "code",
   "execution_count": null,
   "id": "d0f26af0",
   "metadata": {},
   "outputs": [],
   "source": [
    "#Add a new item to the original dictionary, and see that the keys list gets updated as well:\n",
    "\n",
    "mobile_dict[\"model\"] = \"Pixel 7a\"\n",
    "mobile_dict[\"price\"] = \"Rs.50k\"\n"
   ]
  },
  {
   "cell_type": "code",
   "execution_count": null,
   "id": "3080e996",
   "metadata": {},
   "outputs": [],
   "source": [
    "print(mobile_dict.keys())"
   ]
  },
  {
   "cell_type": "code",
   "execution_count": null,
   "id": "70470e1b",
   "metadata": {},
   "outputs": [],
   "source": [
    "#The values() method will return a list of all the values in the dictionary.\n",
    "print(mobile_dict.values())"
   ]
  },
  {
   "cell_type": "code",
   "execution_count": null,
   "id": "274d9359",
   "metadata": {},
   "outputs": [],
   "source": [
    "#Get Items\n",
    "#The items() method will return each item in a dictionary, as tuples in a list.\n",
    "print(mobile_dict.items())"
   ]
  },
  {
   "cell_type": "code",
   "execution_count": null,
   "id": "9ff1e144",
   "metadata": {},
   "outputs": [],
   "source": [
    "#Check if Key Exists: To determine if a specified key is present in a dictionary use the in keyword:"
   ]
  },
  {
   "cell_type": "code",
   "execution_count": null,
   "id": "78051fac",
   "metadata": {},
   "outputs": [],
   "source": [
    "if \"model\" in mobile_dict:\n",
    "  print(\"Yes, 'model' is one of the keys in the mobile_dict dictionary\")"
   ]
  },
  {
   "cell_type": "code",
   "execution_count": null,
   "id": "fc2ed5b7",
   "metadata": {},
   "outputs": [],
   "source": [
    "#The del keyword removes the item with the specified key name:\n",
    "\n",
    "del mobile_dict[\"model\"]\n",
    "print(mobile_dict)"
   ]
  },
  {
   "cell_type": "code",
   "execution_count": null,
   "id": "74272fdd",
   "metadata": {},
   "outputs": [],
   "source": [
    "#del mobile_dict # delete dictionary fully\n",
    "mobile_dict.clear()"
   ]
  },
  {
   "cell_type": "code",
   "execution_count": null,
   "id": "60f682bb",
   "metadata": {},
   "outputs": [],
   "source": [
    "print(mobile_dict)"
   ]
  },
  {
   "cell_type": "code",
   "execution_count": null,
   "id": "909e3f45",
   "metadata": {},
   "outputs": [],
   "source": [
    "#Print all key names in the dictionary, one by one:\n",
    "mobile_dict = {\n",
    "  \"brand\": \"Google Pixel\",\n",
    "  \"5G\": True,\n",
    "  \"year\": 2022,\n",
    "  \"colors\": [\"white\", \"black\", \"blue\"]\n",
    "}\n",
    "\n",
    "for x in mobile_dict:\n",
    "  print(x)"
   ]
  },
  {
   "cell_type": "code",
   "execution_count": null,
   "id": "f8544a81",
   "metadata": {},
   "outputs": [],
   "source": [
    "#Print all values in the dictionary, one by one:\n",
    "\n",
    "for x in mobile_dict:\n",
    "  print(mobile_dict[x])"
   ]
  },
  {
   "cell_type": "code",
   "execution_count": null,
   "id": "ae8fcbb3",
   "metadata": {},
   "outputs": [],
   "source": [
    "#you can also use the values() method to return values of a dictionary:\n",
    "\n",
    "for x in mobile_dict.values():\n",
    "  print(x)"
   ]
  },
  {
   "cell_type": "code",
   "execution_count": null,
   "id": "f34f81ca",
   "metadata": {},
   "outputs": [],
   "source": [
    "#you can use the keys() method to return the keys of a dictionary:\n",
    "\n",
    "for x in mobile_dict.keys():\n",
    "  print(x)"
   ]
  },
  {
   "cell_type": "code",
   "execution_count": null,
   "id": "2a2d42f5",
   "metadata": {},
   "outputs": [],
   "source": [
    "#Loop through both keys and values, by using the items() method:\n",
    "\n",
    "for x, y in mobile_dict.items():\n",
    "  print(x, y)"
   ]
  },
  {
   "cell_type": "code",
   "execution_count": null,
   "id": "04bb5c30",
   "metadata": {},
   "outputs": [],
   "source": [
    "#Make a copy of a dictionary with the copy() method:"
   ]
  },
  {
   "cell_type": "code",
   "execution_count": null,
   "id": "97bb504c",
   "metadata": {},
   "outputs": [],
   "source": [
    "cell_dict = mobile_dict.copy()\n",
    "print(cell_dict)"
   ]
  },
  {
   "cell_type": "code",
   "execution_count": null,
   "id": "0f876105",
   "metadata": {},
   "outputs": [],
   "source": [
    "#Make a copy of a dictionary with the dict() function:\n",
    "cell_dict = dict(mobile_dict)"
   ]
  },
  {
   "cell_type": "code",
   "execution_count": null,
   "id": "94d91be4",
   "metadata": {},
   "outputs": [],
   "source": [
    "print(cell_dict)"
   ]
  },
  {
   "cell_type": "code",
   "execution_count": null,
   "id": "9cabb901",
   "metadata": {},
   "outputs": [],
   "source": [
    "#Nested Directory\n",
    "thefamily = {\n",
    "  \"child1\" : {\n",
    "    \"name\" : \"Pranav\",\n",
    "    \"year\" : 2004\n",
    "  },\n",
    "  \"child2\" : {\n",
    "    \"name\" : \"Pooja\",\n",
    "    \"year\" : 2007\n",
    "  },\n",
    "  \"child3\" : {\n",
    "    \"name\" : \"Dev\",\n",
    "    \"year\" : 2011\n",
    "  }\n",
    "}"
   ]
  },
  {
   "cell_type": "code",
   "execution_count": null,
   "id": "4e87f8c7",
   "metadata": {},
   "outputs": [],
   "source": [
    "print(thefamily)"
   ]
  },
  {
   "cell_type": "code",
   "execution_count": 123,
   "id": "7e6e2434",
   "metadata": {},
   "outputs": [],
   "source": [
    "#Create three dictionaries, then create one dictionary that will contain the other three dictionaries:\n",
    "child1 = {\n",
    "  \"name\" : \"Pranav\",\n",
    "  \"year\" : 2004\n",
    "}\n",
    "child2 = {\n",
    "  \"name\" : \"Pooja\",\n",
    "  \"year\" : 2007\n",
    "}\n",
    "child7 = {\n",
    "  \"name\" : \"Dev\",\n",
    "  \"year\" : 2020\n",
    "}\n",
    "child5 = {\n",
    "  \"name\" : \"Dave\",\n",
    "  \"year\" : 1997\n",
    "}    \n",
    "\n",
    "\n",
    "thefamily = {\n",
    "  \"child1\" : child1,\n",
    "  \"child2\" : child2,\n",
    "  \"child7\" : child7,\n",
    "  \"child5\" : child5\n",
    "}"
   ]
  },
  {
   "cell_type": "code",
   "execution_count": 124,
   "id": "88ebac17",
   "metadata": {},
   "outputs": [
    {
     "name": "stdout",
     "output_type": "stream",
     "text": [
      "{'child1': {'name': 'Pranav', 'year': 2004}, 'child2': {'name': 'Pooja', 'year': 2007}, 'child7': {'name': 'Dev', 'year': 2020}, 'child5': {'name': 'Dave', 'year': 1997}}\n"
     ]
    }
   ],
   "source": [
    "print(thefamily)"
   ]
  },
  {
   "cell_type": "code",
   "execution_count": 113,
   "id": "24abf42b",
   "metadata": {},
   "outputs": [],
   "source": [
    "child3[\"year\"] = 2022"
   ]
  },
  {
   "cell_type": "code",
   "execution_count": 110,
   "id": "1de9cd60",
   "metadata": {},
   "outputs": [
    {
     "name": "stdout",
     "output_type": "stream",
     "text": [
      "{'child1': {'name': 'Pranav', 'year': 2004}, 'child2': {'name': 'Pooja', 'year': 2007}, 'child3': {'name': 'Dev', 'year': '2022'}}\n"
     ]
    }
   ],
   "source": [
    "print(thefamily)"
   ]
  },
  {
   "cell_type": "code",
   "execution_count": 114,
   "id": "19497ecb",
   "metadata": {},
   "outputs": [
    {
     "data": {
      "text/plain": [
       "int"
      ]
     },
     "execution_count": 114,
     "metadata": {},
     "output_type": "execute_result"
    }
   ],
   "source": [
    "type(child3[\"year\"])"
   ]
  }
 ],
 "metadata": {
  "kernelspec": {
   "display_name": "Python 3 (ipykernel)",
   "language": "python",
   "name": "python3"
  },
  "language_info": {
   "codemirror_mode": {
    "name": "ipython",
    "version": 3
   },
   "file_extension": ".py",
   "mimetype": "text/x-python",
   "name": "python",
   "nbconvert_exporter": "python",
   "pygments_lexer": "ipython3",
   "version": "3.10.7"
  },
  "toc": {
   "base_numbering": 1,
   "nav_menu": {},
   "number_sections": true,
   "sideBar": true,
   "skip_h1_title": false,
   "title_cell": "Table of Contents",
   "title_sidebar": "Contents",
   "toc_cell": false,
   "toc_position": {},
   "toc_section_display": true,
   "toc_window_display": false
  }
 },
 "nbformat": 4,
 "nbformat_minor": 5
}

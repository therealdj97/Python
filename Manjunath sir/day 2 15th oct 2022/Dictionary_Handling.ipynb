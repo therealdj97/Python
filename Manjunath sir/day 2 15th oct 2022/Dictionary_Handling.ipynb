{
 "cells": [
  {
   "cell_type": "code",
   "execution_count": 18,
   "id": "91d8a9c9",
   "metadata": {},
   "outputs": [
    {
     "name": "stdout",
     "output_type": "stream",
     "text": [
      "{\n",
      "      \"23\": \"laptops\",\n",
      "      \"60\": \"keyboards\",\n",
      "      \"40\": \"washing machine\",\n",
      "      \"300\": \"cables\"\n",
      "}\n"
     ]
    }
   ],
   "source": [
    "#From: https://python.plainenglish.io/4-cool-things-you-can-do-using-python-dictionary-with-minimal-code-452eeb43a8a7import json\n",
    "store = {                         \n",
    "    'laptops' : 23,\n",
    "    'keyboards' : 60,\n",
    "    'washing machine' : 40,\n",
    "    'cables' : 300       \n",
    "}\n",
    "store_by_value = { v: k for k, v in store.items() }\n",
    "print(json.dumps(store_by_value,indent=6))"
   ]
  },
  {
   "cell_type": "code",
   "execution_count": 4,
   "id": "d9fd8eb0",
   "metadata": {},
   "outputs": [],
   "source": [
    "#JSON Javascript Object Notation"
   ]
  },
  {
   "cell_type": "markdown",
   "id": "1f015d26",
   "metadata": {},
   "source": [
    "{\"employees\":[\n",
    "{\"name\":\"Shyam\", \"email\":\"shyamjaiswal@gmail.com\"},\n",
    "{\"name\":\"Bob\", \"email\":\"bob32@gmail.com\"},\n",
    "{\"name\":\"Jai\", \"email\":\"jai87@gmail.com\"}\n",
    "]}"
   ]
  },
  {
   "cell_type": "code",
   "execution_count": 9,
   "id": "2b1d566f",
   "metadata": {},
   "outputs": [
    {
     "name": "stdout",
     "output_type": "stream",
     "text": [
      "{\n",
      "    \"paint\": 1600.0,\n",
      "    \"cement\": 400.0,\n",
      "    \"screws\": 160.0\n",
      "}\n"
     ]
    }
   ],
   "source": [
    "#You can also perform small functions in Dict comprehension like:\n",
    "\n",
    "import json\n",
    "store_prices = {                         \n",
    "    'laptop' : 1500,\n",
    "    'keyboard' : 60,\n",
    "    'washing machine' : 400,\n",
    "    'cable' : 5       \n",
    "}\n",
    "\n",
    "electronics_prices = {                         \n",
    "    'laptop' : 1500,\n",
    "    'keyboard' : 60\n",
    "     \n",
    "}\n",
    "\n",
    "hardware_prices = {\n",
    "    'paint' : 2000,\n",
    "    'cement' :500,\n",
    "    'screws' :200\n",
    "}\n",
    "discounted_prices = { k : v * 0.8 for k, v in hardware_prices.items() }\n",
    "print(json.dumps(discounted_prices,indent=4))"
   ]
  },
  {
   "cell_type": "code",
   "execution_count": null,
   "id": "12b390a9",
   "metadata": {},
   "outputs": [],
   "source": [
    "import calendar\n",
    "y = int(input(\"Input the year : \"))\n",
    "m = int(input(\"Input the month : \"))\n",
    "print(calendar.month(y, m))\n",
    "#help(calendar)"
   ]
  },
  {
   "cell_type": "code",
   "execution_count": 14,
   "id": "4d9a14a4",
   "metadata": {},
   "outputs": [
    {
     "name": "stdout",
     "output_type": "stream",
     "text": [
      "{\n",
      "    \"laptops\": 23,\n",
      "    \"keyboards\": 60,\n",
      "    \"washing machine\": 40,\n",
      "    \"tables\": 40,\n",
      "    \"chairs\": 200,\n",
      "    \"sofas\": 30\n",
      "}\n"
     ]
    }
   ],
   "source": [
    "import json\n",
    "electronic_store = {\n",
    "    'laptops' : 23,\n",
    "    'keyboards' : 60,\n",
    "    'washing machine' : 40\n",
    "}\n",
    "furniture_store = {\n",
    "    'tables' : 40,\n",
    "    'chairs' : 200,\n",
    "    'sofas' : 30,\n",
    "}\n",
    "mall = { **electronic_store, **furniture_store }\n",
    "print(json.dumps(mall,indent=4))"
   ]
  },
  {
   "cell_type": "code",
   "execution_count": 17,
   "id": "74bc20b0",
   "metadata": {},
   "outputs": [
    {
     "name": "stdout",
     "output_type": "stream",
     "text": [
      "{\n",
      "    \"laptop\": 1500,\n",
      "    \"keyboard\": 60,\n",
      "    \"washing machine\": 400,\n",
      "    \"cable\": 5,\n",
      "    \"paint\": 2000,\n",
      "    \"cement\": 500,\n",
      "    \"screws\": 200\n",
      "}\n"
     ]
    }
   ],
   "source": [
    "import json\n",
    "store_prices = {                         \n",
    "    'laptop' : 1500,\n",
    "    'keyboard' : 60,\n",
    "    'washing machine' : 400,\n",
    "    'cable' : 5       \n",
    "}\n",
    "\n",
    "electronics_prices = {                         \n",
    "    'laptop' : 1500,\n",
    "    'keyboard' : 60\n",
    "     \n",
    "}\n",
    "\n",
    "hardware_prices = {\n",
    "    'paint' : 2000,\n",
    "    'cement' :500,\n",
    "    'screws' :200\n",
    "}\n",
    "\n",
    "mall = { **store_prices, **electronics_prices, **hardware_prices}\n",
    "print(json.dumps(mall,indent=4))"
   ]
  },
  {
   "cell_type": "code",
   "execution_count": null,
   "id": "1009c8c3",
   "metadata": {},
   "outputs": [],
   "source": []
  }
 ],
 "metadata": {
  "kernelspec": {
   "display_name": "Python 3 (ipykernel)",
   "language": "python",
   "name": "python3"
  },
  "language_info": {
   "codemirror_mode": {
    "name": "ipython",
    "version": 3
   },
   "file_extension": ".py",
   "mimetype": "text/x-python",
   "name": "python",
   "nbconvert_exporter": "python",
   "pygments_lexer": "ipython3",
   "version": "3.10.7"
  }
 },
 "nbformat": 4,
 "nbformat_minor": 5
}

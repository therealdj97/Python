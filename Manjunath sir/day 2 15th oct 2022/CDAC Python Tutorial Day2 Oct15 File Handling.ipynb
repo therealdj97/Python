{
 "cells": [
  {
   "cell_type": "markdown",
   "id": "697d4144",
   "metadata": {},
   "source": [
    "Opening Files \n",
    "To access a file on your PC, you create a file object and you use the open() function to do this. \n",
    "The format of the open call is: \n",
    "fileobj = open(filename,mode) \n",
    " The named file would normally be opened in the current directory, but the name can \n",
    "include a path so it can open any file on any disk and in any directory (local permissions \n",
    "allowing). The mode tells the interpreter to open the file for reading 'r' , writing 'w' , or \n",
    "appending 'a' "
   ]
  },
  {
   "cell_type": "code",
   "execution_count": null,
   "id": "d7266441",
   "metadata": {},
   "outputs": [],
   "source": [
    "fname='sample_file.txt' \n",
    "fname = open(fname,'r') # open for reading (must exist) \n",
    "fname = open(fname,'w') # creates new file for writing \n",
    "fname = open(fname,'a') # opens file for appending "
   ]
  },
  {
   "cell_type": "markdown",
   "id": "a723efbb",
   "metadata": {},
   "source": [
    "The standard function to read data from a file is read() . It reads the entire contents of the \n",
    "file into a string variable. The content can then be split into separate lines delimited by \n",
    "the newline character ( '\\n' ). \n",
    "fp = open(fname,'r') # open for reading \n",
    "text = fp.read() \n",
    "lines=text.split('\\n') \n",
    "fp.close() \n",
    " A more common way to read a file into memory is readlines() , which returns a list \n",
    "containing each line. \n",
    "fp = open(fname,'r') # open for reading \n",
    "lines = fp.readli"
   ]
  },
  {
   "cell_type": "markdown",
   "id": "ec109fe9",
   "metadata": {},
   "source": [
    " Every entry in the lines list just shown will have a newline at its end, so a good way \n",
    "of cleaning up the readlines() data would be to use a list comprehension: \n",
    "lines = [line.rstrip() for line in fp.readlines()] "
   ]
  },
  {
   "cell_type": "code",
   "execution_count": null,
   "id": "8565c069",
   "metadata": {},
   "outputs": [],
   "source": [
    "myfile = open('sample_file.txt','r') # open for reading \n",
    "lines = myfile.readlines() \n",
    "myfile.close() "
   ]
  },
  {
   "cell_type": "code",
   "execution_count": null,
   "id": "901c92a1",
   "metadata": {},
   "outputs": [],
   "source": [
    "type(myfile)\n",
    "type(lines)"
   ]
  },
  {
   "cell_type": "code",
   "execution_count": null,
   "id": "0612432a",
   "metadata": {},
   "outputs": [],
   "source": [
    "print(lines)"
   ]
  },
  {
   "cell_type": "code",
   "execution_count": null,
   "id": "60c1ca81",
   "metadata": {},
   "outputs": [],
   "source": [
    "#import os \n",
    "myfile = open('sample_file.txt','r') # open for reading \n",
    "for eachLine in myfile: \n",
    "    print(eachLine,end='') # suppress the extra \\n \n",
    "myfile.close() \n"
   ]
  },
  {
   "cell_type": "code",
   "execution_count": null,
   "id": "d2c5dc7f",
   "metadata": {},
   "outputs": [],
   "source": [
    "f = open(\"sample_file.txt\", \"r\")\n",
    "print(f.read())\n",
    " \n"
   ]
  },
  {
   "cell_type": "code",
   "execution_count": null,
   "id": "32fa9692",
   "metadata": {},
   "outputs": [],
   "source": [
    "#Return the 5 first characters of the file:\n",
    "\n",
    "f = open(\"sample_file.txt\", \"r\")\n",
    "print(f.read(5))"
   ]
  },
  {
   "cell_type": "code",
   "execution_count": null,
   "id": "f593ace8",
   "metadata": {},
   "outputs": [],
   "source": [
    "#Read one line of the file:\n",
    "\n",
    "f = open(\"sample_file.txt\", \"r\")\n",
    "print(f.readline())"
   ]
  },
  {
   "cell_type": "code",
   "execution_count": null,
   "id": "01782c52",
   "metadata": {},
   "outputs": [],
   "source": [
    "#Loop through the file line by line:\n",
    "\n",
    "f = open(\"sample_file.txt\", \"r\")\n",
    "for x in f:\n",
    "  print(x)"
   ]
  },
  {
   "cell_type": "code",
   "execution_count": null,
   "id": "b31a1f4a",
   "metadata": {},
   "outputs": [],
   "source": [
    "f = open(\"sample_file.txt\", \"r\")\n",
    "print(f.readline())\n",
    "f.close()"
   ]
  },
  {
   "cell_type": "code",
   "execution_count": null,
   "id": "805cefab",
   "metadata": {},
   "outputs": [],
   "source": [
    "#Write to an Existing File\n",
    "#To write to an existing file, you must add a parameter to the open() function:\n",
    "#\"a\" - Append - will append to the end of the file\n",
    "#\"w\" - Write - will overwrite any existing content"
   ]
  },
  {
   "cell_type": "code",
   "execution_count": null,
   "id": "6928ac51",
   "metadata": {},
   "outputs": [],
   "source": [
    "f = open(\"sample_file.txt\", \"a\")\n",
    "f.write(\"Just added content to the sample file!\")\n",
    "f.close()\n",
    "\n",
    "#open and read the file after the appending:\n",
    "f = open(\"sample_file.txt\", \"r\")\n",
    "print(f.read())"
   ]
  },
  {
   "cell_type": "markdown",
   "id": "8939ff2a",
   "metadata": {},
   "source": [
    "f = open(\"demofile3.txt\", \"w\")\n",
    "f.write(\"Woops! I have deleted the content!\")\n",
    "f.close()\n",
    "\n",
    "#open and read the file after the appending:\n",
    "f = open(\"demofile3.txt\", \"r\")\n",
    "print(f.read())"
   ]
  },
  {
   "cell_type": "markdown",
   "id": "d634fa27",
   "metadata": {},
   "source": [
    "Create a New File\n",
    "To create a new file in Python, use the open() method, with one of the following parameters:\n",
    "\n",
    "\"x\" - Create - will create a file, returns an error if the file exist\n",
    "\n",
    "\"a\" - Append - will create a file if the specified file does not exist\n",
    "\n",
    "\"w\" - Write - will create a file if the specified file does not exist\n",
    "\n"
   ]
  },
  {
   "cell_type": "code",
   "execution_count": null,
   "id": "5e2845ac",
   "metadata": {},
   "outputs": [],
   "source": [
    "#Create a file called \"myfile.txt\"\n",
    "\n",
    "f = open(\"myfile.txt\", \"x\")"
   ]
  },
  {
   "cell_type": "code",
   "execution_count": null,
   "id": "57f3cdb4",
   "metadata": {},
   "outputs": [],
   "source": [
    "#Create a new file if it does not exist:\n",
    "\n",
    "f = open(\"myfile.txt\", \"w\")"
   ]
  },
  {
   "cell_type": "code",
   "execution_count": null,
   "id": "3df06707",
   "metadata": {},
   "outputs": [],
   "source": [
    "3Remove the file \"demofile.txt\":\n",
    "\n",
    "import os\n",
    "os.remove(\"demofile.txt\")"
   ]
  },
  {
   "cell_type": "code",
   "execution_count": null,
   "id": "d9f630fa",
   "metadata": {},
   "outputs": [],
   "source": [
    "To avoid getting an error, you might want to check if the file exists before you try to delete it:\n",
    "\n",
    "Example\n",
    "Check if file exists, then delete it:\n",
    "\n",
    "import os\n",
    "if os.path.exists(\"demofile.txt\"):\n",
    "  os.remove(\"demofile.txt\")\n",
    "else:\n",
    "  print(\"The file does not exist\")"
   ]
  },
  {
   "cell_type": "code",
   "execution_count": null,
   "id": "36eb16f4",
   "metadata": {},
   "outputs": [],
   "source": [
    "Remove the folder \"myfolder\":\n",
    "\n",
    "import os\n",
    "os.rmdir(\"myfolder\")"
   ]
  }
 ],
 "metadata": {
  "kernelspec": {
   "display_name": "Python 3 (ipykernel)",
   "language": "python",
   "name": "python3"
  },
  "language_info": {
   "codemirror_mode": {
    "name": "ipython",
    "version": 3
   },
   "file_extension": ".py",
   "mimetype": "text/x-python",
   "name": "python",
   "nbconvert_exporter": "python",
   "pygments_lexer": "ipython3",
   "version": "3.10.7"
  },
  "toc": {
   "base_numbering": 1,
   "nav_menu": {},
   "number_sections": true,
   "sideBar": true,
   "skip_h1_title": false,
   "title_cell": "Table of Contents",
   "title_sidebar": "Contents",
   "toc_cell": false,
   "toc_position": {},
   "toc_section_display": true,
   "toc_window_display": false
  }
 },
 "nbformat": 4,
 "nbformat_minor": 5
}

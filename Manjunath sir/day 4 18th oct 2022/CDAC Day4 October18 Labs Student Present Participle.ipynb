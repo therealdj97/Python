{
 "cells": [
  {
   "cell_type": "markdown",
   "id": "43cd5a59",
   "metadata": {},
   "source": [
    "In English, present participle is formed by adding \n",
    "suffix -ing to infinite form: go -> going. A simple set \n",
    "of heuristic rules can be given as follows: Not exception be, see, flee, knee, etc.) \n",
    " -ing,-vowel-, consonant, double the final letter before adding ing \n",
    " \n",
    "Your task in this exercise is to define a function make_ing_form() which given a verb in infinitive form returns its present participle form. Test your function with words such as lie, see, move and hug. However, you must not expect such simple rules to work for all cases."
   ]
  },
  {
   "cell_type": "markdown",
   "id": "27c09f6b",
   "metadata": {},
   "source": [
    "[HOMEWORK]In English, the present participle is formed by adding the suffix \"ing\" to the infinite form EG - going. A simple set of heuristic rules can be given as follows. Rule 1: if the verb ends in 'e', drop 'e' and add 'ing'. Rule 2: if the verb ends in 'IE', change it to 'y' and add 'ing' Rule 3. For words consisting of consonant, vowel cons…"
   ]
  },
  {
   "cell_type": "code",
   "execution_count": 16,
   "id": "a279432a",
   "metadata": {},
   "outputs": [],
   "source": [
    "#From https://chinbrow.wordpress.com/2017/03/17/quiz_05_pt_03/\n",
    "#More elegant solution\n",
    "#The English present participle is formed by adding the suffix –ing to the infinitiv form of the verb: go -> going. \n",
    "#A simple set of heuristic rules can be given as follows:\n",
    "#If the verb ends in e, drop the e and add ing (if not exception: be, see, flee, knee, etc.)\n",
    "#If the verb ends in ie, change ie to y and add ing\n",
    "#For words consisting of consonant-vowel-consonant, double the final letter before adding ing\n",
    "#By default just add ing\n",
    "#Your task in this exercise is to define a function make_ing_form() which given a verb in infinitive form\n",
    "#returns its present participle form. Test your function with words such as lie, see, move and hug. \n",
    "#However, you must not expect such simple rules to work for all cases.\n",
    "\n"
   ]
  },
  {
   "cell_type": "code",
   "execution_count": 50,
   "id": "45b38b8e",
   "metadata": {},
   "outputs": [
    {
     "name": "stdout",
     "output_type": "stream",
     "text": [
      "Give me a verb infinitive to conjugate: sweat\n",
      "sweatting\n"
     ]
    }
   ],
   "source": [
    "def present_participle(a):\n",
    "    b = a[:-1]\n",
    "    if a.endswith(\"ee\") or a==\"be\":\n",
    "        a = a + \"ing\"\n",
    "        return a\n",
    "    elif a.endswith(\"ie\"):\n",
    "        a = a[:-2]\n",
    "        a = a + \"ying\"\n",
    "        return a\n",
    "    elif a.endswith('e'):\n",
    "        a = a[:-1]\n",
    "        a = a + \"ing\"\n",
    "        return a\n",
    "    elif b.endswith('a') or b.endswith('e') or b.endswith('i') or b.endswith('o') or b.endswith('u'):\n",
    "        a = a + a[-1] + \"ing\"\n",
    "        return a\n",
    "    else:\n",
    "        a = a + \"ing\"\n",
    "        return a\n",
    "\n",
    "\n",
    "verb_transform = input(\"Give me a verb infinitive to conjugate: \")\n",
    "c = present_participle(verb_transform)\n",
    "print(c)"
   ]
  }
 ],
 "metadata": {
  "kernelspec": {
   "display_name": "Python 3 (ipykernel)",
   "language": "python",
   "name": "python3"
  },
  "language_info": {
   "codemirror_mode": {
    "name": "ipython",
    "version": 3
   },
   "file_extension": ".py",
   "mimetype": "text/x-python",
   "name": "python",
   "nbconvert_exporter": "python",
   "pygments_lexer": "ipython3",
   "version": "3.10.7"
  },
  "toc": {
   "base_numbering": 1,
   "nav_menu": {},
   "number_sections": true,
   "sideBar": true,
   "skip_h1_title": false,
   "title_cell": "Table of Contents",
   "title_sidebar": "Contents",
   "toc_cell": false,
   "toc_position": {},
   "toc_section_display": true,
   "toc_window_display": false
  }
 },
 "nbformat": 4,
 "nbformat_minor": 5
}

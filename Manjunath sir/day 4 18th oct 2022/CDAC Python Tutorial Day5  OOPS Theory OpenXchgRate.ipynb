{
 "cells": [
  {
   "cell_type": "code",
   "execution_count": null,
   "metadata": {},
   "outputs": [],
   "source": [
    "#Inspired by https://blog.teclado.com/how-to-interact-with-apis-using-python/\n",
    "#Inspired by Python for Personal Finance\n",
    "import requests\n",
    "import json\n",
    "# Create Python object from JSON string data\n",
    "#obj = json.loads(json_data)\n",
    " \n",
    "# Pretty Print JSON\n",
    "#json_formatted_str = json.dumps(obj, indent=4)\n",
    "#print(json_formatted_str)\n",
    "#Manju Latest AppID\n",
    "APP_ID = \"cd3c41798514464bbc47d2e027806e25\"\n",
    "ENDPOINT = \"https://openexchangerates.org/api/latest.json\"\n",
    "\n",
    "response = requests.get(f\"{ENDPOINT}?app_id={APP_ID}\")\n",
    "#print(response.content)\n",
    "currdata = json.loads(response.content)\n",
    " \n",
    "# Pretty Print JSON\n",
    "json_formatted_str = json.dumps(currdata, indent=4)\n",
    "print(json_formatted_str)\n",
    "# Writing to sample.json\n",
    "with open(\"currency_table.json\", \"w\") as outfile:\n",
    "    outfile.write(json_formatted_str)"
   ]
  },
  {
   "cell_type": "code",
   "execution_count": null,
   "metadata": {},
   "outputs": [],
   "source": [
    "import requests\n",
    "\n",
    "APP_ID = \"14382878a1234958895aa643b732532d\"\n",
    "ENDPOINT = \"https://openexchangerates.org/api/latest.json\"\n",
    "\n",
    "response = requests.get(f\"{ENDPOINT}?app_id={APP_ID}\")\n",
    "exchange_rates = response.json()\n",
    "\n",
    "usd_amount = 1000\n",
    "gbp_amount = usd_amount * exchange_rates['rates']['GBP']\n",
    "inr_amount = usd_amount * exchange_rates['rates']['INR']\n",
    "print(f\"USD{usd_amount} is GBP{gbp_amount}\")\n",
    "print(f\"USD{usd_amount} is INR{inr_amount}\")"
   ]
  },
  {
   "cell_type": "code",
   "execution_count": null,
   "metadata": {},
   "outputs": [],
   "source": [
    "# Python program to demonstrate\n",
    "# Conversion of JSON data to\n",
    "# dictionary\n",
    "\n",
    "\n",
    "# importing the module\n",
    "import json\n",
    "\n",
    "# Opening JSON file\n",
    "with open('currency_table_new.json') as json_file:\n",
    "\tdata = json.load(json_file)\n",
    "\n",
    "\t# Print the type of data variable\n",
    "\tprint(\"Type:\", type(data))\n",
    "\n",
    "\t# Print the data of dictionary\n",
    "\t#print(\"\\nPeople1:\", data['people1'])\n",
    "\t#print(\"\\nPeople2:\", data['people2'])\n"
   ]
  },
  {
   "cell_type": "code",
   "execution_count": null,
   "metadata": {},
   "outputs": [],
   "source": [
    "data"
   ]
  },
  {
   "cell_type": "code",
   "execution_count": null,
   "metadata": {},
   "outputs": [],
   "source": [
    "#you can use the keys() method to return the keys of a dictionary:\n",
    "\n",
    "for x in data.keys():\n",
    "  print(x)"
   ]
  },
  {
   "cell_type": "code",
   "execution_count": null,
   "metadata": {},
   "outputs": [],
   "source": [
    "#you can also use the values() method to return values of a dictionary:\n",
    "\n",
    "for x in data.values():\n",
    "  print(x)"
   ]
  },
  {
   "cell_type": "code",
   "execution_count": null,
   "metadata": {},
   "outputs": [],
   "source": [
    "usd_amount = 100\n",
    "gbp_amount = usd_amount * exchange_rates['rates']['GBP']\n",
    "#small_gbp='gbp_amount = %.2f pounds' % gbp_amount\n",
    "inr_amount = usd_amount * exchange_rates['rates']['INR']\n",
    "hkd_amount = usd_amount * exchange_rates['rates']['HKD']\n",
    "print(f\"USD{usd_amount} is GBP{gbp_amount}\",\":\"\"gbp_amount = %.2f pounds\" % gbp_amount)\n",
    "#print(f\"USD{usd_amount} is GBP{small_gbp}\")\n",
    "print(f\"USD{usd_amount} is INR{inr_amount}\")\n",
    "print(f\"USD{usd_amount} is HKD{hkd_amount}\")"
   ]
  },
  {
   "cell_type": "code",
   "execution_count": null,
   "metadata": {},
   "outputs": [],
   "source": [
    "cannon_length = 32.23189\n",
    "'cannon_length= %.2f cm' % cannon_length #.2f two decimal places\n"
   ]
  }
 ],
 "metadata": {
  "kernelspec": {
   "display_name": "Python 3 (ipykernel)",
   "language": "python",
   "name": "python3"
  },
  "language_info": {
   "codemirror_mode": {
    "name": "ipython",
    "version": 3
   },
   "file_extension": ".py",
   "mimetype": "text/x-python",
   "name": "python",
   "nbconvert_exporter": "python",
   "pygments_lexer": "ipython3",
   "version": "3.10.7"
  }
 },
 "nbformat": 4,
 "nbformat_minor": 2
}

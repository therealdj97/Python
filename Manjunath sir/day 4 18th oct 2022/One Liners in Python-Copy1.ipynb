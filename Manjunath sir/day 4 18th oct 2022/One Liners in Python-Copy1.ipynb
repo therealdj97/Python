{
 "cells": [
  {
   "cell_type": "code",
   "execution_count": 1,
   "id": "bc96951a",
   "metadata": {},
   "outputs": [
    {
     "name": "stdout",
     "output_type": "stream",
     "text": [
      "[('Alice', 100000), ('Carol', 122908)]\n"
     ]
    }
   ],
   "source": [
    "# Using List Comprehension to Find Top Earners\n",
    "\n",
    "\n",
    "## Data\n",
    "employees = {'Alice' : 100000, \n",
    "             'Bob' : 99817,\n",
    "             'Carol' : 122908,\n",
    "             'Frank' : 88123,\n",
    "             'Eve' : 93121}\n",
    "\n",
    "\n",
    "## One-Liner\n",
    "# k, v Key, Value pairs\n",
    "top_earners = [(k, v) for k, v in employees.items() if v >= 100000]\n",
    "\n",
    "\n",
    "## Result\n",
    "print(top_earners)\n",
    "# [('Alice', 100000), ('Carol', 122908)]"
   ]
  },
  {
   "cell_type": "markdown",
   "id": "87ce045e",
   "metadata": {},
   "source": [
    "External debt US dollars: US\n",
    "30.4 trillion ;China, 13 trillion;UK\n",
    "9.02 trillion; France 7.32 trillion. UK F.E reserves: $200b; France Reserves: Euros 245b. \n",
    "India’s external debt to GDP ratio 21.1%; UK 317%; France 256%, US 101%. No need to dramatise."
   ]
  }
 ],
 "metadata": {
  "kernelspec": {
   "display_name": "Python 3 (ipykernel)",
   "language": "python",
   "name": "python3"
  },
  "language_info": {
   "codemirror_mode": {
    "name": "ipython",
    "version": 3
   },
   "file_extension": ".py",
   "mimetype": "text/x-python",
   "name": "python",
   "nbconvert_exporter": "python",
   "pygments_lexer": "ipython3",
   "version": "3.10.7"
  }
 },
 "nbformat": 4,
 "nbformat_minor": 5
}

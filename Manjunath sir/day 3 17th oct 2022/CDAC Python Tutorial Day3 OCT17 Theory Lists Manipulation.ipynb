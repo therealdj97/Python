{
 "cells": [
  {
   "cell_type": "markdown",
   "id": "b1dfcbdb",
   "metadata": {},
   "source": [
    "Function and Methods \n",
    " Defining a function \n",
    " Calling a function\n",
    " Types of functions \n",
    " Function Arguments \n",
    " Anonymous \n",
    "functions(Lambda, \n",
    "Map, List \n",
    "comprehension) \n",
    " Global and local variables \n",
    " Using Optional and \n",
    "Named Arguments \n",
    " Using type, str, dir, and \n",
    "Other Built-In \n",
    "Functions \n",
    " Concepts of Modules \n",
    " Operations Exception \n",
    " Exception Handling \n",
    " Except clause \n",
    " Try finally clause \n",
    " User Defined \n",
    "Exceptions \n",
    "Write a function translate() that will translate a text \n",
    "i"
   ]
  },
  {
   "cell_type": "code",
   "execution_count": null,
   "id": "09cb84d3",
   "metadata": {},
   "outputs": [],
   "source": [
    "#What Is a Function? \n",
    "# A function is a piece of program code that is:\n",
    "#• A self-contained coherent piece of functionality. \n",
    "#• Callable by other programs and modules. \n",
    "#• Passed data using arguments (if required) by the calling module. \n",
    "#• Capable of returning results to its caller (if required). \n",
    "# You are familiar with a few built-in Python functions, already. One of these is the \n",
    "#len() function. You just call len() and pass a sequence (List) as a parameter. \n",
    "#This means to find the length of a list you don'need to write your own len() function.,\n",
    "#But there are instances when you need to write your own function"
   ]
  },
  {
   "cell_type": "code",
   "execution_count": null,
   "id": "49156d03",
   "metadata": {},
   "outputs": [],
   "source": [
    "#Simplest function\n",
    "#Hello CDAC Python Class\n",
    "def greeting():\n",
    "    print(\"This is my first program\")\n",
    "    print(\"I want to do more in the next program!\")\n",
    "    return\n",
    "\n",
    "def addmore(num):\n",
    "    num = num+1\n",
    "    return num\n",
    "\n",
    "greeting()\n",
    "addmore(5)"
   ]
  },
  {
   "cell_type": "code",
   "execution_count": null,
   "id": "14e853bc",
   "metadata": {},
   "outputs": [],
   "source": [
    "#I want to write a function to raise the power a number to another\n",
    "#function template the blueprint of a function\n",
    "#you start with the define keyword <name of the function> (parameters to use in the function)\n",
    "#do some computation, return the result or just exit\n",
    "#in this case\n",
    "def power2num(num1,num2):\n",
    "    valid_num = 1\n",
    "    while num2 > 0:\n",
    "        valid_num = valid_num * num1\n",
    "        num2 = num2-1\n",
    "    return valid_num\n",
    " \n",
    "power2num(3,3)\n",
    "#power2num(3,4)"
   ]
  },
  {
   "cell_type": "code",
   "execution_count": null,
   "id": "c960fb14",
   "metadata": {},
   "outputs": [],
   "source": [
    "#The following function also computes x to the power of y. But if y isn’t given in a\n",
    "#call to the function, the default value of 2 is used, and the function is just the square\n",
    "\n",
    "def power2num(num1,num2=2):\n",
    "    valid_num = 1 #Why?\n",
    "    while num2 > 0:\n",
    "        valid_num = valid_num * num1\n",
    "        num2 = num2-1\n",
    "    return valid_num\n",
    " \n",
    "power2num(3,4)\n",
    "#power2num(3)"
   ]
  },
  {
   "cell_type": "code",
   "execution_count": null,
   "id": "311c69e6",
   "metadata": {},
   "outputs": [],
   "source": [
    "def lenDictList(seq): \n",
    "    if type(seq) not in [list,dict]: # a seq? \n",
    "        return -1 # no - fail! \n",
    "    nelems=0 # length zero \n",
    "    for elem in seq: # for elem \n",
    "        nelems+=1 # add one \n",
    "    return nelems # length \n",
    "\n",
    "my_list = [100,212,133,564,225] \n",
    "zoo_dict = {'herb1':'zebra','herb2':'bison','herb3':'deer'} \n",
    "\n",
    "lenDictList(my_list) \n",
    "#lenDictList(zoo_dict) \n"
   ]
  },
  {
   "cell_type": "code",
   "execution_count": null,
   "id": "f2decdd3",
   "metadata": {},
   "outputs": [],
   "source": [
    "type(my_list)"
   ]
  },
  {
   "cell_type": "code",
   "execution_count": null,
   "id": "fb315fca",
   "metadata": {},
   "outputs": [],
   "source": [
    "#Points to note in a functiom definition:"
   ]
  },
  {
   "cell_type": "code",
   "execution_count": null,
   "id": "567f44c2",
   "metadata": {},
   "outputs": [],
   "source": [
    "#The header line has a distinct format:\n",
    "#• The keyword def to signify it is a new function. \n",
    "#• A function name lenDictList (that meets the variable naming \n",
    "#rules). \n",
    "# Braces to enclose the arguments (none, 1 or more). \n",
    "# A colon to denote the end of the header line. \n",
    "#The code inside the function is indented. The code uses the arguments in the \n",
    "#function definitions and does not need to define them (they will be passed by the calling \n",
    "#module). Here are some examples: \n",
    "#The results of the function are returned to the caller using the return statement. In the \n",
    "#preceding example, there is one return value: the length of the list or dictionary provided \n",
    "#or it is –1 if the argument is neither. \n",
    "#Some functions do not return a result; they simply exit. \n",
    "# It is for the programmer to choose how to design his or her functions. Here are some \n",
    "#example return statements. \n",
    "\n"
   ]
  },
  {
   "cell_type": "code",
   "execution_count": null,
   "id": "280fb507",
   "metadata": {},
   "outputs": [],
   "source": [
    "#here are some return examples\n",
    "#return\n",
    "#return True\n",
    "#return False\n",
    "#return r1, r2, r3\n",
    "#return dict(a=v1,b=v2)\n",
    "# does not return a value\n",
    "# True – perhaps success?\n",
    "# False – perhaps a failure?\n",
    "# returns three results\n",
    "# returns a dictionary\n"
   ]
  },
  {
   "cell_type": "markdown",
   "id": "92aa24c8",
   "metadata": {},
   "source": [
    "■ Note In your code, you must define a function before you can call it. A function call must not \n",
    "appear earlier in the code than the definition of that function or you will get an “undefined” error. \n"
   ]
  },
  {
   "cell_type": "code",
   "execution_count": null,
   "id": "449798b6",
   "metadata": {},
   "outputs": [],
   "source": [
    "#Variable Scope \n",
    "# The variables that are defined and used inside a function are not visible or usable to other \n",
    "#functions or code outside the function. However, if you define a variable in a module and \n",
    "#call a function inside that module, then that variable is available in the called function. If \n",
    "#a variable is defined outside all the functions in a module, the variable is available to all of \n",
    "#the functions in the module. 3\n",
    "# For example: \n",
    "shared_var=\"I'm a sharable variable\" # a var shared by both functions \n",
    "def first_function(): \n",
    " print(\"shared_var: i am good\") # this is OK \n",
    " firstvar='Not a shared var' # this is unique to first function\n",
    " return \n",
    "def second_function(): \n",
    " print(shared_var) # this is OK \n",
    " print(firstvar) # this would fail! why?\n",
    " return \n"
   ]
  },
  {
   "cell_type": "code",
   "execution_count": null,
   "id": "54c0f658",
   "metadata": {},
   "outputs": [],
   "source": [
    "first_function()"
   ]
  },
  {
   "cell_type": "code",
   "execution_count": null,
   "id": "15d44553",
   "metadata": {},
   "outputs": [],
   "source": [
    "second_function()"
   ]
  },
  {
   "cell_type": "code",
   "execution_count": null,
   "id": "58b8ded6",
   "metadata": {},
   "outputs": [],
   "source": [
    "#making sense of a program is through input and output functions\n",
    "#Displayed output. \n",
    "#Getting data from the user through the keyboard. \n",
    "#Getting input from and writing output to data files."
   ]
  },
  {
   "cell_type": "code",
   "execution_count": null,
   "id": "e034ba32",
   "metadata": {},
   "outputs": [],
   "source": [
    "#You know print function already"
   ]
  },
  {
   "cell_type": "code",
   "execution_count": null,
   "id": "38d2c705",
   "metadata": {},
   "outputs": [],
   "source": [
    "#Print is a function that takes as its arguments the items to be displayed. Optionally, you can also define a \n",
    "#separator that is placed between the displayed items and a line terminator value that can \n",
    "#replace a newline. The function call looks like this: \n",
    "#print(arg1,arg2,arg3...,sep=' ',end='\\n') \n"
   ]
  },
  {
   "cell_type": "code",
   "execution_count": null,
   "id": "c2860195",
   "metadata": {},
   "outputs": [],
   "source": [
    "astronaut=\"Aryabhata\" \n",
    "humancomputer=\"Shakuntala\" \n",
    "print(astronaut,'and',humancomputer,'are an inspiration for Indian Scientists') \n",
    "\n"
   ]
  },
  {
   "cell_type": "code",
   "execution_count": null,
   "id": "832eac96",
   "metadata": {},
   "outputs": [],
   "source": [
    "#You know the string formatting % operator feature. \n",
    "print('%s computed to %dnd decimal place makes it %.2f' % (\"pi\", 2, 3.145)) \n",
    "\n"
   ]
  },
  {
   "cell_type": "code",
   "execution_count": null,
   "id": "f07e0423",
   "metadata": {},
   "outputs": [],
   "source": [
    "# The string separator defaults to a single space but can be changed or suppressed by \n",
    "#setting it to an empty string or a character of your choice. \n",
    "print('one...','two...','three',sep='+++')"
   ]
  },
  {
   "cell_type": "code",
   "execution_count": null,
   "id": "0d17fdcb",
   "metadata": {},
   "outputs": [],
   "source": [
    "#Getting User Input \n",
    "user_input=input('Enter your name: ') \n",
    "print('You are ',user_input) \n",
    " \n"
   ]
  },
  {
   "cell_type": "markdown",
   "id": "c42bc15f",
   "metadata": {},
   "source": [
    "Assigning functions to variables: Functions can be assigned, like other Python objects, to variables, as shown in this\n",
    "example: "
   ]
  },
  {
   "cell_type": "code",
   "execution_count": null,
   "id": "dacfff8b",
   "metadata": {},
   "outputs": [],
   "source": [
    "def fahr_to_kelvin(degrees_f): \n",
    "    return 273.15 + (degrees_f - 32) * 5 / 9\n",
    "\n",
    "def centi_to_kelvin(degrees_c): \n",
    "    return 273.15 + degrees_c\n",
    "\n",
    "#abs_temperature = fahr_to_kelvin \n",
    "#abs_temperature(32)\n",
    "abs_temperature = centi_to_kelvin \n",
    "abs_temperature(5)\n"
   ]
  },
  {
   "cell_type": "code",
   "execution_count": null,
   "id": "e8e5a87a",
   "metadata": {},
   "outputs": [],
   "source": [
    "#Most useful:"
   ]
  },
  {
   "cell_type": "code",
   "execution_count": null,
   "id": "91f61f9b",
   "metadata": {},
   "outputs": [],
   "source": [
    "#A variable that refers to a function can be used in exactly the same way as the function\n",
    "#B. This last example shows how you can use a dictionary to call different functions by\n",
    "#the value of the strings used as keys. This pattern is common in situations in which dif-\n",
    "#ferent functions need to be selected based on a string value, and in many cases, it\n",
    "#takes the place of the switch structure found in languages such as C and Java."
   ]
  },
  {
   "cell_type": "code",
   "execution_count": null,
   "id": "ce4c8994",
   "metadata": {},
   "outputs": [],
   "source": [
    "#You can place functions in lists, tuples, or dictionaries:\n",
    "t = {'FtoK': fahr_to_kelvin, 'CtoK': centi_to_kelvin} \n",
    "#t['FtoK'](3) \n",
    "t['CtoK'](1) "
   ]
  },
  {
   "cell_type": "code",
   "execution_count": null,
   "id": "8d264fb6",
   "metadata": {},
   "outputs": [],
   "source": [
    "#Simplest function\n",
    "#Hello CDAC Python Class\n",
    "def greeting():\n",
    "    print(\"This is my first program\")\n",
    "    #print(\"I want to do more in the next program!\")\n",
    "    return\n",
    "\n",
    "\n",
    "\n",
    "greeting()\n"
   ]
  },
  {
   "cell_type": "markdown",
   "id": "0eb7c496",
   "metadata": {},
   "source": [
    "lambda expressions\n",
    "Short functions like those you just saw can also be defined by using lambda expres-\n",
    "sions of the form \n",
    "lambda parameter1, parameter2, . . .: expression\n",
    "lambda expressions are anonymous little functions that you can quickly define inline.\n",
    "Often, a small function needs to be passed to another function, like the key function\n",
    "used by a list’s sort method. In such cases, a large function is usually unnecessary, and\n",
    "it would be awkward to have to define the function in a separate place from where it’s\n",
    "used. The dictionary in the previous subsection can be defined all in one place with"
   ]
  },
  {
   "cell_type": "code",
   "execution_count": null,
   "id": "362c0adc",
   "metadata": {},
   "outputs": [],
   "source": [
    " t2 = {'FtoK': lambda deg_f: 273.15 + (deg_f - 32) * 5 / 9,'CtoK': lambda deg_c: 273.15 + deg_c} "
   ]
  },
  {
   "cell_type": "code",
   "execution_count": null,
   "id": "98761b9a",
   "metadata": {},
   "outputs": [],
   "source": [
    "t2['FtoK'](32)"
   ]
  },
  {
   "cell_type": "code",
   "execution_count": null,
   "id": "9bad1d22",
   "metadata": {},
   "outputs": [],
   "source": [
    "t2['CtoK'](32)"
   ]
  },
  {
   "cell_type": "markdown",
   "id": "caeddf9a",
   "metadata": {},
   "source": [
    "What is a module?\n",
    "A module is a file containing code. It defines a group of Python functions or other\n",
    "objects, and the name of the module is derived from the name of Modules are used to organize larger Python projects. The Python standard library\n",
    "is split into modules to make it more manageable. You don’t need to organize your\n",
    "own code into modules, but if you’re writing any programs that are more than a\n",
    "few pages long or any code that you want to reuse, you should probably do so.\n",
    "the file.\n"
   ]
  },
  {
   "cell_type": "markdown",
   "id": "9629b59f",
   "metadata": {},
   "source": [
    "import modulename [ as name] \n",
    " This statement imports the module modulename. The optional 'as name' part allows \n",
    "you to reference that module with a different name in your code. If this statement works \n",
    "without error, then all of the functions and classes in that module are available for use. "
   ]
  },
  {
   "cell_type": "code",
   "execution_count": null,
   "id": "fb4c35ce",
   "metadata": {},
   "outputs": [],
   "source": [
    "#The import statement\n",
    "#The import statement takes three different forms. The most basic is import modulename\n",
    "#which searches for a Python module of the given name, parses its contents, and makes\n",
    "#it available. The importing code can use the contents of the module, but any refer-\n",
    "#ences by that code to names within the module must still be prepended with the mod-\n",
    "#ule name. If the named module isn’t found, an error is generated. "
   ]
  },
  {
   "cell_type": "code",
   "execution_count": null,
   "id": "f62f3070",
   "metadata": {},
   "outputs": [],
   "source": [
    "#The module search path\n",
    "#Exactly where Python looks for modules is defined in a variable called path, which\n",
    "#you can access through a module called sys. Enter the following: \n",
    "import sys\n",
    "sys.path\n",
    "#_list of directories in the search path_"
   ]
  },
  {
   "cell_type": "markdown",
   "id": "8145a764",
   "metadata": {},
   "source": [
    "Operations Exception \n",
    " Exception Handling \n",
    " Except clause \n",
    " Try finally clause \n",
    " User Defined \n",
    "Exceptions"
   ]
  },
  {
   "cell_type": "code",
   "execution_count": null,
   "id": "741a45f4",
   "metadata": {},
   "outputs": [],
   "source": [
    "#Accessing the File System \n",
    "# There are a number of useful file system functions. They are all available using the   os  \n",
    "#module,   which you must import. \n",
    "import os \n",
    "# remove a file (deleteme.txt) from disk \n",
    "# os.unlink('deleteme.txt')       \n",
    "# rename file on disk (from file.txt to newname.txt) \n",
    "# os.rename('file.txt','newname.txt')     \n",
    "# change current/working directory \n",
    "# os.chdir(newdirectory)     \n",
    "# create list of files in a directory \n",
    "#filelist = os.listdir(dirname)     \n",
    "# obtain current directory \n",
    "#curdir =  os.getcwd()   \n",
    "# create a directory \n",
    "# os.mkdir(dirname)     \n",
    "# remove a directory (requires it to be empty) \n",
    "# os.rmdir(dirname)     \n",
    "   # in the following examples, we need to use \n",
    " # the os.path module \n",
    " # \n",
    " # does the file/directory exist? \n",
    " #exists = os.path.exists(path)     \n",
    " # does path name exist and is it a file? \n",
    " #isfile = os.path.isfile(filepathname)     \n",
    " # does path name exist and is it is directory? \n",
    " #isdir = os.path.isdir(filepath)     "
   ]
  },
  {
   "cell_type": "markdown",
   "id": "fc1e1737",
   "metadata": {},
   "source": [
    "import os"
   ]
  },
  {
   "cell_type": "code",
   "execution_count": null,
   "id": "8c454aec",
   "metadata": {},
   "outputs": [],
   "source": [
    "help(os)"
   ]
  },
  {
   "cell_type": "markdown",
   "id": "3a63a49b",
   "metadata": {},
   "source": [
    "Command-Line Arguments \n",
    " The input() function allows you to get input from the user using the keyboard at any \n",
    "point in your program. Often, though, it is more convenient to the user to provide input \n",
    "directly after the program name in a command line. Most command-line utilities have \n",
    "options and data to be used in its process; for example: \n",
    "python mycopy.py thisfile.txt thatfile.txt "
   ]
  },
  {
   "cell_type": "code",
   "execution_count": null,
   "id": "22aee036",
   "metadata": {},
   "outputs": [],
   "source": [
    "#$python copyfiles.py first_file.txt second_file.txt"
   ]
  },
  {
   "cell_type": "code",
   "execution_count": null,
   "id": "85d59c94",
   "metadata": {},
   "outputs": [],
   "source": [
    "#Capture and display command line args\n",
    "#import sys \n",
    "#nargs=len(sys.argv) \n",
    "#print('%d argument(s)' % (nargs)) \n",
    "#n=0 \n",
    "#for a in sys.argv: \n",
    "# print(' arg %d is %s' % (n,a)) \n",
    " #n+=1 "
   ]
  },
  {
   "cell_type": "code",
   "execution_count": null,
   "id": "45671d2e",
   "metadata": {},
   "outputs": [],
   "source": [
    "#Run c:/yourpythondir/ >python command.py arg1 arg2 arg3 "
   ]
  },
  {
   "cell_type": "code",
   "execution_count": null,
   "id": "621a577f",
   "metadata": {},
   "outputs": [],
   "source": [
    "#Exceptions\n",
    "#Types of exceptions and exceptions handling\n"
   ]
  },
  {
   "cell_type": "markdown",
   "id": "5a404e0e",
   "metadata": {},
   "source": [
    " Exceptions and Errors \n",
    " Things can go wrong in your code for many reasons. One reason is that the programmer \n",
    "has written some code that is faulty. Faults, defects, and bugs are labels we put on aspects \n",
    "of our program code that are not quite right. Faults occur because we, as programmers, \n",
    "are not perfect. We are human and are always going to get some things wrong. Early on in \n",
    "your programming career, you will learn that all is not plain sailing. 1\n",
    " Sometimes, you can control the input data and behavior of your programs, but \n",
    "the sheer number of ways in which your code can be dealt a curveball overwhelms \n",
    "your ability to deal with them. Out of this challenge came the approach called defensive \n",
    "programming . \n",
    "2\n",
    " Defensive programming isn’t a timid approach or lackluster attitude. It is a discipline \n",
    "that tackles the possibility of failure head on. A significant part of this discipline is the \n",
    "effective implementation of error and exception handling. \n",
    " Let’s look at an example. Suppose you had some code that implemented the division \n",
    "operation such as this: \n"
   ]
  },
  {
   "cell_type": "code",
   "execution_count": null,
   "id": "865aa51a",
   "metadata": {},
   "outputs": [],
   "source": [
    "print(\"The answer for 5/2: \")\n",
    "print(5/0)\n",
    "print(\"The answer for 5//2: \")\n",
    "print(5//2)\n",
    "print(\"\\n\")\n",
    "\n",
    "# Dividing an integer by a float\n",
    "#print(\"The answer for 5/2.75: \")\n",
    "#print(5/2.75)\n",
    "#print(\"The answer for 5//2.75: \")\n",
    "#print(5//2.75)\n"
   ]
  },
  {
   "cell_type": "markdown",
   "id": "c94ba592",
   "metadata": {},
   "source": [
    "print('Input two numbers. the first will be divided by the second') \n",
    " \n",
    "afirst = input('first number:') \n",
    "first=float(afirst) \n",
    "asecond = input('second number:') \n",
    "second = float(asecond) \n",
    "quotient = first / second \n",
    "print('Quotient first/second = ',quotient) "
   ]
  },
  {
   "cell_type": "code",
   "execution_count": null,
   "id": "1a6a315e",
   "metadata": {},
   "outputs": [],
   "source": [
    "print('Input two numbers. the first will be divided by the second')\n",
    "afirst = input('first number:')\n",
    "first=float(afirst)\n",
    "asecond = input('second number:') \n",
    "second = float(asecond) \n",
    "quotient = first / second\n",
    "print('Quotient first/second = ',quotient)"
   ]
  },
  {
   "cell_type": "code",
   "execution_count": null,
   "id": "cf161416",
   "metadata": {},
   "outputs": [],
   "source": [
    "print('Input two numbers. The first will be divided by the second') \n",
    "afirst = input('1st number:') \n",
    "asecond = input('2nd number:') \n",
    "\n",
    "try: \n",
    "    first=float(afirst) \n",
    "    second = float(asecond) \n",
    "    quotient = first / second \n",
    "    print('Quotient 1st/2nd = ',quotient) \n",
    "except Exception as diag: \n",
    "    print(diag.__class__.__name__,':',diag) \n"
   ]
  },
  {
   "cell_type": "markdown",
   "id": "d664bf5f",
   "metadata": {},
   "source": [
    " In this case, we have enclosed some of the code (the two text-to-float number \n",
    "conversions and the division) inside a try: clause on line 6. If any code inside the try:\n",
    "clause raises an error, it is trapped by the except : clause on line 11. \n",
    " The except: clause identifies an exception type and optionally, a variable into which \n",
    "the exception data is stored. Exception is the top-level class for error type so it captures \n",
    "all errors. In the except code block, the code prints the diag.__class__.__name__\n",
    "attribute, which names the error type. "
   ]
  },
  {
   "cell_type": "code",
   "execution_count": null,
   "id": "57342a6f",
   "metadata": {},
   "outputs": [],
   "source": [
    "#ValueError : could not convert string to float: \n",
    "#ZeroDivisionError : float division by zero "
   ]
  },
  {
   "cell_type": "markdown",
   "id": "d00739c4",
   "metadata": {},
   "source": [
    " In the first run, the float conversion code fails. We know it is the first conversion by \n",
    "looking at the code, but an end user who didn’t know the code might get confused. In \n",
    "general, therefore, it is recommended that:\n",
    "• We handle particular errors rather than have a catch-all. \n",
    "• Give each section of code its own exception handler to localize \n",
    "the error. \n",
    " Here is the final version of our fully error-handled code"
   ]
  },
  {
   "cell_type": "code",
   "execution_count": null,
   "id": "22308afc",
   "metadata": {},
   "outputs": [],
   "source": [
    "print('Input two numbers. The first will be divided by the second') \n",
    "afirst = input('1st number:') \n",
    "try: \n",
    "    first=float(afirst) \n",
    "    asecond = input('2nd number:') \n",
    "    try: \n",
    "        second = float(asecond) \n",
    "        try: \n",
    "            quotient = first / second \n",
    "            print('Quotient 1st/2nd = ',quotient) \n",
    "        except ZeroDivisionError as diag: \n",
    "            print(diag,': 2nd number must be non-zero') \n",
    "    except ValueError as diag: \n",
    "        print(diag,'2nd number') \n",
    "except ValueError as diag: \n",
    "    print(diag,'1st number') "
   ]
  },
  {
   "cell_type": "code",
   "execution_count": null,
   "id": "8093a311",
   "metadata": {},
   "outputs": [],
   "source": [
    "# Python program to handle simple runtime error\n",
    "#Python 3\n",
    "\n",
    "a = [1, 2, 3,4,5,6]\n",
    "try:\n",
    "\tprint (\"Second element = %d\" %(a[1]))\n",
    "\n",
    "\t# Throws error since there are only 6 elements in array\n",
    "\tprint (\"Fourth element = %d\" %(a[7]))\n",
    "\n",
    "except:\n",
    "\tprint (\"An error occurred\")\n"
   ]
  },
  {
   "cell_type": "code",
   "execution_count": null,
   "id": "98c3db96",
   "metadata": {},
   "outputs": [],
   "source": [
    "# Python program to handle simple runtime error\n",
    "#Python 3\n",
    "\n",
    "a = [1, 2, 3,4,5,6]\n",
    "\n",
    "print (\"Second element = %d\" %(a[1]))\n",
    "\n",
    "\t# Throws error since there are only 6 elements in array\n",
    "print (\"Fourth element = %d\" %(a[7]))\n",
    "\n"
   ]
  },
  {
   "cell_type": "code",
   "execution_count": null,
   "id": "e9706dae",
   "metadata": {},
   "outputs": [],
   "source": [
    "# initialize the loan amount variable\n",
    "loan_amount = man10000\n",
    "\n",
    "# perform division with 0\n",
    "a = loan_amount / 2\n",
    "print(a)\n"
   ]
  },
  {
   "cell_type": "code",
   "execution_count": null,
   "id": "e674e126",
   "metadata": {},
   "outputs": [],
   "source": []
  }
 ],
 "metadata": {
  "kernelspec": {
   "display_name": "Python 3 (ipykernel)",
   "language": "python",
   "name": "python3"
  },
  "language_info": {
   "codemirror_mode": {
    "name": "ipython",
    "version": 3
   },
   "file_extension": ".py",
   "mimetype": "text/x-python",
   "name": "python",
   "nbconvert_exporter": "python",
   "pygments_lexer": "ipython3",
   "version": "3.10.7"
  },
  "toc": {
   "base_numbering": 1,
   "nav_menu": {},
   "number_sections": true,
   "sideBar": true,
   "skip_h1_title": false,
   "title_cell": "Table of Contents",
   "title_sidebar": "Contents",
   "toc_cell": false,
   "toc_position": {},
   "toc_section_display": true,
   "toc_window_display": false
  }
 },
 "nbformat": 4,
 "nbformat_minor": 5
}

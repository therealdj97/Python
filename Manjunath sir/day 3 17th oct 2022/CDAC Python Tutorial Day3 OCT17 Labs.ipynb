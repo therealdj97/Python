{
 "cells": [
  {
   "cell_type": "markdown",
   "id": "9955178e",
   "metadata": {},
   "source": [
    "Write a Python program to compute element-wise \n",
    "sum of given tuples, using “zip()” function Original \n",
    "tuples: (1, 2, 3, 4) (3, 5, 2, 1) (2, 2, 3, 1) Element-\n",
    "wise sum of the said tuples: (6, 9, 8, 6) "
   ]
  },
  {
   "cell_type": "code",
   "execution_count": null,
   "id": "38eda4a0",
   "metadata": {},
   "outputs": [],
   "source": [
    "x = (1,2,3,4)\n",
    "y = (3,5,2,1)\n",
    "z = (2,2,3,1)\n",
    "print(\"Original tuples:\")\n",
    "print(x)\n",
    "print(y)\n",
    "print(z)\n",
    "print(\"\\nElement-wise sum of x,y,z tuples:\")\n",
    "result = tuple(map(sum, zip(x, y, z)))\n",
    "print(result)\n"
   ]
  },
  {
   "cell_type": "code",
   "execution_count": null,
   "id": "bf249bd2",
   "metadata": {},
   "outputs": [],
   "source": [
    "help(zip)"
   ]
  },
  {
   "cell_type": "code",
   "execution_count": null,
   "id": "c319f187",
   "metadata": {},
   "outputs": [],
   "source": [
    "a = (\"John\", \"Charles\", \"Mike\")\n",
    "b = (\"Jenny\", \"Christy\", \"Monica\")\n",
    "\n",
    "x = zip(a, b)"
   ]
  },
  {
   "cell_type": "code",
   "execution_count": null,
   "id": "22c2d129",
   "metadata": {},
   "outputs": [],
   "source": [
    "print(tuple(x))"
   ]
  },
  {
   "cell_type": "markdown",
   "id": "79213dc2",
   "metadata": {},
   "source": [
    "Write a Python program to sort a tuple by its float \n",
    "element. \n",
    "Sample data: [('item1', '12.20'), ('item2', '15.10'), \n",
    "('item3', '24.5')] Expected Output: [('item3', '24.5'), \n",
    "('item2', '15.10'), ('item1', '12.20')] \n"
   ]
  },
  {
   "cell_type": "code",
   "execution_count": null,
   "id": "b94d6bcc",
   "metadata": {},
   "outputs": [],
   "source": [
    "price = [('item1', '12.20'), ('item2', '15.10'), ('item3', '24.5')]\n",
    "print( sorted(price, key=lambda x: float(x[1]), reverse=True))\n"
   ]
  },
  {
   "cell_type": "code",
   "execution_count": null,
   "id": "38790ac4",
   "metadata": {},
   "outputs": [],
   "source": [
    "#from: https://www.tutorialspoint.com/python-program-to-sort-a-tuple-by-its-float-element\n",
    "# Python code to sort a tuples by its float element\n",
    "def tuplesort(B):\n",
    "   #return(sorted(B, key = lambda x: float(x[1]), reverse = True)) #descending order\n",
    "   return(sorted(B, key = lambda x: float(x[1]), reverse = False)) #ascending order\n",
    "# Driver Code\n",
    "A = [('Adwaita', '19.215'), ('Aadrika', '10.117'), ('Babai', '14.589'), ('Mona', '14.216'), ('Sanj', '8.365')]\n",
    "print(\"Sort of Tuples By Its Float Number ::\",tuplesort(A))"
   ]
  },
  {
   "cell_type": "code",
   "execution_count": null,
   "id": "5bb4feca",
   "metadata": {},
   "outputs": [],
   "source": [
    "#Write a Python program to count the elements in a list until an element is a tuple."
   ]
  },
  {
   "cell_type": "code",
   "execution_count": null,
   "id": "186f3e43",
   "metadata": {},
   "outputs": [],
   "source": [
    "#Sample input : list = [10, 20, 30, (40,50), 60] \n",
    "#Sample output = 3 \n",
    "sample_input = [10,20,30,(10,20),40]\n",
    "counter = 0\n",
    "for n in sample_input:\n",
    "    if isinstance(n, tuple):\n",
    "        break\n",
    "    counter += 1\n",
    "print(counter)\n"
   ]
  },
  {
   "cell_type": "code",
   "execution_count": null,
   "id": "b95c25c7",
   "metadata": {},
   "outputs": [],
   "source": [
    "#https://github.com/Mujju-palaan/Python3Programming--Coursera/blob/master/course_2_assessment_8.py"
   ]
  },
  {
   "cell_type": "code",
   "execution_count": null,
   "id": "f7ed8fbc",
   "metadata": {},
   "outputs": [],
   "source": [
    "#Sort the following string alphabetically, from z to a, and assign it to the variable sorted_letters.\n",
    "letters = \"alwnfiwaksuezlaeiajsdl\"\n",
    "sorted_letters = sorted(letters, reverse = True)\n",
    "\n",
    "#Sort the list below, animals, into alphabetical order, a-z. Save the new list as animals_sorted.\n",
    "\n",
    "animals = ['elephant', 'cat', 'moose', 'antelope', 'elk', 'rabbit', 'zebra', 'yak', 'salamander', 'deer', 'otter', 'minx', 'giraffe', 'goat', 'cow', 'tiger', 'bear']\n",
    "animals_sorted = sorted(animals)\n",
    "\n",
    "#The dictionary, medals, shows the medal count for six countries during the Rio Olympics. Sort the country names so they appear alphabetically. Save this list to the variable alphabetical.\n",
    "\n",
    "medals = {'Japan':41, 'Russia':56, 'South Korea':21, 'United States':121, 'Germany':42, 'China':70}\n",
    "alphabetical = sorted(medals)\n",
    "\n",
    "\n",
    "#Given the same dictionary, medals, now sort by the medal count. Save the three countries with the highest medal count to the list, top_three.\n",
    "top_three = []\n",
    "medals = {'Japan':41, 'Russia':56, 'South Korea':21, 'United States':121, 'Germany':42, 'China':70}\n",
    "def g(k,d):\n",
    "    return d[k]\n",
    "ks = medals.keys()\n",
    "top_three = sorted(ks,key=lambda x : g(x,medals),reverse = True)[:3]   \n",
    "\n",
    "#We have provided the dictionary groceries. You should return a list of its keys, but they should be sorted by their values, from highest to lowest. Save the new list as most_needed.\n",
    "most_needed = []\n",
    "groceries = {'apples': 5, 'pasta': 3, 'carrots': 12, 'orange juice': 2, 'bananas': 8, 'popcorn': 1, 'salsa': 3, 'cereal': 4, 'coffee': 5, 'granola bars': 15, 'onions': 7, 'rice': 1, 'peanut butter': 2, 'spinach': 9}\n",
    "def g(k,d):\n",
    "    return d[k]\n",
    "ks = groceries.keys()\n",
    "most_needed = sorted(ks, key=lambda x:g(x,groceries), reverse = True)\n",
    "\n",
    "#Create a function called last_four that takes in an ID number and returns the last four digits. For example, the number 17573005 should return 3005. Then, use this function to sort the list of ids stored in the variable, ids, from lowest to highest. Save this sorted list in the variable, sorted_ids. Hint: Remember that only strings can be indexed, so conversions may be needed.\n",
    "ids = [17573005, 17572342, 17579000, 17570002, 17572345, 17579329]\n",
    "\n",
    "def last_four(x):\n",
    "    \n",
    "    return (str(x)[-4:])\n",
    "last_four(ids)\n",
    "\n",
    "sorted_ids = sorted(ids, key=last_four )\n",
    "print(sorted_ids)\n",
    "\n",
    "#$Sort the list ids by the last four digits of each id. Do this using lambda and not using a defined function. Save this sorted list in the variable sorted_id.\n",
    "\n",
    "ids = [17573005, 17572342, 17579000, 17570002, 17572345, 17579329]\n",
    "\n",
    "sorted_id = sorted(ids, key=lambda x: str(x)[-4:])\n",
    "\n",
    "#\n",
    "ex_lst = ['hi', 'how are you', 'bye', 'apple', 'zebra', 'dance']\n",
    "\n",
    "lambda_sort = sorted(ex_lst, key = lambda x: x[1])\n",
    "print(lambda_sort)"
   ]
  },
  {
   "cell_type": "markdown",
   "id": "49a286bc",
   "metadata": {},
   "source": [
    "1. Given a dictionary of students and their favourite \n",
    "colours: \n",
    "people={'Arham':'Blue','Lisa':'Yellow',''Vinod:'Purpl\n",
    "e','Jenny':'Pink'} \n",
    " 1. Find out how many students are in the list \n",
    " 2. Change Lisa’s favourite colour \n",
    " 3. Remove 'Jenny' and her favourite colour \n",
    " 4. Sort and print students and their favourite \n",
    "colours \n",
    " alphabetically by name "
   ]
  },
  {
   "cell_type": "code",
   "execution_count": null,
   "id": "87c4a94d",
   "metadata": {},
   "outputs": [],
   "source": [
    "people={'Arham':'Blue','Lisa':'Yellow','Vinod':'Purple','Jenny':'Pink'}\n",
    "print(len(people))"
   ]
  },
  {
   "cell_type": "code",
   "execution_count": null,
   "id": "2b60edba",
   "metadata": {},
   "outputs": [],
   "source": [
    "#Change Lisa's color to Brown\n",
    "#Remove Jenny\n",
    "#Sort and print students & colours by name"
   ]
  },
  {
   "cell_type": "markdown",
   "id": "67711009",
   "metadata": {},
   "source": [
    "We can define sum from 1 to x (i.e. 1 + 2 + ... + x) \n",
    " recursively as follows for integer x ≥ 1: \n",
    " 1, if x = 1 \n",
    " x + sum from 1 to x-1 if x > 1 \n",
    " Complete the following Python program to \n",
    "compute the \n",
    " sum 1 + 2 + 3 + 4 + 5 + 6 + 7 + 8 + 9 + 10 \n",
    "recursively: "
   ]
  },
  {
   "cell_type": "code",
   "execution_count": null,
   "id": "6ec30481",
   "metadata": {},
   "outputs": [],
   "source": [
    "# Python code to find sum\n",
    "# of natural numbers upto\n",
    "# n using recursion\n",
    "\n",
    "# Returns sum of first\n",
    "# n natural numbers\n",
    "def recurSum(n):\n",
    "\tif n <= 1:\n",
    "\t\treturn n\n",
    "\treturn n + recurSum(n - 1)\n",
    "\n",
    "# Driver code\n",
    "n = 10\n",
    "print(recurSum(n))\n"
   ]
  },
  {
   "cell_type": "markdown",
   "id": "4d736b76",
   "metadata": {},
   "source": [
    "Define a function overlapping () that takes two \n",
    "lists and returns True if they have at least one \n",
    "member in common, False otherwise. \n"
   ]
  },
  {
   "cell_type": "code",
   "execution_count": null,
   "id": "e837fb26",
   "metadata": {},
   "outputs": [],
   "source": [
    "def common_data(list1, list2):\n",
    "     result = False\n",
    "     for x in list1:\n",
    "         for y in list2:\n",
    "             if x == y:\n",
    "                 result = True\n",
    "                 return result\n",
    "print(common_data([1,2,3,4,5], [5,6,7,8,9]))\n",
    "print(common_data([1,2,3,4,5], [6,7,8,9]))\n"
   ]
  },
  {
   "cell_type": "markdown",
   "id": "f03dc234",
   "metadata": {},
   "source": [
    "Write a function find_longest_word() that takes a \n",
    "list of words and returns the length of the longest \n",
    "one. \n"
   ]
  },
  {
   "cell_type": "code",
   "execution_count": null,
   "id": "b9694412",
   "metadata": {},
   "outputs": [],
   "source": [
    "#Modified code from: https://www.w3resource.com/\n",
    "#def find_longest_word(words_list):\n",
    "your_words = input(\"Enter your words separated by a space: \")\n",
    "\n",
    "#Split string into words\n",
    "words_list = your_words.split(\" \")\n",
    "\n",
    "def find_longest_word(target_list):\n",
    "    word_len = []\n",
    "    for n in target_list:\n",
    "        word_len.append((len(n), n))\n",
    "    word_len.sort()\n",
    "    print(word_len)\n",
    "    return word_len[-1][0], word_len[-1][1]\n",
    "\n",
    "longest_word_length = find_longest_word(words_list)\n",
    "print(result)\n",
    "print(\"\\nLongest word: \",longest_word_length[1])\n",
    "print(\"Length of the longest word: \",longest_word_length[0])\n"
   ]
  },
  {
   "cell_type": "markdown",
   "id": "71be9c2b",
   "metadata": {},
   "source": [
    "The special syntax *args in function definitions in python is used to pass a variable number of arguments to a function. It is used to pass a non-key worded, variable-length argument list. \n",
    "\n",
    "The syntax is to use the symbol * to take in a variable number of arguments; by convention, it is often used with the word args.\n",
    "What *args allows you to do is take in more arguments than the number of formal arguments that you previously defined. With *args, any number of extra arguments can be tacked on to your current formal parameters (including zero extra arguments)."
   ]
  },
  {
   "cell_type": "code",
   "execution_count": null,
   "id": "c20ac665",
   "metadata": {},
   "outputs": [],
   "source": [
    "def function_with_argv(*argv):\n",
    "\tfor arg in argv:\n",
    "\t\tprint(arg)\n",
    "\n",
    "\n",
    "function_with_argv('Hello', 'Checking', 'Out', '*argv', 'hey', 'man', 'too', 'long''')\n"
   ]
  },
  {
   "cell_type": "code",
   "execution_count": null,
   "id": "d4b65cc4",
   "metadata": {},
   "outputs": [],
   "source": [
    "def function_argv(arg1, *argv):\n",
    "\tprint(\"First argument :\", arg1)\n",
    "\tfor arg in argv:\n",
    "\t\tprint(\"Next argument through *argv :\", arg)\n",
    "\n",
    "\n",
    "function_argv('Hello', 'Welcome', 'to', 'argv values','add','more')\n"
   ]
  },
  {
   "cell_type": "markdown",
   "id": "3bee4cb1",
   "metadata": {},
   "source": [
    "The special syntax **kwargs in function definitions in python is used to pass a keyworded, variable-length argument list. We use the name kwargs with the double star. The reason is that the double star allows us to pass through keyword arguments (and any number of them)."
   ]
  },
  {
   "cell_type": "markdown",
   "id": "a0cdf7a7",
   "metadata": {},
   "source": [
    "A keyword argument is where you provide a name to the variable as you pass it into the function.\n",
    "One can think of the kwargs as being a dictionary that maps each keyword to the value that we pass alongside it. That is why when we iterate over the kwargs there doesn’t seem to be any order in which they were printed out."
   ]
  },
  {
   "cell_type": "code",
   "execution_count": null,
   "id": "8c76ca14",
   "metadata": {},
   "outputs": [],
   "source": [
    "def mykwargsfun(**kwargs):\n",
    "\tfor key, value in kwargs.items():\n",
    "\t\tprint(\"%s = %s\" % (key, value))\n",
    "\n",
    "\n",
    "# Driver code\n",
    "mykwargsfun(first='Gold', mid='In', last='Hockey')\n"
   ]
  },
  {
   "cell_type": "code",
   "execution_count": null,
   "id": "b187e842",
   "metadata": {},
   "outputs": [],
   "source": []
  },
  {
   "cell_type": "code",
   "execution_count": null,
   "id": "c4277673",
   "metadata": {},
   "outputs": [],
   "source": [
    "def mykwargsfun(**kwargs):\n",
    "\tfor key, value in kwargs.items():\n",
    "\t\tprint(\"%s = %s\" % (key, value))\n",
    "\n",
    "\n",
    "# Driver code\n",
    "mykwargsfun(first='Gold', mid='In', last='Hockey')\n",
    "#mykwargsfun('Happy with', first='Gold', mid='In', last='Hockey')\n"
   ]
  },
  {
   "cell_type": "code",
   "execution_count": null,
   "id": "8f99030b",
   "metadata": {},
   "outputs": [],
   "source": [
    "#It makes an automatic dic, key-val pair\n",
    "#Great_actors and films\n",
    "def great_actors(**kwargs):\n",
    "    print(kwargs, type(kwargs))\n",
    "\n",
    "\n",
    "great_actors(Amitabh=250, Shroff=165, Kaif=70)"
   ]
  },
  {
   "cell_type": "code",
   "execution_count": null,
   "id": "a7fa7ba4",
   "metadata": {},
   "outputs": [],
   "source": [
    "def mykwargsfun(arg1,**kwargs):\n",
    "\tfor key, value in kwargs.items():\n",
    "\t\tprint(arg1,\"%s == %s\" % (key, value))\n",
    "\n",
    "\n",
    "# Driver code\n",
    "#mykwargsfun(first='Gold', mid='In', last='Hockey')\n",
    "mykwargsfun('Happy with', first='Gold', mid='In', last='Hockey')"
   ]
  },
  {
   "cell_type": "code",
   "execution_count": null,
   "id": "c1e97cf0",
   "metadata": {},
   "outputs": [],
   "source": [
    "z = lambda: int(input('a:')) + int(input('b:'))"
   ]
  },
  {
   "cell_type": "code",
   "execution_count": null,
   "id": "cdac28ba",
   "metadata": {},
   "outputs": [],
   "source": [
    "print(z)"
   ]
  },
  {
   "cell_type": "code",
   "execution_count": null,
   "id": "b4e84f58",
   "metadata": {},
   "outputs": [],
   "source": [
    "z\n"
   ]
  },
  {
   "cell_type": "code",
   "execution_count": null,
   "id": "37f21219",
   "metadata": {},
   "outputs": [],
   "source": [
    "# a Lambda function can have multiple arguments with one expression.\n",
    "#https://www.guru99.com/python-lambda-function.html\n",
    "##The filter function is used to select some particular elements from a sequence of elements. The sequence can be any iterator like lists, sets, tuples, etc.\n",
    "#The elements which will be selected is based on some pre-defined constraint. It takes 2 parameters:\n",
    "#A function that defines the filtering constraint A sequence (any iterator like lists, tuples, etc.)\n",
    "#For example,\n",
    "\n",
    "sequences = [10,2,8,7,5,4,3,11,0, 13,14,18,29]\n",
    "filtered_result = filter (lambda x: x > 5, sequences) \n",
    "print(list(filtered_result))"
   ]
  },
  {
   "cell_type": "code",
   "execution_count": null,
   "id": "068c20a0",
   "metadata": {},
   "outputs": [],
   "source": [
    "help('filter')"
   ]
  },
  {
   "cell_type": "markdown",
   "id": "c5393079",
   "metadata": {},
   "source": [
    "1. In the first statement, we define a list called sequences which contains some numbers.\n",
    "\n",
    "2. Here, we declare a variable called filtered_result, which will store the filtered values returned by the filter() function.\n",
    "\n",
    "3. A lambda function which runs on each element of the list and returns true if it is greater than 10.\n",
    "\n",
    "4. Print the result returned by the filter function."
   ]
  },
  {
   "cell_type": "markdown",
   "id": "189ca638",
   "metadata": {},
   "source": [
    "lambdas in map()\n",
    "the map function is used to apply a particular operation to every element in a sequence. Like filter(), it also takes 2 parameters:\n",
    "\n",
    "A function that defines the op to perform on the elements\n",
    "One or more sequences"
   ]
  },
  {
   "cell_type": "code",
   "execution_count": null,
   "id": "58755ad3",
   "metadata": {},
   "outputs": [],
   "source": [
    "#Every element in the series to be squared"
   ]
  },
  {
   "cell_type": "code",
   "execution_count": null,
   "id": "19f103f8",
   "metadata": {},
   "outputs": [],
   "source": [
    "my_series = [10,2,8,7,5,4,3,11,0, 1]\n",
    "squared_series = map (lambda x: x*x, my_series) \n",
    "double_series = map (lambda x: x*2, my_series) \n",
    "print(list(squared_series))\n",
    "print(list(double_series))"
   ]
  },
  {
   "cell_type": "markdown",
   "id": "7337b16d",
   "metadata": {},
   "source": [
    "lambdas in reduce()\n",
    "The reduce function, like map(), is used to apply an operation to every element in a sequence. However, it differs from the map in its working. These are the steps followed by the reduce() function to compute an output:\n",
    "\n",
    "Step 1) Perform the defined operation on the first 2 elements of the sequence.\n",
    "\n",
    "Step 2) Save this result\n",
    "\n",
    "Step 3) Perform the operation with the saved result and the next element in the sequence.\n",
    "\n",
    "Step 4) Repeat until no more elements are left.\n",
    "\n",
    "It also takes two parameters:\n",
    "\n",
    "A function that defines the operation to be performed\n",
    "A sequence (any iterator like lists, tuples, etc.)\n",
    "For example, here is a program that returns the product of all elements in a list:"
   ]
  },
  {
   "cell_type": "code",
   "execution_count": null,
   "id": "778a5192",
   "metadata": {},
   "outputs": [],
   "source": [
    "from functools import reduce\n",
    "sequences = [1,2,3,4,5]\n",
    "product = reduce (lambda x, y: x*y, sequences)\n",
    "\n",
    "print(product)"
   ]
  },
  {
   "cell_type": "code",
   "execution_count": null,
   "id": "567c7418",
   "metadata": {},
   "outputs": [],
   "source": [
    "help('functools')"
   ]
  },
  {
   "cell_type": "code",
   "execution_count": null,
   "id": "d71d16c8",
   "metadata": {},
   "outputs": [],
   "source": [
    "help('map')"
   ]
  },
  {
   "cell_type": "code",
   "execution_count": null,
   "id": "7bdd1783",
   "metadata": {},
   "outputs": [],
   "source": [
    "help('reduce')"
   ]
  },
  {
   "cell_type": "markdown",
   "id": "cb64305c",
   "metadata": {},
   "source": [
    "Why (and why not) use lambda functions?\n",
    "As you will see in the next section, lambdas are treated the same as regular functions at the interpreter level. In a way, you could say that lambdas provide compact syntax for writing functions which return a single expression.\n",
    "\n",
    "However, you should know when it is a good idea to use lambdas and when to avoid them. In this section, you will learn some of the design principles used by python developers when writing lambdas.\n",
    "\n",
    "One of the most common use cases for lambdas is in functional programming as Python supports a paradigm (or style) of programming known as functional programming.\n",
    "\n",
    "It allows you to provide a function as a parameter to another function (for example, in map, filter, etc.). In such cases, using lambdas offer an elegant way to create a one-time function and pass it as the parameter.\n",
    "\n",
    "When should you not use Lambda?\n",
    "You should never write complicated lambda functions in a production environment. It will be very difficult for coders who maintain your code to decrypt it. If you find yourself making complex one-liner expressions, it would be a much superior practice to define a proper function. As a best practice, you need to remember that simple code is always better than complex code."
   ]
  },
  {
   "cell_type": "markdown",
   "id": "12faeb90",
   "metadata": {},
   "source": [
    "How to Use **kwargs in Python\n",
    "**kwargs allows us to pass a variable number of keyword arguments to a Python function. In the function, we use the double-asterisk (**) before the parameter name to denote this type of argument."
   ]
  },
  {
   "cell_type": "code",
   "execution_count": null,
   "id": "d37e2766",
   "metadata": {},
   "outputs": [],
   "source": [
    "#It makes an automatic dic, key-val pair\n",
    "#Great_actors and films\n",
    "def great_actors(**kwargs):\n",
    "    print(kwargs, type(kwargs))\n",
    "    \n",
    "\n",
    "actors_list=great_actors(Amitabh=250, Shroff=165, Kaif=70)\n",
    "#type(actors_list)\n"
   ]
  },
  {
   "cell_type": "code",
   "execution_count": null,
   "id": "025027b9",
   "metadata": {},
   "outputs": [],
   "source": [
    "#Total number of actors\n",
    "def total_films(**great_actors):\n",
    "    total = 0\n",
    "    for films in great_actors.values():\n",
    "        total += films\n",
    "    return total\n",
    "\n",
    "#Films made in last 5 years\n",
    "print(total_films(Amitabh =15, Shroff=5, Kaif=7))\n"
   ]
  },
  {
   "cell_type": "markdown",
   "id": "c6bc2596",
   "metadata": {},
   "source": [
    "Note that the name of the argument need not necessarily be kwargs – again, it can be anything. In this case, it's fruits. But it's generally a standard way to use **kwargs as the name"
   ]
  },
  {
   "cell_type": "code",
   "execution_count": null,
   "id": "d950c86c",
   "metadata": {},
   "outputs": [],
   "source": [
    "type(total_films)"
   ]
  },
  {
   "cell_type": "code",
   "execution_count": null,
   "id": "28571d3b",
   "metadata": {},
   "outputs": [],
   "source": [
    "type(great_actors)"
   ]
  },
  {
   "cell_type": "code",
   "execution_count": null,
   "id": "5f095d75",
   "metadata": {},
   "outputs": [],
   "source": [
    "#Print Keywords\n",
    "import keyword\n",
    "\n",
    "# printing the keywords\n",
    "print(\"Python keywords are...\")\n",
    "print(keyword.kwlist)"
   ]
  },
  {
   "cell_type": "code",
   "execution_count": null,
   "id": "e256a41e",
   "metadata": {},
   "outputs": [],
   "source": [
    "#Given the same dictionary, medals, now sort by the medal count. Save the three countries with the highest medal count to the list, top_three.\n",
    "top_three = []\n",
    "Gold_Medals = {'Japan':41, 'Russia':56, 'South Korea':21, 'United States':121, 'Germany':42, 'China':70}\n",
    "def gold(key,value):\n",
    "    return value[key]\n",
    "countries = medals.keys()\n",
    "top_two = sorted(countries,key=lambda x : gold(x,medals),reverse = True)[:2]   \n"
   ]
  },
  {
   "cell_type": "code",
   "execution_count": null,
   "id": "aa83e931",
   "metadata": {},
   "outputs": [],
   "source": [
    "top_two"
   ]
  },
  {
   "cell_type": "code",
   "execution_count": null,
   "id": "df724c0f",
   "metadata": {},
   "outputs": [],
   "source": [
    "bottom_two = sorted(countries,key=lambda x : gold(x,medals),reverse = False)[:2]   "
   ]
  },
  {
   "cell_type": "code",
   "execution_count": null,
   "id": "b1358e30",
   "metadata": {},
   "outputs": [],
   "source": [
    "bottom_two"
   ]
  },
  {
   "cell_type": "code",
   "execution_count": null,
   "id": "c99c2aed",
   "metadata": {},
   "outputs": [],
   "source": []
  }
 ],
 "metadata": {
  "kernelspec": {
   "display_name": "Python 3 (ipykernel)",
   "language": "python",
   "name": "python3"
  },
  "language_info": {
   "codemirror_mode": {
    "name": "ipython",
    "version": 3
   },
   "file_extension": ".py",
   "mimetype": "text/x-python",
   "name": "python",
   "nbconvert_exporter": "python",
   "pygments_lexer": "ipython3",
   "version": "3.10.7"
  },
  "toc": {
   "base_numbering": 1,
   "nav_menu": {},
   "number_sections": true,
   "sideBar": true,
   "skip_h1_title": false,
   "title_cell": "Table of Contents",
   "title_sidebar": "Contents",
   "toc_cell": false,
   "toc_position": {},
   "toc_section_display": true,
   "toc_window_display": false
  }
 },
 "nbformat": 4,
 "nbformat_minor": 5
}

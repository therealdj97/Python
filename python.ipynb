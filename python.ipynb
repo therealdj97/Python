{
 "cells": [
  {
   "cell_type": "code",
   "execution_count": 1,
   "id": "fc628809",
   "metadata": {},
   "outputs": [
    {
     "ename": "NameError",
     "evalue": "name 'addTwoNumbers' is not defined",
     "output_type": "error",
     "traceback": [
      "\u001b[1;31m---------------------------------------------------------------------------\u001b[0m",
      "\u001b[1;31mNameError\u001b[0m                                 Traceback (most recent call last)",
      "Cell \u001b[1;32mIn [1], line 1\u001b[0m\n\u001b[1;32m----> 1\u001b[0m addTwoNumbers(\u001b[39m3\u001b[39m,\u001b[39m4\u001b[39m)\n",
      "\u001b[1;31mNameError\u001b[0m: name 'addTwoNumbers' is not defined"
     ]
    }
   ],
   "source": [
    "addTwoNumbers(3,4)"
   ]
  },
  {
   "cell_type": "code",
   "execution_count": 17,
   "id": "4b6962c3",
   "metadata": {},
   "outputs": [],
   "source": [
    "a = [1,2,3]"
   ]
  },
  {
   "cell_type": "code",
   "execution_count": 18,
   "id": "d36afea1",
   "metadata": {},
   "outputs": [
    {
     "data": {
      "text/plain": [
       "list"
      ]
     },
     "execution_count": 18,
     "metadata": {},
     "output_type": "execute_result"
    }
   ],
   "source": [
    "type(a)"
   ]
  },
  {
   "cell_type": "code",
   "execution_count": 21,
   "id": "6746b91a",
   "metadata": {},
   "outputs": [],
   "source": [
    " b=(1,2,3)"
   ]
  },
  {
   "cell_type": "code",
   "execution_count": 22,
   "id": "be8fbedf",
   "metadata": {},
   "outputs": [
    {
     "data": {
      "text/plain": [
       "tuple"
      ]
     },
     "execution_count": 22,
     "metadata": {},
     "output_type": "execute_result"
    }
   ],
   "source": [
    "type( b )"
   ]
  },
  {
   "cell_type": "code",
   "execution_count": 27,
   "id": "242b23c6",
   "metadata": {},
   "outputs": [],
   "source": [
    "c = [1,22,3]"
   ]
  },
  {
   "cell_type": "code",
   "execution_count": 28,
   "id": "005ecc64",
   "metadata": {},
   "outputs": [
    {
     "data": {
      "text/plain": [
       "list"
      ]
     },
     "execution_count": 28,
     "metadata": {},
     "output_type": "execute_result"
    }
   ],
   "source": [
    "type( c )"
   ]
  },
  {
   "cell_type": "code",
   "execution_count": 30,
   "id": "15f01df2",
   "metadata": {},
   "outputs": [
    {
     "name": "stdout",
     "output_type": "stream",
     "text": [
      "cheap\n"
     ]
    }
   ],
   "source": [
    "price = 600\n",
    "if price > 500 :\n",
    "    print(\"cheap\");\n",
    "else:\n",
    "    print(\"expensive\")"
   ]
  },
  {
   "cell_type": "code",
   "execution_count": 33,
   "id": "1eb271e1",
   "metadata": {},
   "outputs": [
    {
     "name": "stdout",
     "output_type": "stream",
     "text": [
      "Monday\n",
      "Tuesday\n",
      "Wednesday\n",
      "Friday\n",
      "Saturday\n",
      "Sunday\n"
     ]
    }
   ],
   "source": [
    "#The continue Statement\n",
    "#With the continue statement we can stop the current iteration of the loop, and continue with the next:\n",
    "#in this case skip printing Thursday\n",
    "week_days = [\"Monday\", \"Tuesday\", \"Wednesday\", \"Thursday\", \"Friday\",\"Saturday\", \"Sunday\"]\n",
    "for days in week_days:\n",
    "  \n",
    "  if days == \"Thursday\":\n",
    "   continue\n",
    "  print(days)\n"
   ]
  },
  {
   "cell_type": "code",
   "execution_count": 34,
   "id": "ede6bc9a",
   "metadata": {},
   "outputs": [
    {
     "name": "stdout",
     "output_type": "stream",
     "text": [
      "Monday\n",
      "Tuesday\n",
      "Wednesday\n",
      "Thursday\n"
     ]
    }
   ],
   "source": [
    "#With the break statement we can stop the loop before it has looped through all the items:\n",
    "#Stop on Thursday\n",
    "week_days = [\"Monday\", \"Tuesday\", \"Wednesday\", \"Thursday\", \"Friday\",\"Saturday\", \"Sunday\"]\n",
    "for days in week_days:\n",
    "  print(days)\n",
    "  if days == \"Thursday\":\n",
    "   break\n"
   ]
  },
  {
   "cell_type": "code",
   "execution_count": 35,
   "id": "13ddfd75",
   "metadata": {},
   "outputs": [
    {
     "name": "stdout",
     "output_type": "stream",
     "text": [
      "Python's keywords are...\n",
      "['False', 'None', 'True', 'and', 'as', 'assert', 'async', 'await', 'break', 'class', 'continue', 'def', 'del', 'elif', 'else', 'except', 'finally', 'for', 'from', 'global', 'if', 'import', 'in', 'is', 'lambda', 'nonlocal', 'not', 'or', 'pass', 'raise', 'return', 'try', 'while', 'with', 'yield']\n"
     ]
    }
   ],
   "source": [
    "# Python program to print the list of all keywords\n",
    "# importing the module keyword\n",
    "import keyword\n",
    "# printing the keywords\n",
    "print(\"Python's keywords are...\")\n",
    "print(keyword.kwlist)\n"
   ]
  },
  {
   "cell_type": "code",
   "execution_count": 36,
   "id": "d9cf05ba",
   "metadata": {},
   "outputs": [
    {
     "name": "stdout",
     "output_type": "stream",
     "text": [
      "False\n",
      "None\n",
      "True\n",
      "and\n",
      "as\n",
      "assert\n",
      "async\n",
      "await\n",
      "break\n",
      "class\n",
      "continue\n",
      "def\n",
      "del\n",
      "elif\n",
      "else\n",
      "except\n",
      "finally\n",
      "for\n",
      "from\n",
      "global\n",
      "if\n",
      "import\n",
      "in\n",
      "is\n",
      "lambda\n",
      "nonlocal\n",
      "not\n",
      "or\n",
      "pass\n",
      "raise\n",
      "return\n",
      "try\n",
      "while\n",
      "with\n",
      "yield\n"
     ]
    }
   ],
   "source": [
    "import keyword\n",
    "\n",
    "if __name__ == '__main__':\n",
    "\t#get all keywords\n",
    "\tkeywords = keyword.kwlist\n",
    "\t#print the keywords\n",
    "\tfor key in keywords:\n",
    "\t\tprint(key)\n"
   ]
  },
  {
   "cell_type": "code",
   "execution_count": 37,
   "id": "18c6a7c8",
   "metadata": {},
   "outputs": [
    {
     "name": "stdout",
     "output_type": "stream",
     "text": [
      "26\n",
      "3\n",
      "5.0\n",
      "11.5\n"
     ]
    }
   ],
   "source": [
    "#Multiple assigment operators\n",
    "#start by assigning working_hours\n",
    "working_hours = 25\n",
    "working_hours+=1 #working_hours = working_hours +1\n",
    "print(working_hours)\n",
    "\n",
    "working_hours-=23\n",
    "print(working_hours)\n",
    "\n",
    "working_hours=30\n",
    "working_hours/=6\n",
    "print(working_hours)\n",
    "\n",
    "working_hours *=2.3\n",
    "print(working_hours)\n"
   ]
  },
  {
   "cell_type": "code",
   "execution_count": 38,
   "id": "00bff1d2",
   "metadata": {},
   "outputs": [
    {
     "name": "stdout",
     "output_type": "stream",
     "text": [
      "2017\n",
      "2018\n",
      "2019\n",
      "2020\n",
      "2021\n",
      "2022\n",
      "2023\n",
      "2024\n"
     ]
    }
   ],
   "source": [
    "#The while Loop\n",
    "#With the while loop we can execute a set of statements as long as a condition is true.\n",
    "Indian_Covid_Cases = 2017\n",
    "while Indian_Covid_Cases < 2025:\n",
    "  print(Indian_Covid_Cases)\n",
    "  Indian_Covid_Cases += 1\n"
   ]
  },
  {
   "cell_type": "code",
   "execution_count": 39,
   "id": "2ce902a3",
   "metadata": {},
   "outputs": [
    {
     "name": "stdout",
     "output_type": "stream",
     "text": [
      "2017\n",
      "2018\n",
      "2019\n",
      "2020\n",
      "2021\n",
      "2022\n"
     ]
    }
   ],
   "source": [
    "#The break Statement\n",
    "#With the break statement we can stop the loop even if the while condition is true:\n",
    "Indian_Covid_Cases = 2017\n",
    "while Indian_Covid_Cases < 2025:\n",
    "  print(Indian_Covid_Cases)\n",
    "  if Indian_Covid_Cases == 2022:\n",
    "   break\n",
    "  Indian_Covid_Cases += 1\n"
   ]
  },
  {
   "cell_type": "code",
   "execution_count": 40,
   "id": "d3e1ff13",
   "metadata": {},
   "outputs": [
    {
     "name": "stdout",
     "output_type": "stream",
     "text": [
      "2018\n",
      "2019\n",
      "2020\n",
      "2021\n",
      "2023\n",
      "2024\n",
      "2025\n"
     ]
    }
   ],
   "source": [
    "#The continue Statement\n",
    "#With the continue statement we can stop the current iteration, and continue with the next:\n",
    "#Here we stop at Year 2022 and continue\n",
    "Indian_Covid_Cases = 2017\n",
    "while Indian_Covid_Cases < 2025:\n",
    "  Indian_Covid_Cases += 1\n",
    "  if Indian_Covid_Cases == 2022:\n",
    "   continue\n",
    "  print(Indian_Covid_Cases)\n"
   ]
  },
  {
   "cell_type": "code",
   "execution_count": 41,
   "id": "2a3673d4",
   "metadata": {},
   "outputs": [
    {
     "name": "stdout",
     "output_type": "stream",
     "text": [
      "Enter command:2\n",
      "Execute the Command\n",
      "Enter command:2\n",
      "Execute the Command\n",
      "Enter command:1\n",
      "Execute the Command\n",
      "Enter command:\n",
      "Enter command:\n",
      "Enter command:1\n",
      "Execute the Command\n",
      "Enter command:\n",
      "Enter command:1\n",
      "Execute the Command\n",
      "Enter command:uio\n",
      "Execute the Command\n",
      "Enter command:exit\n",
      "Goodbye\n",
      "bye\n"
     ]
    }
   ],
   "source": [
    "#From 'Just enough Python', modified\n",
    "while True: # this is an infinite loop \n",
    "    command=input('Enter command:') \n",
    "    if len(command)==0: # no command - try again \n",
    "     continue # goes to next loop (line 1) \n",
    "    elif command=='exit': # user exit \n",
    "         print('Goodbye') \n",
    "         break # skips to line 10 \n",
    "    else: \n",
    "        print(\"Execute the Command\") \n",
    "print('bye')\n"
   ]
  },
  {
   "cell_type": "code",
   "execution_count": 42,
   "id": "2f2bac23",
   "metadata": {},
   "outputs": [
    {
     "name": "stdout",
     "output_type": "stream",
     "text": [
      "1000000\n",
      "2\n",
      "52\n",
      "9131\n"
     ]
    }
   ],
   "source": [
    "## different number systems from https://www.datacamp.com/tutorial/role-underscore-python '_'  operator\n",
    "## you can also check whether they are correct or not by coverting them into integer using \"int\" method\n",
    "million = 1_000_000\n",
    "binary = 0b_0010\n",
    "octa = 0o_64\n",
    "hexa = 0x_23_ab\n",
    "\n",
    "print(million)\n",
    "print(binary)\n",
    "print(octa)\n",
    "print(hexa)\n"
   ]
  },
  {
   "cell_type": "code",
   "execution_count": 43,
   "id": "4d9edc52",
   "metadata": {},
   "outputs": [
    {
     "ename": "SyntaxError",
     "evalue": "unterminated string literal (detected at line 2) (3349062583.py, line 2)",
     "output_type": "error",
     "traceback": [
      "\u001b[1;36m  Cell \u001b[1;32mIn [43], line 2\u001b[1;36m\u001b[0m\n\u001b[1;33m    Suppose a student's grade selection is based on scores below:\u001b[0m\n\u001b[1;37m                     ^\u001b[0m\n\u001b[1;31mSyntaxError\u001b[0m\u001b[1;31m:\u001b[0m unterminated string literal (detected at line 2)\n"
     ]
    }
   ],
   "source": [
    "#modified from https://www.log2base2.com/programming-language/python3/conditional/nested-if-else-statement-in-python.html\n",
    "Suppose a student's grade selection is based on scores below:\n",
    "\n",
    "if the score is more than 90, student will get the S grade\n",
    "\n",
    "If the score is in between 80 and 90, student gets A grade\n",
    "\n",
    "If the score is in between 70 and 80, student gets B grade\n",
    "\n",
    "If the score is in between 60 and 70, student gets C grade\n",
    "\n",
    "If the score is in between 51 and 60, student gets D grade\n",
    "\n",
    "If the score is 50, student gets get E grade\n",
    "\n",
    "Below 50 student will be declared as failed.\n"
   ]
  },
  {
   "cell_type": "code",
   "execution_count": 55,
   "id": "1c0cf911",
   "metadata": {},
   "outputs": [
    {
     "name": "stdout",
     "output_type": "stream",
     "text": [
      "E Grade\n"
     ]
    }
   ],
   "source": [
    "score = 51;\n",
    "if score>90:\n",
    "    print(\"s Grade\");\n",
    "if 90>=score>=80: \n",
    "    print(\"A grade\");\n",
    "if 80>=score>=70:\n",
    "    print(\"B Grade\");\n",
    "if(70>=score>=60):\n",
    "    print(\"c Grade\");\n",
    "if(70>=score>=60):\n",
    "    print(\"D Grade\");\n",
    "if(60>=score>=51):\n",
    "    print(\"E Grade\");\n",
    "else:\n",
    "    print(\"failed\")"
   ]
  },
  {
   "cell_type": "code",
   "execution_count": 65,
   "id": "f800b446",
   "metadata": {},
   "outputs": [
    {
     "name": "stdout",
     "output_type": "stream",
     "text": [
      "Enter Your Score\n",
      "70\n",
      "failed\n"
     ]
    }
   ],
   "source": [
    "score = int(input(\"Enter Your Score\\n\"))\n",
    "if score>90:\n",
    "    print(\"s Grade\");\n",
    "elif 90>score>80: \n",
    "    print(\"A grade\");\n",
    "elif 80>score>70:\n",
    "    print(\"B Grade\");\n",
    "elif(70>score>60):\n",
    "    print(\"c Grade\");\n",
    "elif(70>score>60):\n",
    "    print(\"D Grade\");\n",
    "elif(60>score>51):\n",
    "    print(\"E Grade\");\n",
    "else:\n",
    "    print(\"failed\")"
   ]
  },
  {
   "cell_type": "code",
   "execution_count": null,
   "id": "a3249745",
   "metadata": {},
   "outputs": [],
   "source": []
  },
  {
   "cell_type": "code",
   "execution_count": null,
   "id": "4030e210",
   "metadata": {},
   "outputs": [],
   "source": []
  }
 ],
 "metadata": {
  "kernelspec": {
   "display_name": "Python 3.10.8 64-bit",
   "language": "python",
   "name": "python3"
  },
  "language_info": {
   "codemirror_mode": {
    "name": "ipython",
    "version": 3
   },
   "file_extension": ".py",
   "mimetype": "text/x-python",
   "name": "python",
   "nbconvert_exporter": "python",
   "pygments_lexer": "ipython3",
   "version": "3.10.8"
  },
  "vscode": {
   "interpreter": {
    "hash": "26de051ba29f2982a8de78e945f0abaf191376122a1563185a90213a26c5da77"
   }
  }
 },
 "nbformat": 4,
 "nbformat_minor": 5
}
